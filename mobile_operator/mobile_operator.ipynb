{
 "cells": [
  {
   "cell_type": "markdown",
   "metadata": {},
   "source": []
  },
  {
   "cell_type": "markdown",
   "metadata": {},
   "source": [
    "### Определение перспективного тарифа для телеком-компании\n",
    "\n",
    "<p></p>\n",
    "\n",
    "В вашем распоряжении данные телекоммуникационной компании. Заказчика интересует влияет ли тариф и регион пользователя на выручку. Необходимо проверить несколько гипотез и сформировать рекомендации по дальнейшей рекламной стратегии для тарифов оператора. \n",
    "\n",
    "    \n",
    "***Цели Исследования:***\n",
    "\n",
    "Можно выделить несколько основных целей:\n",
    "\n",
    "- ознакомиться с данными и выполнить их предобработку:\n",
    "  * предварительные выводы\n",
    "  * переименование колонок\n",
    "  * обработка пропущенных значений\n",
    "  * изменение некорректных типов данных\n",
    "  * приведение к удобным для рассчетов типам данных\n",
    "  * устранение дубликатов\n",
    "  * оценить качество данных, проверить на аномалии и выбросы\n",
    "  * изучить параметры, их особенности и закономерности\n",
    "- подготовить данные, для каждого пользователя рассчитать по месяцам и создать столбцы с количеством:\n",
    "  *  сделанных звонков разговора \n",
    "  *  израсходованных минут разговора  \n",
    "  *  отправленных сообщений \n",
    "  *  потраченных мегабайт интернет-трафика \n",
    "  *  помесячной выручки  \n",
    "- анализировать поведение среднего пользователя:\n",
    "  * количество звонков в зависимости от тарифа\n",
    "  * длительность звонков в зависимости от тарифа\n",
    "  * число отправленных сообщений в зависимости от тарифа\n",
    "  * объем израсходованного интернет-трафика в зависимости от тарифа\n",
    "  * рассчитать характеристики положения данных, построить гистограммы, описать распределения\n",
    "- проверить гипотезы: \n",
    "  * гипотеза_1: средняя выручка пользователей тарифов «Ультра» и «Смарт» различается;\n",
    "  * гипотеза_2: средняя выручка с пользователей из Москвы отличается от выручки c пользователей других регионов; \n",
    "- зафиксировать основной вывод исследования и предоставить общие рекомендации \n",
    "\n",
    "\n",
    "\n",
    "### Описание данных: \n",
    "\n",
    "<p></p>\n",
    "<div style=\"border:solid black 1px; padding: 20px\"> Предоставлены данные по пользователям услуг некоторой телекоммуникационной компании. Данные выгружены за период 2018г. по 419 уникальным пользователям из 76 субъектов РФ(Москва, Сочи, Казань, Калининград и др.).<br>\n",
    "    Имеем следующие таблицы с данными:<br>\n",
    "    * users - данные о пользователях<br>\n",
    "    * tariffs - информация о тарифах<br>\n",
    "    * calls - продолжительность и число звонков<br>\n",
    "    * messages - количество отправленных сообщений<br>\n",
    "    * sessions - объем интернет-трафика<br>\n",
    "\n",
    "Два тарифа:<br>\n",
    "    <ol>\n",
    "    <li>Тариф <b>smart</b><br>\n",
    "        <ul>\n",
    "       <li>Ежемесячная плата <u>500руб</u><br>\n",
    "         В тариф входит:<br>\n",
    "         - 15 ГБ<br>\n",
    "         - 500 минут<br>\n",
    "         - 50 смс<br>\n",
    "       </li>\n",
    "       <li>Дополнительный пакет:<br>\n",
    "         - 1 ГБ: 200руб.<br>\n",
    "         - 1 минута: 3руб. <br>\n",
    "         - 1 смс: 3руб.<br>\n",
    "        </li> \n",
    "        </ul>   \n",
    "    </li>\n",
    "    <li>Тариф <b>ultra</b><br>\n",
    "        <ul>\n",
    "       <li> Ежемесячная плата <u>1950руб</u><br>\n",
    "         В тариф входит:<br>\n",
    "         - 30 ГБ<br>\n",
    "         - 3000 минут<br>\n",
    "         - 1000 смс  <br>\n",
    "       </li>\n",
    "       <li> Дополнительный пакет:<br>\n",
    "         - 1 ГБ: 150руб.<br>\n",
    "         - 1 минута: 1руб. <br>\n",
    "         - 1 смс: 1руб.<br>\n",
    "        </li>\n",
    "         </ul>\n",
    "     </li>\n",
    "     </ol></div>\n",
    "\n",
    "</div>"
   ]
  },
  {
   "cell_type": "code",
   "execution_count": 1,
   "metadata": {
    "deletable": false,
    "id": "RrVHWePG_oCV"
   },
   "outputs": [],
   "source": [
    "# импорт библиотек\n",
    "import pandas as pd\n",
    "import matplotlib.pyplot as plt\n",
    "import numpy as np"
   ]
  },
  {
   "cell_type": "markdown",
   "metadata": {},
   "source": []
  },
  {
   "cell_type": "markdown",
   "metadata": {
    "deletable": false,
    "editable": false,
    "id": "NzOeQM6C_oCY"
   },
   "source": [
    "### Общая информация"
   ]
  },
  {
   "cell_type": "code",
   "execution_count": 2,
   "metadata": {
    "deletable": false,
    "id": "lPo8_mWg_oCZ"
   },
   "outputs": [],
   "source": [
    "# чтение csv файла с информацией о продолжительности и числе звонков\n",
    "calls = pd.read_csv('/datasets/calls.csv')"
   ]
  },
  {
   "cell_type": "code",
   "execution_count": 3,
   "metadata": {
    "deletable": false,
    "id": "mdxHj-qz_oCZ"
   },
   "outputs": [
    {
     "data": {
      "text/html": [
       "<div>\n",
       "<style scoped>\n",
       "    .dataframe tbody tr th:only-of-type {\n",
       "        vertical-align: middle;\n",
       "    }\n",
       "\n",
       "    .dataframe tbody tr th {\n",
       "        vertical-align: top;\n",
       "    }\n",
       "\n",
       "    .dataframe thead th {\n",
       "        text-align: right;\n",
       "    }\n",
       "</style>\n",
       "<table border=\"1\" class=\"dataframe\">\n",
       "  <thead>\n",
       "    <tr style=\"text-align: right;\">\n",
       "      <th></th>\n",
       "      <th>id</th>\n",
       "      <th>call_date</th>\n",
       "      <th>duration</th>\n",
       "      <th>user_id</th>\n",
       "    </tr>\n",
       "  </thead>\n",
       "  <tbody>\n",
       "    <tr>\n",
       "      <th>0</th>\n",
       "      <td>1000_0</td>\n",
       "      <td>2018-07-25</td>\n",
       "      <td>0.00</td>\n",
       "      <td>1000</td>\n",
       "    </tr>\n",
       "    <tr>\n",
       "      <th>1</th>\n",
       "      <td>1000_1</td>\n",
       "      <td>2018-08-17</td>\n",
       "      <td>0.00</td>\n",
       "      <td>1000</td>\n",
       "    </tr>\n",
       "    <tr>\n",
       "      <th>2</th>\n",
       "      <td>1000_2</td>\n",
       "      <td>2018-06-11</td>\n",
       "      <td>2.85</td>\n",
       "      <td>1000</td>\n",
       "    </tr>\n",
       "    <tr>\n",
       "      <th>3</th>\n",
       "      <td>1000_3</td>\n",
       "      <td>2018-09-21</td>\n",
       "      <td>13.80</td>\n",
       "      <td>1000</td>\n",
       "    </tr>\n",
       "    <tr>\n",
       "      <th>4</th>\n",
       "      <td>1000_4</td>\n",
       "      <td>2018-12-15</td>\n",
       "      <td>5.18</td>\n",
       "      <td>1000</td>\n",
       "    </tr>\n",
       "  </tbody>\n",
       "</table>\n",
       "</div>"
      ],
      "text/plain": [
       "       id   call_date  duration  user_id\n",
       "0  1000_0  2018-07-25      0.00     1000\n",
       "1  1000_1  2018-08-17      0.00     1000\n",
       "2  1000_2  2018-06-11      2.85     1000\n",
       "3  1000_3  2018-09-21     13.80     1000\n",
       "4  1000_4  2018-12-15      5.18     1000"
      ]
     },
     "execution_count": 3,
     "metadata": {},
     "output_type": "execute_result"
    }
   ],
   "source": [
    "# знакомство с данными\n",
    "calls.head()"
   ]
  },
  {
   "cell_type": "code",
   "execution_count": 4,
   "metadata": {
    "deletable": false,
    "id": "wiDgaGnA_oCa"
   },
   "outputs": [
    {
     "name": "stdout",
     "output_type": "stream",
     "text": [
      "<class 'pandas.core.frame.DataFrame'>\n",
      "RangeIndex: 202607 entries, 0 to 202606\n",
      "Data columns (total 4 columns):\n",
      " #   Column     Non-Null Count   Dtype  \n",
      "---  ------     --------------   -----  \n",
      " 0   id         202607 non-null  object \n",
      " 1   call_date  202607 non-null  object \n",
      " 2   duration   202607 non-null  float64\n",
      " 3   user_id    202607 non-null  int64  \n",
      "dtypes: float64(1), int64(1), object(2)\n",
      "memory usage: 6.2+ MB\n"
     ]
    }
   ],
   "source": [
    "# вывод основной информации о датафрейме \n",
    "calls.info()"
   ]
  },
  {
   "cell_type": "markdown",
   "metadata": {},
   "source": [
    "*В датафрейме 4 колонки: уникальный номер звонка, дата звонка, его продолжительность и идентификатор пользователя.  \n",
    "Пропущенных значений в таблице нет.  \n",
    "В столбце duration есть нулевые значения. Скорее всего, на этот звонок не было ответа, то есть он пропущен.  \n",
    "Колонку call_date следует привести к корректному типу данных для возможности работы с ее значениями.*"
   ]
  },
  {
   "cell_type": "code",
   "execution_count": 5,
   "metadata": {},
   "outputs": [
    {
     "data": {
      "text/plain": [
       "count    202607.000000\n",
       "mean          6.755887\n",
       "std           5.843365\n",
       "min           0.000000\n",
       "25%           1.300000\n",
       "50%           6.000000\n",
       "75%          10.700000\n",
       "max          38.000000\n",
       "Name: duration, dtype: float64"
      ]
     },
     "execution_count": 5,
     "metadata": {},
     "output_type": "execute_result"
    }
   ],
   "source": [
    "# вывод статистических характеристик \n",
    "calls['duration'].describe()"
   ]
  },
  {
   "cell_type": "markdown",
   "metadata": {},
   "source": [
    "*Мы видим, что медиана несильно, но все же меньше средней продолжительности звонка. Значит, в наборе данных много звонков небольшой длительности, распределение ассиметрично.  \n",
    "Достаточно высокое стандартное отклонение - 5.8. Также мы видим, очень высокое максимальное значение - 38, тогда как медиана равна - 6.  \n",
    "Из-за продолжительных звонков среднее \"ушло\" вправо, но таких звонков в выборке мало.*"
   ]
  },
  {
   "cell_type": "code",
   "execution_count": 6,
   "metadata": {
    "deletable": false,
    "id": "sKOklkAe_oCa",
    "scrolled": true
   },
   "outputs": [
    {
     "data": {
      "image/png": "[encoded data removed]",
      "text/plain": [
       "<Figure size 432x288 with 1 Axes>"
      ]
     },
     "metadata": {
      "needs_background": "light"
     },
     "output_type": "display_data"
    }
   ],
   "source": [
    "# вывод гистограммы о продолжительности звонков\n",
    "calls['duration'].hist(bins=20, range=(0,35))\n",
    "plt.title('Гистограмма продолжительности звонков')\n",
    "_ = plt.ylabel('Частота')\n",
    "_ = plt.xlabel('Длительность звонка, мин')\n",
    "plt.show()"
   ]
  },
  {
   "cell_type": "markdown",
   "metadata": {},
   "source": [
    "*Гистограмма имеет дополнительные значения справа, то есть набор данных скошен вправо(положительная скошенность).  \n",
    "Чаще всего в наборе данных встречаются звонки длительностью 0 минут.  \n",
    "А вот дольше 20 минут пользователя разговаривают достаточно редко.* "
   ]
  },
  {
   "cell_type": "code",
   "execution_count": 7,
   "metadata": {
    "deletable": false,
    "id": "Wf_f3Vkc_oCa"
   },
   "outputs": [],
   "source": [
    "# чтение csv файла с информацией об объеме интернет-трафика\n",
    "sessions = pd.read_csv('/datasets/internet.csv')"
   ]
  },
  {
   "cell_type": "code",
   "execution_count": 8,
   "metadata": {
    "deletable": false,
    "id": "LsRkGeG7_oCb"
   },
   "outputs": [
    {
     "data": {
      "text/html": [
       "<div>\n",
       "<style scoped>\n",
       "    .dataframe tbody tr th:only-of-type {\n",
       "        vertical-align: middle;\n",
       "    }\n",
       "\n",
       "    .dataframe tbody tr th {\n",
       "        vertical-align: top;\n",
       "    }\n",
       "\n",
       "    .dataframe thead th {\n",
       "        text-align: right;\n",
       "    }\n",
       "</style>\n",
       "<table border=\"1\" class=\"dataframe\">\n",
       "  <thead>\n",
       "    <tr style=\"text-align: right;\">\n",
       "      <th></th>\n",
       "      <th>Unnamed: 0</th>\n",
       "      <th>id</th>\n",
       "      <th>mb_used</th>\n",
       "      <th>session_date</th>\n",
       "      <th>user_id</th>\n",
       "    </tr>\n",
       "  </thead>\n",
       "  <tbody>\n",
       "    <tr>\n",
       "      <th>0</th>\n",
       "      <td>0</td>\n",
       "      <td>1000_0</td>\n",
       "      <td>112.95</td>\n",
       "      <td>2018-11-25</td>\n",
       "      <td>1000</td>\n",
       "    </tr>\n",
       "    <tr>\n",
       "      <th>1</th>\n",
       "      <td>1</td>\n",
       "      <td>1000_1</td>\n",
       "      <td>1052.81</td>\n",
       "      <td>2018-09-07</td>\n",
       "      <td>1000</td>\n",
       "    </tr>\n",
       "    <tr>\n",
       "      <th>2</th>\n",
       "      <td>2</td>\n",
       "      <td>1000_2</td>\n",
       "      <td>1197.26</td>\n",
       "      <td>2018-06-25</td>\n",
       "      <td>1000</td>\n",
       "    </tr>\n",
       "    <tr>\n",
       "      <th>3</th>\n",
       "      <td>3</td>\n",
       "      <td>1000_3</td>\n",
       "      <td>550.27</td>\n",
       "      <td>2018-08-22</td>\n",
       "      <td>1000</td>\n",
       "    </tr>\n",
       "    <tr>\n",
       "      <th>4</th>\n",
       "      <td>4</td>\n",
       "      <td>1000_4</td>\n",
       "      <td>302.56</td>\n",
       "      <td>2018-09-24</td>\n",
       "      <td>1000</td>\n",
       "    </tr>\n",
       "  </tbody>\n",
       "</table>\n",
       "</div>"
      ],
      "text/plain": [
       "   Unnamed: 0      id  mb_used session_date  user_id\n",
       "0           0  1000_0   112.95   2018-11-25     1000\n",
       "1           1  1000_1  1052.81   2018-09-07     1000\n",
       "2           2  1000_2  1197.26   2018-06-25     1000\n",
       "3           3  1000_3   550.27   2018-08-22     1000\n",
       "4           4  1000_4   302.56   2018-09-24     1000"
      ]
     },
     "execution_count": 8,
     "metadata": {},
     "output_type": "execute_result"
    }
   ],
   "source": [
    "# знакомство с данными\n",
    "sessions.head()"
   ]
  },
  {
   "cell_type": "code",
   "execution_count": 9,
   "metadata": {
    "deletable": false,
    "id": "0fLAUTTQ_oCb"
   },
   "outputs": [
    {
     "name": "stdout",
     "output_type": "stream",
     "text": [
      "<class 'pandas.core.frame.DataFrame'>\n",
      "RangeIndex: 149396 entries, 0 to 149395\n",
      "Data columns (total 5 columns):\n",
      " #   Column        Non-Null Count   Dtype  \n",
      "---  ------        --------------   -----  \n",
      " 0   Unnamed: 0    149396 non-null  int64  \n",
      " 1   id            149396 non-null  object \n",
      " 2   mb_used       149396 non-null  float64\n",
      " 3   session_date  149396 non-null  object \n",
      " 4   user_id       149396 non-null  int64  \n",
      "dtypes: float64(1), int64(2), object(2)\n",
      "memory usage: 5.7+ MB\n"
     ]
    }
   ],
   "source": [
    "# вывод основной информации о датафрейме \n",
    "sessions.info()"
   ]
  },
  {
   "cell_type": "markdown",
   "metadata": {},
   "source": [
    "*В датафрейме 4 колонки: уникальный номер сессии, объем потраченного трафика в рамках одной сессии(в МБ), дата сессии и идентификатор пользователя.  \n",
    "Пропущенных значений в таблице нет.  \n",
    "Колонку session_date следует привести к корректному типу данных для возможности работы с ее значениями.    \n",
    "Появился столбец Unnamed: 0. Это безымянный индекс, который добавился по умолчанию. Удалим эту колонку позже.* "
   ]
  },
  {
   "cell_type": "code",
   "execution_count": 10,
   "metadata": {},
   "outputs": [
    {
     "data": {
      "text/plain": [
       "count    149396.000000\n",
       "mean        370.192426\n",
       "std         278.300951\n",
       "min           0.000000\n",
       "25%         138.187500\n",
       "50%         348.015000\n",
       "75%         559.552500\n",
       "max        1724.830000\n",
       "Name: mb_used, dtype: float64"
      ]
     },
     "execution_count": 10,
     "metadata": {},
     "output_type": "execute_result"
    }
   ],
   "source": [
    "# вывод статистических характеристик \n",
    "sessions['mb_used'].describe()"
   ]
  },
  {
   "cell_type": "markdown",
   "metadata": {},
   "source": [
    "Мы видим, что медиана меньше среднего значения. Значит, в наборе данных много сессий с небольшим объемом трафика, распределение ассиметрично.  \n",
    "Очень высокое стандартное отклонение - 278. Также мы видим, очень высокое максимальное значение - 1724, тогда как медиана равна - 348.  \n",
    "Из-за сессий с высоким трафиком среднее \"ушло\" вправо."
   ]
  },
  {
   "cell_type": "code",
   "execution_count": 11,
   "metadata": {
    "deletable": false,
    "id": "_uke6m2-_oCb"
   },
   "outputs": [
    {
     "data": {
      "image/png": "[encoded data removed]",
      "text/plain": [
       "<Figure size 432x288 with 1 Axes>"
      ]
     },
     "metadata": {
      "needs_background": "light"
     },
     "output_type": "display_data"
    }
   ],
   "source": [
    "# вывод гистограммы о количестве потраченных мегабайт\n",
    "sessions['mb_used'].hist(bins=20)\n",
    "plt.title('Гистограмма объема потраченных мегабайт')\n",
    "_ = plt.ylabel('Частота')\n",
    "_ = plt.xlabel('Объем мегабайт, мб')\n",
    "plt.show()"
   ]
  },
  {
   "cell_type": "markdown",
   "metadata": {},
   "source": [
    "*Гистограмма имеет дополнительные значения справа, то есть набор данных скошен \n",
    "вправо(положительная скошенность), об этом нам говорит \"хвост\" гистограммы.\n",
    "Чаще всего в наборе данных встречаются нулевые сессии.  \n",
    "Также много сессий объемом 300МБ, будем считать, что средняя сессия составляют около 200-400МБ.\n",
    "А вот сессии объемом больше 1000МБ можно встретить достаточно редко.*"
   ]
  },
  {
   "cell_type": "code",
   "execution_count": 12,
   "metadata": {
    "deletable": false,
    "id": "UKrQhgvV_oCc"
   },
   "outputs": [],
   "source": [
    "# чтение csv файла с информацией о количестве отправленных сообщений\n",
    "messages = pd.read_csv('/datasets/messages.csv') "
   ]
  },
  {
   "cell_type": "code",
   "execution_count": 13,
   "metadata": {
    "deletable": false,
    "id": "1_zOkvJO_oCc"
   },
   "outputs": [
    {
     "data": {
      "text/html": [
       "<div>\n",
       "<style scoped>\n",
       "    .dataframe tbody tr th:only-of-type {\n",
       "        vertical-align: middle;\n",
       "    }\n",
       "\n",
       "    .dataframe tbody tr th {\n",
       "        vertical-align: top;\n",
       "    }\n",
       "\n",
       "    .dataframe thead th {\n",
       "        text-align: right;\n",
       "    }\n",
       "</style>\n",
       "<table border=\"1\" class=\"dataframe\">\n",
       "  <thead>\n",
       "    <tr style=\"text-align: right;\">\n",
       "      <th></th>\n",
       "      <th>id</th>\n",
       "      <th>message_date</th>\n",
       "      <th>user_id</th>\n",
       "    </tr>\n",
       "  </thead>\n",
       "  <tbody>\n",
       "    <tr>\n",
       "      <th>0</th>\n",
       "      <td>1000_0</td>\n",
       "      <td>2018-06-27</td>\n",
       "      <td>1000</td>\n",
       "    </tr>\n",
       "    <tr>\n",
       "      <th>1</th>\n",
       "      <td>1000_1</td>\n",
       "      <td>2018-10-08</td>\n",
       "      <td>1000</td>\n",
       "    </tr>\n",
       "    <tr>\n",
       "      <th>2</th>\n",
       "      <td>1000_2</td>\n",
       "      <td>2018-08-04</td>\n",
       "      <td>1000</td>\n",
       "    </tr>\n",
       "    <tr>\n",
       "      <th>3</th>\n",
       "      <td>1000_3</td>\n",
       "      <td>2018-06-16</td>\n",
       "      <td>1000</td>\n",
       "    </tr>\n",
       "    <tr>\n",
       "      <th>4</th>\n",
       "      <td>1000_4</td>\n",
       "      <td>2018-12-05</td>\n",
       "      <td>1000</td>\n",
       "    </tr>\n",
       "  </tbody>\n",
       "</table>\n",
       "</div>"
      ],
      "text/plain": [
       "       id message_date  user_id\n",
       "0  1000_0   2018-06-27     1000\n",
       "1  1000_1   2018-10-08     1000\n",
       "2  1000_2   2018-08-04     1000\n",
       "3  1000_3   2018-06-16     1000\n",
       "4  1000_4   2018-12-05     1000"
      ]
     },
     "execution_count": 13,
     "metadata": {},
     "output_type": "execute_result"
    }
   ],
   "source": [
    "# знакомство с данными \n",
    "messages.head()"
   ]
  },
  {
   "cell_type": "code",
   "execution_count": 14,
   "metadata": {
    "deletable": false,
    "id": "wrgl0LdX_oCc"
   },
   "outputs": [
    {
     "name": "stdout",
     "output_type": "stream",
     "text": [
      "<class 'pandas.core.frame.DataFrame'>\n",
      "RangeIndex: 123036 entries, 0 to 123035\n",
      "Data columns (total 3 columns):\n",
      " #   Column        Non-Null Count   Dtype \n",
      "---  ------        --------------   ----- \n",
      " 0   id            123036 non-null  object\n",
      " 1   message_date  123036 non-null  object\n",
      " 2   user_id       123036 non-null  int64 \n",
      "dtypes: int64(1), object(2)\n",
      "memory usage: 2.8+ MB\n"
     ]
    }
   ],
   "source": [
    "# вывод основной информации о датафрейме \n",
    "messages.info()"
   ]
  },
  {
   "cell_type": "markdown",
   "metadata": {},
   "source": [
    "*В датафрейме 3 колонки: уникальный номер сообщения, дата отправки и идентификатор пользователя.  \n",
    "Пропущенных значений в таблице нет.  \n",
    "Колонку message_date следует привести к корректному типу данных для возможности работы с ее значениями.*"
   ]
  },
  {
   "cell_type": "code",
   "execution_count": 15,
   "metadata": {
    "deletable": false,
    "id": "3V2mBbx5_oCc"
   },
   "outputs": [],
   "source": [
    "# чтение csv файла с информацией о тарифах\n",
    "tariffs = pd.read_csv('/datasets/tariffs.csv') "
   ]
  },
  {
   "cell_type": "code",
   "execution_count": 16,
   "metadata": {
    "deletable": false,
    "id": "aa6cdOI9_oCd"
   },
   "outputs": [
    {
     "data": {
      "text/html": [
       "<div>\n",
       "<style scoped>\n",
       "    .dataframe tbody tr th:only-of-type {\n",
       "        vertical-align: middle;\n",
       "    }\n",
       "\n",
       "    .dataframe tbody tr th {\n",
       "        vertical-align: top;\n",
       "    }\n",
       "\n",
       "    .dataframe thead th {\n",
       "        text-align: right;\n",
       "    }\n",
       "</style>\n",
       "<table border=\"1\" class=\"dataframe\">\n",
       "  <thead>\n",
       "    <tr style=\"text-align: right;\">\n",
       "      <th></th>\n",
       "      <th>messages_included</th>\n",
       "      <th>mb_per_month_included</th>\n",
       "      <th>minutes_included</th>\n",
       "      <th>rub_monthly_fee</th>\n",
       "      <th>rub_per_gb</th>\n",
       "      <th>rub_per_message</th>\n",
       "      <th>rub_per_minute</th>\n",
       "      <th>tariff_name</th>\n",
       "    </tr>\n",
       "  </thead>\n",
       "  <tbody>\n",
       "    <tr>\n",
       "      <th>0</th>\n",
       "      <td>50</td>\n",
       "      <td>15360</td>\n",
       "      <td>500</td>\n",
       "      <td>550</td>\n",
       "      <td>200</td>\n",
       "      <td>3</td>\n",
       "      <td>3</td>\n",
       "      <td>smart</td>\n",
       "    </tr>\n",
       "    <tr>\n",
       "      <th>1</th>\n",
       "      <td>1000</td>\n",
       "      <td>30720</td>\n",
       "      <td>3000</td>\n",
       "      <td>1950</td>\n",
       "      <td>150</td>\n",
       "      <td>1</td>\n",
       "      <td>1</td>\n",
       "      <td>ultra</td>\n",
       "    </tr>\n",
       "  </tbody>\n",
       "</table>\n",
       "</div>"
      ],
      "text/plain": [
       "   messages_included  mb_per_month_included  minutes_included  \\\n",
       "0                 50                  15360               500   \n",
       "1               1000                  30720              3000   \n",
       "\n",
       "   rub_monthly_fee  rub_per_gb  rub_per_message  rub_per_minute tariff_name  \n",
       "0              550         200                3               3       smart  \n",
       "1             1950         150                1               1       ultra  "
      ]
     },
     "execution_count": 16,
     "metadata": {},
     "output_type": "execute_result"
    }
   ],
   "source": [
    "# вывод всего датафрейма\n",
    "tariffs"
   ]
  },
  {
   "cell_type": "code",
   "execution_count": 17,
   "metadata": {
    "deletable": false,
    "id": "YgK7d8XT_oCd"
   },
   "outputs": [
    {
     "name": "stdout",
     "output_type": "stream",
     "text": [
      "<class 'pandas.core.frame.DataFrame'>\n",
      "RangeIndex: 2 entries, 0 to 1\n",
      "Data columns (total 8 columns):\n",
      " #   Column                 Non-Null Count  Dtype \n",
      "---  ------                 --------------  ----- \n",
      " 0   messages_included      2 non-null      int64 \n",
      " 1   mb_per_month_included  2 non-null      int64 \n",
      " 2   minutes_included       2 non-null      int64 \n",
      " 3   rub_monthly_fee        2 non-null      int64 \n",
      " 4   rub_per_gb             2 non-null      int64 \n",
      " 5   rub_per_message        2 non-null      int64 \n",
      " 6   rub_per_minute         2 non-null      int64 \n",
      " 7   tariff_name            2 non-null      object\n",
      "dtypes: int64(7), object(1)\n",
      "memory usage: 256.0+ bytes\n"
     ]
    }
   ],
   "source": [
    "# вывод основной информации о датафрейме \n",
    "tariffs.info()"
   ]
  },
  {
   "cell_type": "markdown",
   "metadata": {},
   "source": [
    "В датафрейме 8 колонок: количество смс в пакете тарифа, объем трафика, число минут и стоимость тарифа, стоимость 1ГБ, 1 смс и 1 минуты сверх тарифного плана и название тарифа.  \n",
    "Пропущенных значений в таблице нет.  \n",
    "Типы данных в колонках корректные.  \n",
    "Датафрейм состоит из 2 строк, то есть двух тарифов."
   ]
  },
  {
   "cell_type": "code",
   "execution_count": 18,
   "metadata": {
    "deletable": false,
    "id": "v5NwQmKo_oCd"
   },
   "outputs": [],
   "source": [
    "# чтение csv файла с данными о пользователях\n",
    "users = pd.read_csv('/datasets/users.csv') "
   ]
  },
  {
   "cell_type": "code",
   "execution_count": 19,
   "metadata": {
    "deletable": false,
    "id": "TwMOUDXV_oCe"
   },
   "outputs": [
    {
     "data": {
      "text/html": [
       "<div>\n",
       "<style scoped>\n",
       "    .dataframe tbody tr th:only-of-type {\n",
       "        vertical-align: middle;\n",
       "    }\n",
       "\n",
       "    .dataframe tbody tr th {\n",
       "        vertical-align: top;\n",
       "    }\n",
       "\n",
       "    .dataframe thead th {\n",
       "        text-align: right;\n",
       "    }\n",
       "</style>\n",
       "<table border=\"1\" class=\"dataframe\">\n",
       "  <thead>\n",
       "    <tr style=\"text-align: right;\">\n",
       "      <th></th>\n",
       "      <th>user_id</th>\n",
       "      <th>age</th>\n",
       "      <th>churn_date</th>\n",
       "      <th>city</th>\n",
       "      <th>first_name</th>\n",
       "      <th>last_name</th>\n",
       "      <th>reg_date</th>\n",
       "      <th>tariff</th>\n",
       "    </tr>\n",
       "  </thead>\n",
       "  <tbody>\n",
       "    <tr>\n",
       "      <th>0</th>\n",
       "      <td>1000</td>\n",
       "      <td>52</td>\n",
       "      <td>NaN</td>\n",
       "      <td>Краснодар</td>\n",
       "      <td>Рафаил</td>\n",
       "      <td>Верещагин</td>\n",
       "      <td>2018-05-25</td>\n",
       "      <td>ultra</td>\n",
       "    </tr>\n",
       "    <tr>\n",
       "      <th>1</th>\n",
       "      <td>1001</td>\n",
       "      <td>41</td>\n",
       "      <td>NaN</td>\n",
       "      <td>Москва</td>\n",
       "      <td>Иван</td>\n",
       "      <td>Ежов</td>\n",
       "      <td>2018-11-01</td>\n",
       "      <td>smart</td>\n",
       "    </tr>\n",
       "    <tr>\n",
       "      <th>2</th>\n",
       "      <td>1002</td>\n",
       "      <td>59</td>\n",
       "      <td>NaN</td>\n",
       "      <td>Стерлитамак</td>\n",
       "      <td>Евгений</td>\n",
       "      <td>Абрамович</td>\n",
       "      <td>2018-06-17</td>\n",
       "      <td>smart</td>\n",
       "    </tr>\n",
       "    <tr>\n",
       "      <th>3</th>\n",
       "      <td>1003</td>\n",
       "      <td>23</td>\n",
       "      <td>NaN</td>\n",
       "      <td>Москва</td>\n",
       "      <td>Белла</td>\n",
       "      <td>Белякова</td>\n",
       "      <td>2018-08-17</td>\n",
       "      <td>ultra</td>\n",
       "    </tr>\n",
       "    <tr>\n",
       "      <th>4</th>\n",
       "      <td>1004</td>\n",
       "      <td>68</td>\n",
       "      <td>NaN</td>\n",
       "      <td>Новокузнецк</td>\n",
       "      <td>Татьяна</td>\n",
       "      <td>Авдеенко</td>\n",
       "      <td>2018-05-14</td>\n",
       "      <td>ultra</td>\n",
       "    </tr>\n",
       "  </tbody>\n",
       "</table>\n",
       "</div>"
      ],
      "text/plain": [
       "   user_id  age churn_date         city first_name  last_name    reg_date  \\\n",
       "0     1000   52        NaN    Краснодар     Рафаил  Верещагин  2018-05-25   \n",
       "1     1001   41        NaN       Москва       Иван       Ежов  2018-11-01   \n",
       "2     1002   59        NaN  Стерлитамак    Евгений  Абрамович  2018-06-17   \n",
       "3     1003   23        NaN       Москва      Белла   Белякова  2018-08-17   \n",
       "4     1004   68        NaN  Новокузнецк    Татьяна   Авдеенко  2018-05-14   \n",
       "\n",
       "  tariff  \n",
       "0  ultra  \n",
       "1  smart  \n",
       "2  smart  \n",
       "3  ultra  \n",
       "4  ultra  "
      ]
     },
     "execution_count": 19,
     "metadata": {},
     "output_type": "execute_result"
    }
   ],
   "source": [
    "# знакомство с данными \n",
    "users.head()"
   ]
  },
  {
   "cell_type": "code",
   "execution_count": 20,
   "metadata": {
    "deletable": false,
    "id": "WgiCfvjJ_oCe"
   },
   "outputs": [
    {
     "name": "stdout",
     "output_type": "stream",
     "text": [
      "<class 'pandas.core.frame.DataFrame'>\n",
      "RangeIndex: 500 entries, 0 to 499\n",
      "Data columns (total 8 columns):\n",
      " #   Column      Non-Null Count  Dtype \n",
      "---  ------      --------------  ----- \n",
      " 0   user_id     500 non-null    int64 \n",
      " 1   age         500 non-null    int64 \n",
      " 2   churn_date  38 non-null     object\n",
      " 3   city        500 non-null    object\n",
      " 4   first_name  500 non-null    object\n",
      " 5   last_name   500 non-null    object\n",
      " 6   reg_date    500 non-null    object\n",
      " 7   tariff      500 non-null    object\n",
      "dtypes: int64(2), object(6)\n",
      "memory usage: 31.4+ KB\n"
     ]
    }
   ],
   "source": [
    "# вывод основной информации о датафрейме \n",
    "users.info()"
   ]
  },
  {
   "cell_type": "code",
   "execution_count": 21,
   "metadata": {},
   "outputs": [
    {
     "data": {
      "text/plain": [
       "array([nan, '2018-10-05', '2018-12-18', '2018-11-21', '2018-10-03',\n",
       "       '2018-10-14', '2018-12-09', '2018-12-11', '2018-12-26',\n",
       "       '2018-08-31', '2018-12-03', '2018-12-23', '2018-11-07',\n",
       "       '2018-12-16', '2018-12-20', '2018-11-30', '2018-12-21',\n",
       "       '2018-08-17', '2018-09-02', '2018-10-04', '2018-11-13',\n",
       "       '2018-11-22', '2018-10-28', '2018-11-26', '2018-11-27',\n",
       "       '2018-11-16', '2018-10-27', '2018-12-30', '2018-09-27',\n",
       "       '2018-12-25', '2018-12-14', '2018-12-24', '2018-09-26',\n",
       "       '2018-10-25'], dtype=object)"
      ]
     },
     "execution_count": 21,
     "metadata": {},
     "output_type": "execute_result"
    }
   ],
   "source": [
    "# вывод уникальных значения столбца churn_date\n",
    "users['churn_date'].unique()"
   ]
  },
  {
   "cell_type": "markdown",
   "metadata": {},
   "source": [
    "*Эта колонка содержит даты окончания действия тарифа. Пропущенные значения говорят о том, что тариф еще действует. Заменять такие пропуски не целесообразно, оставим их.*"
   ]
  },
  {
   "cell_type": "markdown",
   "metadata": {},
   "source": [
    "*В датафрейме 8 колонок: уникальный идентификатор пользователя, его возраст, дата прекращения тарифа, город, имя и фамилия, дата регистрации и выбранный тариф. \n",
    "В столбце churn_date есть пропущенные значения, но обработка их не имеет смысла.\n",
    "Тип данных в колонках churn_date, reg_date следует поменять для корректной работы с данными.*"
   ]
  },
  {
   "cell_type": "markdown",
   "metadata": {
    "deletable": false,
    "editable": false,
    "id": "Y0kllEng_oCf"
   },
   "source": [
    "### Подготовка данных"
   ]
  },
  {
   "cell_type": "code",
   "execution_count": 22,
   "metadata": {
    "deletable": false,
    "id": "Ig2hAtil_oCh"
   },
   "outputs": [],
   "source": [
    "# обработка столбца reg_date\n",
    "# обработка столбца churn_date\n",
    "users['reg_date'] = pd.to_datetime(users['reg_date'], format='%Y-%m-%d')\n",
    "users['churn_date'] = pd.to_datetime(users['churn_date'], format='%Y-%m-%d')\n",
    "\n",
    "# обработка столбца call_date\n",
    "calls['call_date'] = pd.to_datetime(calls['call_date'], format='%Y-%m-%d')\n",
    "\n",
    "# обработка столбца message_date\n",
    "messages['message_date'] = pd.to_datetime(messages['message_date'], format='%Y-%m-%d')\n",
    "\n",
    "# обработка столбца session_date\n",
    "sessions['session_date'] = pd.to_datetime(sessions['session_date'], format='%Y-%m-%d')\n",
    "\n"
   ]
  },
  {
   "cell_type": "code",
   "execution_count": 23,
   "metadata": {},
   "outputs": [
    {
     "name": "stdout",
     "output_type": "stream",
     "text": [
      "reg_date      datetime64[ns]\n",
      "churn_date    datetime64[ns]\n",
      "dtype: object\n",
      "call_date    datetime64[ns]\n",
      "dtype: object\n",
      "message_date    datetime64[ns]\n",
      "dtype: object\n",
      "session_date    datetime64[ns]\n",
      "dtype: object\n"
     ]
    }
   ],
   "source": [
    "# проверка изменения типа данных в колонках\n",
    "# столбцы reg_date, churn_date\n",
    "print(users[['reg_date', 'churn_date']].dtypes)\n",
    "\n",
    "# столбец call_date\n",
    "print(calls[['call_date']].dtypes)\n",
    "\n",
    "# столбец message_date\n",
    "print(messages[['message_date']].dtypes)\n",
    "\n",
    "# столбец session_date\n",
    "print(sessions[['session_date']].dtypes)"
   ]
  },
  {
   "cell_type": "markdown",
   "metadata": {},
   "source": [
    "*Тип данных в колонках успешно изменен. Теперь с датами можно работать, \"доставать\" нужные нам значения для дальнейшего анализа.*"
   ]
  },
  {
   "cell_type": "code",
   "execution_count": 24,
   "metadata": {
    "deletable": false,
    "id": "7Msb3UqS_oCj"
   },
   "outputs": [],
   "source": [
    "# округление значений столбца duration с помощью np.ceil() и приведение типа к int\n",
    "calls['duration'] = np.ceil(calls['duration'])\n",
    "calls['duration'] = calls['duration'].astype('int')\n"
   ]
  },
  {
   "cell_type": "code",
   "execution_count": 25,
   "metadata": {
    "deletable": false,
    "id": "0qBUTIJK_oCj"
   },
   "outputs": [
    {
     "data": {
      "text/plain": [
       "0     0\n",
       "1     0\n",
       "2     3\n",
       "3    14\n",
       "4     6\n",
       "Name: duration, dtype: int64"
      ]
     },
     "execution_count": 25,
     "metadata": {},
     "output_type": "execute_result"
    }
   ],
   "source": [
    "# проверка\n",
    "calls['duration'].head()"
   ]
  },
  {
   "cell_type": "code",
   "execution_count": 26,
   "metadata": {},
   "outputs": [],
   "source": [
    "# удаление столбца Unnamed: 0 из датафрейма sessions\n",
    "sessions = sessions.drop(columns = 'Unnamed: 0')"
   ]
  },
  {
   "cell_type": "code",
   "execution_count": 27,
   "metadata": {
    "scrolled": true
   },
   "outputs": [
    {
     "data": {
      "text/plain": [
       "Index(['id', 'mb_used', 'session_date', 'user_id'], dtype='object')"
      ]
     },
     "execution_count": 27,
     "metadata": {},
     "output_type": "execute_result"
    }
   ],
   "source": [
    "# проверка удаления\n",
    "sessions.columns"
   ]
  },
  {
   "cell_type": "markdown",
   "metadata": {},
   "source": [
    "Столбец успешно удален:)"
   ]
  },
  {
   "cell_type": "code",
   "execution_count": 28,
   "metadata": {
    "deletable": false,
    "id": "qepFbMhq_oCj"
   },
   "outputs": [],
   "source": [
    "# создание столбца month в датафрейме calls\n",
    "calls['month'] = pd.DatetimeIndex(calls['call_date']).month"
   ]
  },
  {
   "cell_type": "code",
   "execution_count": 29,
   "metadata": {},
   "outputs": [
    {
     "data": {
      "text/html": [
       "<div>\n",
       "<style scoped>\n",
       "    .dataframe tbody tr th:only-of-type {\n",
       "        vertical-align: middle;\n",
       "    }\n",
       "\n",
       "    .dataframe tbody tr th {\n",
       "        vertical-align: top;\n",
       "    }\n",
       "\n",
       "    .dataframe thead th {\n",
       "        text-align: right;\n",
       "    }\n",
       "</style>\n",
       "<table border=\"1\" class=\"dataframe\">\n",
       "  <thead>\n",
       "    <tr style=\"text-align: right;\">\n",
       "      <th></th>\n",
       "      <th>id</th>\n",
       "      <th>call_date</th>\n",
       "      <th>duration</th>\n",
       "      <th>user_id</th>\n",
       "      <th>month</th>\n",
       "    </tr>\n",
       "  </thead>\n",
       "  <tbody>\n",
       "    <tr>\n",
       "      <th>0</th>\n",
       "      <td>1000_0</td>\n",
       "      <td>2018-07-25</td>\n",
       "      <td>0</td>\n",
       "      <td>1000</td>\n",
       "      <td>7</td>\n",
       "    </tr>\n",
       "    <tr>\n",
       "      <th>1</th>\n",
       "      <td>1000_1</td>\n",
       "      <td>2018-08-17</td>\n",
       "      <td>0</td>\n",
       "      <td>1000</td>\n",
       "      <td>8</td>\n",
       "    </tr>\n",
       "    <tr>\n",
       "      <th>2</th>\n",
       "      <td>1000_2</td>\n",
       "      <td>2018-06-11</td>\n",
       "      <td>3</td>\n",
       "      <td>1000</td>\n",
       "      <td>6</td>\n",
       "    </tr>\n",
       "    <tr>\n",
       "      <th>3</th>\n",
       "      <td>1000_3</td>\n",
       "      <td>2018-09-21</td>\n",
       "      <td>14</td>\n",
       "      <td>1000</td>\n",
       "      <td>9</td>\n",
       "    </tr>\n",
       "    <tr>\n",
       "      <th>4</th>\n",
       "      <td>1000_4</td>\n",
       "      <td>2018-12-15</td>\n",
       "      <td>6</td>\n",
       "      <td>1000</td>\n",
       "      <td>12</td>\n",
       "    </tr>\n",
       "  </tbody>\n",
       "</table>\n",
       "</div>"
      ],
      "text/plain": [
       "       id  call_date  duration  user_id  month\n",
       "0  1000_0 2018-07-25         0     1000      7\n",
       "1  1000_1 2018-08-17         0     1000      8\n",
       "2  1000_2 2018-06-11         3     1000      6\n",
       "3  1000_3 2018-09-21        14     1000      9\n",
       "4  1000_4 2018-12-15         6     1000     12"
      ]
     },
     "execution_count": 29,
     "metadata": {},
     "output_type": "execute_result"
    }
   ],
   "source": [
    "# вывод первых 5 строк для проверки\n",
    "calls.head()"
   ]
  },
  {
   "cell_type": "code",
   "execution_count": 30,
   "metadata": {
    "deletable": false,
    "id": "2evOzw_K_oCk"
   },
   "outputs": [],
   "source": [
    "# создание столбца month в датафрейме messages\n",
    "messages['month'] = pd.DatetimeIndex(messages['message_date']).month"
   ]
  },
  {
   "cell_type": "code",
   "execution_count": 31,
   "metadata": {
    "deletable": false,
    "id": "dKZPB_eo_oCk"
   },
   "outputs": [],
   "source": [
    "# создание столбца month в датафрейме sessions\n",
    "sessions['month'] = pd.DatetimeIndex(sessions['session_date']).month"
   ]
  },
  {
   "cell_type": "code",
   "execution_count": 32,
   "metadata": {
    "deletable": false,
    "id": "tMAmcPhC_oCl"
   },
   "outputs": [],
   "source": [
    "# подсчёт количества звонков для каждого пользователя по месяцам\n",
    "calls_per_month = calls.groupby(['user_id', 'month']).agg(calls=('duration', 'count'))                                           "
   ]
  },
  {
   "cell_type": "code",
   "execution_count": 33,
   "metadata": {
    "deletable": false,
    "id": "r8pvxWhj_oCl"
   },
   "outputs": [
    {
     "data": {
      "text/html": [
       "<div>\n",
       "<style scoped>\n",
       "    .dataframe tbody tr th:only-of-type {\n",
       "        vertical-align: middle;\n",
       "    }\n",
       "\n",
       "    .dataframe tbody tr th {\n",
       "        vertical-align: top;\n",
       "    }\n",
       "\n",
       "    .dataframe thead th {\n",
       "        text-align: right;\n",
       "    }\n",
       "</style>\n",
       "<table border=\"1\" class=\"dataframe\">\n",
       "  <thead>\n",
       "    <tr style=\"text-align: right;\">\n",
       "      <th></th>\n",
       "      <th></th>\n",
       "      <th>calls</th>\n",
       "    </tr>\n",
       "    <tr>\n",
       "      <th>user_id</th>\n",
       "      <th>month</th>\n",
       "      <th></th>\n",
       "    </tr>\n",
       "  </thead>\n",
       "  <tbody>\n",
       "    <tr>\n",
       "      <th rowspan=\"8\" valign=\"top\">1000</th>\n",
       "      <th>5</th>\n",
       "      <td>22</td>\n",
       "    </tr>\n",
       "    <tr>\n",
       "      <th>6</th>\n",
       "      <td>43</td>\n",
       "    </tr>\n",
       "    <tr>\n",
       "      <th>7</th>\n",
       "      <td>47</td>\n",
       "    </tr>\n",
       "    <tr>\n",
       "      <th>8</th>\n",
       "      <td>52</td>\n",
       "    </tr>\n",
       "    <tr>\n",
       "      <th>9</th>\n",
       "      <td>58</td>\n",
       "    </tr>\n",
       "    <tr>\n",
       "      <th>10</th>\n",
       "      <td>57</td>\n",
       "    </tr>\n",
       "    <tr>\n",
       "      <th>11</th>\n",
       "      <td>43</td>\n",
       "    </tr>\n",
       "    <tr>\n",
       "      <th>12</th>\n",
       "      <td>46</td>\n",
       "    </tr>\n",
       "    <tr>\n",
       "      <th rowspan=\"2\" valign=\"top\">1001</th>\n",
       "      <th>11</th>\n",
       "      <td>59</td>\n",
       "    </tr>\n",
       "    <tr>\n",
       "      <th>12</th>\n",
       "      <td>63</td>\n",
       "    </tr>\n",
       "    <tr>\n",
       "      <th rowspan=\"7\" valign=\"top\">1002</th>\n",
       "      <th>6</th>\n",
       "      <td>15</td>\n",
       "    </tr>\n",
       "    <tr>\n",
       "      <th>7</th>\n",
       "      <td>26</td>\n",
       "    </tr>\n",
       "    <tr>\n",
       "      <th>8</th>\n",
       "      <td>42</td>\n",
       "    </tr>\n",
       "    <tr>\n",
       "      <th>9</th>\n",
       "      <td>36</td>\n",
       "    </tr>\n",
       "    <tr>\n",
       "      <th>10</th>\n",
       "      <td>33</td>\n",
       "    </tr>\n",
       "    <tr>\n",
       "      <th>11</th>\n",
       "      <td>32</td>\n",
       "    </tr>\n",
       "    <tr>\n",
       "      <th>12</th>\n",
       "      <td>33</td>\n",
       "    </tr>\n",
       "    <tr>\n",
       "      <th rowspan=\"5\" valign=\"top\">1003</th>\n",
       "      <th>8</th>\n",
       "      <td>55</td>\n",
       "    </tr>\n",
       "    <tr>\n",
       "      <th>9</th>\n",
       "      <td>134</td>\n",
       "    </tr>\n",
       "    <tr>\n",
       "      <th>10</th>\n",
       "      <td>108</td>\n",
       "    </tr>\n",
       "    <tr>\n",
       "      <th>11</th>\n",
       "      <td>115</td>\n",
       "    </tr>\n",
       "    <tr>\n",
       "      <th>12</th>\n",
       "      <td>108</td>\n",
       "    </tr>\n",
       "    <tr>\n",
       "      <th rowspan=\"8\" valign=\"top\">1004</th>\n",
       "      <th>5</th>\n",
       "      <td>9</td>\n",
       "    </tr>\n",
       "    <tr>\n",
       "      <th>6</th>\n",
       "      <td>31</td>\n",
       "    </tr>\n",
       "    <tr>\n",
       "      <th>7</th>\n",
       "      <td>22</td>\n",
       "    </tr>\n",
       "    <tr>\n",
       "      <th>8</th>\n",
       "      <td>19</td>\n",
       "    </tr>\n",
       "    <tr>\n",
       "      <th>9</th>\n",
       "      <td>26</td>\n",
       "    </tr>\n",
       "    <tr>\n",
       "      <th>10</th>\n",
       "      <td>29</td>\n",
       "    </tr>\n",
       "    <tr>\n",
       "      <th>11</th>\n",
       "      <td>19</td>\n",
       "    </tr>\n",
       "    <tr>\n",
       "      <th>12</th>\n",
       "      <td>21</td>\n",
       "    </tr>\n",
       "  </tbody>\n",
       "</table>\n",
       "</div>"
      ],
      "text/plain": [
       "               calls\n",
       "user_id month       \n",
       "1000    5         22\n",
       "        6         43\n",
       "        7         47\n",
       "        8         52\n",
       "        9         58\n",
       "        10        57\n",
       "        11        43\n",
       "        12        46\n",
       "1001    11        59\n",
       "        12        63\n",
       "1002    6         15\n",
       "        7         26\n",
       "        8         42\n",
       "        9         36\n",
       "        10        33\n",
       "        11        32\n",
       "        12        33\n",
       "1003    8         55\n",
       "        9        134\n",
       "        10       108\n",
       "        11       115\n",
       "        12       108\n",
       "1004    5          9\n",
       "        6         31\n",
       "        7         22\n",
       "        8         19\n",
       "        9         26\n",
       "        10        29\n",
       "        11        19\n",
       "        12        21"
      ]
     },
     "execution_count": 33,
     "metadata": {},
     "output_type": "execute_result"
    }
   ],
   "source": [
    "# вывод 30 первых строк на экран\n",
    "calls_per_month.head(30)"
   ]
  },
  {
   "cell_type": "code",
   "execution_count": 34,
   "metadata": {
    "deletable": false,
    "id": "ehr5Lhq-_oCl"
   },
   "outputs": [],
   "source": [
    "# подсчёт израсходованных минут для каждого пользователя по месяцам\n",
    "minutes_per_month = calls.groupby(['user_id', 'month']).agg(minutes=('duration', 'sum')) \n"
   ]
  },
  {
   "cell_type": "code",
   "execution_count": 35,
   "metadata": {
    "deletable": false,
    "id": "-vbsnfVq_oCl"
   },
   "outputs": [
    {
     "data": {
      "text/html": [
       "<div>\n",
       "<style scoped>\n",
       "    .dataframe tbody tr th:only-of-type {\n",
       "        vertical-align: middle;\n",
       "    }\n",
       "\n",
       "    .dataframe tbody tr th {\n",
       "        vertical-align: top;\n",
       "    }\n",
       "\n",
       "    .dataframe thead th {\n",
       "        text-align: right;\n",
       "    }\n",
       "</style>\n",
       "<table border=\"1\" class=\"dataframe\">\n",
       "  <thead>\n",
       "    <tr style=\"text-align: right;\">\n",
       "      <th></th>\n",
       "      <th></th>\n",
       "      <th>minutes</th>\n",
       "    </tr>\n",
       "    <tr>\n",
       "      <th>user_id</th>\n",
       "      <th>month</th>\n",
       "      <th></th>\n",
       "    </tr>\n",
       "  </thead>\n",
       "  <tbody>\n",
       "    <tr>\n",
       "      <th rowspan=\"8\" valign=\"top\">1000</th>\n",
       "      <th>5</th>\n",
       "      <td>159</td>\n",
       "    </tr>\n",
       "    <tr>\n",
       "      <th>6</th>\n",
       "      <td>172</td>\n",
       "    </tr>\n",
       "    <tr>\n",
       "      <th>7</th>\n",
       "      <td>340</td>\n",
       "    </tr>\n",
       "    <tr>\n",
       "      <th>8</th>\n",
       "      <td>408</td>\n",
       "    </tr>\n",
       "    <tr>\n",
       "      <th>9</th>\n",
       "      <td>466</td>\n",
       "    </tr>\n",
       "    <tr>\n",
       "      <th>10</th>\n",
       "      <td>350</td>\n",
       "    </tr>\n",
       "    <tr>\n",
       "      <th>11</th>\n",
       "      <td>338</td>\n",
       "    </tr>\n",
       "    <tr>\n",
       "      <th>12</th>\n",
       "      <td>333</td>\n",
       "    </tr>\n",
       "    <tr>\n",
       "      <th rowspan=\"2\" valign=\"top\">1001</th>\n",
       "      <th>11</th>\n",
       "      <td>430</td>\n",
       "    </tr>\n",
       "    <tr>\n",
       "      <th>12</th>\n",
       "      <td>414</td>\n",
       "    </tr>\n",
       "    <tr>\n",
       "      <th rowspan=\"7\" valign=\"top\">1002</th>\n",
       "      <th>6</th>\n",
       "      <td>117</td>\n",
       "    </tr>\n",
       "    <tr>\n",
       "      <th>7</th>\n",
       "      <td>214</td>\n",
       "    </tr>\n",
       "    <tr>\n",
       "      <th>8</th>\n",
       "      <td>289</td>\n",
       "    </tr>\n",
       "    <tr>\n",
       "      <th>9</th>\n",
       "      <td>206</td>\n",
       "    </tr>\n",
       "    <tr>\n",
       "      <th>10</th>\n",
       "      <td>212</td>\n",
       "    </tr>\n",
       "    <tr>\n",
       "      <th>11</th>\n",
       "      <td>243</td>\n",
       "    </tr>\n",
       "    <tr>\n",
       "      <th>12</th>\n",
       "      <td>236</td>\n",
       "    </tr>\n",
       "    <tr>\n",
       "      <th rowspan=\"5\" valign=\"top\">1003</th>\n",
       "      <th>8</th>\n",
       "      <td>380</td>\n",
       "    </tr>\n",
       "    <tr>\n",
       "      <th>9</th>\n",
       "      <td>961</td>\n",
       "    </tr>\n",
       "    <tr>\n",
       "      <th>10</th>\n",
       "      <td>855</td>\n",
       "    </tr>\n",
       "    <tr>\n",
       "      <th>11</th>\n",
       "      <td>824</td>\n",
       "    </tr>\n",
       "    <tr>\n",
       "      <th>12</th>\n",
       "      <td>802</td>\n",
       "    </tr>\n",
       "    <tr>\n",
       "      <th rowspan=\"8\" valign=\"top\">1004</th>\n",
       "      <th>5</th>\n",
       "      <td>35</td>\n",
       "    </tr>\n",
       "    <tr>\n",
       "      <th>6</th>\n",
       "      <td>171</td>\n",
       "    </tr>\n",
       "    <tr>\n",
       "      <th>7</th>\n",
       "      <td>135</td>\n",
       "    </tr>\n",
       "    <tr>\n",
       "      <th>8</th>\n",
       "      <td>137</td>\n",
       "    </tr>\n",
       "    <tr>\n",
       "      <th>9</th>\n",
       "      <td>117</td>\n",
       "    </tr>\n",
       "    <tr>\n",
       "      <th>10</th>\n",
       "      <td>145</td>\n",
       "    </tr>\n",
       "    <tr>\n",
       "      <th>11</th>\n",
       "      <td>117</td>\n",
       "    </tr>\n",
       "    <tr>\n",
       "      <th>12</th>\n",
       "      <td>130</td>\n",
       "    </tr>\n",
       "  </tbody>\n",
       "</table>\n",
       "</div>"
      ],
      "text/plain": [
       "               minutes\n",
       "user_id month         \n",
       "1000    5          159\n",
       "        6          172\n",
       "        7          340\n",
       "        8          408\n",
       "        9          466\n",
       "        10         350\n",
       "        11         338\n",
       "        12         333\n",
       "1001    11         430\n",
       "        12         414\n",
       "1002    6          117\n",
       "        7          214\n",
       "        8          289\n",
       "        9          206\n",
       "        10         212\n",
       "        11         243\n",
       "        12         236\n",
       "1003    8          380\n",
       "        9          961\n",
       "        10         855\n",
       "        11         824\n",
       "        12         802\n",
       "1004    5           35\n",
       "        6          171\n",
       "        7          135\n",
       "        8          137\n",
       "        9          117\n",
       "        10         145\n",
       "        11         117\n",
       "        12         130"
      ]
     },
     "execution_count": 35,
     "metadata": {},
     "output_type": "execute_result"
    }
   ],
   "source": [
    "# вывод первых 30 строк на экран\n",
    "minutes_per_month.head(30)"
   ]
  },
  {
   "cell_type": "code",
   "execution_count": 36,
   "metadata": {
    "deletable": false,
    "id": "YiS9waG7_oCl"
   },
   "outputs": [],
   "source": [
    "# подсчёт количества отправленных сообщений для каждого пользователя по месяцам\n",
    "messages_per_month = messages.groupby(['user_id', 'month']).agg(messages=('message_date','count'))"
   ]
  },
  {
   "cell_type": "code",
   "execution_count": 37,
   "metadata": {
    "deletable": false,
    "id": "aaDNanZ0_oCm"
   },
   "outputs": [
    {
     "data": {
      "text/html": [
       "<div>\n",
       "<style scoped>\n",
       "    .dataframe tbody tr th:only-of-type {\n",
       "        vertical-align: middle;\n",
       "    }\n",
       "\n",
       "    .dataframe tbody tr th {\n",
       "        vertical-align: top;\n",
       "    }\n",
       "\n",
       "    .dataframe thead th {\n",
       "        text-align: right;\n",
       "    }\n",
       "</style>\n",
       "<table border=\"1\" class=\"dataframe\">\n",
       "  <thead>\n",
       "    <tr style=\"text-align: right;\">\n",
       "      <th></th>\n",
       "      <th></th>\n",
       "      <th>messages</th>\n",
       "    </tr>\n",
       "    <tr>\n",
       "      <th>user_id</th>\n",
       "      <th>month</th>\n",
       "      <th></th>\n",
       "    </tr>\n",
       "  </thead>\n",
       "  <tbody>\n",
       "    <tr>\n",
       "      <th rowspan=\"8\" valign=\"top\">1000</th>\n",
       "      <th>5</th>\n",
       "      <td>22</td>\n",
       "    </tr>\n",
       "    <tr>\n",
       "      <th>6</th>\n",
       "      <td>60</td>\n",
       "    </tr>\n",
       "    <tr>\n",
       "      <th>7</th>\n",
       "      <td>75</td>\n",
       "    </tr>\n",
       "    <tr>\n",
       "      <th>8</th>\n",
       "      <td>81</td>\n",
       "    </tr>\n",
       "    <tr>\n",
       "      <th>9</th>\n",
       "      <td>57</td>\n",
       "    </tr>\n",
       "    <tr>\n",
       "      <th>10</th>\n",
       "      <td>73</td>\n",
       "    </tr>\n",
       "    <tr>\n",
       "      <th>11</th>\n",
       "      <td>58</td>\n",
       "    </tr>\n",
       "    <tr>\n",
       "      <th>12</th>\n",
       "      <td>70</td>\n",
       "    </tr>\n",
       "    <tr>\n",
       "      <th rowspan=\"7\" valign=\"top\">1002</th>\n",
       "      <th>6</th>\n",
       "      <td>4</td>\n",
       "    </tr>\n",
       "    <tr>\n",
       "      <th>7</th>\n",
       "      <td>11</td>\n",
       "    </tr>\n",
       "    <tr>\n",
       "      <th>8</th>\n",
       "      <td>13</td>\n",
       "    </tr>\n",
       "    <tr>\n",
       "      <th>9</th>\n",
       "      <td>4</td>\n",
       "    </tr>\n",
       "    <tr>\n",
       "      <th>10</th>\n",
       "      <td>10</td>\n",
       "    </tr>\n",
       "    <tr>\n",
       "      <th>11</th>\n",
       "      <td>16</td>\n",
       "    </tr>\n",
       "    <tr>\n",
       "      <th>12</th>\n",
       "      <td>12</td>\n",
       "    </tr>\n",
       "    <tr>\n",
       "      <th rowspan=\"5\" valign=\"top\">1003</th>\n",
       "      <th>8</th>\n",
       "      <td>37</td>\n",
       "    </tr>\n",
       "    <tr>\n",
       "      <th>9</th>\n",
       "      <td>91</td>\n",
       "    </tr>\n",
       "    <tr>\n",
       "      <th>10</th>\n",
       "      <td>83</td>\n",
       "    </tr>\n",
       "    <tr>\n",
       "      <th>11</th>\n",
       "      <td>94</td>\n",
       "    </tr>\n",
       "    <tr>\n",
       "      <th>12</th>\n",
       "      <td>75</td>\n",
       "    </tr>\n",
       "    <tr>\n",
       "      <th rowspan=\"8\" valign=\"top\">1004</th>\n",
       "      <th>5</th>\n",
       "      <td>95</td>\n",
       "    </tr>\n",
       "    <tr>\n",
       "      <th>6</th>\n",
       "      <td>134</td>\n",
       "    </tr>\n",
       "    <tr>\n",
       "      <th>7</th>\n",
       "      <td>181</td>\n",
       "    </tr>\n",
       "    <tr>\n",
       "      <th>8</th>\n",
       "      <td>151</td>\n",
       "    </tr>\n",
       "    <tr>\n",
       "      <th>9</th>\n",
       "      <td>146</td>\n",
       "    </tr>\n",
       "    <tr>\n",
       "      <th>10</th>\n",
       "      <td>165</td>\n",
       "    </tr>\n",
       "    <tr>\n",
       "      <th>11</th>\n",
       "      <td>158</td>\n",
       "    </tr>\n",
       "    <tr>\n",
       "      <th>12</th>\n",
       "      <td>162</td>\n",
       "    </tr>\n",
       "    <tr>\n",
       "      <th rowspan=\"2\" valign=\"top\">1005</th>\n",
       "      <th>1</th>\n",
       "      <td>7</td>\n",
       "    </tr>\n",
       "    <tr>\n",
       "      <th>2</th>\n",
       "      <td>38</td>\n",
       "    </tr>\n",
       "  </tbody>\n",
       "</table>\n",
       "</div>"
      ],
      "text/plain": [
       "               messages\n",
       "user_id month          \n",
       "1000    5            22\n",
       "        6            60\n",
       "        7            75\n",
       "        8            81\n",
       "        9            57\n",
       "        10           73\n",
       "        11           58\n",
       "        12           70\n",
       "1002    6             4\n",
       "        7            11\n",
       "        8            13\n",
       "        9             4\n",
       "        10           10\n",
       "        11           16\n",
       "        12           12\n",
       "1003    8            37\n",
       "        9            91\n",
       "        10           83\n",
       "        11           94\n",
       "        12           75\n",
       "1004    5            95\n",
       "        6           134\n",
       "        7           181\n",
       "        8           151\n",
       "        9           146\n",
       "        10          165\n",
       "        11          158\n",
       "        12          162\n",
       "1005    1             7\n",
       "        2            38"
      ]
     },
     "execution_count": 37,
     "metadata": {},
     "output_type": "execute_result"
    }
   ],
   "source": [
    "# вывод первых 30 строк на экран\n",
    "messages_per_month.head(30)"
   ]
  },
  {
   "cell_type": "code",
   "execution_count": 38,
   "metadata": {
    "deletable": false,
    "id": "-ITlvcsU_oCm"
   },
   "outputs": [],
   "source": [
    "# подсчёт потраченных мегабайт для каждого пользователя по месяцам\n",
    "sessions_per_month = sessions.groupby(['user_id', 'month']).agg({'mb_used':'sum'})"
   ]
  },
  {
   "cell_type": "code",
   "execution_count": 39,
   "metadata": {
    "deletable": false,
    "id": "YF7FQfXf_oCm"
   },
   "outputs": [
    {
     "data": {
      "text/html": [
       "<div>\n",
       "<style scoped>\n",
       "    .dataframe tbody tr th:only-of-type {\n",
       "        vertical-align: middle;\n",
       "    }\n",
       "\n",
       "    .dataframe tbody tr th {\n",
       "        vertical-align: top;\n",
       "    }\n",
       "\n",
       "    .dataframe thead th {\n",
       "        text-align: right;\n",
       "    }\n",
       "</style>\n",
       "<table border=\"1\" class=\"dataframe\">\n",
       "  <thead>\n",
       "    <tr style=\"text-align: right;\">\n",
       "      <th></th>\n",
       "      <th></th>\n",
       "      <th>mb_used</th>\n",
       "    </tr>\n",
       "    <tr>\n",
       "      <th>user_id</th>\n",
       "      <th>month</th>\n",
       "      <th></th>\n",
       "    </tr>\n",
       "  </thead>\n",
       "  <tbody>\n",
       "    <tr>\n",
       "      <th rowspan=\"8\" valign=\"top\">1000</th>\n",
       "      <th>5</th>\n",
       "      <td>2253.49</td>\n",
       "    </tr>\n",
       "    <tr>\n",
       "      <th>6</th>\n",
       "      <td>23233.77</td>\n",
       "    </tr>\n",
       "    <tr>\n",
       "      <th>7</th>\n",
       "      <td>14003.64</td>\n",
       "    </tr>\n",
       "    <tr>\n",
       "      <th>8</th>\n",
       "      <td>14055.93</td>\n",
       "    </tr>\n",
       "    <tr>\n",
       "      <th>9</th>\n",
       "      <td>14568.91</td>\n",
       "    </tr>\n",
       "    <tr>\n",
       "      <th>10</th>\n",
       "      <td>14702.49</td>\n",
       "    </tr>\n",
       "    <tr>\n",
       "      <th>11</th>\n",
       "      <td>14756.47</td>\n",
       "    </tr>\n",
       "    <tr>\n",
       "      <th>12</th>\n",
       "      <td>9817.61</td>\n",
       "    </tr>\n",
       "    <tr>\n",
       "      <th rowspan=\"2\" valign=\"top\">1001</th>\n",
       "      <th>11</th>\n",
       "      <td>18429.34</td>\n",
       "    </tr>\n",
       "    <tr>\n",
       "      <th>12</th>\n",
       "      <td>14036.66</td>\n",
       "    </tr>\n",
       "    <tr>\n",
       "      <th rowspan=\"7\" valign=\"top\">1002</th>\n",
       "      <th>6</th>\n",
       "      <td>10856.82</td>\n",
       "    </tr>\n",
       "    <tr>\n",
       "      <th>7</th>\n",
       "      <td>17580.10</td>\n",
       "    </tr>\n",
       "    <tr>\n",
       "      <th>8</th>\n",
       "      <td>20319.26</td>\n",
       "    </tr>\n",
       "    <tr>\n",
       "      <th>9</th>\n",
       "      <td>16691.08</td>\n",
       "    </tr>\n",
       "    <tr>\n",
       "      <th>10</th>\n",
       "      <td>13888.25</td>\n",
       "    </tr>\n",
       "    <tr>\n",
       "      <th>11</th>\n",
       "      <td>18587.28</td>\n",
       "    </tr>\n",
       "    <tr>\n",
       "      <th>12</th>\n",
       "      <td>18113.73</td>\n",
       "    </tr>\n",
       "    <tr>\n",
       "      <th rowspan=\"5\" valign=\"top\">1003</th>\n",
       "      <th>8</th>\n",
       "      <td>8565.21</td>\n",
       "    </tr>\n",
       "    <tr>\n",
       "      <th>9</th>\n",
       "      <td>12468.87</td>\n",
       "    </tr>\n",
       "    <tr>\n",
       "      <th>10</th>\n",
       "      <td>14768.14</td>\n",
       "    </tr>\n",
       "    <tr>\n",
       "      <th>11</th>\n",
       "      <td>11356.89</td>\n",
       "    </tr>\n",
       "    <tr>\n",
       "      <th>12</th>\n",
       "      <td>10121.53</td>\n",
       "    </tr>\n",
       "    <tr>\n",
       "      <th rowspan=\"8\" valign=\"top\">1004</th>\n",
       "      <th>5</th>\n",
       "      <td>13403.98</td>\n",
       "    </tr>\n",
       "    <tr>\n",
       "      <th>6</th>\n",
       "      <td>17600.02</td>\n",
       "    </tr>\n",
       "    <tr>\n",
       "      <th>7</th>\n",
       "      <td>22229.58</td>\n",
       "    </tr>\n",
       "    <tr>\n",
       "      <th>8</th>\n",
       "      <td>28584.37</td>\n",
       "    </tr>\n",
       "    <tr>\n",
       "      <th>9</th>\n",
       "      <td>15109.03</td>\n",
       "    </tr>\n",
       "    <tr>\n",
       "      <th>10</th>\n",
       "      <td>18475.44</td>\n",
       "    </tr>\n",
       "    <tr>\n",
       "      <th>11</th>\n",
       "      <td>15616.02</td>\n",
       "    </tr>\n",
       "    <tr>\n",
       "      <th>12</th>\n",
       "      <td>18021.04</td>\n",
       "    </tr>\n",
       "  </tbody>\n",
       "</table>\n",
       "</div>"
      ],
      "text/plain": [
       "                mb_used\n",
       "user_id month          \n",
       "1000    5       2253.49\n",
       "        6      23233.77\n",
       "        7      14003.64\n",
       "        8      14055.93\n",
       "        9      14568.91\n",
       "        10     14702.49\n",
       "        11     14756.47\n",
       "        12      9817.61\n",
       "1001    11     18429.34\n",
       "        12     14036.66\n",
       "1002    6      10856.82\n",
       "        7      17580.10\n",
       "        8      20319.26\n",
       "        9      16691.08\n",
       "        10     13888.25\n",
       "        11     18587.28\n",
       "        12     18113.73\n",
       "1003    8       8565.21\n",
       "        9      12468.87\n",
       "        10     14768.14\n",
       "        11     11356.89\n",
       "        12     10121.53\n",
       "1004    5      13403.98\n",
       "        6      17600.02\n",
       "        7      22229.58\n",
       "        8      28584.37\n",
       "        9      15109.03\n",
       "        10     18475.44\n",
       "        11     15616.02\n",
       "        12     18021.04"
      ]
     },
     "execution_count": 39,
     "metadata": {},
     "output_type": "execute_result"
    }
   ],
   "source": [
    "# вывод первых 30 строк на экран\n",
    "sessions_per_month.head(30)"
   ]
  },
  {
   "cell_type": "markdown",
   "metadata": {
    "deletable": false,
    "editable": false,
    "id": "GF37Inq-_oCn"
   },
   "source": [
    "### Анализ данных и подсчёт выручки"
   ]
  },
  {
   "cell_type": "code",
   "execution_count": 40,
   "metadata": {
    "deletable": false,
    "id": "SDchqQI5_oCn",
    "outputId": "760b21d8-9344-46a3-9c6e-a3cbbc7dd542"
   },
   "outputs": [
    {
     "data": {
      "text/plain": [
       "7.6"
      ]
     },
     "execution_count": 40,
     "metadata": {},
     "output_type": "execute_result"
    }
   ],
   "source": [
    "# рассчет доли расторгнутых договоров по столбцу churn_date\n",
    "users['churn_date'].count() / users['churn_date'].shape[0] * 100"
   ]
  },
  {
   "cell_type": "markdown",
   "metadata": {
    "deletable": false,
    "editable": false,
    "id": "7jb0qJhe_oCn"
   },
   "source": [
    "Расторгли договор 7.6% клиентов из датасета"
   ]
  },
  {
   "cell_type": "code",
   "execution_count": 41,
   "metadata": {
    "deletable": false,
    "id": "QJuiD1cd_oCo",
    "outputId": "60af33ba-196b-464c-e15d-239dd446a4f4",
    "scrolled": true
   },
   "outputs": [
    {
     "data": {
      "text/html": [
       "<div>\n",
       "<style scoped>\n",
       "    .dataframe tbody tr th:only-of-type {\n",
       "        vertical-align: middle;\n",
       "    }\n",
       "\n",
       "    .dataframe tbody tr th {\n",
       "        vertical-align: top;\n",
       "    }\n",
       "\n",
       "    .dataframe thead th {\n",
       "        text-align: right;\n",
       "    }\n",
       "</style>\n",
       "<table border=\"1\" class=\"dataframe\">\n",
       "  <thead>\n",
       "    <tr style=\"text-align: right;\">\n",
       "      <th></th>\n",
       "      <th>user_id</th>\n",
       "      <th>month</th>\n",
       "      <th>calls</th>\n",
       "      <th>messages</th>\n",
       "      <th>mb_used</th>\n",
       "      <th>minutes</th>\n",
       "      <th>age</th>\n",
       "      <th>churn_date</th>\n",
       "      <th>city</th>\n",
       "      <th>first_name</th>\n",
       "      <th>last_name</th>\n",
       "      <th>reg_date</th>\n",
       "      <th>tariff</th>\n",
       "    </tr>\n",
       "  </thead>\n",
       "  <tbody>\n",
       "    <tr>\n",
       "      <th>0</th>\n",
       "      <td>1000</td>\n",
       "      <td>5</td>\n",
       "      <td>22.0</td>\n",
       "      <td>22.0</td>\n",
       "      <td>2253.49</td>\n",
       "      <td>159.0</td>\n",
       "      <td>52</td>\n",
       "      <td>NaT</td>\n",
       "      <td>Краснодар</td>\n",
       "      <td>Рафаил</td>\n",
       "      <td>Верещагин</td>\n",
       "      <td>2018-05-25</td>\n",
       "      <td>ultra</td>\n",
       "    </tr>\n",
       "    <tr>\n",
       "      <th>1</th>\n",
       "      <td>1000</td>\n",
       "      <td>6</td>\n",
       "      <td>43.0</td>\n",
       "      <td>60.0</td>\n",
       "      <td>23233.77</td>\n",
       "      <td>172.0</td>\n",
       "      <td>52</td>\n",
       "      <td>NaT</td>\n",
       "      <td>Краснодар</td>\n",
       "      <td>Рафаил</td>\n",
       "      <td>Верещагин</td>\n",
       "      <td>2018-05-25</td>\n",
       "      <td>ultra</td>\n",
       "    </tr>\n",
       "    <tr>\n",
       "      <th>2</th>\n",
       "      <td>1000</td>\n",
       "      <td>7</td>\n",
       "      <td>47.0</td>\n",
       "      <td>75.0</td>\n",
       "      <td>14003.64</td>\n",
       "      <td>340.0</td>\n",
       "      <td>52</td>\n",
       "      <td>NaT</td>\n",
       "      <td>Краснодар</td>\n",
       "      <td>Рафаил</td>\n",
       "      <td>Верещагин</td>\n",
       "      <td>2018-05-25</td>\n",
       "      <td>ultra</td>\n",
       "    </tr>\n",
       "    <tr>\n",
       "      <th>3</th>\n",
       "      <td>1000</td>\n",
       "      <td>8</td>\n",
       "      <td>52.0</td>\n",
       "      <td>81.0</td>\n",
       "      <td>14055.93</td>\n",
       "      <td>408.0</td>\n",
       "      <td>52</td>\n",
       "      <td>NaT</td>\n",
       "      <td>Краснодар</td>\n",
       "      <td>Рафаил</td>\n",
       "      <td>Верещагин</td>\n",
       "      <td>2018-05-25</td>\n",
       "      <td>ultra</td>\n",
       "    </tr>\n",
       "    <tr>\n",
       "      <th>4</th>\n",
       "      <td>1000</td>\n",
       "      <td>9</td>\n",
       "      <td>58.0</td>\n",
       "      <td>57.0</td>\n",
       "      <td>14568.91</td>\n",
       "      <td>466.0</td>\n",
       "      <td>52</td>\n",
       "      <td>NaT</td>\n",
       "      <td>Краснодар</td>\n",
       "      <td>Рафаил</td>\n",
       "      <td>Верещагин</td>\n",
       "      <td>2018-05-25</td>\n",
       "      <td>ultra</td>\n",
       "    </tr>\n",
       "  </tbody>\n",
       "</table>\n",
       "</div>"
      ],
      "text/plain": [
       "   user_id  month  calls  messages   mb_used  minutes  age churn_date  \\\n",
       "0     1000      5   22.0      22.0   2253.49    159.0   52        NaT   \n",
       "1     1000      6   43.0      60.0  23233.77    172.0   52        NaT   \n",
       "2     1000      7   47.0      75.0  14003.64    340.0   52        NaT   \n",
       "3     1000      8   52.0      81.0  14055.93    408.0   52        NaT   \n",
       "4     1000      9   58.0      57.0  14568.91    466.0   52        NaT   \n",
       "\n",
       "        city first_name  last_name   reg_date tariff  \n",
       "0  Краснодар     Рафаил  Верещагин 2018-05-25  ultra  \n",
       "1  Краснодар     Рафаил  Верещагин 2018-05-25  ultra  \n",
       "2  Краснодар     Рафаил  Верещагин 2018-05-25  ultra  \n",
       "3  Краснодар     Рафаил  Верещагин 2018-05-25  ultra  \n",
       "4  Краснодар     Рафаил  Верещагин 2018-05-25  ultra  "
      ]
     },
     "execution_count": 41,
     "metadata": {},
     "output_type": "execute_result"
    }
   ],
   "source": [
    "# создание датафрейма user_behavior\n",
    "user_behavior = calls_per_month\\\n",
    "    .merge(messages_per_month, left_index=True, right_index=True, how='outer')\\\n",
    "    .merge(sessions_per_month, left_index=True, right_index=True, how='outer')\\\n",
    "    .merge(minutes_per_month, left_index=True, right_index=True, how='outer')\\\n",
    "    .reset_index()\\\n",
    "    .merge(users, how='left', left_on='user_id', right_on='user_id')\\\n",
    "\n",
    "user_behavior.head()"
   ]
  },
  {
   "cell_type": "markdown",
   "metadata": {},
   "source": [
    "Мы получили объединенную таблицу, где поведения каждого пользователя в зависимости от месяца описывают с помощью нескольких параметров: его идентификатор, возраст, город, имя и фамилия, дата регистрации и дата прекращения договора(при наличии), выбранный тариф,количество звонков и их продолжительность, число отправленных смс-сообщений и объем интернет-трафика. "
   ]
  },
  {
   "cell_type": "markdown",
   "metadata": {
    "deletable": false,
    "editable": false,
    "id": "9Kif7-vi_oCo"
   },
   "source": [
    "Проверим пропуски в таблице `user_behavior` после объединения:"
   ]
  },
  {
   "cell_type": "code",
   "execution_count": 42,
   "metadata": {
    "deletable": false,
    "id": "MExwRr6x_oCo",
    "outputId": "1362c11d-ba78-47b6-8495-ba877c2cae38"
   },
   "outputs": [
    {
     "data": {
      "text/plain": [
       "user_id          0\n",
       "month            0\n",
       "calls           40\n",
       "messages       497\n",
       "mb_used         11\n",
       "minutes         40\n",
       "age              0\n",
       "churn_date    3027\n",
       "city             0\n",
       "first_name       0\n",
       "last_name        0\n",
       "reg_date         0\n",
       "tariff           0\n",
       "dtype: int64"
      ]
     },
     "execution_count": 42,
     "metadata": {},
     "output_type": "execute_result"
    }
   ],
   "source": [
    "# проверка пропусков в user_behavior\n",
    "user_behavior.isna().sum()"
   ]
  },
  {
   "cell_type": "code",
   "execution_count": 43,
   "metadata": {
    "scrolled": false
   },
   "outputs": [
    {
     "data": {
      "text/html": [
       "<style  type=\"text/css\" >\n",
       "#T_d22fb_row0_col0,#T_d22fb_row1_col0,#T_d22fb_row4_col0,#T_d22fb_row6_col0,#T_d22fb_row8_col0,#T_d22fb_row9_col0,#T_d22fb_row10_col0,#T_d22fb_row11_col0,#T_d22fb_row12_col0{\n",
       "            background-color:  #3b4cc0;\n",
       "            color:  #f1f1f1;\n",
       "        }#T_d22fb_row2_col0,#T_d22fb_row5_col0{\n",
       "            background-color:  #3e51c5;\n",
       "            color:  #f1f1f1;\n",
       "        }#T_d22fb_row3_col0{\n",
       "            background-color:  #6f92f3;\n",
       "            color:  #000000;\n",
       "        }#T_d22fb_row7_col0{\n",
       "            background-color:  #b40426;\n",
       "            color:  #f1f1f1;\n",
       "        }</style><table id=\"T_d22fb_\" ><thead>    <tr>        <th class=\"blank level0\" ></th>        <th class=\"col_heading level0 col0\" >0</th>    </tr></thead><tbody>\n",
       "                <tr>\n",
       "                        <th id=\"T_d22fb_level0_row0\" class=\"row_heading level0 row0\" >user_id</th>\n",
       "                        <td id=\"T_d22fb_row0_col0\" class=\"data row0 col0\" >0.000000</td>\n",
       "            </tr>\n",
       "            <tr>\n",
       "                        <th id=\"T_d22fb_level0_row1\" class=\"row_heading level0 row1\" >month</th>\n",
       "                        <td id=\"T_d22fb_row1_col0\" class=\"data row1 col0\" >0.000000</td>\n",
       "            </tr>\n",
       "            <tr>\n",
       "                        <th id=\"T_d22fb_level0_row2\" class=\"row_heading level0 row2\" >calls</th>\n",
       "                        <td id=\"T_d22fb_row2_col0\" class=\"data row2 col0\" >1.240000</td>\n",
       "            </tr>\n",
       "            <tr>\n",
       "                        <th id=\"T_d22fb_level0_row3\" class=\"row_heading level0 row3\" >messages</th>\n",
       "                        <td id=\"T_d22fb_row3_col0\" class=\"data row3 col0\" >15.460000</td>\n",
       "            </tr>\n",
       "            <tr>\n",
       "                        <th id=\"T_d22fb_level0_row4\" class=\"row_heading level0 row4\" >mb_used</th>\n",
       "                        <td id=\"T_d22fb_row4_col0\" class=\"data row4 col0\" >0.340000</td>\n",
       "            </tr>\n",
       "            <tr>\n",
       "                        <th id=\"T_d22fb_level0_row5\" class=\"row_heading level0 row5\" >minutes</th>\n",
       "                        <td id=\"T_d22fb_row5_col0\" class=\"data row5 col0\" >1.240000</td>\n",
       "            </tr>\n",
       "            <tr>\n",
       "                        <th id=\"T_d22fb_level0_row6\" class=\"row_heading level0 row6\" >age</th>\n",
       "                        <td id=\"T_d22fb_row6_col0\" class=\"data row6 col0\" >0.000000</td>\n",
       "            </tr>\n",
       "            <tr>\n",
       "                        <th id=\"T_d22fb_level0_row7\" class=\"row_heading level0 row7\" >churn_date</th>\n",
       "                        <td id=\"T_d22fb_row7_col0\" class=\"data row7 col0\" >94.180000</td>\n",
       "            </tr>\n",
       "            <tr>\n",
       "                        <th id=\"T_d22fb_level0_row8\" class=\"row_heading level0 row8\" >city</th>\n",
       "                        <td id=\"T_d22fb_row8_col0\" class=\"data row8 col0\" >0.000000</td>\n",
       "            </tr>\n",
       "            <tr>\n",
       "                        <th id=\"T_d22fb_level0_row9\" class=\"row_heading level0 row9\" >first_name</th>\n",
       "                        <td id=\"T_d22fb_row9_col0\" class=\"data row9 col0\" >0.000000</td>\n",
       "            </tr>\n",
       "            <tr>\n",
       "                        <th id=\"T_d22fb_level0_row10\" class=\"row_heading level0 row10\" >last_name</th>\n",
       "                        <td id=\"T_d22fb_row10_col0\" class=\"data row10 col0\" >0.000000</td>\n",
       "            </tr>\n",
       "            <tr>\n",
       "                        <th id=\"T_d22fb_level0_row11\" class=\"row_heading level0 row11\" >reg_date</th>\n",
       "                        <td id=\"T_d22fb_row11_col0\" class=\"data row11 col0\" >0.000000</td>\n",
       "            </tr>\n",
       "            <tr>\n",
       "                        <th id=\"T_d22fb_level0_row12\" class=\"row_heading level0 row12\" >tariff</th>\n",
       "                        <td id=\"T_d22fb_row12_col0\" class=\"data row12 col0\" >0.000000</td>\n",
       "            </tr>\n",
       "    </tbody></table>"
      ],
      "text/plain": [
       "<pandas.io.formats.style.Styler at 0x7fb2078a2880>"
      ]
     },
     "execution_count": 43,
     "metadata": {},
     "output_type": "execute_result"
    }
   ],
   "source": [
    "# определение доли пропусков от общего числа строк в каждом столбце\n",
    "pd.DataFrame(round(user_behavior.isna().mean()*100,2)).style.background_gradient('coolwarm')"
   ]
  },
  {
   "cell_type": "markdown",
   "metadata": {},
   "source": [
    "*Видим пропуски в 5 колонках. Колонку churn_date обрабатывать не имеет смысла, так как пропуски говорят нам о том, что договор не расторгнут.  \n",
    "Значительная доля пропусков в столбце с количеством смс-сообщений, небольшой вес пропущенных значений в колонках с числом и продолжительностью звонков. И всего 0.34% составляют пропуски в столбце с объемом интернет-трафика.  \n",
    "Скорее всего эти пропуски - нулевые значения, обработаем им, подставим 0 в пустые ячейки.*"
   ]
  },
  {
   "cell_type": "markdown",
   "metadata": {
    "deletable": false,
    "editable": false,
    "id": "eNUHBFPI_oCo"
   },
   "source": [
    "Заполним образовавшиеся пропуски в данных:"
   ]
  },
  {
   "cell_type": "code",
   "execution_count": 44,
   "metadata": {
    "deletable": false,
    "id": "2aCyfvNX_oCo"
   },
   "outputs": [],
   "source": [
    "# заполнение пропусков в столбцах\n",
    "user_behavior['calls'] = user_behavior['calls'].fillna(0)\n",
    "user_behavior['minutes'] = user_behavior['minutes'].fillna(0)\n",
    "user_behavior['messages'] = user_behavior['messages'].fillna(0)\n",
    "user_behavior['mb_used'] = user_behavior['mb_used'].fillna(0)"
   ]
  },
  {
   "cell_type": "markdown",
   "metadata": {
    "deletable": false,
    "editable": false,
    "id": "JTszP_Iy_oCo"
   },
   "source": [
    "Присоединяем информацию о тарифах"
   ]
  },
  {
   "cell_type": "code",
   "execution_count": 45,
   "metadata": {
    "deletable": false,
    "id": "zmnnqTIq_oCo"
   },
   "outputs": [],
   "source": [
    "# переименование столбца tariff_name на более простое tariff\n",
    "\n",
    "tariffs = tariffs.rename(\n",
    "    columns={\n",
    "        'tariff_name': 'tariff'\n",
    "    }\n",
    ")"
   ]
  },
  {
   "cell_type": "code",
   "execution_count": 46,
   "metadata": {
    "deletable": false,
    "id": "hop7kFhB_oCp"
   },
   "outputs": [],
   "source": [
    "# объединение user_behavior и tariffs\n",
    "user_behavior = user_behavior.merge(tariffs, on='tariff')"
   ]
  },
  {
   "cell_type": "code",
   "execution_count": 47,
   "metadata": {},
   "outputs": [
    {
     "data": {
      "text/html": [
       "<div>\n",
       "<style scoped>\n",
       "    .dataframe tbody tr th:only-of-type {\n",
       "        vertical-align: middle;\n",
       "    }\n",
       "\n",
       "    .dataframe tbody tr th {\n",
       "        vertical-align: top;\n",
       "    }\n",
       "\n",
       "    .dataframe thead th {\n",
       "        text-align: right;\n",
       "    }\n",
       "</style>\n",
       "<table border=\"1\" class=\"dataframe\">\n",
       "  <thead>\n",
       "    <tr style=\"text-align: right;\">\n",
       "      <th></th>\n",
       "      <th>user_id</th>\n",
       "      <th>month</th>\n",
       "      <th>calls</th>\n",
       "      <th>messages</th>\n",
       "      <th>mb_used</th>\n",
       "      <th>minutes</th>\n",
       "      <th>age</th>\n",
       "      <th>churn_date</th>\n",
       "      <th>city</th>\n",
       "      <th>first_name</th>\n",
       "      <th>last_name</th>\n",
       "      <th>reg_date</th>\n",
       "      <th>tariff</th>\n",
       "      <th>messages_included</th>\n",
       "      <th>mb_per_month_included</th>\n",
       "      <th>minutes_included</th>\n",
       "      <th>rub_monthly_fee</th>\n",
       "      <th>rub_per_gb</th>\n",
       "      <th>rub_per_message</th>\n",
       "      <th>rub_per_minute</th>\n",
       "    </tr>\n",
       "  </thead>\n",
       "  <tbody>\n",
       "    <tr>\n",
       "      <th>0</th>\n",
       "      <td>1000</td>\n",
       "      <td>5</td>\n",
       "      <td>22.0</td>\n",
       "      <td>22.0</td>\n",
       "      <td>2253.49</td>\n",
       "      <td>159.0</td>\n",
       "      <td>52</td>\n",
       "      <td>NaT</td>\n",
       "      <td>Краснодар</td>\n",
       "      <td>Рафаил</td>\n",
       "      <td>Верещагин</td>\n",
       "      <td>2018-05-25</td>\n",
       "      <td>ultra</td>\n",
       "      <td>1000</td>\n",
       "      <td>30720</td>\n",
       "      <td>3000</td>\n",
       "      <td>1950</td>\n",
       "      <td>150</td>\n",
       "      <td>1</td>\n",
       "      <td>1</td>\n",
       "    </tr>\n",
       "    <tr>\n",
       "      <th>1</th>\n",
       "      <td>1000</td>\n",
       "      <td>6</td>\n",
       "      <td>43.0</td>\n",
       "      <td>60.0</td>\n",
       "      <td>23233.77</td>\n",
       "      <td>172.0</td>\n",
       "      <td>52</td>\n",
       "      <td>NaT</td>\n",
       "      <td>Краснодар</td>\n",
       "      <td>Рафаил</td>\n",
       "      <td>Верещагин</td>\n",
       "      <td>2018-05-25</td>\n",
       "      <td>ultra</td>\n",
       "      <td>1000</td>\n",
       "      <td>30720</td>\n",
       "      <td>3000</td>\n",
       "      <td>1950</td>\n",
       "      <td>150</td>\n",
       "      <td>1</td>\n",
       "      <td>1</td>\n",
       "    </tr>\n",
       "    <tr>\n",
       "      <th>2</th>\n",
       "      <td>1000</td>\n",
       "      <td>7</td>\n",
       "      <td>47.0</td>\n",
       "      <td>75.0</td>\n",
       "      <td>14003.64</td>\n",
       "      <td>340.0</td>\n",
       "      <td>52</td>\n",
       "      <td>NaT</td>\n",
       "      <td>Краснодар</td>\n",
       "      <td>Рафаил</td>\n",
       "      <td>Верещагин</td>\n",
       "      <td>2018-05-25</td>\n",
       "      <td>ultra</td>\n",
       "      <td>1000</td>\n",
       "      <td>30720</td>\n",
       "      <td>3000</td>\n",
       "      <td>1950</td>\n",
       "      <td>150</td>\n",
       "      <td>1</td>\n",
       "      <td>1</td>\n",
       "    </tr>\n",
       "    <tr>\n",
       "      <th>3</th>\n",
       "      <td>1000</td>\n",
       "      <td>8</td>\n",
       "      <td>52.0</td>\n",
       "      <td>81.0</td>\n",
       "      <td>14055.93</td>\n",
       "      <td>408.0</td>\n",
       "      <td>52</td>\n",
       "      <td>NaT</td>\n",
       "      <td>Краснодар</td>\n",
       "      <td>Рафаил</td>\n",
       "      <td>Верещагин</td>\n",
       "      <td>2018-05-25</td>\n",
       "      <td>ultra</td>\n",
       "      <td>1000</td>\n",
       "      <td>30720</td>\n",
       "      <td>3000</td>\n",
       "      <td>1950</td>\n",
       "      <td>150</td>\n",
       "      <td>1</td>\n",
       "      <td>1</td>\n",
       "    </tr>\n",
       "    <tr>\n",
       "      <th>4</th>\n",
       "      <td>1000</td>\n",
       "      <td>9</td>\n",
       "      <td>58.0</td>\n",
       "      <td>57.0</td>\n",
       "      <td>14568.91</td>\n",
       "      <td>466.0</td>\n",
       "      <td>52</td>\n",
       "      <td>NaT</td>\n",
       "      <td>Краснодар</td>\n",
       "      <td>Рафаил</td>\n",
       "      <td>Верещагин</td>\n",
       "      <td>2018-05-25</td>\n",
       "      <td>ultra</td>\n",
       "      <td>1000</td>\n",
       "      <td>30720</td>\n",
       "      <td>3000</td>\n",
       "      <td>1950</td>\n",
       "      <td>150</td>\n",
       "      <td>1</td>\n",
       "      <td>1</td>\n",
       "    </tr>\n",
       "  </tbody>\n",
       "</table>\n",
       "</div>"
      ],
      "text/plain": [
       "   user_id  month  calls  messages   mb_used  minutes  age churn_date  \\\n",
       "0     1000      5   22.0      22.0   2253.49    159.0   52        NaT   \n",
       "1     1000      6   43.0      60.0  23233.77    172.0   52        NaT   \n",
       "2     1000      7   47.0      75.0  14003.64    340.0   52        NaT   \n",
       "3     1000      8   52.0      81.0  14055.93    408.0   52        NaT   \n",
       "4     1000      9   58.0      57.0  14568.91    466.0   52        NaT   \n",
       "\n",
       "        city first_name  last_name   reg_date tariff  messages_included  \\\n",
       "0  Краснодар     Рафаил  Верещагин 2018-05-25  ultra               1000   \n",
       "1  Краснодар     Рафаил  Верещагин 2018-05-25  ultra               1000   \n",
       "2  Краснодар     Рафаил  Верещагин 2018-05-25  ultra               1000   \n",
       "3  Краснодар     Рафаил  Верещагин 2018-05-25  ultra               1000   \n",
       "4  Краснодар     Рафаил  Верещагин 2018-05-25  ultra               1000   \n",
       "\n",
       "   mb_per_month_included  minutes_included  rub_monthly_fee  rub_per_gb  \\\n",
       "0                  30720              3000             1950         150   \n",
       "1                  30720              3000             1950         150   \n",
       "2                  30720              3000             1950         150   \n",
       "3                  30720              3000             1950         150   \n",
       "4                  30720              3000             1950         150   \n",
       "\n",
       "   rub_per_message  rub_per_minute  \n",
       "0                1               1  \n",
       "1                1               1  \n",
       "2                1               1  \n",
       "3                1               1  \n",
       "4                1               1  "
      ]
     },
     "execution_count": 47,
     "metadata": {},
     "output_type": "execute_result"
    }
   ],
   "source": [
    "# вывод user_behavior\n",
    "user_behavior.head()"
   ]
  },
  {
   "cell_type": "markdown",
   "metadata": {
    "deletable": false,
    "editable": false,
    "id": "aJZeqJwL_oCp"
   },
   "source": [
    "Считаем количество минут разговора, сообщений и мегабайт, превышающих включённые в тариф\n"
   ]
  },
  {
   "cell_type": "code",
   "execution_count": 48,
   "metadata": {
    "deletable": false,
    "id": "1Tcf3IxI_oCp"
   },
   "outputs": [],
   "source": [
    "# создание новых столбцов с подсчетом минут, смс и мегабайт, превышающих тариф\n",
    "user_behavior['paid_minutes'] = user_behavior['minutes'] - user_behavior['minutes_included']\n",
    "user_behavior['paid_messages'] = user_behavior['messages'] - user_behavior['messages_included']\n",
    "user_behavior['paid_mb'] = user_behavior['mb_used'] - user_behavior['mb_per_month_included']\n",
    "\n",
    "# замена отрицательныхх значений на 0\n",
    "for col in ['paid_messages', 'paid_minutes', 'paid_mb']:\n",
    "    user_behavior.loc[user_behavior[col] < 0, col] = 0"
   ]
  },
  {
   "cell_type": "markdown",
   "metadata": {
    "deletable": false,
    "editable": false,
    "id": "9mf7Pko9_oCp"
   },
   "source": [
    "Переводим превышающие тариф мегабайты в гигабайты и сохраняем в столбец `paid_gb`"
   ]
  },
  {
   "cell_type": "code",
   "execution_count": 49,
   "metadata": {
    "deletable": false,
    "id": "cct5ZB60_oCp"
   },
   "outputs": [],
   "source": [
    "# перевод значений столбца paid_gb в гигабайты и изменение типа данных на int\n",
    "user_behavior['paid_gb'] = np.ceil(user_behavior['paid_mb'] / 1024).astype(int)"
   ]
  },
  {
   "cell_type": "markdown",
   "metadata": {
    "deletable": false,
    "editable": false,
    "id": "KEZ1rO-r_oCp"
   },
   "source": [
    "Считаем выручку за минуты разговора, сообщения и интернет"
   ]
  },
  {
   "cell_type": "code",
   "execution_count": 50,
   "metadata": {
    "deletable": false,
    "id": "U302RLm6_oCp"
   },
   "outputs": [],
   "source": [
    "# подсчет выручки за минуты разговора, сообщения и интернет сверх тарифа\n",
    "user_behavior['cost_minutes'] = user_behavior['paid_minutes'] * user_behavior['rub_per_minute']\n",
    "user_behavior['cost_messages'] = user_behavior['paid_messages'] * user_behavior['rub_per_message']\n",
    "user_behavior['cost_gb'] = user_behavior['paid_gb'] * user_behavior['rub_per_gb']"
   ]
  },
  {
   "cell_type": "markdown",
   "metadata": {
    "deletable": false,
    "editable": false,
    "id": "18ruYfTJ_oCp"
   },
   "source": [
    "Считаем помесячную выручку с каждого пользователя, она будет храниться в столбце `total_cost`"
   ]
  },
  {
   "cell_type": "code",
   "execution_count": 51,
   "metadata": {
    "deletable": false,
    "id": "Uf2YyazE_oCp"
   },
   "outputs": [],
   "source": [
    "# подсчет помесячной выручки с каждого пользователя \n",
    "user_behavior['total_cost'] = \\\n",
    "      user_behavior['rub_monthly_fee']\\\n",
    "    + user_behavior['cost_minutes']\\\n",
    "    + user_behavior['cost_messages']\\\n",
    "    + user_behavior['cost_gb']"
   ]
  },
  {
   "cell_type": "markdown",
   "metadata": {
    "deletable": false,
    "editable": false,
    "id": "49WKdXmA_oCp"
   },
   "source": [
    "Датафрейм `stats_df` для каждой пары «месяц — тариф» будет хранить основные характеристики"
   ]
  },
  {
   "cell_type": "code",
   "execution_count": 52,
   "metadata": {
    "deletable": false,
    "id": "4V-Kl67S_oCp",
    "outputId": "ed8b1220-debd-42f0-9941-3acb27e94db1",
    "scrolled": true
   },
   "outputs": [
    {
     "data": {
      "text/html": [
       "<div>\n",
       "<style scoped>\n",
       "    .dataframe tbody tr th:only-of-type {\n",
       "        vertical-align: middle;\n",
       "    }\n",
       "\n",
       "    .dataframe tbody tr th {\n",
       "        vertical-align: top;\n",
       "    }\n",
       "\n",
       "    .dataframe thead th {\n",
       "        text-align: right;\n",
       "    }\n",
       "</style>\n",
       "<table border=\"1\" class=\"dataframe\">\n",
       "  <thead>\n",
       "    <tr style=\"text-align: right;\">\n",
       "      <th></th>\n",
       "      <th>month</th>\n",
       "      <th>tariff</th>\n",
       "      <th>calls_mean</th>\n",
       "      <th>sessions_mean</th>\n",
       "      <th>messages_mean</th>\n",
       "      <th>minutes_mean</th>\n",
       "      <th>calls_std</th>\n",
       "      <th>sessions_std</th>\n",
       "      <th>messages_std</th>\n",
       "      <th>minutes_std</th>\n",
       "      <th>calls_median</th>\n",
       "      <th>sessions_median</th>\n",
       "      <th>messages_median</th>\n",
       "      <th>minutes_median</th>\n",
       "    </tr>\n",
       "  </thead>\n",
       "  <tbody>\n",
       "    <tr>\n",
       "      <th>0</th>\n",
       "      <td>1</td>\n",
       "      <td>smart</td>\n",
       "      <td>27.68</td>\n",
       "      <td>8513.72</td>\n",
       "      <td>18.24</td>\n",
       "      <td>203.85</td>\n",
       "      <td>20.81</td>\n",
       "      <td>6444.68</td>\n",
       "      <td>16.20</td>\n",
       "      <td>154.23</td>\n",
       "      <td>20.5</td>\n",
       "      <td>7096.18</td>\n",
       "      <td>15.0</td>\n",
       "      <td>162.5</td>\n",
       "    </tr>\n",
       "    <tr>\n",
       "      <th>1</th>\n",
       "      <td>1</td>\n",
       "      <td>ultra</td>\n",
       "      <td>59.44</td>\n",
       "      <td>13140.68</td>\n",
       "      <td>33.78</td>\n",
       "      <td>428.11</td>\n",
       "      <td>41.64</td>\n",
       "      <td>6865.35</td>\n",
       "      <td>30.67</td>\n",
       "      <td>269.76</td>\n",
       "      <td>51.0</td>\n",
       "      <td>14791.37</td>\n",
       "      <td>32.0</td>\n",
       "      <td>382.0</td>\n",
       "    </tr>\n",
       "    <tr>\n",
       "      <th>2</th>\n",
       "      <td>2</td>\n",
       "      <td>smart</td>\n",
       "      <td>40.19</td>\n",
       "      <td>11597.05</td>\n",
       "      <td>24.09</td>\n",
       "      <td>298.69</td>\n",
       "      <td>25.39</td>\n",
       "      <td>6247.35</td>\n",
       "      <td>21.75</td>\n",
       "      <td>190.82</td>\n",
       "      <td>38.5</td>\n",
       "      <td>12553.71</td>\n",
       "      <td>20.0</td>\n",
       "      <td>258.0</td>\n",
       "    </tr>\n",
       "    <tr>\n",
       "      <th>3</th>\n",
       "      <td>2</td>\n",
       "      <td>ultra</td>\n",
       "      <td>41.54</td>\n",
       "      <td>11775.94</td>\n",
       "      <td>21.96</td>\n",
       "      <td>297.12</td>\n",
       "      <td>40.97</td>\n",
       "      <td>10644.64</td>\n",
       "      <td>26.77</td>\n",
       "      <td>296.51</td>\n",
       "      <td>25.0</td>\n",
       "      <td>7327.12</td>\n",
       "      <td>5.5</td>\n",
       "      <td>168.0</td>\n",
       "    </tr>\n",
       "    <tr>\n",
       "      <th>4</th>\n",
       "      <td>3</td>\n",
       "      <td>smart</td>\n",
       "      <td>54.32</td>\n",
       "      <td>15104.16</td>\n",
       "      <td>31.86</td>\n",
       "      <td>390.05</td>\n",
       "      <td>25.54</td>\n",
       "      <td>5828.24</td>\n",
       "      <td>26.80</td>\n",
       "      <td>191.89</td>\n",
       "      <td>59.0</td>\n",
       "      <td>15670.25</td>\n",
       "      <td>23.0</td>\n",
       "      <td>409.0</td>\n",
       "    </tr>\n",
       "    <tr>\n",
       "      <th>5</th>\n",
       "      <td>3</td>\n",
       "      <td>ultra</td>\n",
       "      <td>67.68</td>\n",
       "      <td>17535.55</td>\n",
       "      <td>32.30</td>\n",
       "      <td>489.65</td>\n",
       "      <td>44.84</td>\n",
       "      <td>10951.79</td>\n",
       "      <td>41.62</td>\n",
       "      <td>333.74</td>\n",
       "      <td>57.0</td>\n",
       "      <td>17495.18</td>\n",
       "      <td>20.0</td>\n",
       "      <td>403.0</td>\n",
       "    </tr>\n",
       "    <tr>\n",
       "      <th>6</th>\n",
       "      <td>4</td>\n",
       "      <td>smart</td>\n",
       "      <td>51.31</td>\n",
       "      <td>13462.18</td>\n",
       "      <td>30.74</td>\n",
       "      <td>367.13</td>\n",
       "      <td>25.70</td>\n",
       "      <td>5698.25</td>\n",
       "      <td>24.54</td>\n",
       "      <td>186.49</td>\n",
       "      <td>52.0</td>\n",
       "      <td>14087.65</td>\n",
       "      <td>28.0</td>\n",
       "      <td>368.5</td>\n",
       "    </tr>\n",
       "    <tr>\n",
       "      <th>7</th>\n",
       "      <td>4</td>\n",
       "      <td>ultra</td>\n",
       "      <td>64.09</td>\n",
       "      <td>16828.13</td>\n",
       "      <td>31.56</td>\n",
       "      <td>458.02</td>\n",
       "      <td>36.27</td>\n",
       "      <td>9718.65</td>\n",
       "      <td>37.51</td>\n",
       "      <td>267.68</td>\n",
       "      <td>61.0</td>\n",
       "      <td>16645.78</td>\n",
       "      <td>17.0</td>\n",
       "      <td>453.0</td>\n",
       "    </tr>\n",
       "    <tr>\n",
       "      <th>8</th>\n",
       "      <td>5</td>\n",
       "      <td>smart</td>\n",
       "      <td>55.24</td>\n",
       "      <td>15805.18</td>\n",
       "      <td>33.77</td>\n",
       "      <td>387.36</td>\n",
       "      <td>25.38</td>\n",
       "      <td>5978.23</td>\n",
       "      <td>27.04</td>\n",
       "      <td>186.60</td>\n",
       "      <td>59.0</td>\n",
       "      <td>16323.94</td>\n",
       "      <td>30.0</td>\n",
       "      <td>433.0</td>\n",
       "    </tr>\n",
       "    <tr>\n",
       "      <th>9</th>\n",
       "      <td>5</td>\n",
       "      <td>ultra</td>\n",
       "      <td>72.51</td>\n",
       "      <td>19363.15</td>\n",
       "      <td>37.85</td>\n",
       "      <td>510.33</td>\n",
       "      <td>41.08</td>\n",
       "      <td>10046.11</td>\n",
       "      <td>40.31</td>\n",
       "      <td>289.60</td>\n",
       "      <td>75.0</td>\n",
       "      <td>18696.43</td>\n",
       "      <td>25.0</td>\n",
       "      <td>519.0</td>\n",
       "    </tr>\n",
       "  </tbody>\n",
       "</table>\n",
       "</div>"
      ],
      "text/plain": [
       "   month tariff  calls_mean  sessions_mean  messages_mean  minutes_mean  \\\n",
       "0      1  smart       27.68        8513.72          18.24        203.85   \n",
       "1      1  ultra       59.44       13140.68          33.78        428.11   \n",
       "2      2  smart       40.19       11597.05          24.09        298.69   \n",
       "3      2  ultra       41.54       11775.94          21.96        297.12   \n",
       "4      3  smart       54.32       15104.16          31.86        390.05   \n",
       "5      3  ultra       67.68       17535.55          32.30        489.65   \n",
       "6      4  smart       51.31       13462.18          30.74        367.13   \n",
       "7      4  ultra       64.09       16828.13          31.56        458.02   \n",
       "8      5  smart       55.24       15805.18          33.77        387.36   \n",
       "9      5  ultra       72.51       19363.15          37.85        510.33   \n",
       "\n",
       "   calls_std  sessions_std  messages_std  minutes_std  calls_median  \\\n",
       "0      20.81       6444.68         16.20       154.23          20.5   \n",
       "1      41.64       6865.35         30.67       269.76          51.0   \n",
       "2      25.39       6247.35         21.75       190.82          38.5   \n",
       "3      40.97      10644.64         26.77       296.51          25.0   \n",
       "4      25.54       5828.24         26.80       191.89          59.0   \n",
       "5      44.84      10951.79         41.62       333.74          57.0   \n",
       "6      25.70       5698.25         24.54       186.49          52.0   \n",
       "7      36.27       9718.65         37.51       267.68          61.0   \n",
       "8      25.38       5978.23         27.04       186.60          59.0   \n",
       "9      41.08      10046.11         40.31       289.60          75.0   \n",
       "\n",
       "   sessions_median  messages_median  minutes_median  \n",
       "0          7096.18             15.0           162.5  \n",
       "1         14791.37             32.0           382.0  \n",
       "2         12553.71             20.0           258.0  \n",
       "3          7327.12              5.5           168.0  \n",
       "4         15670.25             23.0           409.0  \n",
       "5         17495.18             20.0           403.0  \n",
       "6         14087.65             28.0           368.5  \n",
       "7         16645.78             17.0           453.0  \n",
       "8         16323.94             30.0           433.0  \n",
       "9         18696.43             25.0           519.0  "
      ]
     },
     "execution_count": 52,
     "metadata": {},
     "output_type": "execute_result"
    }
   ],
   "source": [
    "# сохранение статистических метрик для каждой пары месяц-тариф\n",
    "# в одной таблице stats_df (среднее значение, стандартное отклонение, медиана)\n",
    "\n",
    "stats_df = user_behavior.pivot_table(\n",
    "            index=['month', 'tariff'],\\\n",
    "            values=['calls', 'minutes', 'messages', 'mb_used'],\\\n",
    "            aggfunc=['mean', 'std', 'median']\\\n",
    ").round(2).reset_index()\n",
    "\n",
    "# переименование столбцов\n",
    "stats_df.columns=['month', 'tariff', 'calls_mean', 'sessions_mean', 'messages_mean', 'minutes_mean',\n",
    "                                     'calls_std',  'sessions_std', 'messages_std', 'minutes_std', \n",
    "                                     'calls_median', 'sessions_median', 'messages_median',  'minutes_median']\n",
    "\n",
    "stats_df.head(10)"
   ]
  },
  {
   "cell_type": "markdown",
   "metadata": {
    "deletable": false,
    "editable": false,
    "id": "HBjTHsiq_oCq"
   },
   "source": [
    "Распределение среднего количества звонков по видам тарифов и месяцам"
   ]
  },
  {
   "cell_type": "code",
   "execution_count": 53,
   "metadata": {
    "deletable": false,
    "id": "HKlQp7la_oCq",
    "outputId": "18ba7a99-d460-44f5-9c08-a67e71e18aa2"
   },
   "outputs": [
    {
     "data": {
      "image/png": "[encoded data removed]",
      "text/plain": [
       "<Figure size 432x288 with 1 Axes>"
      ]
     },
     "metadata": {
      "needs_background": "light"
     },
     "output_type": "display_data"
    }
   ],
   "source": [
    "# импорт библиотеки\n",
    "import seaborn as sns\n",
    "\n",
    "# создание столбчатой диаграммы\n",
    "ax = sns.barplot(x='month',\n",
    "            y='calls_mean',\n",
    "            hue=\"tariff\",\n",
    "            data=stats_df,\n",
    "            palette=['lightblue', 'blue'])\n",
    "\n",
    "ax.set_title('Распределение количества звонков по видам тарифов и месяцам')\n",
    "ax.set(xlabel='Номер месяца', ylabel='Среднее количество звонков');"
   ]
  },
  {
   "cell_type": "code",
   "execution_count": 54,
   "metadata": {
    "deletable": false,
    "id": "LBzNZDS1_oCq",
    "outputId": "12f9ceca-41e4-4ff9-ebf7-1a778751b299"
   },
   "outputs": [
    {
     "data": {
      "image/png": "[encoded data removed]",
      "text/plain": [
       "<Figure size 432x288 with 1 Axes>"
      ]
     },
     "metadata": {
      "needs_background": "light"
     },
     "output_type": "display_data"
    }
   ],
   "source": [
    "# импорт библиотеки\n",
    "import matplotlib.pyplot as plt\n",
    "\n",
    "# создание гистограммы\n",
    "user_behavior.groupby('tariff')['calls'].plot(kind='hist', bins=35, alpha=0.5)\n",
    "plt.legend(['Smart', 'Ultra'])\n",
    "plt.xlabel('Количество звонков')\n",
    "plt.ylabel('Количество клиентов')\n",
    "plt.show()"
   ]
  },
  {
   "cell_type": "markdown",
   "metadata": {
    "deletable": false,
    "editable": false,
    "id": "6ApNiP3G_oCq"
   },
   "source": [
    "Распределение средней продолжительности звонков по видам тарифов и месяцам"
   ]
  },
  {
   "cell_type": "code",
   "execution_count": 55,
   "metadata": {
    "deletable": false,
    "id": "NB9xuopA_oCq",
    "outputId": "f4f1696b-7a58-41b3-8085-f86e0c866bc9"
   },
   "outputs": [
    {
     "data": {
      "image/png": "[encoded data removed]",
      "text/plain": [
       "<Figure size 432x288 with 1 Axes>"
      ]
     },
     "metadata": {
      "needs_background": "light"
     },
     "output_type": "display_data"
    }
   ],
   "source": [
    "# создание столбчатой диаграммы\n",
    "ax = sns.barplot(x='month',\n",
    "            y='minutes_mean',\n",
    "            hue=\"tariff\",\n",
    "            data=stats_df,\n",
    "            palette=['lightblue', 'blue'])\n",
    "\n",
    "ax.set_title('Распределение продолжительности звонков по видам тарифов и месяцам')\n",
    "ax.set(xlabel='Номер месяца', ylabel='Средняя продолжительность звонков');"
   ]
  },
  {
   "cell_type": "code",
   "execution_count": 69,
   "metadata": {
    "deletable": false,
    "id": "eL5SHsdq_oCq",
    "outputId": "21d15fb2-0f41-46cb-b0ab-a31874d3d201"
   },
   "outputs": [
    {
     "data": {
      "image/png": "[encoded data removed]",
      "text/plain": [
       "<Figure size 432x288 with 1 Axes>"
      ]
     },
     "metadata": {
      "needs_background": "light"
     },
     "output_type": "display_data"
    }
   ],
   "source": [
    "# создание гистограммы\n",
    "user_behavior[user_behavior['tariff'] =='smart']['minutes'].hist(bins=35, alpha=0.5, color='green')\n",
    "user_behavior[user_behavior['tariff'] =='ultra']['minutes'].hist(bins=35, alpha=0.5, color='blue')\n",
    "\n",
    "plt.legend(['Smart', 'Ultra'])\n",
    "plt.xlabel('Длительность звонков')\n",
    "plt.ylabel('Количество клиентов');"
   ]
  },
  {
   "cell_type": "markdown",
   "metadata": {
    "deletable": false,
    "editable": false,
    "id": "G3NDyWZy_oCq"
   },
   "source": [
    "Средняя длительность разговоров у абонентов тарифа Ultra больше, чем у абонентов тарифа Smart. В течение года пользователи обоих тарифов увеличивают среднюю продолжительность своих разговоров. Рост средней длительности разговоров у абонентов тарифа Smart равномерный в течение года. Пользователи тарифа Ultra не проявляют подобной линейной стабильности. Стоит отметить, что феврале у абонентов обоих тарифных планов наблюдались самые низкие показатели."
   ]
  },
  {
   "cell_type": "markdown",
   "metadata": {},
   "source": [
    "В январе у пользователя smart были самые короткие по продолжительности звонки, а у пользователя ultra - в феврале. Вообще стоит отметить, что в феврале отмечается резкое падение длительности звонков в тарифе ultra.  "
   ]
  },
  {
   "cell_type": "markdown",
   "metadata": {
    "deletable": false,
    "editable": false,
    "id": "ils1vnE7_oCq"
   },
   "source": [
    "Распределение среднего количества сообщений по видам тарифов и месяцам"
   ]
  },
  {
   "cell_type": "code",
   "execution_count": 72,
   "metadata": {
    "deletable": false,
    "id": "zkSEsDH__oCq",
    "outputId": "34370df8-5375-4a80-b1f5-ad6d556f6a54"
   },
   "outputs": [
    {
     "data": {
      "image/png": "[encoded data removed]",
      "text/plain": [
       "<Figure size 432x288 with 1 Axes>"
      ]
     },
     "metadata": {
      "needs_background": "light"
     },
     "output_type": "display_data"
    }
   ],
   "source": [
    "# создание столбчатой диаграммы\n",
    "ax = sns.barplot(x='month',\n",
    "            y='messages_mean',\n",
    "            hue=\"tariff\",\n",
    "            data=stats_df,\n",
    "            palette=['lightblue', 'blue']\n",
    ")\n",
    "\n",
    "ax.set_title('Распределение количества сообщений по видам тарифов и месяцам')\n",
    "ax.set(xlabel='Номер месяца', ylabel='Среднее количество сообщений');"
   ]
  },
  {
   "cell_type": "code",
   "execution_count": 70,
   "metadata": {
    "deletable": false,
    "id": "I97vMndq_oCq",
    "outputId": "87f68d2f-ac58-4253-ccbb-70e81f073a41"
   },
   "outputs": [
    {
     "data": {
      "image/png": "[encoded data removed]",
      "text/plain": [
       "<Figure size 432x288 with 1 Axes>"
      ]
     },
     "metadata": {
      "needs_background": "light"
     },
     "output_type": "display_data"
    }
   ],
   "source": [
    "# создание гистограммы\n",
    "user_behavior[user_behavior['tariff'] =='smart']['messages'].hist(bins=35, alpha=0.5, color='green')\n",
    "user_behavior[user_behavior['tariff'] =='ultra']['messages'].hist(bins=35, alpha=0.5, color='blue')\n",
    "\n",
    "plt.legend(['Smart', 'Ultra'])\n",
    "plt.xlabel('Количество сообщений')\n",
    "plt.ylabel('Количество клиентов');\n"
   ]
  },
  {
   "cell_type": "markdown",
   "metadata": {
    "id": "IKu7ZqEy_oCq"
   },
   "source": [
    "В среднем пользователи тарифа Ultra отправляют больше сообщений — почти на 20 сообщений больше, чем пользователи тарифа Smart. Количество сообщений в течение года на обоих тарифах растёт. Динамика по отправке сообщений схожа с тенденциями по длительности разговоров: в феврале отмечено наименьшее количество сообщений за год и пользователи тарифа Ultra также проявляют нелинейную положительную динамику."
   ]
  },
  {
   "cell_type": "markdown",
   "metadata": {},
   "source": [
    "*Средний пользователь тарифа smart меньше всего сообщений отправлял в январе и феврале. С марта идет тенденция роста, но к маю рост остановился и до конца года среднее число сообщений держится на уровне чуть более 30шт. Основная доля пользователей этим тарифом отправляют до 50смс. Больше 100 сообщений практически никто не посылал. \n",
    "Пользователь тарифа ultra меньше всего сообщений отправлял в феврале, этот показатель ниже тарифного плана smart в этом месяце. В марте и апреле число смс в этом тарифмном плане было практически равно числу смс тарифного плана smart, то есть около 30шт. С мая месяца идет положительная динамика, число сообщений растет с каждым месяцем. Больше всего сообщений было отправлено в декабре, более 60шт.  \n",
    "В этом тарифном плане можно встретить пользователей, которые отправляют более 150смс.*"
   ]
  },
  {
   "cell_type": "code",
   "execution_count": 59,
   "metadata": {
    "deletable": false,
    "id": "q866NzDW_oCr",
    "outputId": "18a00f1a-0227-4176-da41-47d448aecc0b"
   },
   "outputs": [
    {
     "data": {
      "image/png": "[encoded data removed]",
      "text/plain": [
       "<Figure size 432x288 with 1 Axes>"
      ]
     },
     "metadata": {
      "needs_background": "light"
     },
     "output_type": "display_data"
    }
   ],
   "source": [
    "# создание столбчатой диаграммы\n",
    "ax = sns.barplot(x='month',\n",
    "            y='sessions_mean',\n",
    "            hue='tariff',\n",
    "            data=stats_df,\n",
    "            palette=['lightblue', 'blue']\n",
    ")\n",
    "\n",
    "ax.set_title('Распределение количества потраченного трафика (Мб) по видам тарифов и месяцам')\n",
    "ax.set(xlabel='Номер месяца', ylabel='Среднее количество мегабайт');"
   ]
  },
  {
   "cell_type": "markdown",
   "metadata": {
    "deletable": false,
    "editable": false,
    "id": "an1c3noO_oCr"
   },
   "source": [
    "Сравнение потраченных мегабайт среди пользователей тарифов Smart и Ultra"
   ]
  },
  {
   "cell_type": "code",
   "execution_count": 71,
   "metadata": {
    "deletable": false,
    "id": "Czm2mIhd_oCr",
    "outputId": "af40db5d-21b7-4991-bcfb-cd57eec6bb3d"
   },
   "outputs": [
    {
     "data": {
      "image/png": "[encoded data removed]",
      "text/plain": [
       "<Figure size 432x288 with 1 Axes>"
      ]
     },
     "metadata": {
      "needs_background": "light"
     },
     "output_type": "display_data"
    }
   ],
   "source": [
    "# создание гистограммы\n",
    "user_behavior[user_behavior['tariff'] =='smart']['mb_used'].hist(bins=35, alpha=0.5, color='green')\n",
    "user_behavior[user_behavior['tariff'] =='ultra']['mb_used'].hist(bins=35, alpha=0.5, color='blue')\n",
    "\n",
    "plt.legend(['Smart', 'Ultra'])\n",
    "plt.xlabel('Объем потраченных мегабайт')\n",
    "plt.ylabel('Количество клиентов');\n"
   ]
  },
  {
   "cell_type": "markdown",
   "metadata": {
    "deletable": false,
    "editable": false,
    "id": "DQp_KGw1_oCr"
   },
   "source": [
    "Меньше всего пользователи использовали интернет в январе, феврале и апреле. Чаще всего абоненты тарифа Smart тратят 15–17 Гб, а абоненты тарифного плана Ultra — 19–21 ГБ."
   ]
  },
  {
   "cell_type": "markdown",
   "metadata": {},
   "source": [
    "*В декабре пользователи обоих тарифов использовали интернет больше всего.  \n",
    "В феврале объем потраченного трафика был минимален и сравнялся у пользователей обоих тарифов.  \n",
    "Интернет-трафик тарифа smart имеет линейный рост к концу года, исключение - март, тут отмечен резкий рост. Чего нельзя сказать о другом тарифном плане - ultra. Динамика роста нелинейна и положительна.  \n",
    "Встречаются пользователи тарифного плана ultra, которые тратят более 25Гб трафика.*"
   ]
  },
  {
   "cell_type": "markdown",
   "metadata": {
    "deletable": false,
    "editable": false,
    "id": "aKJz6DhN_oCr"
   },
   "source": [
    "### Проверка гипотез"
   ]
  },
  {
   "cell_type": "markdown",
   "metadata": {
    "deletable": false,
    "editable": false,
    "id": "FW2jChme_oCr",
    "tags": [
     "start_task"
    ]
   },
   "source": [
    "\n",
    "\n",
    "```\n",
    "H_0: Выручка (total_cost) пользователей \"Ультра\" = выручка (total_cost) пользователей \"Смарт\"`\n",
    "H_a: Выручка (total_cost) пользователей \"Ультра\" ≠ выручка (total_cost) пользователей \"Смарт\"`\n",
    "alpha = 0.05\n",
    "```"
   ]
  },
  {
   "cell_type": "markdown",
   "metadata": {},
   "source": [
    "Нам следует провести статистический тест и сравнить средние двух выборок для проверки двух гипотез. Будем использовать метод st.ttest_ind().  \n",
    "Рассчитаем p-критерий и сравним его с показателем статистической значимости. Если р-критерий окажется меньше, то отвергнем нулевую гипотезу. Так как это будем говорить нам о том, что отклонение средних друг от друга не случайно, не из-за \"шума\", такое отклонение значимо."
   ]
  },
  {
   "cell_type": "code",
   "execution_count": 83,
   "metadata": {},
   "outputs": [
    {
     "data": {
      "text/plain": [
       "985"
      ]
     },
     "execution_count": 83,
     "metadata": {},
     "output_type": "execute_result"
    }
   ],
   "source": [
    "# проверка размерности выборки с тарифом ultra\n",
    "len(user_behavior.loc[user_behavior['tariff']=='ultra']['total_cost'])"
   ]
  },
  {
   "cell_type": "code",
   "execution_count": 87,
   "metadata": {},
   "outputs": [
    {
     "data": {
      "text/plain": [
       "2229"
      ]
     },
     "execution_count": 87,
     "metadata": {},
     "output_type": "execute_result"
    }
   ],
   "source": [
    "# проверка размерности выборки с тарифом smart\n",
    "len(user_behavior.loc[user_behavior['tariff']=='smart']['total_cost'])"
   ]
  },
  {
   "cell_type": "markdown",
   "metadata": {},
   "source": [
    "*Мы видим, что размеры выборок не одинаковы, выборка по тарифу ultra меньше более чем в 2 раза выборки по тарифу smart. Поэтому укажем параметр equal_var=False, говорящий о разном размере дисперсии выборок.*"
   ]
  },
  {
   "cell_type": "code",
   "execution_count": 73,
   "metadata": {
    "deletable": false,
    "id": "02sfJAHr_oCr"
   },
   "outputs": [],
   "source": [
    "# импорт библиотеки\n",
    "from scipy import stats as st"
   ]
  },
  {
   "cell_type": "code",
   "execution_count": null,
   "metadata": {
    "deletable": false,
    "id": "OxsrhJXE_oCr"
   },
   "outputs": [
    {
     "name": "stdout",
     "output_type": "stream",
     "text": [
      "4.2606313931076085e-250\n",
      "Отвергаем нулевую гипотезу\n"
     ]
    }
   ],
   "source": [
    "arr_1 = user_behavior.loc[user_behavior['tariff']=='smart']['total_cost']\n",
    "arr_2 = user_behavior.loc[user_behavior['tariff']=='ultra']['total_cost']\n",
    "results = st.ttest_ind(arr_1, arr_2, equal_var=False)  #вызов метода для проверки гипотезы\n",
    "\n",
    "alpha = .05 # значение уровня значимости\n",
    "   \n",
    "# вывод значения p-value на экран \n",
    "print(results.pvalue)\n",
    "\n",
    "# условный оператор с выводом строки с ответом\n",
    "if results.pvalue < alpha:\n",
    "    print('Отвергаем нулевую гипотезу')\n",
    "else:\n",
    "    print('Не получилось отвергнуть нулевую гипотезу')"
   ]
  },
  {
   "cell_type": "markdown",
   "metadata": {},
   "source": [
    "Действительно, разница между средними имеет не случайный характер, есть значимые различия между выборками. Выручка от пользователей \"Ультра\" не равна выручке от пользователей \"Смарт\"."
   ]
  },
  {
   "cell_type": "markdown",
   "metadata": {
    "deletable": false,
    "editable": false,
    "id": "-ENs-XhC_oCr",
    "tags": [
     "start_task"
    ]
   },
   "source": [
    "\n",
    "\n",
    "```\n",
    "H_0: Выручка (total_cost) пользователей из Москвы = выручка (total_cost) пользователей не из Москвы`\n",
    "H_1: Выручка (total_cost) пользователей из Москвы ≠ выручка (total_cost) пользователей не из Москвы`\n",
    "alpha = 0.05\n",
    "```"
   ]
  },
  {
   "cell_type": "markdown",
   "metadata": {},
   "source": [
    "Нам следует провести статистический тест и сравнить средние двух выборок для проверки двух гипотез. Будем использовать метод st.ttest_ind().\n",
    "Рассчитаем p-критерий и сравним его с показателем статистической значимости. Если р-критерий окажется меньше, то отвергнем нулевую гипотезу. Так как это будем говорить нам о том, что отклонение средних друг от друга не случайно, не из-за \"шума\", такое отклонение значимо."
   ]
  },
  {
   "cell_type": "code",
   "execution_count": 90,
   "metadata": {},
   "outputs": [
    {
     "data": {
      "text/plain": [
       "611"
      ]
     },
     "execution_count": 90,
     "metadata": {},
     "output_type": "execute_result"
    }
   ],
   "source": [
    "# проверка размерности выборки по пользователям из Москвы\n",
    "len(user_behavior.loc[user_behavior['city']=='Москва']['total_cost'])"
   ]
  },
  {
   "cell_type": "code",
   "execution_count": 91,
   "metadata": {
    "scrolled": true
   },
   "outputs": [
    {
     "data": {
      "text/plain": [
       "2603"
      ]
     },
     "execution_count": 91,
     "metadata": {},
     "output_type": "execute_result"
    }
   ],
   "source": [
    "# проверка размерности выборки по пользователям не из Москвы(любой регион)\n",
    "len(user_behavior.loc[user_behavior['city']!='Москва']['total_cost'])"
   ]
  },
  {
   "cell_type": "markdown",
   "metadata": {},
   "source": [
    "Мы видим, что размеры выборок не одинаковы, выборка по пользователям Москвы меньше более чем в 4 раза выборки по пользователям других регионов. Поэтому укажем параметр equal_var=False, говорящий о разном размере дисперсии выборок."
   ]
  },
  {
   "cell_type": "code",
   "execution_count": 92,
   "metadata": {
    "deletable": false,
    "id": "RznkRUuu_oCr"
   },
   "outputs": [
    {
     "name": "stdout",
     "output_type": "stream",
     "text": [
      "0.5257376663729298\n",
      "Не получилось отвергнуть нулевую гипотезу\n"
     ]
    }
   ],
   "source": [
    "arr_1 = user_behavior.loc[user_behavior['city']=='Москва']['total_cost']\n",
    "arr_2 = user_behavior.loc[user_behavior['city']!='Москва']['total_cost']\n",
    "\n",
    "results = st.ttest_ind(arr_1, arr_2, equal_var=False) #вызов метода для проверки гипотезы\n",
    "\n",
    "alpha = .05 #значение уровня значимости\n",
    "\n",
    "# вывод значения p-value на экран \n",
    "print(results.pvalue)\n",
    "\n",
    "# условный оператор с выводом строки с ответом\n",
    "if results.pvalue < alpha:\n",
    "    print('Отвергаем нулевую гипотезу')\n",
    "else:\n",
    "    print('Не получилось отвергнуть нулевую гипотезу')"
   ]
  },
  {
   "cell_type": "markdown",
   "metadata": {},
   "source": [
    "Разница между средними имеет случайный характер, нет значимых различий между выборками. Мы не можем отвергнуть нулевую гипотезу о том, что выручка пользователей из Москвы равна выручке пользователей не из Москвы. С вероятностью около 53% отклонение средних получено случайно."
   ]
  },
  {
   "cell_type": "markdown",
   "metadata": {},
   "source": [
    "### Подготовка рекомендаций"
   ]
  },
  {
   "cell_type": "code",
   "execution_count": 93,
   "metadata": {},
   "outputs": [],
   "source": [
    "# создание столбца с выручкой от превышения лимита\n",
    "user_behavior['limit_total'] = \\\n",
    "      user_behavior['cost_minutes']\\\n",
    "    + user_behavior['cost_messages']\\\n",
    "    + user_behavior['cost_gb']"
   ]
  },
  {
   "cell_type": "code",
   "execution_count": 95,
   "metadata": {},
   "outputs": [
    {
     "data": {
      "text/html": [
       "<div>\n",
       "<style scoped>\n",
       "    .dataframe tbody tr th:only-of-type {\n",
       "        vertical-align: middle;\n",
       "    }\n",
       "\n",
       "    .dataframe tbody tr th {\n",
       "        vertical-align: top;\n",
       "    }\n",
       "\n",
       "    .dataframe thead th {\n",
       "        text-align: right;\n",
       "    }\n",
       "</style>\n",
       "<table border=\"1\" class=\"dataframe\">\n",
       "  <thead>\n",
       "    <tr style=\"text-align: right;\">\n",
       "      <th></th>\n",
       "      <th>limit_total</th>\n",
       "    </tr>\n",
       "    <tr>\n",
       "      <th>tariff</th>\n",
       "      <th></th>\n",
       "    </tr>\n",
       "  </thead>\n",
       "  <tbody>\n",
       "    <tr>\n",
       "      <th>smart</th>\n",
       "      <td>739.973531</td>\n",
       "    </tr>\n",
       "    <tr>\n",
       "      <th>ultra</th>\n",
       "      <td>120.152284</td>\n",
       "    </tr>\n",
       "  </tbody>\n",
       "</table>\n",
       "</div>"
      ],
      "text/plain": [
       "        limit_total\n",
       "tariff             \n",
       "smart    739.973531\n",
       "ultra    120.152284"
      ]
     },
     "execution_count": 95,
     "metadata": {},
     "output_type": "execute_result"
    }
   ],
   "source": [
    "# вывод средней переплаты сверх тарифного плана\n",
    "user_behavior.groupby('tariff').agg({'limit_total':'mean'})"
   ]
  },
  {
   "cell_type": "code",
   "execution_count": 96,
   "metadata": {},
   "outputs": [
    {
     "data": {
      "text/html": [
       "<div>\n",
       "<style scoped>\n",
       "    .dataframe tbody tr th:only-of-type {\n",
       "        vertical-align: middle;\n",
       "    }\n",
       "\n",
       "    .dataframe tbody tr th {\n",
       "        vertical-align: top;\n",
       "    }\n",
       "\n",
       "    .dataframe thead th {\n",
       "        text-align: right;\n",
       "    }\n",
       "</style>\n",
       "<table border=\"1\" class=\"dataframe\">\n",
       "  <thead>\n",
       "    <tr style=\"text-align: right;\">\n",
       "      <th></th>\n",
       "      <th>cost_minutes</th>\n",
       "    </tr>\n",
       "    <tr>\n",
       "      <th>tariff</th>\n",
       "      <th></th>\n",
       "    </tr>\n",
       "  </thead>\n",
       "  <tbody>\n",
       "    <tr>\n",
       "      <th>smart</th>\n",
       "      <td>124.816958</td>\n",
       "    </tr>\n",
       "    <tr>\n",
       "      <th>ultra</th>\n",
       "      <td>0.000000</td>\n",
       "    </tr>\n",
       "  </tbody>\n",
       "</table>\n",
       "</div>"
      ],
      "text/plain": [
       "        cost_minutes\n",
       "tariff              \n",
       "smart     124.816958\n",
       "ultra       0.000000"
      ]
     },
     "execution_count": 96,
     "metadata": {},
     "output_type": "execute_result"
    }
   ],
   "source": [
    "# вывод средней переплаты за длительность звонка сверх тарифного плана\n",
    "user_behavior.groupby('tariff').agg({'cost_minutes':'mean'})"
   ]
  },
  {
   "cell_type": "code",
   "execution_count": 97,
   "metadata": {},
   "outputs": [
    {
     "data": {
      "text/html": [
       "<div>\n",
       "<style scoped>\n",
       "    .dataframe tbody tr th:only-of-type {\n",
       "        vertical-align: middle;\n",
       "    }\n",
       "\n",
       "    .dataframe tbody tr th {\n",
       "        vertical-align: top;\n",
       "    }\n",
       "\n",
       "    .dataframe thead th {\n",
       "        text-align: right;\n",
       "    }\n",
       "</style>\n",
       "<table border=\"1\" class=\"dataframe\">\n",
       "  <thead>\n",
       "    <tr style=\"text-align: right;\">\n",
       "      <th></th>\n",
       "      <th>cost_messages</th>\n",
       "    </tr>\n",
       "    <tr>\n",
       "      <th>tariff</th>\n",
       "      <th></th>\n",
       "    </tr>\n",
       "  </thead>\n",
       "  <tbody>\n",
       "    <tr>\n",
       "      <th>smart</th>\n",
       "      <td>17.399731</td>\n",
       "    </tr>\n",
       "    <tr>\n",
       "      <th>ultra</th>\n",
       "      <td>0.000000</td>\n",
       "    </tr>\n",
       "  </tbody>\n",
       "</table>\n",
       "</div>"
      ],
      "text/plain": [
       "        cost_messages\n",
       "tariff               \n",
       "smart       17.399731\n",
       "ultra        0.000000"
      ]
     },
     "execution_count": 97,
     "metadata": {},
     "output_type": "execute_result"
    }
   ],
   "source": [
    "# вывод средней переплаты за количество смс сверх тарифного плана\n",
    "user_behavior.groupby('tariff').agg({'cost_messages':'mean'})"
   ]
  },
  {
   "cell_type": "code",
   "execution_count": 98,
   "metadata": {
    "scrolled": true
   },
   "outputs": [
    {
     "data": {
      "text/html": [
       "<div>\n",
       "<style scoped>\n",
       "    .dataframe tbody tr th:only-of-type {\n",
       "        vertical-align: middle;\n",
       "    }\n",
       "\n",
       "    .dataframe tbody tr th {\n",
       "        vertical-align: top;\n",
       "    }\n",
       "\n",
       "    .dataframe thead th {\n",
       "        text-align: right;\n",
       "    }\n",
       "</style>\n",
       "<table border=\"1\" class=\"dataframe\">\n",
       "  <thead>\n",
       "    <tr style=\"text-align: right;\">\n",
       "      <th></th>\n",
       "      <th>cost_gb</th>\n",
       "    </tr>\n",
       "    <tr>\n",
       "      <th>tariff</th>\n",
       "      <th></th>\n",
       "    </tr>\n",
       "  </thead>\n",
       "  <tbody>\n",
       "    <tr>\n",
       "      <th>smart</th>\n",
       "      <td>597.756842</td>\n",
       "    </tr>\n",
       "    <tr>\n",
       "      <th>ultra</th>\n",
       "      <td>120.152284</td>\n",
       "    </tr>\n",
       "  </tbody>\n",
       "</table>\n",
       "</div>"
      ],
      "text/plain": [
       "           cost_gb\n",
       "tariff            \n",
       "smart   597.756842\n",
       "ultra   120.152284"
      ]
     },
     "execution_count": 98,
     "metadata": {},
     "output_type": "execute_result"
    }
   ],
   "source": [
    "# вывод средней переплаты за интернет-трафик сверх тарифного плана\n",
    "user_behavior.groupby('tariff').agg({'cost_gb':'mean'})"
   ]
  },
  {
   "cell_type": "code",
   "execution_count": 113,
   "metadata": {},
   "outputs": [
    {
     "data": {
      "text/plain": [
       "0.746971736204576"
      ]
     },
     "execution_count": 113,
     "metadata": {},
     "output_type": "execute_result"
    }
   ],
   "source": [
    "# рассчет доли пользователей без переплат за смс по тарифу Смарт\n",
    "len(user_behavior.loc[(user_behavior['cost_messages']==0) & \\\n",
    "                      (user_behavior['tariff']=='smart')])/\\\n",
    "len(user_behavior.loc[(user_behavior['tariff']=='smart')])\n",
    "\n",
    "\n"
   ]
  },
  {
   "cell_type": "code",
   "execution_count": 114,
   "metadata": {},
   "outputs": [
    {
     "data": {
      "text/plain": [
       "1.0"
      ]
     },
     "execution_count": 114,
     "metadata": {},
     "output_type": "execute_result"
    }
   ],
   "source": [
    "# рассчет доли пользователей без переплат за смс по тарифу Ултра\n",
    "len(user_behavior.loc[(user_behavior['cost_messages']==0) & \\\n",
    "                      (user_behavior['tariff']=='ultra')])/\\\n",
    "len(user_behavior.loc[(user_behavior['tariff']=='ultra')])\n"
   ]
  },
  {
   "cell_type": "markdown",
   "metadata": {},
   "source": [
    "Мы видим, что чаще от переплат \"страдают\" пользователи тарифа Смарт, особенно им не хватает интернет-трафика.  \n",
    "А вот смс люди стали отправлять достаточно редко и в меньших количествах. Особенно пользователи пакет Ультра, ни один пользователь не превысил лимит по данному показателю."
   ]
  },
  {
   "cell_type": "markdown",
   "metadata": {},
   "source": [
    "## Общий вывод"
   ]
  },
  {
   "cell_type": "markdown",
   "metadata": {},
   "source": [
    "<p></p>\n",
    "\n",
    "<div style=\"border:solid pink 5px; padding: 20px\">\n",
    "    Итак, нами был получен и изучен архив данных телекоммуникационной компании с ее пользователями за 2018г. Прежде чем дать ответ на поставленные перед нами вопросы, был проведен ряд манипуляций с данными.<br>  \n",
    "    Таблицы с данными были обработаны от пропущенных значений в некоторых столбцах, данные приведены к корректному типу.<br>   \n",
    "    Люди ведут себя по-разному на разных тарифных планах. Это нормально и естественно.<br>\n",
    "    При этом пользователи тарифа смарт переплачивают, в среднем около 740руб., особенно людям не хватает интернет-трафика(переплата в среднем 598руб.). Это может привести к оттоку пользователей и разрыву договора. <br>\n",
    "    В тарифном плане Ультра практически нет переплат. С одной стороны, это хорошо для пользователей, но при этом в данном тарифе 100% пользователей не израсходовали свой лимит по количеству смс. Это упущенная выгода для компании. <br>\n",
    "    Нами были проверены две гипотезы и выяснилось, что на размер выручки влияет выбранный пользователем тарифный план. И выручка от пользователей из г.Москва равна выручке от пользователей из други регионов РФ. <br>\n",
    "    Компании стоит пересмотреть и оптимизировать пакеты тарифов. Сделать более гибкие условия для тарифа Смарт, возможно, добавить объем интернет-трафика. А для тарифа Ультра - урезать количество смс, как минимум.\n",
    "\n",
    "</div>"
   ]
  },
  {
   "cell_type": "code",
   "execution_count": null,
   "metadata": {},
   "outputs": [],
   "source": []
  }
 ],
 "metadata": {
  "ExecuteTimeLog": [
   {
    "duration": 398,
    "start_time": "2023-03-16T20:17:15.210Z"
   },
   {
    "duration": 267,
    "start_time": "2023-03-16T20:17:18.317Z"
   },
   {
    "duration": 15,
    "start_time": "2023-03-16T20:17:33.049Z"
   },
   {
    "duration": 28,
    "start_time": "2023-03-16T20:17:52.525Z"
   },
   {
    "duration": 588,
    "start_time": "2023-03-16T20:21:30.108Z"
   },
   {
    "duration": 193,
    "start_time": "2023-03-16T20:21:45.668Z"
   },
   {
    "duration": 239,
    "start_time": "2023-03-16T20:23:19.472Z"
   },
   {
    "duration": 11,
    "start_time": "2023-03-16T20:23:39.901Z"
   },
   {
    "duration": 25,
    "start_time": "2023-03-16T20:24:30.003Z"
   },
   {
    "duration": 49,
    "start_time": "2023-03-17T15:54:58.908Z"
   },
   {
    "duration": 7,
    "start_time": "2023-03-17T15:55:06.106Z"
   },
   {
    "duration": 7,
    "start_time": "2023-03-17T15:55:17.613Z"
   },
   {
    "duration": 9,
    "start_time": "2023-03-17T15:55:23.476Z"
   },
   {
    "duration": 890,
    "start_time": "2023-03-17T15:55:30.151Z"
   },
   {
    "duration": 309,
    "start_time": "2023-03-17T15:55:36.198Z"
   },
   {
    "duration": 15,
    "start_time": "2023-03-17T15:55:38.191Z"
   },
   {
    "duration": 29,
    "start_time": "2023-03-17T15:55:41.147Z"
   },
   {
    "duration": 14,
    "start_time": "2023-03-17T15:55:43.602Z"
   },
   {
    "duration": 7,
    "start_time": "2023-03-17T15:57:58.779Z"
   },
   {
    "duration": 391,
    "start_time": "2023-03-17T15:58:27.029Z"
   },
   {
    "duration": 9,
    "start_time": "2023-03-17T15:58:39.205Z"
   },
   {
    "duration": 86,
    "start_time": "2023-03-17T15:59:07.333Z"
   },
   {
    "duration": 11,
    "start_time": "2023-03-17T15:59:16.008Z"
   },
   {
    "duration": 14,
    "start_time": "2023-03-17T15:59:21.553Z"
   },
   {
    "duration": 106,
    "start_time": "2023-03-17T16:00:07.669Z"
   },
   {
    "duration": 11,
    "start_time": "2023-03-17T16:00:13.654Z"
   },
   {
    "duration": 5,
    "start_time": "2023-03-17T16:00:40.406Z"
   },
   {
    "duration": 4,
    "start_time": "2023-03-17T16:01:12.214Z"
   },
   {
    "duration": 4,
    "start_time": "2023-03-17T16:01:21.929Z"
   },
   {
    "duration": 5,
    "start_time": "2023-03-17T16:02:06.824Z"
   },
   {
    "duration": 6,
    "start_time": "2023-03-17T16:11:44.606Z"
   },
   {
    "duration": 6,
    "start_time": "2023-03-17T16:11:53.924Z"
   },
   {
    "duration": 5,
    "start_time": "2023-03-17T16:12:08.647Z"
   },
   {
    "duration": 193,
    "start_time": "2023-03-17T17:27:56.200Z"
   },
   {
    "duration": 20,
    "start_time": "2023-03-17T17:29:04.730Z"
   },
   {
    "duration": 17,
    "start_time": "2023-03-17T17:31:13.768Z"
   },
   {
    "duration": 715,
    "start_time": "2023-03-17T17:32:54.513Z"
   },
   {
    "duration": 291,
    "start_time": "2023-03-17T17:32:55.231Z"
   },
   {
    "duration": 16,
    "start_time": "2023-03-17T17:32:55.524Z"
   },
   {
    "duration": 41,
    "start_time": "2023-03-17T17:32:55.542Z"
   },
   {
    "duration": 189,
    "start_time": "2023-03-17T17:32:55.586Z"
   },
   {
    "duration": 185,
    "start_time": "2023-03-17T17:32:55.781Z"
   },
   {
    "duration": 18,
    "start_time": "2023-03-17T17:32:55.969Z"
   },
   {
    "duration": 89,
    "start_time": "2023-03-17T17:32:55.990Z"
   },
   {
    "duration": 208,
    "start_time": "2023-03-17T17:32:56.082Z"
   },
   {
    "duration": 125,
    "start_time": "2023-03-17T17:32:56.293Z"
   },
   {
    "duration": 9,
    "start_time": "2023-03-17T17:32:56.420Z"
   },
   {
    "duration": 36,
    "start_time": "2023-03-17T17:32:56.431Z"
   },
   {
    "duration": 16,
    "start_time": "2023-03-17T17:32:56.469Z"
   },
   {
    "duration": 8,
    "start_time": "2023-03-17T17:32:56.487Z"
   },
   {
    "duration": 16,
    "start_time": "2023-03-17T17:32:56.497Z"
   },
   {
    "duration": 37,
    "start_time": "2023-03-17T17:32:56.515Z"
   },
   {
    "duration": 11,
    "start_time": "2023-03-17T17:32:56.553Z"
   },
   {
    "duration": 29,
    "start_time": "2023-03-17T17:32:56.566Z"
   },
   {
    "duration": 7,
    "start_time": "2023-03-17T17:32:56.597Z"
   },
   {
    "duration": 7,
    "start_time": "2023-03-17T17:32:56.606Z"
   },
   {
    "duration": 9,
    "start_time": "2023-03-17T17:32:56.614Z"
   },
   {
    "duration": 13,
    "start_time": "2023-03-17T17:32:56.625Z"
   },
   {
    "duration": 10,
    "start_time": "2023-03-17T17:32:56.640Z"
   },
   {
    "duration": 8,
    "start_time": "2023-03-17T17:32:56.651Z"
   },
   {
    "duration": 14,
    "start_time": "2023-03-17T17:32:56.661Z"
   },
   {
    "duration": 7,
    "start_time": "2023-03-17T17:32:56.677Z"
   },
   {
    "duration": 10,
    "start_time": "2023-03-17T17:32:56.686Z"
   },
   {
    "duration": 8,
    "start_time": "2023-03-17T17:32:56.700Z"
   },
   {
    "duration": 7,
    "start_time": "2023-03-17T17:32:56.710Z"
   },
   {
    "duration": 88,
    "start_time": "2023-03-17T17:32:56.719Z"
   },
   {
    "duration": 0,
    "start_time": "2023-03-17T17:32:56.809Z"
   },
   {
    "duration": 0,
    "start_time": "2023-03-17T17:32:56.810Z"
   },
   {
    "duration": 0,
    "start_time": "2023-03-17T17:32:56.814Z"
   },
   {
    "duration": 0,
    "start_time": "2023-03-17T17:32:56.815Z"
   },
   {
    "duration": 0,
    "start_time": "2023-03-17T17:32:56.816Z"
   },
   {
    "duration": 0,
    "start_time": "2023-03-17T17:32:56.817Z"
   },
   {
    "duration": 0,
    "start_time": "2023-03-17T17:32:56.819Z"
   },
   {
    "duration": 0,
    "start_time": "2023-03-17T17:32:56.820Z"
   },
   {
    "duration": 1,
    "start_time": "2023-03-17T17:32:56.820Z"
   },
   {
    "duration": 0,
    "start_time": "2023-03-17T17:32:56.821Z"
   },
   {
    "duration": 0,
    "start_time": "2023-03-17T17:32:56.822Z"
   },
   {
    "duration": 0,
    "start_time": "2023-03-17T17:32:56.824Z"
   },
   {
    "duration": 0,
    "start_time": "2023-03-17T17:32:56.825Z"
   },
   {
    "duration": 0,
    "start_time": "2023-03-17T17:32:56.826Z"
   },
   {
    "duration": 0,
    "start_time": "2023-03-17T17:32:56.827Z"
   },
   {
    "duration": 0,
    "start_time": "2023-03-17T17:32:56.828Z"
   },
   {
    "duration": 0,
    "start_time": "2023-03-17T17:32:56.829Z"
   },
   {
    "duration": 0,
    "start_time": "2023-03-17T17:32:56.830Z"
   },
   {
    "duration": 0,
    "start_time": "2023-03-17T17:32:56.831Z"
   },
   {
    "duration": 0,
    "start_time": "2023-03-17T17:32:56.832Z"
   },
   {
    "duration": 158,
    "start_time": "2023-03-17T19:06:40.113Z"
   },
   {
    "duration": 198,
    "start_time": "2023-03-17T19:06:49.832Z"
   },
   {
    "duration": 277,
    "start_time": "2023-03-17T19:07:10.309Z"
   },
   {
    "duration": 165,
    "start_time": "2023-03-17T19:07:32.709Z"
   },
   {
    "duration": 213,
    "start_time": "2023-03-17T19:07:47.508Z"
   },
   {
    "duration": 142,
    "start_time": "2023-03-17T19:07:58.629Z"
   },
   {
    "duration": 167,
    "start_time": "2023-03-17T19:08:30.406Z"
   },
   {
    "duration": 171,
    "start_time": "2023-03-17T19:09:22.820Z"
   },
   {
    "duration": 171,
    "start_time": "2023-03-17T19:09:44.229Z"
   },
   {
    "duration": 200,
    "start_time": "2023-03-17T19:10:11.660Z"
   },
   {
    "duration": 203,
    "start_time": "2023-03-17T19:10:28.056Z"
   },
   {
    "duration": 201,
    "start_time": "2023-03-17T19:10:33.108Z"
   },
   {
    "duration": 195,
    "start_time": "2023-03-17T19:10:47.254Z"
   },
   {
    "duration": 278,
    "start_time": "2023-03-17T19:10:57.065Z"
   },
   {
    "duration": 179,
    "start_time": "2023-03-17T19:11:04.939Z"
   },
   {
    "duration": 177,
    "start_time": "2023-03-17T19:13:56.695Z"
   },
   {
    "duration": 12,
    "start_time": "2023-03-17T19:15:24.562Z"
   },
   {
    "duration": 12,
    "start_time": "2023-03-17T19:16:00.168Z"
   },
   {
    "duration": 17,
    "start_time": "2023-03-17T19:19:19.798Z"
   },
   {
    "duration": 17,
    "start_time": "2023-03-17T19:20:02.107Z"
   },
   {
    "duration": 15,
    "start_time": "2023-03-17T19:35:07.209Z"
   },
   {
    "duration": 163,
    "start_time": "2023-03-17T19:39:41.455Z"
   },
   {
    "duration": 187,
    "start_time": "2023-03-17T19:40:00.440Z"
   },
   {
    "duration": 175,
    "start_time": "2023-03-17T19:42:52.048Z"
   },
   {
    "duration": 421,
    "start_time": "2023-03-17T19:43:06.949Z"
   },
   {
    "duration": 154,
    "start_time": "2023-03-17T19:43:14.177Z"
   },
   {
    "duration": 207,
    "start_time": "2023-03-17T19:43:20.392Z"
   },
   {
    "duration": 317,
    "start_time": "2023-03-17T19:43:27.947Z"
   },
   {
    "duration": 174,
    "start_time": "2023-03-17T19:43:34.097Z"
   },
   {
    "duration": 182,
    "start_time": "2023-03-17T19:43:44.123Z"
   },
   {
    "duration": 176,
    "start_time": "2023-03-17T19:43:49.823Z"
   },
   {
    "duration": 159,
    "start_time": "2023-03-17T19:43:57.936Z"
   },
   {
    "duration": 160,
    "start_time": "2023-03-17T19:44:02.753Z"
   },
   {
    "duration": 169,
    "start_time": "2023-03-17T19:44:15.636Z"
   },
   {
    "duration": 166,
    "start_time": "2023-03-17T19:44:23.910Z"
   },
   {
    "duration": 103,
    "start_time": "2023-03-17T19:44:59.699Z"
   },
   {
    "duration": 224,
    "start_time": "2023-03-17T19:45:05.321Z"
   },
   {
    "duration": 163,
    "start_time": "2023-03-17T19:45:33.281Z"
   },
   {
    "duration": 176,
    "start_time": "2023-03-17T19:45:43.662Z"
   },
   {
    "duration": 315,
    "start_time": "2023-03-17T19:45:50.248Z"
   },
   {
    "duration": 213,
    "start_time": "2023-03-17T19:45:55.594Z"
   },
   {
    "duration": 181,
    "start_time": "2023-03-17T19:46:39.056Z"
   },
   {
    "duration": 147,
    "start_time": "2023-03-17T19:46:49.287Z"
   },
   {
    "duration": 167,
    "start_time": "2023-03-17T19:47:33.693Z"
   },
   {
    "duration": 11,
    "start_time": "2023-03-17T20:00:59.691Z"
   },
   {
    "duration": 7,
    "start_time": "2023-03-17T20:01:10.481Z"
   },
   {
    "duration": 5,
    "start_time": "2023-03-17T20:01:23.359Z"
   },
   {
    "duration": 5,
    "start_time": "2023-03-17T20:06:33.643Z"
   },
   {
    "duration": 649,
    "start_time": "2023-03-17T20:07:22.096Z"
   },
   {
    "duration": 167,
    "start_time": "2023-03-17T20:07:22.747Z"
   },
   {
    "duration": 13,
    "start_time": "2023-03-17T20:07:22.916Z"
   },
   {
    "duration": 32,
    "start_time": "2023-03-17T20:07:22.931Z"
   },
   {
    "duration": 30,
    "start_time": "2023-03-17T20:07:22.965Z"
   },
   {
    "duration": 183,
    "start_time": "2023-03-17T20:07:22.997Z"
   },
   {
    "duration": 136,
    "start_time": "2023-03-17T20:07:23.182Z"
   },
   {
    "duration": 9,
    "start_time": "2023-03-17T20:07:23.320Z"
   },
   {
    "duration": 23,
    "start_time": "2023-03-17T20:07:23.331Z"
   },
   {
    "duration": 39,
    "start_time": "2023-03-17T20:07:23.357Z"
   },
   {
    "duration": 169,
    "start_time": "2023-03-17T20:07:23.398Z"
   },
   {
    "duration": 105,
    "start_time": "2023-03-17T20:07:23.569Z"
   },
   {
    "duration": 18,
    "start_time": "2023-03-17T20:07:23.676Z"
   },
   {
    "duration": 19,
    "start_time": "2023-03-17T20:07:23.696Z"
   },
   {
    "duration": 18,
    "start_time": "2023-03-17T20:07:23.716Z"
   },
   {
    "duration": 10,
    "start_time": "2023-03-17T20:07:23.735Z"
   },
   {
    "duration": 23,
    "start_time": "2023-03-17T20:07:23.746Z"
   },
   {
    "duration": 64,
    "start_time": "2023-03-17T20:07:23.771Z"
   },
   {
    "duration": 10,
    "start_time": "2023-03-17T20:07:23.836Z"
   },
   {
    "duration": 13,
    "start_time": "2023-03-17T20:07:23.848Z"
   },
   {
    "duration": 10,
    "start_time": "2023-03-17T20:07:23.863Z"
   },
   {
    "duration": 4,
    "start_time": "2023-03-17T20:07:23.875Z"
   },
   {
    "duration": 21,
    "start_time": "2023-03-17T20:07:23.880Z"
   },
   {
    "duration": 5,
    "start_time": "2023-03-17T20:07:23.902Z"
   },
   {
    "duration": 6,
    "start_time": "2023-03-17T20:07:23.908Z"
   },
   {
    "duration": 5,
    "start_time": "2023-03-17T20:07:23.915Z"
   },
   {
    "duration": 5,
    "start_time": "2023-03-17T20:07:23.922Z"
   },
   {
    "duration": 3,
    "start_time": "2023-03-17T20:07:23.931Z"
   },
   {
    "duration": 6,
    "start_time": "2023-03-17T20:07:23.935Z"
   },
   {
    "duration": 6,
    "start_time": "2023-03-17T20:07:23.943Z"
   },
   {
    "duration": 11,
    "start_time": "2023-03-17T20:07:23.951Z"
   },
   {
    "duration": 10,
    "start_time": "2023-03-17T20:07:23.963Z"
   },
   {
    "duration": 89,
    "start_time": "2023-03-17T20:07:23.975Z"
   },
   {
    "duration": 0,
    "start_time": "2023-03-17T20:07:24.067Z"
   },
   {
    "duration": 0,
    "start_time": "2023-03-17T20:07:24.069Z"
   },
   {
    "duration": 0,
    "start_time": "2023-03-17T20:07:24.070Z"
   },
   {
    "duration": 0,
    "start_time": "2023-03-17T20:07:24.080Z"
   },
   {
    "duration": 0,
    "start_time": "2023-03-17T20:07:24.081Z"
   },
   {
    "duration": 0,
    "start_time": "2023-03-17T20:07:24.085Z"
   },
   {
    "duration": 0,
    "start_time": "2023-03-17T20:07:24.086Z"
   },
   {
    "duration": 0,
    "start_time": "2023-03-17T20:07:24.088Z"
   },
   {
    "duration": 0,
    "start_time": "2023-03-17T20:07:24.089Z"
   },
   {
    "duration": 0,
    "start_time": "2023-03-17T20:07:24.090Z"
   },
   {
    "duration": 0,
    "start_time": "2023-03-17T20:07:24.091Z"
   },
   {
    "duration": 0,
    "start_time": "2023-03-17T20:07:24.092Z"
   },
   {
    "duration": 0,
    "start_time": "2023-03-17T20:07:24.094Z"
   },
   {
    "duration": 0,
    "start_time": "2023-03-17T20:07:24.095Z"
   },
   {
    "duration": 0,
    "start_time": "2023-03-17T20:07:24.097Z"
   },
   {
    "duration": 0,
    "start_time": "2023-03-17T20:07:24.098Z"
   },
   {
    "duration": 0,
    "start_time": "2023-03-17T20:07:24.100Z"
   },
   {
    "duration": 0,
    "start_time": "2023-03-17T20:07:24.101Z"
   },
   {
    "duration": 0,
    "start_time": "2023-03-17T20:07:24.103Z"
   },
   {
    "duration": 0,
    "start_time": "2023-03-17T20:07:24.104Z"
   },
   {
    "duration": 78,
    "start_time": "2023-03-17T21:19:23.354Z"
   },
   {
    "duration": 11,
    "start_time": "2023-03-17T21:20:44.699Z"
   },
   {
    "duration": 12,
    "start_time": "2023-03-17T21:21:33.902Z"
   },
   {
    "duration": 6,
    "start_time": "2023-03-17T21:21:50.453Z"
   },
   {
    "duration": 5,
    "start_time": "2023-03-17T21:22:29.046Z"
   },
   {
    "duration": 4,
    "start_time": "2023-03-17T21:22:38.053Z"
   },
   {
    "duration": 6,
    "start_time": "2023-03-17T21:22:49.894Z"
   },
   {
    "duration": 3,
    "start_time": "2023-03-17T21:23:11.742Z"
   },
   {
    "duration": 1312,
    "start_time": "2023-03-17T21:23:24.340Z"
   },
   {
    "duration": 9,
    "start_time": "2023-03-17T21:23:36.307Z"
   },
   {
    "duration": 5,
    "start_time": "2023-03-17T21:23:41.231Z"
   },
   {
    "duration": 1384,
    "start_time": "2023-03-17T21:23:46.967Z"
   },
   {
    "duration": 5,
    "start_time": "2023-03-17T21:23:54.870Z"
   },
   {
    "duration": 6,
    "start_time": "2023-03-17T21:24:21.163Z"
   },
   {
    "duration": 5,
    "start_time": "2023-03-17T21:24:37.171Z"
   },
   {
    "duration": 6,
    "start_time": "2023-03-17T21:24:42.655Z"
   },
   {
    "duration": 20,
    "start_time": "2023-03-17T21:24:51.447Z"
   },
   {
    "duration": 13,
    "start_time": "2023-03-17T21:25:14.692Z"
   },
   {
    "duration": 19,
    "start_time": "2023-03-17T21:25:20.275Z"
   },
   {
    "duration": 6,
    "start_time": "2023-03-17T21:25:43.030Z"
   },
   {
    "duration": 8,
    "start_time": "2023-03-17T21:25:48.371Z"
   },
   {
    "duration": 15,
    "start_time": "2023-03-17T21:25:55.875Z"
   },
   {
    "duration": 7,
    "start_time": "2023-03-17T21:26:07.649Z"
   },
   {
    "duration": 11,
    "start_time": "2023-03-17T21:26:25.329Z"
   },
   {
    "duration": 16,
    "start_time": "2023-03-17T21:26:45.348Z"
   },
   {
    "duration": 12,
    "start_time": "2023-03-17T21:28:35.451Z"
   },
   {
    "duration": 3,
    "start_time": "2023-03-17T21:38:06.813Z"
   },
   {
    "duration": 8,
    "start_time": "2023-03-17T21:43:21.309Z"
   },
   {
    "duration": 7,
    "start_time": "2023-03-17T21:44:03.643Z"
   },
   {
    "duration": 13,
    "start_time": "2023-03-17T21:44:30.370Z"
   },
   {
    "duration": 743,
    "start_time": "2023-03-18T14:05:03.699Z"
   },
   {
    "duration": 226,
    "start_time": "2023-03-18T14:05:04.444Z"
   },
   {
    "duration": 24,
    "start_time": "2023-03-18T14:05:04.671Z"
   },
   {
    "duration": 21,
    "start_time": "2023-03-18T14:05:04.697Z"
   },
   {
    "duration": 13,
    "start_time": "2023-03-18T14:05:04.720Z"
   },
   {
    "duration": 143,
    "start_time": "2023-03-18T14:05:04.734Z"
   },
   {
    "duration": 179,
    "start_time": "2023-03-18T14:05:04.881Z"
   },
   {
    "duration": 8,
    "start_time": "2023-03-18T14:05:05.062Z"
   },
   {
    "duration": 49,
    "start_time": "2023-03-18T14:05:05.071Z"
   },
   {
    "duration": 13,
    "start_time": "2023-03-18T14:05:05.122Z"
   },
   {
    "duration": 163,
    "start_time": "2023-03-18T14:05:05.136Z"
   },
   {
    "duration": 316,
    "start_time": "2023-03-18T14:05:05.301Z"
   },
   {
    "duration": 7,
    "start_time": "2023-03-18T14:05:05.619Z"
   },
   {
    "duration": 26,
    "start_time": "2023-03-18T14:05:05.628Z"
   },
   {
    "duration": 86,
    "start_time": "2023-03-18T14:05:05.655Z"
   },
   {
    "duration": 8,
    "start_time": "2023-03-18T14:05:05.743Z"
   },
   {
    "duration": 15,
    "start_time": "2023-03-18T14:05:05.753Z"
   },
   {
    "duration": 83,
    "start_time": "2023-03-18T14:05:05.770Z"
   },
   {
    "duration": 10,
    "start_time": "2023-03-18T14:05:05.854Z"
   },
   {
    "duration": 41,
    "start_time": "2023-03-18T14:05:05.865Z"
   },
   {
    "duration": 6,
    "start_time": "2023-03-18T14:05:05.908Z"
   },
   {
    "duration": 105,
    "start_time": "2023-03-18T14:05:05.917Z"
   },
   {
    "duration": 17,
    "start_time": "2023-03-18T14:05:06.024Z"
   },
   {
    "duration": 83,
    "start_time": "2023-03-18T14:05:06.043Z"
   },
   {
    "duration": 14,
    "start_time": "2023-03-18T14:05:06.128Z"
   },
   {
    "duration": 17,
    "start_time": "2023-03-18T14:05:06.144Z"
   },
   {
    "duration": 13,
    "start_time": "2023-03-18T14:05:06.163Z"
   },
   {
    "duration": 33,
    "start_time": "2023-03-18T14:05:06.178Z"
   },
   {
    "duration": 5,
    "start_time": "2023-03-18T14:05:06.213Z"
   },
   {
    "duration": 13,
    "start_time": "2023-03-18T14:05:06.220Z"
   },
   {
    "duration": 17,
    "start_time": "2023-03-18T14:05:06.235Z"
   },
   {
    "duration": 10,
    "start_time": "2023-03-18T14:05:06.254Z"
   },
   {
    "duration": 8,
    "start_time": "2023-03-18T14:05:06.266Z"
   },
   {
    "duration": 25,
    "start_time": "2023-03-18T14:05:06.276Z"
   },
   {
    "duration": 118,
    "start_time": "2023-03-18T14:05:06.303Z"
   },
   {
    "duration": 0,
    "start_time": "2023-03-18T14:05:06.423Z"
   },
   {
    "duration": 0,
    "start_time": "2023-03-18T14:05:06.424Z"
   },
   {
    "duration": 0,
    "start_time": "2023-03-18T14:05:06.425Z"
   },
   {
    "duration": 0,
    "start_time": "2023-03-18T14:05:06.426Z"
   },
   {
    "duration": 0,
    "start_time": "2023-03-18T14:05:06.427Z"
   },
   {
    "duration": 0,
    "start_time": "2023-03-18T14:05:06.428Z"
   },
   {
    "duration": 0,
    "start_time": "2023-03-18T14:05:06.429Z"
   },
   {
    "duration": 1,
    "start_time": "2023-03-18T14:05:06.429Z"
   },
   {
    "duration": 0,
    "start_time": "2023-03-18T14:05:06.430Z"
   },
   {
    "duration": 0,
    "start_time": "2023-03-18T14:05:06.432Z"
   },
   {
    "duration": 0,
    "start_time": "2023-03-18T14:05:06.434Z"
   },
   {
    "duration": 0,
    "start_time": "2023-03-18T14:05:06.435Z"
   },
   {
    "duration": 0,
    "start_time": "2023-03-18T14:05:06.436Z"
   },
   {
    "duration": 0,
    "start_time": "2023-03-18T14:05:06.437Z"
   },
   {
    "duration": 0,
    "start_time": "2023-03-18T14:05:06.438Z"
   },
   {
    "duration": 0,
    "start_time": "2023-03-18T14:05:06.440Z"
   },
   {
    "duration": 0,
    "start_time": "2023-03-18T14:05:06.440Z"
   },
   {
    "duration": 0,
    "start_time": "2023-03-18T14:05:06.442Z"
   },
   {
    "duration": 0,
    "start_time": "2023-03-18T14:05:06.443Z"
   },
   {
    "duration": 0,
    "start_time": "2023-03-18T14:05:06.444Z"
   },
   {
    "duration": 4,
    "start_time": "2023-03-18T14:06:26.501Z"
   },
   {
    "duration": 7,
    "start_time": "2023-03-18T14:06:47.312Z"
   },
   {
    "duration": 101,
    "start_time": "2023-03-18T14:06:53.716Z"
   },
   {
    "duration": 5,
    "start_time": "2023-03-18T14:07:04.668Z"
   },
   {
    "duration": 4,
    "start_time": "2023-03-18T14:12:48.368Z"
   },
   {
    "duration": 4,
    "start_time": "2023-03-18T14:12:51.507Z"
   },
   {
    "duration": 6,
    "start_time": "2023-03-18T14:13:05.152Z"
   },
   {
    "duration": 660,
    "start_time": "2023-03-18T14:13:13.701Z"
   },
   {
    "duration": 156,
    "start_time": "2023-03-18T14:13:14.363Z"
   },
   {
    "duration": 13,
    "start_time": "2023-03-18T14:13:14.520Z"
   },
   {
    "duration": 46,
    "start_time": "2023-03-18T14:13:14.535Z"
   },
   {
    "duration": 16,
    "start_time": "2023-03-18T14:13:14.584Z"
   },
   {
    "duration": 188,
    "start_time": "2023-03-18T14:13:14.601Z"
   },
   {
    "duration": 148,
    "start_time": "2023-03-18T14:13:14.791Z"
   },
   {
    "duration": 9,
    "start_time": "2023-03-18T14:13:14.940Z"
   },
   {
    "duration": 32,
    "start_time": "2023-03-18T14:13:14.951Z"
   },
   {
    "duration": 13,
    "start_time": "2023-03-18T14:13:14.985Z"
   },
   {
    "duration": 193,
    "start_time": "2023-03-18T14:13:14.999Z"
   },
   {
    "duration": 90,
    "start_time": "2023-03-18T14:13:15.193Z"
   },
   {
    "duration": 8,
    "start_time": "2023-03-18T14:13:15.284Z"
   },
   {
    "duration": 31,
    "start_time": "2023-03-18T14:13:15.295Z"
   },
   {
    "duration": 21,
    "start_time": "2023-03-18T14:13:15.327Z"
   },
   {
    "duration": 9,
    "start_time": "2023-03-18T14:13:15.349Z"
   },
   {
    "duration": 9,
    "start_time": "2023-03-18T14:13:15.360Z"
   },
   {
    "duration": 44,
    "start_time": "2023-03-18T14:13:15.385Z"
   },
   {
    "duration": 10,
    "start_time": "2023-03-18T14:13:15.431Z"
   },
   {
    "duration": 14,
    "start_time": "2023-03-18T14:13:15.443Z"
   },
   {
    "duration": 11,
    "start_time": "2023-03-18T14:13:15.459Z"
   },
   {
    "duration": 78,
    "start_time": "2023-03-18T14:13:15.472Z"
   },
   {
    "duration": 12,
    "start_time": "2023-03-18T14:13:15.552Z"
   },
   {
    "duration": 17,
    "start_time": "2023-03-18T14:13:15.566Z"
   },
   {
    "duration": 6,
    "start_time": "2023-03-18T14:13:15.584Z"
   },
   {
    "duration": 4,
    "start_time": "2023-03-18T14:13:15.591Z"
   },
   {
    "duration": 7,
    "start_time": "2023-03-18T14:13:15.596Z"
   },
   {
    "duration": 5,
    "start_time": "2023-03-18T14:13:15.604Z"
   },
   {
    "duration": 6,
    "start_time": "2023-03-18T14:13:15.610Z"
   },
   {
    "duration": 7,
    "start_time": "2023-03-18T14:13:15.618Z"
   },
   {
    "duration": 6,
    "start_time": "2023-03-18T14:13:15.626Z"
   },
   {
    "duration": 10,
    "start_time": "2023-03-18T14:13:15.633Z"
   },
   {
    "duration": 4,
    "start_time": "2023-03-18T14:13:15.645Z"
   },
   {
    "duration": 9,
    "start_time": "2023-03-18T14:13:15.651Z"
   },
   {
    "duration": 122,
    "start_time": "2023-03-18T14:13:15.661Z"
   },
   {
    "duration": 0,
    "start_time": "2023-03-18T14:13:15.785Z"
   },
   {
    "duration": 0,
    "start_time": "2023-03-18T14:13:15.787Z"
   },
   {
    "duration": 0,
    "start_time": "2023-03-18T14:13:15.788Z"
   },
   {
    "duration": 0,
    "start_time": "2023-03-18T14:13:15.790Z"
   },
   {
    "duration": 0,
    "start_time": "2023-03-18T14:13:15.791Z"
   },
   {
    "duration": 0,
    "start_time": "2023-03-18T14:13:15.792Z"
   },
   {
    "duration": 0,
    "start_time": "2023-03-18T14:13:15.793Z"
   },
   {
    "duration": 0,
    "start_time": "2023-03-18T14:13:15.794Z"
   },
   {
    "duration": 0,
    "start_time": "2023-03-18T14:13:15.795Z"
   },
   {
    "duration": 0,
    "start_time": "2023-03-18T14:13:15.797Z"
   },
   {
    "duration": 0,
    "start_time": "2023-03-18T14:13:15.798Z"
   },
   {
    "duration": 0,
    "start_time": "2023-03-18T14:13:15.799Z"
   },
   {
    "duration": 0,
    "start_time": "2023-03-18T14:13:15.800Z"
   },
   {
    "duration": 0,
    "start_time": "2023-03-18T14:13:15.801Z"
   },
   {
    "duration": 0,
    "start_time": "2023-03-18T14:13:15.802Z"
   },
   {
    "duration": 0,
    "start_time": "2023-03-18T14:13:15.803Z"
   },
   {
    "duration": 0,
    "start_time": "2023-03-18T14:13:15.804Z"
   },
   {
    "duration": 0,
    "start_time": "2023-03-18T14:13:15.806Z"
   },
   {
    "duration": 0,
    "start_time": "2023-03-18T14:13:15.807Z"
   },
   {
    "duration": 0,
    "start_time": "2023-03-18T14:13:15.808Z"
   },
   {
    "duration": 72,
    "start_time": "2023-03-18T14:18:34.936Z"
   },
   {
    "duration": 8,
    "start_time": "2023-03-18T14:18:56.600Z"
   },
   {
    "duration": 4,
    "start_time": "2023-03-18T14:19:15.318Z"
   },
   {
    "duration": 4,
    "start_time": "2023-03-18T14:19:55.933Z"
   },
   {
    "duration": 7,
    "start_time": "2023-03-18T14:28:32.498Z"
   },
   {
    "duration": 5,
    "start_time": "2023-03-18T14:28:36.070Z"
   },
   {
    "duration": 10,
    "start_time": "2023-03-18T14:31:36.389Z"
   },
   {
    "duration": 14,
    "start_time": "2023-03-18T14:33:27.190Z"
   },
   {
    "duration": 9,
    "start_time": "2023-03-18T14:35:03.147Z"
   },
   {
    "duration": 11,
    "start_time": "2023-03-18T14:35:05.297Z"
   },
   {
    "duration": 19,
    "start_time": "2023-03-18T14:36:29.009Z"
   },
   {
    "duration": 13,
    "start_time": "2023-03-18T14:36:54.243Z"
   },
   {
    "duration": 7,
    "start_time": "2023-03-18T14:36:59.820Z"
   },
   {
    "duration": 20,
    "start_time": "2023-03-18T14:43:46.050Z"
   },
   {
    "duration": 8,
    "start_time": "2023-03-18T14:43:47.892Z"
   },
   {
    "duration": 24,
    "start_time": "2023-03-18T14:44:49.793Z"
   },
   {
    "duration": 9,
    "start_time": "2023-03-18T14:44:51.509Z"
   },
   {
    "duration": 25,
    "start_time": "2023-03-18T14:55:58.186Z"
   },
   {
    "duration": 8,
    "start_time": "2023-03-18T14:55:59.268Z"
   },
   {
    "duration": 27,
    "start_time": "2023-03-18T14:56:34.024Z"
   },
   {
    "duration": 12,
    "start_time": "2023-03-18T14:56:35.099Z"
   },
   {
    "duration": 9,
    "start_time": "2023-03-18T14:57:45.607Z"
   },
   {
    "duration": 88,
    "start_time": "2023-03-18T14:59:23.416Z"
   },
   {
    "duration": 70,
    "start_time": "2023-03-18T14:59:58.626Z"
   },
   {
    "duration": 18,
    "start_time": "2023-03-18T15:00:12.132Z"
   },
   {
    "duration": 7,
    "start_time": "2023-03-18T15:00:21.685Z"
   },
   {
    "duration": 20,
    "start_time": "2023-03-18T15:10:18.391Z"
   },
   {
    "duration": 16,
    "start_time": "2023-03-18T15:11:41.543Z"
   },
   {
    "duration": 12,
    "start_time": "2023-03-18T15:11:46.114Z"
   },
   {
    "duration": 75,
    "start_time": "2023-03-18T15:12:30.599Z"
   },
   {
    "duration": 21,
    "start_time": "2023-03-18T15:18:08.503Z"
   },
   {
    "duration": 26,
    "start_time": "2023-03-18T15:18:45.991Z"
   },
   {
    "duration": 17,
    "start_time": "2023-03-18T15:18:55.904Z"
   },
   {
    "duration": 11,
    "start_time": "2023-03-18T15:19:12.201Z"
   },
   {
    "duration": 620,
    "start_time": "2023-03-18T15:19:20.621Z"
   },
   {
    "duration": 154,
    "start_time": "2023-03-18T15:19:21.242Z"
   },
   {
    "duration": 13,
    "start_time": "2023-03-18T15:19:21.398Z"
   },
   {
    "duration": 26,
    "start_time": "2023-03-18T15:19:21.413Z"
   },
   {
    "duration": 17,
    "start_time": "2023-03-18T15:19:21.441Z"
   },
   {
    "duration": 177,
    "start_time": "2023-03-18T15:19:21.459Z"
   },
   {
    "duration": 118,
    "start_time": "2023-03-18T15:19:21.637Z"
   },
   {
    "duration": 9,
    "start_time": "2023-03-18T15:19:21.756Z"
   },
   {
    "duration": 34,
    "start_time": "2023-03-18T15:19:21.766Z"
   },
   {
    "duration": 15,
    "start_time": "2023-03-18T15:19:21.803Z"
   },
   {
    "duration": 166,
    "start_time": "2023-03-18T15:19:21.820Z"
   },
   {
    "duration": 77,
    "start_time": "2023-03-18T15:19:21.991Z"
   },
   {
    "duration": 7,
    "start_time": "2023-03-18T15:19:22.070Z"
   },
   {
    "duration": 40,
    "start_time": "2023-03-18T15:19:22.078Z"
   },
   {
    "duration": 14,
    "start_time": "2023-03-18T15:19:22.121Z"
   },
   {
    "duration": 7,
    "start_time": "2023-03-18T15:19:22.136Z"
   },
   {
    "duration": 10,
    "start_time": "2023-03-18T15:19:22.144Z"
   },
   {
    "duration": 42,
    "start_time": "2023-03-18T15:19:22.155Z"
   },
   {
    "duration": 9,
    "start_time": "2023-03-18T15:19:22.198Z"
   },
   {
    "duration": 12,
    "start_time": "2023-03-18T15:19:22.208Z"
   },
   {
    "duration": 6,
    "start_time": "2023-03-18T15:19:22.221Z"
   },
   {
    "duration": 79,
    "start_time": "2023-03-18T15:19:22.229Z"
   },
   {
    "duration": 10,
    "start_time": "2023-03-18T15:19:22.310Z"
   },
   {
    "duration": 11,
    "start_time": "2023-03-18T15:19:22.321Z"
   },
   {
    "duration": 6,
    "start_time": "2023-03-18T15:19:22.333Z"
   },
   {
    "duration": 14,
    "start_time": "2023-03-18T15:19:22.340Z"
   },
   {
    "duration": 14,
    "start_time": "2023-03-18T15:19:22.356Z"
   },
   {
    "duration": 17,
    "start_time": "2023-03-18T15:19:22.385Z"
   },
   {
    "duration": 5,
    "start_time": "2023-03-18T15:19:22.404Z"
   },
   {
    "duration": 20,
    "start_time": "2023-03-18T15:19:22.411Z"
   },
   {
    "duration": 9,
    "start_time": "2023-03-18T15:19:22.432Z"
   },
   {
    "duration": 12,
    "start_time": "2023-03-18T15:19:22.443Z"
   },
   {
    "duration": 41,
    "start_time": "2023-03-18T15:19:22.456Z"
   },
   {
    "duration": 19,
    "start_time": "2023-03-18T15:19:22.500Z"
   },
   {
    "duration": 8,
    "start_time": "2023-03-18T15:19:22.520Z"
   },
   {
    "duration": 23,
    "start_time": "2023-03-18T15:19:22.529Z"
   },
   {
    "duration": 7,
    "start_time": "2023-03-18T15:19:22.554Z"
   },
   {
    "duration": 35,
    "start_time": "2023-03-18T15:19:22.563Z"
   },
   {
    "duration": 8,
    "start_time": "2023-03-18T15:19:22.600Z"
   },
   {
    "duration": 14,
    "start_time": "2023-03-18T15:19:22.609Z"
   },
   {
    "duration": 8,
    "start_time": "2023-03-18T15:19:22.625Z"
   },
   {
    "duration": 5,
    "start_time": "2023-03-18T15:19:22.634Z"
   },
   {
    "duration": 91,
    "start_time": "2023-03-18T15:19:22.640Z"
   },
   {
    "duration": 7,
    "start_time": "2023-03-18T15:19:22.732Z"
   },
   {
    "duration": 6,
    "start_time": "2023-03-18T15:19:22.740Z"
   },
   {
    "duration": 6,
    "start_time": "2023-03-18T15:19:22.748Z"
   },
   {
    "duration": 30,
    "start_time": "2023-03-18T15:19:22.755Z"
   },
   {
    "duration": 11,
    "start_time": "2023-03-18T15:19:22.786Z"
   },
   {
    "duration": 7,
    "start_time": "2023-03-18T15:19:22.799Z"
   },
   {
    "duration": 7,
    "start_time": "2023-03-18T15:19:22.808Z"
   },
   {
    "duration": 7,
    "start_time": "2023-03-18T15:19:22.816Z"
   },
   {
    "duration": 44,
    "start_time": "2023-03-18T15:19:22.824Z"
   },
   {
    "duration": 729,
    "start_time": "2023-03-18T15:19:22.870Z"
   },
   {
    "duration": 242,
    "start_time": "2023-03-18T15:19:23.601Z"
   },
   {
    "duration": 317,
    "start_time": "2023-03-18T15:19:23.845Z"
   },
   {
    "duration": 196,
    "start_time": "2023-03-18T15:19:24.163Z"
   },
   {
    "duration": 228,
    "start_time": "2023-03-18T15:19:24.361Z"
   },
   {
    "duration": 177,
    "start_time": "2023-03-18T15:19:24.590Z"
   },
   {
    "duration": 289,
    "start_time": "2023-03-18T15:19:24.768Z"
   },
   {
    "duration": 244,
    "start_time": "2023-03-18T15:19:25.060Z"
   },
   {
    "duration": 3,
    "start_time": "2023-03-18T15:19:25.305Z"
   },
   {
    "duration": 15,
    "start_time": "2023-03-18T15:19:25.310Z"
   },
   {
    "duration": 17,
    "start_time": "2023-03-18T15:19:25.326Z"
   },
   {
    "duration": 14,
    "start_time": "2023-03-18T15:20:10.697Z"
   },
   {
    "duration": 618,
    "start_time": "2023-03-18T15:20:21.277Z"
   },
   {
    "duration": 145,
    "start_time": "2023-03-18T15:20:21.896Z"
   },
   {
    "duration": 12,
    "start_time": "2023-03-18T15:20:22.042Z"
   },
   {
    "duration": 32,
    "start_time": "2023-03-18T15:20:22.055Z"
   },
   {
    "duration": 15,
    "start_time": "2023-03-18T15:20:22.098Z"
   },
   {
    "duration": 151,
    "start_time": "2023-03-18T15:20:22.114Z"
   },
   {
    "duration": 122,
    "start_time": "2023-03-18T15:20:22.267Z"
   },
   {
    "duration": 10,
    "start_time": "2023-03-18T15:20:22.390Z"
   },
   {
    "duration": 19,
    "start_time": "2023-03-18T15:20:22.401Z"
   },
   {
    "duration": 13,
    "start_time": "2023-03-18T15:20:22.422Z"
   },
   {
    "duration": 155,
    "start_time": "2023-03-18T15:20:22.436Z"
   },
   {
    "duration": 97,
    "start_time": "2023-03-18T15:20:22.598Z"
   },
   {
    "duration": 7,
    "start_time": "2023-03-18T15:20:22.696Z"
   },
   {
    "duration": 16,
    "start_time": "2023-03-18T15:20:22.706Z"
   },
   {
    "duration": 14,
    "start_time": "2023-03-18T15:20:22.723Z"
   },
   {
    "duration": 7,
    "start_time": "2023-03-18T15:20:22.738Z"
   },
   {
    "duration": 13,
    "start_time": "2023-03-18T15:20:22.746Z"
   },
   {
    "duration": 38,
    "start_time": "2023-03-18T15:20:22.761Z"
   },
   {
    "duration": 9,
    "start_time": "2023-03-18T15:20:22.800Z"
   },
   {
    "duration": 14,
    "start_time": "2023-03-18T15:20:22.810Z"
   },
   {
    "duration": 8,
    "start_time": "2023-03-18T15:20:22.826Z"
   },
   {
    "duration": 83,
    "start_time": "2023-03-18T15:20:22.835Z"
   },
   {
    "duration": 11,
    "start_time": "2023-03-18T15:20:22.920Z"
   },
   {
    "duration": 32,
    "start_time": "2023-03-18T15:20:22.933Z"
   },
   {
    "duration": 6,
    "start_time": "2023-03-18T15:20:22.966Z"
   },
   {
    "duration": 4,
    "start_time": "2023-03-18T15:20:22.973Z"
   },
   {
    "duration": 31,
    "start_time": "2023-03-18T15:20:22.979Z"
   },
   {
    "duration": 8,
    "start_time": "2023-03-18T15:20:23.012Z"
   },
   {
    "duration": 6,
    "start_time": "2023-03-18T15:20:23.022Z"
   },
   {
    "duration": 16,
    "start_time": "2023-03-18T15:20:23.030Z"
   },
   {
    "duration": 8,
    "start_time": "2023-03-18T15:20:23.047Z"
   },
   {
    "duration": 12,
    "start_time": "2023-03-18T15:20:23.056Z"
   },
   {
    "duration": 23,
    "start_time": "2023-03-18T15:20:23.070Z"
   },
   {
    "duration": 34,
    "start_time": "2023-03-18T15:20:23.094Z"
   },
   {
    "duration": 8,
    "start_time": "2023-03-18T15:20:23.131Z"
   },
   {
    "duration": 27,
    "start_time": "2023-03-18T15:20:23.141Z"
   },
   {
    "duration": 12,
    "start_time": "2023-03-18T15:20:23.169Z"
   },
   {
    "duration": 34,
    "start_time": "2023-03-18T15:20:23.182Z"
   },
   {
    "duration": 7,
    "start_time": "2023-03-18T15:20:23.217Z"
   },
   {
    "duration": 16,
    "start_time": "2023-03-18T15:20:23.225Z"
   },
   {
    "duration": 9,
    "start_time": "2023-03-18T15:20:23.245Z"
   },
   {
    "duration": 10,
    "start_time": "2023-03-18T15:20:23.256Z"
   },
   {
    "duration": 79,
    "start_time": "2023-03-18T15:20:23.268Z"
   },
   {
    "duration": 6,
    "start_time": "2023-03-18T15:20:23.348Z"
   },
   {
    "duration": 38,
    "start_time": "2023-03-18T15:20:23.356Z"
   },
   {
    "duration": 8,
    "start_time": "2023-03-18T15:20:23.398Z"
   },
   {
    "duration": 9,
    "start_time": "2023-03-18T15:20:23.408Z"
   },
   {
    "duration": 8,
    "start_time": "2023-03-18T15:20:23.418Z"
   },
   {
    "duration": 6,
    "start_time": "2023-03-18T15:20:23.428Z"
   },
   {
    "duration": 7,
    "start_time": "2023-03-18T15:20:23.436Z"
   },
   {
    "duration": 5,
    "start_time": "2023-03-18T15:20:23.444Z"
   },
   {
    "duration": 52,
    "start_time": "2023-03-18T15:20:23.451Z"
   },
   {
    "duration": 698,
    "start_time": "2023-03-18T15:20:23.504Z"
   },
   {
    "duration": 218,
    "start_time": "2023-03-18T15:20:24.204Z"
   },
   {
    "duration": 314,
    "start_time": "2023-03-18T15:20:24.423Z"
   },
   {
    "duration": 184,
    "start_time": "2023-03-18T15:20:24.739Z"
   },
   {
    "duration": 278,
    "start_time": "2023-03-18T15:20:24.925Z"
   },
   {
    "duration": 176,
    "start_time": "2023-03-18T15:20:25.205Z"
   },
   {
    "duration": 265,
    "start_time": "2023-03-18T15:20:25.382Z"
   },
   {
    "duration": 183,
    "start_time": "2023-03-18T15:20:25.649Z"
   },
   {
    "duration": 3,
    "start_time": "2023-03-18T15:20:25.833Z"
   },
   {
    "duration": 5,
    "start_time": "2023-03-18T15:20:25.838Z"
   },
   {
    "duration": 5,
    "start_time": "2023-03-18T15:20:25.845Z"
   },
   {
    "duration": 208,
    "start_time": "2023-03-18T15:21:28.009Z"
   },
   {
    "duration": 189,
    "start_time": "2023-03-18T15:22:37.046Z"
   },
   {
    "duration": 131,
    "start_time": "2023-03-18T15:22:47.718Z"
   },
   {
    "duration": 130,
    "start_time": "2023-03-18T15:22:59.320Z"
   },
   {
    "duration": 148,
    "start_time": "2023-03-18T15:23:09.198Z"
   },
   {
    "duration": 208,
    "start_time": "2023-03-18T15:23:24.630Z"
   },
   {
    "duration": 9,
    "start_time": "2023-03-18T15:24:02.924Z"
   },
   {
    "duration": 15,
    "start_time": "2023-03-18T15:25:24.303Z"
   },
   {
    "duration": 9,
    "start_time": "2023-03-18T15:29:54.227Z"
   },
   {
    "duration": 50,
    "start_time": "2023-03-18T15:45:51.299Z"
   },
   {
    "duration": 693,
    "start_time": "2023-03-18T15:46:16.245Z"
   },
   {
    "duration": 192,
    "start_time": "2023-03-18T15:46:16.940Z"
   },
   {
    "duration": 14,
    "start_time": "2023-03-18T15:46:17.134Z"
   },
   {
    "duration": 29,
    "start_time": "2023-03-18T15:46:17.149Z"
   },
   {
    "duration": 18,
    "start_time": "2023-03-18T15:46:17.186Z"
   },
   {
    "duration": 313,
    "start_time": "2023-03-18T15:46:17.206Z"
   },
   {
    "duration": 134,
    "start_time": "2023-03-18T15:46:17.521Z"
   },
   {
    "duration": 9,
    "start_time": "2023-03-18T15:46:17.656Z"
   },
   {
    "duration": 46,
    "start_time": "2023-03-18T15:46:17.667Z"
   },
   {
    "duration": 17,
    "start_time": "2023-03-18T15:46:17.715Z"
   },
   {
    "duration": 170,
    "start_time": "2023-03-18T15:46:17.734Z"
   },
   {
    "duration": 93,
    "start_time": "2023-03-18T15:46:17.906Z"
   },
   {
    "duration": 17,
    "start_time": "2023-03-18T15:46:18.000Z"
   },
   {
    "duration": 32,
    "start_time": "2023-03-18T15:46:18.021Z"
   },
   {
    "duration": 27,
    "start_time": "2023-03-18T15:46:18.055Z"
   },
   {
    "duration": 10,
    "start_time": "2023-03-18T15:46:18.084Z"
   },
   {
    "duration": 30,
    "start_time": "2023-03-18T15:46:18.096Z"
   },
   {
    "duration": 32,
    "start_time": "2023-03-18T15:46:18.128Z"
   },
   {
    "duration": 12,
    "start_time": "2023-03-18T15:46:18.162Z"
   },
   {
    "duration": 39,
    "start_time": "2023-03-18T15:46:18.176Z"
   },
   {
    "duration": 14,
    "start_time": "2023-03-18T15:46:18.217Z"
   },
   {
    "duration": 108,
    "start_time": "2023-03-18T15:46:18.232Z"
   },
   {
    "duration": 11,
    "start_time": "2023-03-18T15:46:18.341Z"
   },
   {
    "duration": 10,
    "start_time": "2023-03-18T15:46:18.353Z"
   },
   {
    "duration": 4,
    "start_time": "2023-03-18T15:46:18.365Z"
   },
   {
    "duration": 25,
    "start_time": "2023-03-18T15:46:18.371Z"
   },
   {
    "duration": 13,
    "start_time": "2023-03-18T15:46:18.403Z"
   },
   {
    "duration": 18,
    "start_time": "2023-03-18T15:46:18.417Z"
   },
   {
    "duration": 7,
    "start_time": "2023-03-18T15:46:18.437Z"
   },
   {
    "duration": 13,
    "start_time": "2023-03-18T15:46:18.446Z"
   },
   {
    "duration": 11,
    "start_time": "2023-03-18T15:46:18.460Z"
   },
   {
    "duration": 42,
    "start_time": "2023-03-18T15:46:18.473Z"
   },
   {
    "duration": 8,
    "start_time": "2023-03-18T15:46:18.517Z"
   },
   {
    "duration": 26,
    "start_time": "2023-03-18T15:46:18.527Z"
   },
   {
    "duration": 8,
    "start_time": "2023-03-18T15:46:18.554Z"
   },
   {
    "duration": 41,
    "start_time": "2023-03-18T15:46:18.564Z"
   },
   {
    "duration": 30,
    "start_time": "2023-03-18T15:46:18.607Z"
   },
   {
    "duration": 18,
    "start_time": "2023-03-18T15:46:18.640Z"
   },
   {
    "duration": 9,
    "start_time": "2023-03-18T15:46:18.660Z"
   },
   {
    "duration": 7,
    "start_time": "2023-03-18T15:46:18.671Z"
   },
   {
    "duration": 126,
    "start_time": "2023-03-18T15:46:18.685Z"
   },
   {
    "duration": 10,
    "start_time": "2023-03-18T15:46:18.813Z"
   },
   {
    "duration": 77,
    "start_time": "2023-03-18T15:46:18.825Z"
   },
   {
    "duration": 6,
    "start_time": "2023-03-18T15:46:18.904Z"
   },
   {
    "duration": 16,
    "start_time": "2023-03-18T15:46:18.911Z"
   },
   {
    "duration": 12,
    "start_time": "2023-03-18T15:46:18.929Z"
   },
   {
    "duration": 10,
    "start_time": "2023-03-18T15:46:18.943Z"
   },
   {
    "duration": 5,
    "start_time": "2023-03-18T15:46:18.954Z"
   },
   {
    "duration": 8,
    "start_time": "2023-03-18T15:46:18.960Z"
   },
   {
    "duration": 15,
    "start_time": "2023-03-18T15:46:18.970Z"
   },
   {
    "duration": 73,
    "start_time": "2023-03-18T15:46:18.987Z"
   },
   {
    "duration": 814,
    "start_time": "2023-03-18T15:46:19.062Z"
   },
   {
    "duration": 327,
    "start_time": "2023-03-18T15:46:19.877Z"
   },
   {
    "duration": 270,
    "start_time": "2023-03-18T15:46:20.210Z"
   },
   {
    "duration": 206,
    "start_time": "2023-03-18T15:46:20.482Z"
   },
   {
    "duration": 252,
    "start_time": "2023-03-18T15:46:20.690Z"
   },
   {
    "duration": 207,
    "start_time": "2023-03-18T15:46:20.944Z"
   },
   {
    "duration": 282,
    "start_time": "2023-03-18T15:46:21.152Z"
   },
   {
    "duration": 284,
    "start_time": "2023-03-18T15:46:21.435Z"
   },
   {
    "duration": 2,
    "start_time": "2023-03-18T15:46:21.720Z"
   },
   {
    "duration": 6,
    "start_time": "2023-03-18T15:46:21.724Z"
   },
   {
    "duration": 9,
    "start_time": "2023-03-18T15:46:21.732Z"
   },
   {
    "duration": 131,
    "start_time": "2023-03-18T15:47:50.600Z"
   },
   {
    "duration": 22,
    "start_time": "2023-03-18T15:48:15.176Z"
   },
   {
    "duration": 646,
    "start_time": "2023-03-18T15:48:41.576Z"
   },
   {
    "duration": 171,
    "start_time": "2023-03-18T15:48:42.225Z"
   },
   {
    "duration": 19,
    "start_time": "2023-03-18T15:48:42.398Z"
   },
   {
    "duration": 53,
    "start_time": "2023-03-18T15:48:42.419Z"
   },
   {
    "duration": 29,
    "start_time": "2023-03-18T15:48:42.475Z"
   },
   {
    "duration": 162,
    "start_time": "2023-03-18T15:48:42.506Z"
   },
   {
    "duration": 147,
    "start_time": "2023-03-18T15:48:42.670Z"
   },
   {
    "duration": 8,
    "start_time": "2023-03-18T15:48:42.818Z"
   },
   {
    "duration": 19,
    "start_time": "2023-03-18T15:48:42.827Z"
   },
   {
    "duration": 11,
    "start_time": "2023-03-18T15:48:42.847Z"
   },
   {
    "duration": 173,
    "start_time": "2023-03-18T15:48:42.860Z"
   },
   {
    "duration": 98,
    "start_time": "2023-03-18T15:48:43.034Z"
   },
   {
    "duration": 8,
    "start_time": "2023-03-18T15:48:43.133Z"
   },
   {
    "duration": 16,
    "start_time": "2023-03-18T15:48:43.144Z"
   },
   {
    "duration": 15,
    "start_time": "2023-03-18T15:48:43.162Z"
   },
   {
    "duration": 8,
    "start_time": "2023-03-18T15:48:43.179Z"
   },
   {
    "duration": 33,
    "start_time": "2023-03-18T15:48:43.188Z"
   },
   {
    "duration": 29,
    "start_time": "2023-03-18T15:48:43.222Z"
   },
   {
    "duration": 11,
    "start_time": "2023-03-18T15:48:43.252Z"
   },
   {
    "duration": 10,
    "start_time": "2023-03-18T15:48:43.264Z"
   },
   {
    "duration": 15,
    "start_time": "2023-03-18T15:48:43.276Z"
   },
   {
    "duration": 87,
    "start_time": "2023-03-18T15:48:43.300Z"
   },
   {
    "duration": 11,
    "start_time": "2023-03-18T15:48:43.389Z"
   },
   {
    "duration": 15,
    "start_time": "2023-03-18T15:48:43.402Z"
   },
   {
    "duration": 5,
    "start_time": "2023-03-18T15:48:43.419Z"
   },
   {
    "duration": 20,
    "start_time": "2023-03-18T15:48:43.425Z"
   },
   {
    "duration": 13,
    "start_time": "2023-03-18T15:48:43.447Z"
   },
   {
    "duration": 32,
    "start_time": "2023-03-18T15:48:43.461Z"
   },
   {
    "duration": 19,
    "start_time": "2023-03-18T15:48:43.494Z"
   },
   {
    "duration": 17,
    "start_time": "2023-03-18T15:48:43.515Z"
   },
   {
    "duration": 17,
    "start_time": "2023-03-18T15:48:43.533Z"
   },
   {
    "duration": 25,
    "start_time": "2023-03-18T15:48:43.551Z"
   },
   {
    "duration": 8,
    "start_time": "2023-03-18T15:48:43.577Z"
   },
   {
    "duration": 56,
    "start_time": "2023-03-18T15:48:43.587Z"
   },
   {
    "duration": 7,
    "start_time": "2023-03-18T15:48:43.645Z"
   },
   {
    "duration": 17,
    "start_time": "2023-03-18T15:48:43.653Z"
   },
   {
    "duration": 7,
    "start_time": "2023-03-18T15:48:43.671Z"
   },
   {
    "duration": 56,
    "start_time": "2023-03-18T15:48:43.681Z"
   },
   {
    "duration": 8,
    "start_time": "2023-03-18T15:48:43.739Z"
   },
   {
    "duration": 18,
    "start_time": "2023-03-18T15:48:43.748Z"
   },
   {
    "duration": 80,
    "start_time": "2023-03-18T15:48:43.770Z"
   },
   {
    "duration": 6,
    "start_time": "2023-03-18T15:48:43.852Z"
   },
   {
    "duration": 73,
    "start_time": "2023-03-18T15:48:43.859Z"
   },
   {
    "duration": 5,
    "start_time": "2023-03-18T15:48:43.933Z"
   },
   {
    "duration": 11,
    "start_time": "2023-03-18T15:48:43.939Z"
   },
   {
    "duration": 14,
    "start_time": "2023-03-18T15:48:43.951Z"
   },
   {
    "duration": 7,
    "start_time": "2023-03-18T15:48:43.966Z"
   },
   {
    "duration": 4,
    "start_time": "2023-03-18T15:48:43.974Z"
   },
   {
    "duration": 34,
    "start_time": "2023-03-18T15:48:43.985Z"
   },
   {
    "duration": 6,
    "start_time": "2023-03-18T15:48:44.021Z"
   },
   {
    "duration": 78,
    "start_time": "2023-03-18T15:48:44.028Z"
   },
   {
    "duration": 692,
    "start_time": "2023-03-18T15:48:44.108Z"
   },
   {
    "duration": 292,
    "start_time": "2023-03-18T15:48:44.801Z"
   },
   {
    "duration": 286,
    "start_time": "2023-03-18T15:48:45.095Z"
   },
   {
    "duration": 211,
    "start_time": "2023-03-18T15:48:45.382Z"
   },
   {
    "duration": 233,
    "start_time": "2023-03-18T15:48:45.594Z"
   },
   {
    "duration": 221,
    "start_time": "2023-03-18T15:48:45.828Z"
   },
   {
    "duration": 340,
    "start_time": "2023-03-18T15:48:46.051Z"
   },
   {
    "duration": 265,
    "start_time": "2023-03-18T15:48:46.393Z"
   },
   {
    "duration": 3,
    "start_time": "2023-03-18T15:48:46.659Z"
   },
   {
    "duration": 6,
    "start_time": "2023-03-18T15:48:46.663Z"
   },
   {
    "duration": 12,
    "start_time": "2023-03-18T15:48:46.670Z"
   },
   {
    "duration": 5,
    "start_time": "2023-03-18T15:53:02.272Z"
   },
   {
    "duration": 29,
    "start_time": "2023-03-18T15:55:01.199Z"
   },
   {
    "duration": 645,
    "start_time": "2023-03-18T16:00:48.980Z"
   },
   {
    "duration": 171,
    "start_time": "2023-03-18T16:00:49.627Z"
   },
   {
    "duration": 15,
    "start_time": "2023-03-18T16:00:49.799Z"
   },
   {
    "duration": 22,
    "start_time": "2023-03-18T16:00:49.816Z"
   },
   {
    "duration": 20,
    "start_time": "2023-03-18T16:00:49.841Z"
   },
   {
    "duration": 162,
    "start_time": "2023-03-18T16:00:49.863Z"
   },
   {
    "duration": 135,
    "start_time": "2023-03-18T16:00:50.027Z"
   },
   {
    "duration": 8,
    "start_time": "2023-03-18T16:00:50.163Z"
   },
   {
    "duration": 52,
    "start_time": "2023-03-18T16:00:50.172Z"
   },
   {
    "duration": 17,
    "start_time": "2023-03-18T16:00:50.225Z"
   },
   {
    "duration": 155,
    "start_time": "2023-03-18T16:00:50.243Z"
   },
   {
    "duration": 78,
    "start_time": "2023-03-18T16:00:50.400Z"
   },
   {
    "duration": 10,
    "start_time": "2023-03-18T16:00:50.490Z"
   },
   {
    "duration": 31,
    "start_time": "2023-03-18T16:00:50.504Z"
   },
   {
    "duration": 15,
    "start_time": "2023-03-18T16:00:50.537Z"
   },
   {
    "duration": 8,
    "start_time": "2023-03-18T16:00:50.553Z"
   },
   {
    "duration": 27,
    "start_time": "2023-03-18T16:00:50.562Z"
   },
   {
    "duration": 37,
    "start_time": "2023-03-18T16:00:50.590Z"
   },
   {
    "duration": 9,
    "start_time": "2023-03-18T16:00:50.629Z"
   },
   {
    "duration": 11,
    "start_time": "2023-03-18T16:00:50.639Z"
   },
   {
    "duration": 7,
    "start_time": "2023-03-18T16:00:50.652Z"
   },
   {
    "duration": 78,
    "start_time": "2023-03-18T16:00:50.660Z"
   },
   {
    "duration": 11,
    "start_time": "2023-03-18T16:00:50.740Z"
   },
   {
    "duration": 21,
    "start_time": "2023-03-18T16:00:50.752Z"
   },
   {
    "duration": 25,
    "start_time": "2023-03-18T16:00:50.775Z"
   },
   {
    "duration": 26,
    "start_time": "2023-03-18T16:00:50.802Z"
   },
   {
    "duration": 7,
    "start_time": "2023-03-18T16:00:50.829Z"
   },
   {
    "duration": 17,
    "start_time": "2023-03-18T16:00:50.837Z"
   },
   {
    "duration": 7,
    "start_time": "2023-03-18T16:00:50.855Z"
   },
   {
    "duration": 15,
    "start_time": "2023-03-18T16:00:50.863Z"
   },
   {
    "duration": 12,
    "start_time": "2023-03-18T16:00:50.881Z"
   },
   {
    "duration": 33,
    "start_time": "2023-03-18T16:00:50.894Z"
   },
   {
    "duration": 20,
    "start_time": "2023-03-18T16:00:50.928Z"
   },
   {
    "duration": 36,
    "start_time": "2023-03-18T16:00:50.949Z"
   },
   {
    "duration": 31,
    "start_time": "2023-03-18T16:00:50.986Z"
   },
   {
    "duration": 32,
    "start_time": "2023-03-18T16:00:51.019Z"
   },
   {
    "duration": 11,
    "start_time": "2023-03-18T16:00:51.053Z"
   },
   {
    "duration": 40,
    "start_time": "2023-03-18T16:00:51.066Z"
   },
   {
    "duration": 42,
    "start_time": "2023-03-18T16:00:51.108Z"
   },
   {
    "duration": 50,
    "start_time": "2023-03-18T16:00:51.151Z"
   },
   {
    "duration": 92,
    "start_time": "2023-03-18T16:00:51.205Z"
   },
   {
    "duration": 8,
    "start_time": "2023-03-18T16:00:51.298Z"
   },
   {
    "duration": 63,
    "start_time": "2023-03-18T16:00:51.307Z"
   },
   {
    "duration": 5,
    "start_time": "2023-03-18T16:00:51.372Z"
   },
   {
    "duration": 32,
    "start_time": "2023-03-18T16:00:51.379Z"
   },
   {
    "duration": 37,
    "start_time": "2023-03-18T16:00:51.412Z"
   },
   {
    "duration": 29,
    "start_time": "2023-03-18T16:00:51.450Z"
   },
   {
    "duration": 42,
    "start_time": "2023-03-18T16:00:51.481Z"
   },
   {
    "duration": 10,
    "start_time": "2023-03-18T16:00:51.525Z"
   },
   {
    "duration": 13,
    "start_time": "2023-03-18T16:00:51.536Z"
   },
   {
    "duration": 9,
    "start_time": "2023-03-18T16:00:51.550Z"
   },
   {
    "duration": 56,
    "start_time": "2023-03-18T16:00:51.561Z"
   },
   {
    "duration": 698,
    "start_time": "2023-03-18T16:00:51.619Z"
   },
   {
    "duration": 271,
    "start_time": "2023-03-18T16:00:52.318Z"
   },
   {
    "duration": 293,
    "start_time": "2023-03-18T16:00:52.592Z"
   },
   {
    "duration": 199,
    "start_time": "2023-03-18T16:00:52.886Z"
   },
   {
    "duration": 238,
    "start_time": "2023-03-18T16:00:53.086Z"
   },
   {
    "duration": 182,
    "start_time": "2023-03-18T16:00:53.325Z"
   },
   {
    "duration": 284,
    "start_time": "2023-03-18T16:00:53.510Z"
   },
   {
    "duration": 255,
    "start_time": "2023-03-18T16:00:53.796Z"
   },
   {
    "duration": 2,
    "start_time": "2023-03-18T16:00:54.053Z"
   },
   {
    "duration": 6,
    "start_time": "2023-03-18T16:00:54.056Z"
   },
   {
    "duration": 5,
    "start_time": "2023-03-18T16:00:54.063Z"
   },
   {
    "duration": 23,
    "start_time": "2023-03-18T16:04:37.497Z"
   },
   {
    "duration": 35,
    "start_time": "2023-03-18T16:11:38.173Z"
   },
   {
    "duration": 43,
    "start_time": "2023-03-18T16:12:46.102Z"
   },
   {
    "duration": 34,
    "start_time": "2023-03-18T16:13:02.371Z"
   },
   {
    "duration": 249,
    "start_time": "2023-03-18T16:37:24.803Z"
   },
   {
    "duration": 233,
    "start_time": "2023-03-18T16:38:25.438Z"
   },
   {
    "duration": 235,
    "start_time": "2023-03-18T16:41:20.901Z"
   },
   {
    "duration": 222,
    "start_time": "2023-03-18T16:44:27.322Z"
   },
   {
    "duration": 219,
    "start_time": "2023-03-18T17:10:02.401Z"
   },
   {
    "duration": 3,
    "start_time": "2023-03-18T17:28:21.092Z"
   },
   {
    "duration": 20,
    "start_time": "2023-03-18T17:34:17.058Z"
   },
   {
    "duration": 95,
    "start_time": "2023-03-18T17:38:51.769Z"
   },
   {
    "duration": 13,
    "start_time": "2023-03-18T17:38:58.224Z"
   },
   {
    "duration": 20,
    "start_time": "2023-03-18T17:40:14.313Z"
   },
   {
    "duration": 3,
    "start_time": "2023-03-18T17:40:30.566Z"
   },
   {
    "duration": 5,
    "start_time": "2023-03-18T17:40:47.115Z"
   },
   {
    "duration": 96,
    "start_time": "2023-03-18T17:40:56.940Z"
   },
   {
    "duration": 6,
    "start_time": "2023-03-18T17:41:06.644Z"
   },
   {
    "duration": 5,
    "start_time": "2023-03-18T17:42:55.873Z"
   },
   {
    "duration": 5,
    "start_time": "2023-03-18T17:43:04.133Z"
   },
   {
    "duration": 91,
    "start_time": "2023-03-18T17:43:43.505Z"
   },
   {
    "duration": 92,
    "start_time": "2023-03-18T17:43:53.598Z"
   },
   {
    "duration": 10,
    "start_time": "2023-03-18T17:44:00.404Z"
   },
   {
    "duration": 8,
    "start_time": "2023-03-18T17:44:27.102Z"
   },
   {
    "duration": 7,
    "start_time": "2023-03-18T17:57:12.909Z"
   },
   {
    "duration": 19,
    "start_time": "2023-03-18T17:58:00.105Z"
   },
   {
    "duration": 6,
    "start_time": "2023-03-18T17:58:40.432Z"
   },
   {
    "duration": 6,
    "start_time": "2023-03-18T17:58:54.037Z"
   },
   {
    "duration": 8,
    "start_time": "2023-03-18T17:58:59.226Z"
   },
   {
    "duration": 3,
    "start_time": "2023-03-18T18:35:17.224Z"
   },
   {
    "duration": 78,
    "start_time": "2023-03-18T18:36:36.939Z"
   },
   {
    "duration": 8,
    "start_time": "2023-03-18T18:36:50.510Z"
   },
   {
    "duration": 18,
    "start_time": "2023-03-18T18:37:51.479Z"
   },
   {
    "duration": 9,
    "start_time": "2023-03-18T18:38:22.356Z"
   },
   {
    "duration": 9,
    "start_time": "2023-03-18T18:38:23.993Z"
   },
   {
    "duration": 11,
    "start_time": "2023-03-18T18:45:12.804Z"
   },
   {
    "duration": 8,
    "start_time": "2023-03-18T18:45:36.858Z"
   },
   {
    "duration": 6,
    "start_time": "2023-03-18T18:46:23.552Z"
   },
   {
    "duration": 8,
    "start_time": "2023-03-18T18:47:20.035Z"
   },
   {
    "duration": 9,
    "start_time": "2023-03-18T18:47:38.518Z"
   },
   {
    "duration": 7,
    "start_time": "2023-03-18T18:47:59.128Z"
   },
   {
    "duration": 12,
    "start_time": "2023-03-18T18:48:05.030Z"
   },
   {
    "duration": 125,
    "start_time": "2023-03-18T18:48:40.814Z"
   },
   {
    "duration": 7,
    "start_time": "2023-03-18T18:48:52.622Z"
   },
   {
    "duration": 6,
    "start_time": "2023-03-18T18:49:11.823Z"
   },
   {
    "duration": 109,
    "start_time": "2023-03-18T18:49:39.275Z"
   },
   {
    "duration": 35,
    "start_time": "2023-03-18T18:50:01.535Z"
   },
   {
    "duration": 28,
    "start_time": "2023-03-18T18:50:25.782Z"
   },
   {
    "duration": 53,
    "start_time": "2023-03-18T18:50:49.853Z"
   },
   {
    "duration": 7,
    "start_time": "2023-03-18T18:54:18.959Z"
   },
   {
    "duration": 7,
    "start_time": "2023-03-18T18:54:23.441Z"
   },
   {
    "duration": 12,
    "start_time": "2023-03-18T18:54:28.120Z"
   }
  ],
  "colab": {
   "provenance": []
  },
  "kernelspec": {
   "display_name": "Python 3 (ipykernel)",
   "language": "python",
   "name": "python3"
  },
  "language_info": {
   "codemirror_mode": {
    "name": "ipython",
    "version": 3
   },
   "file_extension": ".py",
   "mimetype": "text/x-python",
   "name": "python",
   "nbconvert_exporter": "python",
   "pygments_lexer": "ipython3",
   "version": "3.9.5"
  },
  "toc": {
   "base_numbering": 1,
   "nav_menu": {},
   "number_sections": true,
   "sideBar": true,
   "skip_h1_title": true,
   "title_cell": "Table of Contents",
   "title_sidebar": "Contents",
   "toc_cell": false,
   "toc_position": {},
   "toc_section_display": true,
   "toc_window_display": false
  }
 },
 "nbformat": 4,
 "nbformat_minor": 1
}
