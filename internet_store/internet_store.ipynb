{
 "cells": [
  {
   "cell_type": "markdown",
   "metadata": {},
   "source": [
    "# Принятие решений в бизнесе"
   ]
  },
  {
   "cell_type": "markdown",
   "metadata": {},
   "source": [
    "### Описание проекта\n",
    "\n",
    "<p></p>\n",
    "<b>Наш заказчик</b> - крупный интернет-магазин.\n",
    "Предоставлено 9 гипотез по увеличению выручки интернет-магазина с указанными параметрами Reach, Impact, Confidence, Effort, а также результаты проведенного A/B-теста. \n",
    "<b>Задача:</b> приоритизировать гипотезы, запустить A/B-тест и проанализировать результаты.\n",
    "    \n",
    "***Цели Исследования:***\n",
    "- ознакомиться с данными и выполнить их предобработку(имена колонок, типы данных, пропуски) \n",
    "- провести исследовательский анализ данных\n",
    "- провести приоритезацию гипотез:\n",
    "   - применив ICE\n",
    "   - применив RICE\n",
    "   - сравнить результаты\n",
    "- провести A/B-тест:\n",
    "   - график кумулятивной выручки по группам\n",
    "   - график кумулятивного среднего чека по группам\n",
    "   - график относительного изменения кумулятивного среднего чека группы B к группе A\n",
    "   - график кумулятивного среднего количества заказов на посетителя по группам\n",
    "   - график относительного изменения кумулятивного среднего количества заказов на посетителя группы B к группе A\n",
    "   - точечный график количества заказов по пользователям. \n",
    "   - расчет 95-го и 99-го перцентиля количества заказов на пользователя, выбор границы аномальных пользователей\n",
    "   - точечный график стоимостей заказов\n",
    "   - расчет 95-го и 99-го перцентиля стоимости заказов, выбор границы аномальных пользователей\n",
    "   - расчет статистической значимости различий в среднем количестве заказов на посетителя между группами по «сырым» данным\n",
    "   - расчет статистической значимости различий в среднем чеке заказа между группами по «сырым» данным\n",
    "   - расчет статистической значимости различий в среднем количестве заказов на посетителя между группами по «очищенным» данным\n",
    "   - расчет статистической значимости различий в среднем чеке заказа между группами по «очищенным» данным\n",
    "- зафиксировать основной вывод и принять решение:\n",
    "   - Остановить тест, зафиксировать победу одной из групп\n",
    "   - Остановить тест, зафиксировать отсутствие различий между группами\n",
    "   - Продолжить тест\n",
    "\n",
    "### Описание данных: \n",
    "\n",
    "<p></p>\n",
    "<div style=\"border:solid black 1px; padding: 20px\">\n",
    "Предоставлены данные по 9 гипотезам и результатам А/В тестов.<br> \n",
    "    Каждая гипотеза описана 5 признаками - название гипотезы, параметры Reach(охват), Impact(влияние), Confidence(уверенность), Efforts(цена). Оценка параметров идет по 10-бальной шкале.<br>\n",
    "    О результатах теста нам известно, что в тесте принимали участие две группы, всего 1031 человек. Длительность теста - 1 месяц, с 1 августа 2019 по 31 августа 2019. Есть данные о идентификаторе заказа и пользователя, выручке заказа, количестве пользователей в тестируемой группе.<br>\n",
    "    </div>"
   ]
  },
  {
   "cell_type": "markdown",
   "metadata": {},
   "source": [
    "## Импорт данных и изучение общей информации"
   ]
  },
  {
   "cell_type": "code",
   "execution_count": 1,
   "metadata": {},
   "outputs": [],
   "source": [
    "# импорт библиотек \n",
    "import pandas as pd;\n",
    "import numpy as np;\n",
    "import matplotlib.pyplot as plt;\n",
    "import seaborn as sns;\n",
    "import datetime as dt\n",
    "from scipy import stats as st\n",
    "import math as mth"
   ]
  },
  {
   "cell_type": "code",
   "execution_count": 2,
   "metadata": {},
   "outputs": [],
   "source": [
    "# чтение csv-файлов\n",
    "hypothesis, orders, visitors = (\n",
    "    pd.read_csv('/datasets/hypothesis.csv', sep=','),\n",
    "    pd.read_csv('/datasets/orders.csv', sep=','),\n",
    "    pd.read_csv('/datasets/visitors.csv', sep=',')\n",
    "    )"
   ]
  },
  {
   "cell_type": "code",
   "execution_count": 3,
   "metadata": {},
   "outputs": [],
   "source": [
    "# сброс ограничений на количество и ширину столбцов\n",
    "pd.set_option('display.max_colwidth', None)\n",
    "pd.set_option('display.max_columns', None)"
   ]
  },
  {
   "cell_type": "code",
   "execution_count": 4,
   "metadata": {},
   "outputs": [
    {
     "name": "stdout",
     "output_type": "stream",
     "text": [
      "<class 'pandas.core.frame.DataFrame'>\n",
      "RangeIndex: 9 entries, 0 to 8\n",
      "Data columns (total 5 columns):\n",
      " #   Column      Non-Null Count  Dtype \n",
      "---  ------      --------------  ----- \n",
      " 0   Hypothesis  9 non-null      object\n",
      " 1   Reach       9 non-null      int64 \n",
      " 2   Impact      9 non-null      int64 \n",
      " 3   Confidence  9 non-null      int64 \n",
      " 4   Efforts     9 non-null      int64 \n",
      "dtypes: int64(4), object(1)\n",
      "memory usage: 488.0+ bytes\n"
     ]
    },
    {
     "data": {
      "text/html": [
       "<div>\n",
       "<style scoped>\n",
       "    .dataframe tbody tr th:only-of-type {\n",
       "        vertical-align: middle;\n",
       "    }\n",
       "\n",
       "    .dataframe tbody tr th {\n",
       "        vertical-align: top;\n",
       "    }\n",
       "\n",
       "    .dataframe thead th {\n",
       "        text-align: right;\n",
       "    }\n",
       "</style>\n",
       "<table border=\"1\" class=\"dataframe\">\n",
       "  <thead>\n",
       "    <tr style=\"text-align: right;\">\n",
       "      <th></th>\n",
       "      <th>Hypothesis</th>\n",
       "      <th>Reach</th>\n",
       "      <th>Impact</th>\n",
       "      <th>Confidence</th>\n",
       "      <th>Efforts</th>\n",
       "    </tr>\n",
       "  </thead>\n",
       "  <tbody>\n",
       "    <tr>\n",
       "      <th>0</th>\n",
       "      <td>Добавить два новых канала привлечения трафика, что позволит привлекать на 30% больше пользователей</td>\n",
       "      <td>3</td>\n",
       "      <td>10</td>\n",
       "      <td>8</td>\n",
       "      <td>6</td>\n",
       "    </tr>\n",
       "    <tr>\n",
       "      <th>1</th>\n",
       "      <td>Запустить собственную службу доставки, что сократит срок доставки заказов</td>\n",
       "      <td>2</td>\n",
       "      <td>5</td>\n",
       "      <td>4</td>\n",
       "      <td>10</td>\n",
       "    </tr>\n",
       "    <tr>\n",
       "      <th>2</th>\n",
       "      <td>Добавить блоки рекомендаций товаров на сайт интернет магазина, чтобы повысить конверсию и средний чек заказа</td>\n",
       "      <td>8</td>\n",
       "      <td>3</td>\n",
       "      <td>7</td>\n",
       "      <td>3</td>\n",
       "    </tr>\n",
       "    <tr>\n",
       "      <th>3</th>\n",
       "      <td>Изменить структура категорий, что увеличит конверсию, т.к. пользователи быстрее найдут нужный товар</td>\n",
       "      <td>8</td>\n",
       "      <td>3</td>\n",
       "      <td>3</td>\n",
       "      <td>8</td>\n",
       "    </tr>\n",
       "    <tr>\n",
       "      <th>4</th>\n",
       "      <td>Изменить цвет фона главной страницы, чтобы увеличить вовлеченность пользователей</td>\n",
       "      <td>3</td>\n",
       "      <td>1</td>\n",
       "      <td>1</td>\n",
       "      <td>1</td>\n",
       "    </tr>\n",
       "    <tr>\n",
       "      <th>5</th>\n",
       "      <td>Добавить страницу отзывов клиентов о магазине, что позволит увеличить количество заказов</td>\n",
       "      <td>3</td>\n",
       "      <td>2</td>\n",
       "      <td>2</td>\n",
       "      <td>3</td>\n",
       "    </tr>\n",
       "    <tr>\n",
       "      <th>6</th>\n",
       "      <td>Показать на главной странице баннеры с актуальными акциями и распродажами, чтобы увеличить конверсию</td>\n",
       "      <td>5</td>\n",
       "      <td>3</td>\n",
       "      <td>8</td>\n",
       "      <td>3</td>\n",
       "    </tr>\n",
       "    <tr>\n",
       "      <th>7</th>\n",
       "      <td>Добавить форму подписки на все основные страницы, чтобы собрать базу клиентов для email-рассылок</td>\n",
       "      <td>10</td>\n",
       "      <td>7</td>\n",
       "      <td>8</td>\n",
       "      <td>5</td>\n",
       "    </tr>\n",
       "    <tr>\n",
       "      <th>8</th>\n",
       "      <td>Запустить акцию, дающую скидку на товар в день рождения</td>\n",
       "      <td>1</td>\n",
       "      <td>9</td>\n",
       "      <td>9</td>\n",
       "      <td>5</td>\n",
       "    </tr>\n",
       "  </tbody>\n",
       "</table>\n",
       "</div>"
      ],
      "text/plain": [
       "                                                                                                     Hypothesis  \\\n",
       "0            Добавить два новых канала привлечения трафика, что позволит привлекать на 30% больше пользователей   \n",
       "1                                     Запустить собственную службу доставки, что сократит срок доставки заказов   \n",
       "2  Добавить блоки рекомендаций товаров на сайт интернет магазина, чтобы повысить конверсию и средний чек заказа   \n",
       "3           Изменить структура категорий, что увеличит конверсию, т.к. пользователи быстрее найдут нужный товар   \n",
       "4                              Изменить цвет фона главной страницы, чтобы увеличить вовлеченность пользователей   \n",
       "5                      Добавить страницу отзывов клиентов о магазине, что позволит увеличить количество заказов   \n",
       "6          Показать на главной странице баннеры с актуальными акциями и распродажами, чтобы увеличить конверсию   \n",
       "7              Добавить форму подписки на все основные страницы, чтобы собрать базу клиентов для email-рассылок   \n",
       "8                                                       Запустить акцию, дающую скидку на товар в день рождения   \n",
       "\n",
       "   Reach  Impact  Confidence  Efforts  \n",
       "0      3      10           8        6  \n",
       "1      2       5           4       10  \n",
       "2      8       3           7        3  \n",
       "3      8       3           3        8  \n",
       "4      3       1           1        1  \n",
       "5      3       2           2        3  \n",
       "6      5       3           8        3  \n",
       "7     10       7           8        5  \n",
       "8      1       9           9        5  "
      ]
     },
     "metadata": {},
     "output_type": "display_data"
    },
    {
     "data": {
      "text/plain": [
       "0"
      ]
     },
     "metadata": {},
     "output_type": "display_data"
    },
    {
     "data": {
      "text/plain": [
       "(None, None, None)"
      ]
     },
     "metadata": {},
     "output_type": "display_data"
    }
   ],
   "source": [
    "# функция для знакомства с данными\n",
    "def get_info(df, n):\n",
    "    return (\n",
    "            df.info(),\n",
    "            display(df.head(n)),\n",
    "            display(df.duplicated().sum()),\n",
    "            )\n",
    "\n",
    "\n",
    "# вывод основной информации visits\n",
    "display(get_info(hypothesis, 9))"
   ]
  },
  {
   "cell_type": "code",
   "execution_count": 5,
   "metadata": {},
   "outputs": [
    {
     "name": "stdout",
     "output_type": "stream",
     "text": [
      "<class 'pandas.core.frame.DataFrame'>\n",
      "RangeIndex: 1197 entries, 0 to 1196\n",
      "Data columns (total 5 columns):\n",
      " #   Column         Non-Null Count  Dtype \n",
      "---  ------         --------------  ----- \n",
      " 0   transactionId  1197 non-null   int64 \n",
      " 1   visitorId      1197 non-null   int64 \n",
      " 2   date           1197 non-null   object\n",
      " 3   revenue        1197 non-null   int64 \n",
      " 4   group          1197 non-null   object\n",
      "dtypes: int64(3), object(2)\n",
      "memory usage: 46.9+ KB\n"
     ]
    },
    {
     "data": {
      "text/html": [
       "<div>\n",
       "<style scoped>\n",
       "    .dataframe tbody tr th:only-of-type {\n",
       "        vertical-align: middle;\n",
       "    }\n",
       "\n",
       "    .dataframe tbody tr th {\n",
       "        vertical-align: top;\n",
       "    }\n",
       "\n",
       "    .dataframe thead th {\n",
       "        text-align: right;\n",
       "    }\n",
       "</style>\n",
       "<table border=\"1\" class=\"dataframe\">\n",
       "  <thead>\n",
       "    <tr style=\"text-align: right;\">\n",
       "      <th></th>\n",
       "      <th>transactionId</th>\n",
       "      <th>visitorId</th>\n",
       "      <th>date</th>\n",
       "      <th>revenue</th>\n",
       "      <th>group</th>\n",
       "    </tr>\n",
       "  </thead>\n",
       "  <tbody>\n",
       "    <tr>\n",
       "      <th>0</th>\n",
       "      <td>3667963787</td>\n",
       "      <td>3312258926</td>\n",
       "      <td>2019-08-15</td>\n",
       "      <td>1650</td>\n",
       "      <td>B</td>\n",
       "    </tr>\n",
       "    <tr>\n",
       "      <th>1</th>\n",
       "      <td>2804400009</td>\n",
       "      <td>3642806036</td>\n",
       "      <td>2019-08-15</td>\n",
       "      <td>730</td>\n",
       "      <td>B</td>\n",
       "    </tr>\n",
       "    <tr>\n",
       "      <th>2</th>\n",
       "      <td>2961555356</td>\n",
       "      <td>4069496402</td>\n",
       "      <td>2019-08-15</td>\n",
       "      <td>400</td>\n",
       "      <td>A</td>\n",
       "    </tr>\n",
       "    <tr>\n",
       "      <th>3</th>\n",
       "      <td>3797467345</td>\n",
       "      <td>1196621759</td>\n",
       "      <td>2019-08-15</td>\n",
       "      <td>9759</td>\n",
       "      <td>B</td>\n",
       "    </tr>\n",
       "    <tr>\n",
       "      <th>4</th>\n",
       "      <td>2282983706</td>\n",
       "      <td>2322279887</td>\n",
       "      <td>2019-08-15</td>\n",
       "      <td>2308</td>\n",
       "      <td>B</td>\n",
       "    </tr>\n",
       "  </tbody>\n",
       "</table>\n",
       "</div>"
      ],
      "text/plain": [
       "   transactionId   visitorId        date  revenue group\n",
       "0     3667963787  3312258926  2019-08-15     1650     B\n",
       "1     2804400009  3642806036  2019-08-15      730     B\n",
       "2     2961555356  4069496402  2019-08-15      400     A\n",
       "3     3797467345  1196621759  2019-08-15     9759     B\n",
       "4     2282983706  2322279887  2019-08-15     2308     B"
      ]
     },
     "metadata": {},
     "output_type": "display_data"
    },
    {
     "data": {
      "text/plain": [
       "0"
      ]
     },
     "metadata": {},
     "output_type": "display_data"
    },
    {
     "data": {
      "text/plain": [
       "(None, None, None)"
      ]
     },
     "execution_count": 5,
     "metadata": {},
     "output_type": "execute_result"
    }
   ],
   "source": [
    "# вывод основной информации orders\n",
    "get_info(orders, 5)"
   ]
  },
  {
   "cell_type": "code",
   "execution_count": 6,
   "metadata": {},
   "outputs": [
    {
     "name": "stdout",
     "output_type": "stream",
     "text": [
      "<class 'pandas.core.frame.DataFrame'>\n",
      "RangeIndex: 62 entries, 0 to 61\n",
      "Data columns (total 3 columns):\n",
      " #   Column    Non-Null Count  Dtype \n",
      "---  ------    --------------  ----- \n",
      " 0   date      62 non-null     object\n",
      " 1   group     62 non-null     object\n",
      " 2   visitors  62 non-null     int64 \n",
      "dtypes: int64(1), object(2)\n",
      "memory usage: 1.6+ KB\n"
     ]
    },
    {
     "data": {
      "text/html": [
       "<div>\n",
       "<style scoped>\n",
       "    .dataframe tbody tr th:only-of-type {\n",
       "        vertical-align: middle;\n",
       "    }\n",
       "\n",
       "    .dataframe tbody tr th {\n",
       "        vertical-align: top;\n",
       "    }\n",
       "\n",
       "    .dataframe thead th {\n",
       "        text-align: right;\n",
       "    }\n",
       "</style>\n",
       "<table border=\"1\" class=\"dataframe\">\n",
       "  <thead>\n",
       "    <tr style=\"text-align: right;\">\n",
       "      <th></th>\n",
       "      <th>date</th>\n",
       "      <th>group</th>\n",
       "      <th>visitors</th>\n",
       "    </tr>\n",
       "  </thead>\n",
       "  <tbody>\n",
       "    <tr>\n",
       "      <th>0</th>\n",
       "      <td>2019-08-01</td>\n",
       "      <td>A</td>\n",
       "      <td>719</td>\n",
       "    </tr>\n",
       "    <tr>\n",
       "      <th>1</th>\n",
       "      <td>2019-08-02</td>\n",
       "      <td>A</td>\n",
       "      <td>619</td>\n",
       "    </tr>\n",
       "    <tr>\n",
       "      <th>2</th>\n",
       "      <td>2019-08-03</td>\n",
       "      <td>A</td>\n",
       "      <td>507</td>\n",
       "    </tr>\n",
       "    <tr>\n",
       "      <th>3</th>\n",
       "      <td>2019-08-04</td>\n",
       "      <td>A</td>\n",
       "      <td>717</td>\n",
       "    </tr>\n",
       "    <tr>\n",
       "      <th>4</th>\n",
       "      <td>2019-08-05</td>\n",
       "      <td>A</td>\n",
       "      <td>756</td>\n",
       "    </tr>\n",
       "  </tbody>\n",
       "</table>\n",
       "</div>"
      ],
      "text/plain": [
       "         date group  visitors\n",
       "0  2019-08-01     A       719\n",
       "1  2019-08-02     A       619\n",
       "2  2019-08-03     A       507\n",
       "3  2019-08-04     A       717\n",
       "4  2019-08-05     A       756"
      ]
     },
     "metadata": {},
     "output_type": "display_data"
    },
    {
     "data": {
      "text/plain": [
       "0"
      ]
     },
     "metadata": {},
     "output_type": "display_data"
    },
    {
     "data": {
      "text/plain": [
       "(None, None, None)"
      ]
     },
     "execution_count": 6,
     "metadata": {},
     "output_type": "execute_result"
    }
   ],
   "source": [
    "# вывод основной информации visitors\n",
    "get_info(visitors, 5)"
   ]
  },
  {
   "cell_type": "markdown",
   "metadata": {},
   "source": [
    "*Пропусков в столбцах и явных дубликатов нет, но следует изменить названия колонок и тип данных в столбцах с датами.*"
   ]
  },
  {
   "cell_type": "code",
   "execution_count": 7,
   "metadata": {},
   "outputs": [
    {
     "name": "stdout",
     "output_type": "stream",
     "text": [
      "<class 'pandas.core.frame.DataFrame'>\n",
      "RangeIndex: 9 entries, 0 to 8\n",
      "Data columns (total 5 columns):\n",
      " #   Column      Non-Null Count  Dtype \n",
      "---  ------      --------------  ----- \n",
      " 0   hypothesis  9 non-null      object\n",
      " 1   reach       9 non-null      int64 \n",
      " 2   impact      9 non-null      int64 \n",
      " 3   confidence  9 non-null      int64 \n",
      " 4   efforts     9 non-null      int64 \n",
      "dtypes: int64(4), object(1)\n",
      "memory usage: 488.0+ bytes\n",
      "<class 'pandas.core.frame.DataFrame'>\n",
      "RangeIndex: 1197 entries, 0 to 1196\n",
      "Data columns (total 5 columns):\n",
      " #   Column          Non-Null Count  Dtype \n",
      "---  ------          --------------  ----- \n",
      " 0   transaction_id  1197 non-null   int64 \n",
      " 1   visitor_id      1197 non-null   int64 \n",
      " 2   date            1197 non-null   object\n",
      " 3   revenue         1197 non-null   int64 \n",
      " 4   group           1197 non-null   object\n",
      "dtypes: int64(3), object(2)\n",
      "memory usage: 46.9+ KB\n",
      "<class 'pandas.core.frame.DataFrame'>\n",
      "RangeIndex: 62 entries, 0 to 61\n",
      "Data columns (total 3 columns):\n",
      " #   Column    Non-Null Count  Dtype \n",
      "---  ------    --------------  ----- \n",
      " 0   date      62 non-null     object\n",
      " 1   group     62 non-null     object\n",
      " 2   visitors  62 non-null     int64 \n",
      "dtypes: int64(1), object(2)\n",
      "memory usage: 1.6+ KB\n"
     ]
    }
   ],
   "source": [
    "# функция переименования названий колонок\n",
    "def change_name(df):\n",
    "    df.columns = [x.replace('Id', '_id').lower() for x in df.columns]\n",
    "    return df.info()\n",
    "\n",
    "change_name(hypothesis)\n",
    "change_name(orders)\n",
    "change_name(visitors)"
   ]
  },
  {
   "cell_type": "code",
   "execution_count": 8,
   "metadata": {},
   "outputs": [],
   "source": [
    "# изменение типа данных\n",
    "orders['date'] = pd.to_datetime(orders['date'])\n",
    "visitors['date'] = pd.to_datetime(visitors['date'])"
   ]
  },
  {
   "cell_type": "code",
   "execution_count": 9,
   "metadata": {},
   "outputs": [
    {
     "name": "stdout",
     "output_type": "stream",
     "text": [
      "Общее число участников теста: 1031 человек\n",
      "В группе А приняло участие 503 человека\n",
      "В группе B приняло участие 586 человек\n",
      "58 человек встречается в обеих группах\n"
     ]
    }
   ],
   "source": [
    "# изучение состава групп\n",
    "print(f'Общее число участников теста: {orders[\"visitor_id\"].nunique()} человек')\n",
    "print('В группе А приняло участие', orders.query('group==\"A\"')['visitor_id'].nunique(), 'человека')\n",
    "print('В группе B приняло участие', orders.query('group==\"B\"')['visitor_id'].nunique(), 'человек')\n",
    "\n",
    "print(len(set(orders.query('group==\"A\"')[\"visitor_id\"])\\\n",
    "& set (orders.query('group==\"B\"')['visitor_id'])), 'человек встречается в обеих группах')"
   ]
  },
  {
   "cell_type": "markdown",
   "metadata": {},
   "source": [
    "#### Вывод после предобработки данных: \n",
    "\n",
    "<div style=\"border:solid pink 5px; padding: 20px\">\n",
    "<li>Мы выгрузили три датафрейма и присвоили переменным, импортировали необходимые библиотеки для дальнейшей работы. Далее изучили общую информацию о данных.\n",
    "<li>Во всех датафреймах отсутствуют пропуски. </li>    \n",
    "<li>Были обработаны имена столбцов во всех датафреймах: приведены к одному стилю.</li>\n",
    "<li>В столбцах, содержащих даты, был изменен тип данных на datetime, так как он необходим для проведения дальнейших исследований.</li> \n",
    "<li>Дубликаты в таблицах обнаружены не были.</li>    \n",
    "<li>В тесте приняли участие 1031 человек. Мы видим пересечение пользователей, но исключить дубликаты нет возможности из-за отсутствия id в таблице visitors.</li>     \n",
    "</div> "
   ]
  },
  {
   "cell_type": "markdown",
   "metadata": {},
   "source": [
    "## Приоритезация гипотез"
   ]
  },
  {
   "cell_type": "markdown",
   "metadata": {},
   "source": [
    "### фреймворк ICE"
   ]
  },
  {
   "cell_type": "code",
   "execution_count": 10,
   "metadata": {},
   "outputs": [
    {
     "data": {
      "text/html": [
       "<div>\n",
       "<style scoped>\n",
       "    .dataframe tbody tr th:only-of-type {\n",
       "        vertical-align: middle;\n",
       "    }\n",
       "\n",
       "    .dataframe tbody tr th {\n",
       "        vertical-align: top;\n",
       "    }\n",
       "\n",
       "    .dataframe thead th {\n",
       "        text-align: right;\n",
       "    }\n",
       "</style>\n",
       "<table border=\"1\" class=\"dataframe\">\n",
       "  <thead>\n",
       "    <tr style=\"text-align: right;\">\n",
       "      <th></th>\n",
       "      <th>hypothesis</th>\n",
       "      <th>ICE</th>\n",
       "    </tr>\n",
       "  </thead>\n",
       "  <tbody>\n",
       "    <tr>\n",
       "      <th>8</th>\n",
       "      <td>Запустить акцию, дающую скидку на товар в день рождения</td>\n",
       "      <td>16.200</td>\n",
       "    </tr>\n",
       "    <tr>\n",
       "      <th>0</th>\n",
       "      <td>Добавить два новых канала привлечения трафика, что позволит привлекать на 30% больше пользователей</td>\n",
       "      <td>13.333</td>\n",
       "    </tr>\n",
       "    <tr>\n",
       "      <th>7</th>\n",
       "      <td>Добавить форму подписки на все основные страницы, чтобы собрать базу клиентов для email-рассылок</td>\n",
       "      <td>11.200</td>\n",
       "    </tr>\n",
       "    <tr>\n",
       "      <th>6</th>\n",
       "      <td>Показать на главной странице баннеры с актуальными акциями и распродажами, чтобы увеличить конверсию</td>\n",
       "      <td>8.000</td>\n",
       "    </tr>\n",
       "    <tr>\n",
       "      <th>2</th>\n",
       "      <td>Добавить блоки рекомендаций товаров на сайт интернет магазина, чтобы повысить конверсию и средний чек заказа</td>\n",
       "      <td>7.000</td>\n",
       "    </tr>\n",
       "    <tr>\n",
       "      <th>1</th>\n",
       "      <td>Запустить собственную службу доставки, что сократит срок доставки заказов</td>\n",
       "      <td>2.000</td>\n",
       "    </tr>\n",
       "    <tr>\n",
       "      <th>5</th>\n",
       "      <td>Добавить страницу отзывов клиентов о магазине, что позволит увеличить количество заказов</td>\n",
       "      <td>1.333</td>\n",
       "    </tr>\n",
       "    <tr>\n",
       "      <th>3</th>\n",
       "      <td>Изменить структура категорий, что увеличит конверсию, т.к. пользователи быстрее найдут нужный товар</td>\n",
       "      <td>1.125</td>\n",
       "    </tr>\n",
       "    <tr>\n",
       "      <th>4</th>\n",
       "      <td>Изменить цвет фона главной страницы, чтобы увеличить вовлеченность пользователей</td>\n",
       "      <td>1.000</td>\n",
       "    </tr>\n",
       "  </tbody>\n",
       "</table>\n",
       "</div>"
      ],
      "text/plain": [
       "                                                                                                     hypothesis  \\\n",
       "8                                                       Запустить акцию, дающую скидку на товар в день рождения   \n",
       "0            Добавить два новых канала привлечения трафика, что позволит привлекать на 30% больше пользователей   \n",
       "7              Добавить форму подписки на все основные страницы, чтобы собрать базу клиентов для email-рассылок   \n",
       "6          Показать на главной странице баннеры с актуальными акциями и распродажами, чтобы увеличить конверсию   \n",
       "2  Добавить блоки рекомендаций товаров на сайт интернет магазина, чтобы повысить конверсию и средний чек заказа   \n",
       "1                                     Запустить собственную службу доставки, что сократит срок доставки заказов   \n",
       "5                      Добавить страницу отзывов клиентов о магазине, что позволит увеличить количество заказов   \n",
       "3           Изменить структура категорий, что увеличит конверсию, т.к. пользователи быстрее найдут нужный товар   \n",
       "4                              Изменить цвет фона главной страницы, чтобы увеличить вовлеченность пользователей   \n",
       "\n",
       "      ICE  \n",
       "8  16.200  \n",
       "0  13.333  \n",
       "7  11.200  \n",
       "6   8.000  \n",
       "2   7.000  \n",
       "1   2.000  \n",
       "5   1.333  \n",
       "3   1.125  \n",
       "4   1.000  "
      ]
     },
     "execution_count": 10,
     "metadata": {},
     "output_type": "execute_result"
    }
   ],
   "source": [
    "# расчет ICE\n",
    "hypothesis['ICE'] =\\\n",
    "          round((hypothesis['impact']*hypothesis['confidence'])/hypothesis['efforts'],3)\n",
    "\n",
    "hypothesis.sort_values(by='ICE', ascending=False, inplace=True)\n",
    "hypothesis[['hypothesis', 'ICE']]"
   ]
  },
  {
   "cell_type": "code",
   "execution_count": 11,
   "metadata": {},
   "outputs": [
    {
     "data": {
      "image/png": "[encoded data removed]",
      "text/plain": [
       "<Figure size 504x360 with 1 Axes>"
      ]
     },
     "metadata": {
      "needs_background": "light"
     },
     "output_type": "display_data"
    }
   ],
   "source": [
    "# создание графика распределения гипотез по приоритету\n",
    "fig, ax = plt.subplots(figsize=(7, 5))\n",
    "hypothesis[['hypothesis', 'ICE']].set_index('hypothesis')\\\n",
    "               .plot(kind='barh', ax=ax, color={'#ff0080'}, alpha=0.4) \n",
    "ax.legend(['ice'])\n",
    "ax.grid(True)\n",
    "ax.set_xlabel('приоритет')\n",
    "ax.set_ylabel('')\n",
    "ax.set_title('График распределения гипотез по приоритету ICE')\n",
    "plt.show()"
   ]
  },
  {
   "cell_type": "markdown",
   "metadata": {},
   "source": [
    "<div style=\"border:solid red 1px; padding: 20px\"> \n",
    "    <b><i>Вывод:</i></b><br>\n",
    "    Наиболее перспективные гипотезы - 8, 0, 7. Следующая группа по уменьшению важности - 6, 2. На графике визуально можно ознакомиться с тем, какие именно гипотезы стоит тестировать в первую очередь. Гипотезы, которые сильнее всего повлияют на пользователей, их опыт и удовлетворение от продукта\n",
    "    </div>"
   ]
  },
  {
   "cell_type": "markdown",
   "metadata": {},
   "source": [
    "### фреймворк RICE"
   ]
  },
  {
   "cell_type": "code",
   "execution_count": 12,
   "metadata": {},
   "outputs": [
    {
     "data": {
      "text/html": [
       "<div>\n",
       "<style scoped>\n",
       "    .dataframe tbody tr th:only-of-type {\n",
       "        vertical-align: middle;\n",
       "    }\n",
       "\n",
       "    .dataframe tbody tr th {\n",
       "        vertical-align: top;\n",
       "    }\n",
       "\n",
       "    .dataframe thead th {\n",
       "        text-align: right;\n",
       "    }\n",
       "</style>\n",
       "<table border=\"1\" class=\"dataframe\">\n",
       "  <thead>\n",
       "    <tr style=\"text-align: right;\">\n",
       "      <th></th>\n",
       "      <th>hypothesis</th>\n",
       "      <th>RICE</th>\n",
       "    </tr>\n",
       "  </thead>\n",
       "  <tbody>\n",
       "    <tr>\n",
       "      <th>7</th>\n",
       "      <td>Добавить форму подписки на все основные страницы, чтобы собрать базу клиентов для email-рассылок</td>\n",
       "      <td>112.0</td>\n",
       "    </tr>\n",
       "    <tr>\n",
       "      <th>2</th>\n",
       "      <td>Добавить блоки рекомендаций товаров на сайт интернет магазина, чтобы повысить конверсию и средний чек заказа</td>\n",
       "      <td>56.0</td>\n",
       "    </tr>\n",
       "    <tr>\n",
       "      <th>0</th>\n",
       "      <td>Добавить два новых канала привлечения трафика, что позволит привлекать на 30% больше пользователей</td>\n",
       "      <td>40.0</td>\n",
       "    </tr>\n",
       "    <tr>\n",
       "      <th>6</th>\n",
       "      <td>Показать на главной странице баннеры с актуальными акциями и распродажами, чтобы увеличить конверсию</td>\n",
       "      <td>40.0</td>\n",
       "    </tr>\n",
       "    <tr>\n",
       "      <th>8</th>\n",
       "      <td>Запустить акцию, дающую скидку на товар в день рождения</td>\n",
       "      <td>16.2</td>\n",
       "    </tr>\n",
       "    <tr>\n",
       "      <th>3</th>\n",
       "      <td>Изменить структура категорий, что увеличит конверсию, т.к. пользователи быстрее найдут нужный товар</td>\n",
       "      <td>9.0</td>\n",
       "    </tr>\n",
       "    <tr>\n",
       "      <th>1</th>\n",
       "      <td>Запустить собственную службу доставки, что сократит срок доставки заказов</td>\n",
       "      <td>4.0</td>\n",
       "    </tr>\n",
       "    <tr>\n",
       "      <th>5</th>\n",
       "      <td>Добавить страницу отзывов клиентов о магазине, что позволит увеличить количество заказов</td>\n",
       "      <td>4.0</td>\n",
       "    </tr>\n",
       "    <tr>\n",
       "      <th>4</th>\n",
       "      <td>Изменить цвет фона главной страницы, чтобы увеличить вовлеченность пользователей</td>\n",
       "      <td>3.0</td>\n",
       "    </tr>\n",
       "  </tbody>\n",
       "</table>\n",
       "</div>"
      ],
      "text/plain": [
       "                                                                                                     hypothesis  \\\n",
       "7              Добавить форму подписки на все основные страницы, чтобы собрать базу клиентов для email-рассылок   \n",
       "2  Добавить блоки рекомендаций товаров на сайт интернет магазина, чтобы повысить конверсию и средний чек заказа   \n",
       "0            Добавить два новых канала привлечения трафика, что позволит привлекать на 30% больше пользователей   \n",
       "6          Показать на главной странице баннеры с актуальными акциями и распродажами, чтобы увеличить конверсию   \n",
       "8                                                       Запустить акцию, дающую скидку на товар в день рождения   \n",
       "3           Изменить структура категорий, что увеличит конверсию, т.к. пользователи быстрее найдут нужный товар   \n",
       "1                                     Запустить собственную службу доставки, что сократит срок доставки заказов   \n",
       "5                      Добавить страницу отзывов клиентов о магазине, что позволит увеличить количество заказов   \n",
       "4                              Изменить цвет фона главной страницы, чтобы увеличить вовлеченность пользователей   \n",
       "\n",
       "    RICE  \n",
       "7  112.0  \n",
       "2   56.0  \n",
       "0   40.0  \n",
       "6   40.0  \n",
       "8   16.2  \n",
       "3    9.0  \n",
       "1    4.0  \n",
       "5    4.0  \n",
       "4    3.0  "
      ]
     },
     "execution_count": 12,
     "metadata": {},
     "output_type": "execute_result"
    }
   ],
   "source": [
    "# расчет RICE\n",
    "hypothesis['RICE'] = (hypothesis['reach']*hypothesis['impact']*hypothesis['confidence'])\\\n",
    "                      /hypothesis['efforts']\n",
    "\n",
    "hypothesis.sort_values(by='RICE', ascending=False, inplace=True)\n",
    "hypothesis[['hypothesis','RICE']]"
   ]
  },
  {
   "cell_type": "code",
   "execution_count": 13,
   "metadata": {},
   "outputs": [
    {
     "data": {
      "image/png": "[encoded data removed]",
      "text/plain": [
       "<Figure size 432x360 with 1 Axes>"
      ]
     },
     "metadata": {
      "needs_background": "light"
     },
     "output_type": "display_data"
    }
   ],
   "source": [
    "# создание графика распределения гипотез по приоритету\n",
    "fig, ax = plt.subplots(figsize=(6, 5))\n",
    "hypothesis[['hypothesis', 'RICE']].set_index('hypothesis')\\\n",
    "               .plot(kind='barh', ax=ax, color={'#ffba00'}, alpha=0.8) \n",
    "ax.legend(['rice'])\n",
    "ax.grid(True)\n",
    "ax.set_xlabel('приоритет')\n",
    "ax.set_ylabel('')\n",
    "ax.set_title('График распределения гипотез по приоритету RICE')\n",
    "plt.show()"
   ]
  },
  {
   "cell_type": "markdown",
   "metadata": {},
   "source": [
    "<div style=\"border:solid red 1px; padding: 20px\"> \n",
    "    <b><i>Вывод:</i></b><br>\n",
    "    Наиболее перспективные гипотезы - 7, 2, 0, 6, 8. На графике визуально можно ознакомиться с тем, какие именно гипотезы стоит тестировать в первую очередь.\n",
    "    </div>"
   ]
  },
  {
   "cell_type": "markdown",
   "metadata": {},
   "source": [
    "### как изменилась приоритизация гипотез "
   ]
  },
  {
   "cell_type": "code",
   "execution_count": 14,
   "metadata": {},
   "outputs": [
    {
     "data": {
      "text/html": [
       "<div>\n",
       "<style scoped>\n",
       "    .dataframe tbody tr th:only-of-type {\n",
       "        vertical-align: middle;\n",
       "    }\n",
       "\n",
       "    .dataframe tbody tr th {\n",
       "        vertical-align: top;\n",
       "    }\n",
       "\n",
       "    .dataframe thead th {\n",
       "        text-align: right;\n",
       "    }\n",
       "</style>\n",
       "<table border=\"1\" class=\"dataframe\">\n",
       "  <thead>\n",
       "    <tr style=\"text-align: right;\">\n",
       "      <th></th>\n",
       "      <th>hip_ice</th>\n",
       "      <th>hip_rice</th>\n",
       "    </tr>\n",
       "  </thead>\n",
       "  <tbody>\n",
       "    <tr>\n",
       "      <th>0</th>\n",
       "      <td>8</td>\n",
       "      <td>7</td>\n",
       "    </tr>\n",
       "    <tr>\n",
       "      <th>1</th>\n",
       "      <td>0</td>\n",
       "      <td>2</td>\n",
       "    </tr>\n",
       "    <tr>\n",
       "      <th>2</th>\n",
       "      <td>7</td>\n",
       "      <td>0</td>\n",
       "    </tr>\n",
       "    <tr>\n",
       "      <th>3</th>\n",
       "      <td>6</td>\n",
       "      <td>6</td>\n",
       "    </tr>\n",
       "    <tr>\n",
       "      <th>4</th>\n",
       "      <td>2</td>\n",
       "      <td>8</td>\n",
       "    </tr>\n",
       "    <tr>\n",
       "      <th>5</th>\n",
       "      <td>1</td>\n",
       "      <td>3</td>\n",
       "    </tr>\n",
       "    <tr>\n",
       "      <th>6</th>\n",
       "      <td>5</td>\n",
       "      <td>1</td>\n",
       "    </tr>\n",
       "    <tr>\n",
       "      <th>7</th>\n",
       "      <td>3</td>\n",
       "      <td>5</td>\n",
       "    </tr>\n",
       "    <tr>\n",
       "      <th>8</th>\n",
       "      <td>4</td>\n",
       "      <td>4</td>\n",
       "    </tr>\n",
       "  </tbody>\n",
       "</table>\n",
       "</div>"
      ],
      "text/plain": [
       "   hip_ice  hip_rice\n",
       "0        8         7\n",
       "1        0         2\n",
       "2        7         0\n",
       "3        6         6\n",
       "4        2         8\n",
       "5        1         3\n",
       "6        5         1\n",
       "7        3         5\n",
       "8        4         4"
      ]
     },
     "execution_count": 14,
     "metadata": {},
     "output_type": "execute_result"
    }
   ],
   "source": [
    "# создание таблицы\n",
    "hypothesis_rice = hypothesis[['RICE']]\n",
    "hypothesis_rice.reset_index(drop= False , inplace= True)\n",
    "hypothesis_rice.columns = ['hip_rice', 'RICE']\n",
    "\n",
    "hypothesis_ice = hypothesis.sort_values(by='ICE', ascending=False)[['ICE']]\n",
    "hypothesis_ice.reset_index(drop= False , inplace= True)\n",
    "hypothesis_ice.columns = ['hip_ice', 'RICE']\n",
    "\n",
    "pd.concat([hypothesis_ice['hip_ice'], hypothesis_rice['hip_rice']], axis=1)"
   ]
  },
  {
   "cell_type": "markdown",
   "metadata": {},
   "source": [
    "<div style=\"border:solid red 1px; padding: 20px\"> \n",
    "    <b><i>Вывод:</i></b><br>\n",
    "<li>В таблице представлена приотизация гипотез в зависимости от использованного фреймворка.</li>  \n",
    "<li>Топ-5 приоритетных гипотез не изменился - 0, 2, 6, 7, 8; но внутри этой пятерки разная последовательность. Так, например, 8 гипотеза с первого места сместилась на пятое, а 2 гипотеза с пятого места поднялась на второе, 7 - с третьего на первое.</li>  \n",
    "<li>Это связано с показателем Reach. У гипотез 7 и 2 этот показатель равен 10 и 8 соответственно, тогда как у 8 гипотезы показатель наименьший - 1. Один фреймворк(Rice) учитывает скольких пользователей затронет изменение, которое мы хотим внести, другой(Ice) - нет.</li>\n",
    "    </div>"
   ]
  },
  {
   "cell_type": "markdown",
   "metadata": {},
   "source": [
    "## Анализ A/B-теста"
   ]
  },
  {
   "cell_type": "code",
   "execution_count": 15,
   "metadata": {},
   "outputs": [
    {
     "name": "stdout",
     "output_type": "stream",
     "text": [
      "        date group  orders  buyers  revenue  visitors  conversion\n",
      "0 2019-08-01     A      24      20   148579       719       0.033\n",
      "1 2019-08-01     B      21      20   101217       713       0.029\n",
      "2 2019-08-02     A      44      38   242401      1338       0.033\n",
      "3 2019-08-02     B      45      43   266748      1294       0.035\n",
      "4 2019-08-03     A      68      62   354874      1845       0.037\n"
     ]
    }
   ],
   "source": [
    "# создание уникальных пар дат и групп теста\n",
    "date_groups = orders[['date','group']].drop_duplicates()\n",
    "\n",
    "# агрегирование кумулятивных по дням данных о заказах \n",
    "orders_agg = date_groups\\\n",
    "            .apply(lambda x:orders[np.logical_and(orders['date'] <= x['date'], \n",
    "                                                  orders['group'] == x['group'])]\\\n",
    "            .agg({'date' : 'max', 'group' : 'max', 'transaction_id' : 'nunique',\n",
    "                  'visitor_id' : 'nunique', 'revenue' : 'sum'}), axis=1)\\\n",
    "            .sort_values(by=['date','group'])\n",
    "\n",
    "# агрегирование кумулятивных по дням данных о посетителях интернет-магазина \n",
    "visitors_agg = date_groups\\\n",
    "              .apply(lambda x: visitors[np.logical_and(visitors['date'] <= x['date'],\n",
    "                                                       visitors['group'] == x['group'])]\\\n",
    "              .agg({'date' : 'max', 'group' : 'max', 'visitors' : 'sum'}), axis=1)\\\n",
    "              .sort_values(by=['date','group'])\n",
    "\n",
    "# объединение кумулятивных данных в одной таблице\n",
    "date_cumulative = orders_agg.merge(visitors_agg, \n",
    "                                   on=['date', 'group'], \n",
    "                                   )\n",
    "date_cumulative.columns = ['date', 'group', 'orders', 'buyers', 'revenue', 'visitors']\n",
    "\n",
    "# расчет среднего количества заказов на посетителя\n",
    "date_cumulative['conversion'] = round(date_cumulative['orders']/date_cumulative['visitors'],3)\n",
    "\n",
    "\n",
    "print(date_cumulative.head()) \n"
   ]
  },
  {
   "cell_type": "markdown",
   "metadata": {},
   "source": [
    "### график кумулятивной выручки по группам"
   ]
  },
  {
   "cell_type": "code",
   "execution_count": 16,
   "metadata": {},
   "outputs": [
    {
     "data": {
      "image/png": "[encoded data removed]",
      "text/plain": [
       "<Figure size 720x360 with 1 Axes>"
      ]
     },
     "metadata": {
      "needs_background": "light"
     },
     "output_type": "display_data"
    }
   ],
   "source": [
    "# датафреймы с кумулятивным количеством заказов и кумулятивной выручкой по дням в разрезе групп\n",
    "orders_A = date_cumulative[date_cumulative['group']=='A'][['date', 'revenue', \n",
    "                                                           'orders', 'conversion']]\n",
    "orders_B = date_cumulative[date_cumulative['group']=='B'][['date', 'revenue', \n",
    "                                                           'orders', 'conversion']]\n",
    "\n",
    "# график выручки группы А\n",
    "fig, axes = plt.subplots(figsize=(10,5))\n",
    "plt.plot(orders_A['date'], orders_A['revenue'], label='A')\n",
    "\n",
    "# график выручки группы B\n",
    "plt.plot(orders_B['date'], orders_B['revenue'], label='B')\n",
    "\n",
    "plt.title('График динамики кумулятивной выручки по группам А и В')\n",
    "plt.ylabel(\"Выручка, млн.\")\n",
    "plt.xticks(rotation=45)\n",
    "plt.grid(True)\n",
    "plt.legend()\n",
    "plt.show()\n"
   ]
  },
  {
   "cell_type": "markdown",
   "metadata": {},
   "source": [
    "<div style=\"border:solid red 1px; padding: 20px\"> \n",
    "    <b><i>Вывод:</i></b><br>\n",
    "<li>Выручка увеличивается в течение всего теста у обеих групп линейно. Это положительная динамика, причем выручка у группы В больше, чем в группе А, на протяжении всего теста.</li>\n",
    "<li>График выручки группы А растет равномерно, стабильно.</li>\n",
    "<li>Однако график выручки групп В имеет резкую точку роста 19 августа. Это может сигнализировать о всплесках числа заказов, либо о появлении очень дорогих заказов в выборке. Возможно, в группе есть выбросы, надо провести исследование.</li>\n",
    "    </div>"
   ]
  },
  {
   "cell_type": "markdown",
   "metadata": {},
   "source": [
    "### график кумулятивного среднего чека по группам"
   ]
  },
  {
   "cell_type": "code",
   "execution_count": 17,
   "metadata": {},
   "outputs": [
    {
     "data": {
      "image/png": "[encoded data removed]",
      "text/plain": [
       "<Figure size 720x360 with 1 Axes>"
      ]
     },
     "metadata": {
      "needs_background": "light"
     },
     "output_type": "display_data"
    }
   ],
   "source": [
    "# график среднего чека группы А\n",
    "fig, axes = plt.subplots(figsize=(10,5))\n",
    "plt.plot(orders_A['date'], orders_A['revenue']/orders_A['orders'], label='A')\n",
    "\n",
    "# график среднего чека группы B\n",
    "plt.plot(orders_B['date'], orders_B['revenue']/orders_B['orders'], label='B')\n",
    "\n",
    "plt.title('График динамики кумулятивного среднего чека по группам А и В')\n",
    "plt.ylabel(\"Средний чек\")\n",
    "plt.xticks(rotation=45)\n",
    "plt.grid(True)\n",
    "plt.legend()\n",
    "plt.show()"
   ]
  },
  {
   "cell_type": "markdown",
   "metadata": {},
   "source": [
    "<div style=\"border:solid red 1px; padding: 20px\"> \n",
    "    <b><i>Вывод:</i></b><br>\n",
    "<li>Средний чек в группе В тоже имеет резкий скачок 19 августа, значит, имеет место дорогостоящая покупка в эту дату.</li>\n",
    "<li>Средний чек в группе А падал до 6 августа, затем отмечается рост, пик - 13 августа, затем становится равномерным до конца теста. Возможно, в группу А в первой половине теста попали небольшие заказы.</li>\n",
    "<li>Начиная с 19 августа в группе B отмечается нисходящий тренд, размер среднего чека снижается.</li>\n",
    "<li>В целом средний чек группы В выше, чем чек группы А. Исключение - 13 августа.</li>\n",
    "    </div>\n"
   ]
  },
  {
   "cell_type": "markdown",
   "metadata": {},
   "source": [
    "### график относительного изменения кумулятивного среднего чека группы B к группе A"
   ]
  },
  {
   "cell_type": "code",
   "execution_count": 18,
   "metadata": {},
   "outputs": [
    {
     "data": {
      "image/png": "[encoded data removed]",
      "text/plain": [
       "<Figure size 720x360 with 1 Axes>"
      ]
     },
     "metadata": {
      "needs_background": "light"
     },
     "output_type": "display_data"
    }
   ],
   "source": [
    "# объединение датафреймов\n",
    "merge_cumulative = orders_A.merge(orders_B, on='date', how='left', suffixes=['A','B'])\n",
    "\n",
    "# график относительного изменения кумулятивного среднего чека\n",
    "fig, axes = plt.subplots(figsize=(10,5))\n",
    "plt.plot(merge_cumulative['date'], \n",
    "         (merge_cumulative['revenueB']/merge_cumulative['ordersB'])\\\n",
    "         /(merge_cumulative['revenueA']/merge_cumulative['ordersA'])-1)\n",
    "\n",
    "plt.axhline(y=0, color='red', linestyle='--')\n",
    "plt.title('График относительного изменения среднего чека группы B к группе A')\n",
    "plt.ylabel(\"Средний чек\")\n",
    "plt.xticks(rotation=45)\n",
    "plt.grid(True)\n",
    "plt.show()"
   ]
  },
  {
   "cell_type": "markdown",
   "metadata": {},
   "source": [
    "<div style=\"border:solid red 1px; padding: 20px\"> \n",
    "    <b><i>Вывод:</i></b><br>\n",
    "<li>График неравномерен и нестабилен, в нескольких точках график различия между сегментами резко «скачет».</li> \n",
    "<li>13 августа резкое падение выручки в группе В, а 19 августа - резкий рост выручки в этой группе.</li> \n",
    "<li>В данных присутствуют выбросы и крупные заказы. Необходимо найти их и очистить данные, чтобы они не исказили результаты дальнейшего анализа.</li>\n",
    "        </div>"
   ]
  },
  {
   "cell_type": "markdown",
   "metadata": {},
   "source": [
    "### график кумулятивного среднего количества заказов на посетителя по группам"
   ]
  },
  {
   "cell_type": "code",
   "execution_count": 19,
   "metadata": {},
   "outputs": [
    {
     "data": {
      "image/png": "[encoded data removed]",
      "text/plain": [
       "<Figure size 1080x360 with 1 Axes>"
      ]
     },
     "metadata": {
      "needs_background": "light"
     },
     "output_type": "display_data"
    }
   ],
   "source": [
    "# график кумулятивного среднего количества заказов на посетителя группы А\n",
    "fig, axes = plt.subplots(figsize=(15,5))\n",
    "plt.plot(orders_A['date'], orders_A['conversion'], label='A')\n",
    "\n",
    "# график кумулятивного среднего количества заказов на посетителя группы B\n",
    "plt.plot(orders_B['date'], orders_B['conversion'], label='B')\n",
    "\n",
    "plt.title('График среднего количества заказов на посетителя по группам А и В')\n",
    "plt.ylabel(\"количество заказов\")\n",
    "plt.xticks(rotation=45)\n",
    "plt.grid(True)\n",
    "plt.legend(); "
   ]
  },
  {
   "cell_type": "markdown",
   "metadata": {},
   "source": [
    "<div style=\"border:solid red 1px; padding: 20px\"> \n",
    "    <b><i>Вывод:</i></b><br>\n",
    "<li>График имеет симметрию.</li>\n",
    "<li>Среднее количество заказов на посетителя групп А и В имели колебания в первые 5 дней теста.</li> \n",
    "<li>В начале теста группа А показывала среднее количество заказов выше, чем группа В.</li>\n",
    "<li>Но затем группа В вырвалась вперёд и зафиксировалась, а показатель группы А просел и также зафиксировался.</li>\n",
    "<li>Среднее количество заказов на посетителя в группе А плавает в пределах 0,029 и до 0,031, в группе В - от 0.033 до 0.036.</li>\n",
    "        </div>"
   ]
  },
  {
   "cell_type": "markdown",
   "metadata": {},
   "source": [
    "### график относительного изменения кумулятивного среднего количества заказов на посетителя группы B к группе A"
   ]
  },
  {
   "cell_type": "code",
   "execution_count": 20,
   "metadata": {},
   "outputs": [
    {
     "data": {
      "image/png": "[encoded data removed]",
      "text/plain": [
       "<Figure size 720x360 with 1 Axes>"
      ]
     },
     "metadata": {
      "needs_background": "light"
     },
     "output_type": "display_data"
    }
   ],
   "source": [
    "# график относительного изменения кумулятивного среднего количества заказов на посетителя\n",
    "fig, axes = plt.subplots(figsize=(10,5))\n",
    "plt.plot(merge_cumulative['date'], \n",
    "         (merge_cumulative['conversionB']/merge_cumulative['conversionA'])-1)\n",
    "\n",
    "plt.axhline(y=0, color='red', linestyle='--')\n",
    "plt.axhline(y=0.1, color='purple', linestyle='--')\n",
    "plt.title('График относительного изменения среднего количества заказов')\n",
    "plt.ylabel(\"количество заказов\")\n",
    "plt.xticks(rotation=45)\n",
    "plt.grid(True)\n",
    "plt.show()"
   ]
  },
  {
   "cell_type": "markdown",
   "metadata": {},
   "source": [
    "<div style=\"border:solid red 1px; padding: 20px\"> \n",
    "    <b><i>Вывод:</i></b><br>\n",
    "    Среднее количество заказов группы В почти с самого начала лидирует, исключение - 4 августа. Здесь отмечен резкий спад.<br>\n",
    "В дальнейшем количество заказов группы В увеличивалось, а после 9 августа не опускалось ниже 10% прироста относительно количества заказов группы А. И колеблется в пределах 10-20%.<br>\n",
    "     </div>"
   ]
  },
  {
   "cell_type": "markdown",
   "metadata": {},
   "source": [
    "### точечный график количества заказов по пользователям"
   ]
  },
  {
   "cell_type": "code",
   "execution_count": 21,
   "metadata": {},
   "outputs": [
    {
     "name": "stdout",
     "output_type": "stream",
     "text": [
      "         user_id  orders\n",
      "1023  4256040402      11\n",
      "591   2458001652      11\n",
      "569   2378935119       9\n",
      "487   2038680547       8\n",
      "44     199603092       5\n",
      "744   3062433592       5\n",
      "55     237748145       5\n",
      "917   3803269165       5\n",
      "299   1230306981       5\n",
      "897   3717692402       5\n"
     ]
    }
   ],
   "source": [
    "# создание датафрейма количества заказов по пользователям\n",
    "orders_users = (\n",
    "    orders.groupby('visitor_id', as_index=False)\n",
    "    .agg({'transaction_id': 'nunique'})\n",
    ")\n",
    "\n",
    "orders_users.columns = ['user_id', 'orders']\n",
    "\n",
    "print(orders_users.sort_values(by='orders', ascending=False).head(10)) "
   ]
  },
  {
   "cell_type": "code",
   "execution_count": 22,
   "metadata": {
    "scrolled": true
   },
   "outputs": [
    {
     "data": {
      "image/png": "[encoded data removed]",
      "text/plain": [
       "<Figure size 720x360 with 1 Axes>"
      ]
     },
     "metadata": {
      "needs_background": "light"
     },
     "output_type": "display_data"
    }
   ],
   "source": [
    "# гистограмма числа заказов по пользователям\n",
    "fig, axes = plt.subplots(figsize=(10,5))\n",
    "plt.hist(orders_users['orders'], bins=10, color='#e52b50', alpha=0.8) \n",
    "plt.title('Распределение количества заказов по пользователям')\n",
    "plt.xlabel('Количество заказов')\n",
    "plt.ylabel('Количество пользователей')\n",
    "plt.show()"
   ]
  },
  {
   "cell_type": "markdown",
   "metadata": {},
   "source": [
    "Большинство покупателей заказывали только один раз. Однако доля пользователей с 2-3 заказами тоже значительна. "
   ]
  },
  {
   "cell_type": "code",
   "execution_count": 23,
   "metadata": {},
   "outputs": [
    {
     "data": {
      "text/plain": [
       "count    1031.000000\n",
       "mean        1.161009\n",
       "std         0.724919\n",
       "min         1.000000\n",
       "25%         1.000000\n",
       "50%         1.000000\n",
       "75%         1.000000\n",
       "max        11.000000\n",
       "Name: orders, dtype: float64"
      ]
     },
     "execution_count": 23,
     "metadata": {},
     "output_type": "execute_result"
    }
   ],
   "source": [
    "# вывод статистических характеристик \n",
    "orders_users['orders'].describe()"
   ]
  },
  {
   "cell_type": "markdown",
   "metadata": {},
   "source": [
    "Сразу можно увидеть аномально большое число заказов - 11. Медиана равна 1. То есть в основном пользователи совершали 1 заказ. Из-за выбросов среднее отклонилось."
   ]
  },
  {
   "cell_type": "code",
   "execution_count": 24,
   "metadata": {},
   "outputs": [
    {
     "data": {
      "image/png": "[encoded data removed]",
      "text/plain": [
       "<Figure size 720x360 with 1 Axes>"
      ]
     },
     "metadata": {
      "needs_background": "light"
     },
     "output_type": "display_data"
    }
   ],
   "source": [
    "# построение диаграммы рассеяния \n",
    "fig, axes = plt.subplots(figsize=(10,5))\n",
    "x_values = pd.Series(range(0,len(orders_users)))\n",
    "plt.scatter(x_values, orders_users['orders'],color='green')\n",
    "plt.ylabel(\n",
    "    'число заказов')\n",
    "plt.title(\n",
    "    'Количество заказов по пользователям')\n",
    "plt.show()"
   ]
  },
  {
   "cell_type": "markdown",
   "metadata": {},
   "source": [
    "*Выводы подтверждаются: много пользователей с 2-3 заказами. Необходимо найти их точную долю, чтобы понять аномалии это или нет. Если их доля меньше 5%, то признаем их выбросами и исключим из исследования.*"
   ]
  },
  {
   "cell_type": "markdown",
   "metadata": {},
   "source": [
    "Рассчитаем перцентили количества заказов на одного пользователя"
   ]
  },
  {
   "cell_type": "code",
   "execution_count": 25,
   "metadata": {},
   "outputs": [
    {
     "data": {
      "text/plain": [
       "array([1., 2., 4.])"
      ]
     },
     "execution_count": 25,
     "metadata": {},
     "output_type": "execute_result"
    }
   ],
   "source": [
    "# расчет перцентилей количества заказов на одного пользователя\n",
    "np.percentile(orders_users['orders'], [90, 95, 99])"
   ]
  },
  {
   "cell_type": "code",
   "execution_count": 26,
   "metadata": {},
   "outputs": [
    {
     "data": {
      "text/plain": [
       "4"
      ]
     },
     "execution_count": 26,
     "metadata": {},
     "output_type": "execute_result"
    }
   ],
   "source": [
    "# создание границы числа заказов на одного пользователя\n",
    "orders_anomal = round(np.percentile(orders_users['orders'], [90, 95, 99])[2])\n",
    "orders_anomal"
   ]
  },
  {
   "cell_type": "markdown",
   "metadata": {},
   "source": [
    "<div style=\"border:solid red 1px; padding: 20px\"> \n",
    "    <b><i>Вывод:</i></b><br>\n",
    "<li>Не более 5% пользователей оформляли больше 2 заказов. И 1% пользователей заказывал более 4 раз.</li> \n",
    "<li>Стоит выбрать <b>4 заказа</b> на одного пользователя за верхнюю границу числа заказов, и отсеять аномальных пользователей по ней.</li>\n",
    "         </div>"
   ]
  },
  {
   "cell_type": "markdown",
   "metadata": {},
   "source": [
    "### точечный график стоимостей заказов"
   ]
  },
  {
   "cell_type": "code",
   "execution_count": 27,
   "metadata": {
    "scrolled": false
   },
   "outputs": [
    {
     "data": {
      "image/png": "[encoded data removed]",
      "text/plain": [
       "<Figure size 720x360 with 1 Axes>"
      ]
     },
     "metadata": {
      "needs_background": "light"
     },
     "output_type": "display_data"
    }
   ],
   "source": [
    "# гистограмма стоимостей заказов\n",
    "fig, axes = plt.subplots(figsize=(10,5))\n",
    "plt.hist(orders['revenue'], color='#00d6ff', range=(0, 100000), alpha=0.8) \n",
    "plt.title('Распределение стоимости заказов по пользователям')\n",
    "plt.xlabel('Стоимость заказа')\n",
    "plt.ylabel('Количество пользователей')\n",
    "plt.show()"
   ]
  },
  {
   "cell_type": "code",
   "execution_count": 28,
   "metadata": {},
   "outputs": [
    {
     "data": {
      "text/plain": [
       "count       1,197.000\n",
       "mean        8,348.006\n",
       "std        39,191.132\n",
       "min            50.000\n",
       "25%         1,220.000\n",
       "50%         2,978.000\n",
       "75%         8,290.000\n",
       "max     1,294,500.000\n",
       "Name: revenue, dtype: float64"
      ]
     },
     "execution_count": 28,
     "metadata": {},
     "output_type": "execute_result"
    }
   ],
   "source": [
    "# вывод 3 разрядов после запятой \n",
    "pd.options.display.float_format ='{:,.3f}'.format\n",
    "\n",
    "# вывод статистических характеристик \n",
    "orders['revenue'].describe()"
   ]
  },
  {
   "cell_type": "markdown",
   "metadata": {},
   "source": [
    "В среднем пользователи совершают заказы на сумму до 20тыс., большинство покупателей заказывают на сумму до 10 тысяч. Но также есть заказы на сумму выше 20тысяч.\n",
    "Однако есть заказ на 1.3млн. Это выброс, который сдвинул среднее, огромное значение среднеквадратичного отклонения говорит о сильном разбросе данных."
   ]
  },
  {
   "cell_type": "code",
   "execution_count": 29,
   "metadata": {},
   "outputs": [
    {
     "data": {
      "image/png": "[encoded data removed]",
      "text/plain": [
       "<Figure size 720x360 with 1 Axes>"
      ]
     },
     "metadata": {
      "needs_background": "light"
     },
     "output_type": "display_data"
    }
   ],
   "source": [
    "# построение диаграммы рассеяния \n",
    "fig, axes = plt.subplots(figsize=(10,5))\n",
    "x_values = pd.Series(range(0,len(orders)))\n",
    "plt.scatter(x_values, orders['revenue'],color='#fc0fc0')\n",
    "plt.ylabel(\n",
    "    'стоимость заказа, млн')\n",
    "plt.title(\n",
    "    'Стоимость заказов по пользователям')\n",
    "plt.show()"
   ]
  },
  {
   "cell_type": "markdown",
   "metadata": {},
   "source": [
    "Мы видим выброс - 1.3млн. Из-за этого все остальные данные слились. Построим график, исключив это значение."
   ]
  },
  {
   "cell_type": "code",
   "execution_count": 30,
   "metadata": {},
   "outputs": [
    {
     "data": {
      "image/png": "[encoded data removed]",
      "text/plain": [
       "<Figure size 720x360 with 1 Axes>"
      ]
     },
     "metadata": {
      "needs_background": "light"
     },
     "output_type": "display_data"
    }
   ],
   "source": [
    "# построение диаграммы рассеяния \n",
    "fig, axes = plt.subplots(figsize=(10,5))\n",
    "plt.ylim(0, 150000)\n",
    "plt.scatter(x_values, orders['revenue'],color='#fc0fc0')\n",
    "plt.ylabel(\n",
    "    'стоимость заказа')\n",
    "plt.title(\n",
    "    'Стоимость заказов по пользователям')\n",
    "plt.show()"
   ]
  },
  {
   "cell_type": "markdown",
   "metadata": {},
   "source": [
    "Выводы подтверждаются: много пользователей сделали заказ на сумму до 20 тысяч. Но в данных есть заказы от 20-100 тысяч. Однако большинство всё-таки имеет меньшую выручку.\n",
    "Необходимо найти их точную долю, чтобы понять аномалии это или нет. Если их доля меньше 5%, то признаем их выбросами и исключим из исследования.\n",
    "\n",
    "Рассчитаем перцентили стоимости заказов"
   ]
  },
  {
   "cell_type": "code",
   "execution_count": 31,
   "metadata": {},
   "outputs": [
    {
     "data": {
      "text/plain": [
       "array([18168. , 28000. , 58233.2])"
      ]
     },
     "execution_count": 31,
     "metadata": {},
     "output_type": "execute_result"
    }
   ],
   "source": [
    "# расчет перцентилей стоимости заказов\n",
    "np.percentile(orders['revenue'], [90, 95, 99])\n"
   ]
  },
  {
   "cell_type": "code",
   "execution_count": 32,
   "metadata": {},
   "outputs": [
    {
     "data": {
      "text/plain": [
       "58233"
      ]
     },
     "execution_count": 32,
     "metadata": {},
     "output_type": "execute_result"
    }
   ],
   "source": [
    "# создание границы стоимости одного заказа\n",
    "revenue_anomal = round(np.percentile(orders['revenue'], [90, 95, 99])[2])\n",
    "revenue_anomal"
   ]
  },
  {
   "cell_type": "markdown",
   "metadata": {},
   "source": [
    "<div style=\"border:solid red 1px; padding: 20px\"> \n",
    "    <b><i>Вывод:</i></b><br>\n",
    "<li>Не более 5% пользователей оформляли заказ дороже 28 тысяч. И 1% пользователей совершил заказ на сумму более 58 тысяч.</li> \n",
    "<li>Стоит выбрать <b>58 тысяч</b> за верхнюю границу стоимости заказа, и отсеять аномальных пользователей по ней.</li>\n",
    "         </div>"
   ]
  },
  {
   "cell_type": "markdown",
   "metadata": {},
   "source": [
    "### статистическая значимость различий в среднем количестве заказов на посетителя между группами по «сырым» данным"
   ]
  },
  {
   "cell_type": "markdown",
   "metadata": {},
   "source": [
    "*Сформулируем две гипотезы:*  \n",
    "**H_0**: различий в среднем количестве заказов на посетителя между группами по \"сырым\" данным нет\n",
    "\n",
    "**H_a**: различия в среднем количестве заказов на посетителя между группами по \"сырым\" данным есть \n",
    "\n",
    "*Метод, который будем применять для A/B-тестирования - критерий Манна-Уитни. Он подходит, так как работа с самими значениями невозможна из-за выбросов, сильно сдвигающих параметрические результаты.*\n",
    "\n",
    "*Уровень статистической значимости примем: alpha = 0.05.*\n",
    "  \n",
    "*Посчитаем p-value, сравним его значение с alpha. Если p-value окажется меньше, то нулевую гипотезу отвергнем. В ином случае, данные не позволяют нам отвергнуть нулевую гипотезу.*"
   ]
  },
  {
   "cell_type": "code",
   "execution_count": 33,
   "metadata": {},
   "outputs": [],
   "source": [
    "# создание таблицы с числом пользователей ежедневно группа А\n",
    "visitors_daily_a = visitors[visitors['group'] == 'A'][['date', 'visitors']]\n",
    "visitors_daily_a.columns = ['date', 'visitorsA']\n",
    "\n",
    "# создание таблицы с накоплением числа пользователей группа А\n",
    "visitors_cummulative_a = visitors_daily_a.apply(\n",
    "    lambda x: visitors_daily_a[visitors_daily_a['date'] <= x['date']].agg(\n",
    "        {'date': 'max', 'visitorsA': 'sum'}), axis=1)\n",
    "visitors_cummulative_a.columns = ['date', 'visitors_cummulat_A']\n",
    "\n",
    "# создание таблицы с числом пользователей ежедневно группа В\n",
    "visitors_daily_b = visitors[visitors['group'] == 'B'][['date', 'visitors']]\n",
    "visitors_daily_b.columns = ['date', 'visitorsB']\n",
    "\n",
    "# создание таблицы с накоплением числа пользователей группа В\n",
    "visitors_cummulative_b = visitors_daily_b.apply(\n",
    "    lambda x: visitors_daily_b[visitors_daily_b['date'] <= x['date']].agg(\n",
    "        {'date': 'max', 'visitorsB': 'sum'}), axis=1)\n",
    "visitors_cummulative_b.columns = ['date', 'visitors_cummulat_B']\n"
   ]
  },
  {
   "cell_type": "code",
   "execution_count": 34,
   "metadata": {},
   "outputs": [],
   "source": [
    "# создание таблицы с ежедневным числом заказов и выручкой группа А\n",
    "orders_daily_a = (\n",
    "    orders[orders['group'] == 'A'][['date', 'transaction_id', 'visitor_id', 'revenue']]\n",
    "    .groupby('date', as_index=False)\n",
    "    .agg({'transaction_id': pd.Series.nunique, 'revenue': 'sum'})\n",
    ")\n",
    "orders_daily_a.columns = ['date', 'ordersA', 'revenueA']\n",
    "\n",
    "# создание таблицы с кумулятивным числом заказов и выручкой группа А\n",
    "orders_cummulative_a = orders_daily_a.apply(\n",
    "    lambda x: orders_daily_a[orders_daily_a['date'] <= x['date']].agg(\n",
    "        {'date': 'max', 'ordersA': 'sum', 'revenueA': 'sum'}\n",
    "    ), axis=1).sort_values(by=['date'])\n",
    "\n",
    "orders_cummulative_a.columns = ['date','orders_cummulat_A','revenue_cummulat_A']\n",
    "\n",
    "# создание таблицы с ежедневным числом заказов и выручкой группа В\n",
    "orders_daily_b = (\n",
    "    orders[orders['group'] == 'B'][['date', 'transaction_id', 'visitor_id', 'revenue']]\n",
    "    .groupby('date', as_index=False)\n",
    "    .agg({'transaction_id': pd.Series.nunique, 'revenue': 'sum'})\n",
    ")\n",
    "orders_daily_b.columns = ['date', 'ordersB', 'revenueB']\n",
    "\n",
    "# создание таблицы с кумулятивным числом заказов и выручкой группа В\n",
    "orders_cummulative_b = orders_daily_b.apply(\n",
    "    lambda x: orders_daily_b[orders_daily_b['date'] <= x['date']].agg(\n",
    "        {'date': 'max', 'ordersB': 'sum', 'revenueB': 'sum'}\n",
    "    ),axis=1,).sort_values(by=['date'])\n",
    "\n",
    "orders_cummulative_b.columns = ['date','orders_cummulat_B','revenue_cummulat_B']"
   ]
  },
  {
   "cell_type": "code",
   "execution_count": 35,
   "metadata": {},
   "outputs": [
    {
     "data": {
      "text/html": [
       "<div>\n",
       "<style scoped>\n",
       "    .dataframe tbody tr th:only-of-type {\n",
       "        vertical-align: middle;\n",
       "    }\n",
       "\n",
       "    .dataframe tbody tr th {\n",
       "        vertical-align: top;\n",
       "    }\n",
       "\n",
       "    .dataframe thead th {\n",
       "        text-align: right;\n",
       "    }\n",
       "</style>\n",
       "<table border=\"1\" class=\"dataframe\">\n",
       "  <thead>\n",
       "    <tr style=\"text-align: right;\">\n",
       "      <th></th>\n",
       "      <th>date</th>\n",
       "      <th>ordersA</th>\n",
       "      <th>revenueA</th>\n",
       "      <th>ordersB</th>\n",
       "      <th>revenueB</th>\n",
       "      <th>orders_cummulat_A</th>\n",
       "      <th>revenue_cummulat_A</th>\n",
       "      <th>orders_cummulat_B</th>\n",
       "      <th>revenue_cummulat_B</th>\n",
       "      <th>visitorsA</th>\n",
       "      <th>visitorsB</th>\n",
       "      <th>visitors_cummulat_A</th>\n",
       "      <th>visitors_cummulat_B</th>\n",
       "    </tr>\n",
       "  </thead>\n",
       "  <tbody>\n",
       "    <tr>\n",
       "      <th>0</th>\n",
       "      <td>2019-08-01</td>\n",
       "      <td>24</td>\n",
       "      <td>148579</td>\n",
       "      <td>21</td>\n",
       "      <td>101217</td>\n",
       "      <td>24</td>\n",
       "      <td>148579</td>\n",
       "      <td>21</td>\n",
       "      <td>101217</td>\n",
       "      <td>719</td>\n",
       "      <td>713</td>\n",
       "      <td>719</td>\n",
       "      <td>713</td>\n",
       "    </tr>\n",
       "    <tr>\n",
       "      <th>1</th>\n",
       "      <td>2019-08-02</td>\n",
       "      <td>20</td>\n",
       "      <td>93822</td>\n",
       "      <td>24</td>\n",
       "      <td>165531</td>\n",
       "      <td>44</td>\n",
       "      <td>242401</td>\n",
       "      <td>45</td>\n",
       "      <td>266748</td>\n",
       "      <td>619</td>\n",
       "      <td>581</td>\n",
       "      <td>1338</td>\n",
       "      <td>1294</td>\n",
       "    </tr>\n",
       "    <tr>\n",
       "      <th>2</th>\n",
       "      <td>2019-08-03</td>\n",
       "      <td>24</td>\n",
       "      <td>112473</td>\n",
       "      <td>16</td>\n",
       "      <td>114248</td>\n",
       "      <td>68</td>\n",
       "      <td>354874</td>\n",
       "      <td>61</td>\n",
       "      <td>380996</td>\n",
       "      <td>507</td>\n",
       "      <td>509</td>\n",
       "      <td>1845</td>\n",
       "      <td>1803</td>\n",
       "    </tr>\n",
       "    <tr>\n",
       "      <th>3</th>\n",
       "      <td>2019-08-04</td>\n",
       "      <td>16</td>\n",
       "      <td>70825</td>\n",
       "      <td>17</td>\n",
       "      <td>108571</td>\n",
       "      <td>84</td>\n",
       "      <td>425699</td>\n",
       "      <td>78</td>\n",
       "      <td>489567</td>\n",
       "      <td>717</td>\n",
       "      <td>770</td>\n",
       "      <td>2562</td>\n",
       "      <td>2573</td>\n",
       "    </tr>\n",
       "    <tr>\n",
       "      <th>4</th>\n",
       "      <td>2019-08-05</td>\n",
       "      <td>25</td>\n",
       "      <td>124218</td>\n",
       "      <td>23</td>\n",
       "      <td>92428</td>\n",
       "      <td>109</td>\n",
       "      <td>549917</td>\n",
       "      <td>101</td>\n",
       "      <td>581995</td>\n",
       "      <td>756</td>\n",
       "      <td>707</td>\n",
       "      <td>3318</td>\n",
       "      <td>3280</td>\n",
       "    </tr>\n",
       "  </tbody>\n",
       "</table>\n",
       "</div>"
      ],
      "text/plain": [
       "        date  ordersA  revenueA  ordersB  revenueB  orders_cummulat_A  \\\n",
       "0 2019-08-01       24    148579       21    101217                 24   \n",
       "1 2019-08-02       20     93822       24    165531                 44   \n",
       "2 2019-08-03       24    112473       16    114248                 68   \n",
       "3 2019-08-04       16     70825       17    108571                 84   \n",
       "4 2019-08-05       25    124218       23     92428                109   \n",
       "\n",
       "   revenue_cummulat_A  orders_cummulat_B  revenue_cummulat_B  visitorsA  \\\n",
       "0              148579                 21              101217        719   \n",
       "1              242401                 45              266748        619   \n",
       "2              354874                 61              380996        507   \n",
       "3              425699                 78              489567        717   \n",
       "4              549917                101              581995        756   \n",
       "\n",
       "   visitorsB  visitors_cummulat_A  visitors_cummulat_B  \n",
       "0        713                  719                  713  \n",
       "1        581                 1338                 1294  \n",
       "2        509                 1845                 1803  \n",
       "3        770                 2562                 2573  \n",
       "4        707                 3318                 3280  "
      ]
     },
     "execution_count": 35,
     "metadata": {},
     "output_type": "execute_result"
    }
   ],
   "source": [
    "# объединение всех таблиц в одну \n",
    "data = (orders_daily_a\\\n",
    "    .merge(orders_daily_b, left_on='date', right_on='date', how='left')\n",
    "    .merge(orders_cummulative_a, left_on='date', right_on='date', how='left')\n",
    "    .merge(orders_cummulative_b, left_on='date', right_on='date', how='left')\n",
    "    .merge(visitors_daily_a, left_on='date', right_on='date', how='left')\n",
    "    .merge(visitors_daily_b, left_on='date', right_on='date', how='left')\n",
    "    .merge(visitors_cummulative_a, left_on='date', right_on='date', how='left')\n",
    "    .merge(visitors_cummulative_b, left_on='date', right_on='date', how='left')\n",
    ")\n",
    "\n",
    "data.head(5)"
   ]
  },
  {
   "cell_type": "markdown",
   "metadata": {},
   "source": [
    "Создадим переменные, где для каждого пользователя, который заказывал хотя бы 1 раз, укажем число совершённых заказов. "
   ]
  },
  {
   "cell_type": "code",
   "execution_count": 36,
   "metadata": {},
   "outputs": [],
   "source": [
    "# создание таблиц с числом заказов, сделанных пользователем\n",
    "# совершившим хотя бы 1 заказ \n",
    "# группы А и В\n",
    "\n",
    "orders_by_users_A = (\n",
    "    orders[orders['group'] == 'A']\n",
    "    .groupby('visitor_id', as_index=False)\n",
    "    .agg({'transaction_id': pd.Series.nunique})\n",
    ")\n",
    "orders_by_users_A.columns = ['user_id', 'orders']\n",
    "\n",
    "orders_by_users_B = (\n",
    "    orders[orders['group'] == 'B']\n",
    "    .groupby('visitor_id', as_index=False)\n",
    "    .agg({'transaction_id': pd.Series.nunique})\n",
    ")\n",
    "orders_by_users_B.columns = ['user_id', 'orders']"
   ]
  },
  {
   "cell_type": "code",
   "execution_count": 37,
   "metadata": {},
   "outputs": [],
   "source": [
    "# создание таблиц с числом заказов для каждого пользователя в группах А и В\n",
    "sampleA = pd.concat(\n",
    "    [orders_by_users_A['orders'], pd.Series(\n",
    "            0, index=np.arange(\n",
    "                data['visitorsA'].sum() - len(orders_by_users_A['orders'])\n",
    "                ),\n",
    "            name='orders')],\n",
    "    axis=0)\n",
    "\n",
    "sampleB = pd.concat(\n",
    "    [orders_by_users_B['orders'], pd.Series(\n",
    "            0, index=np.arange(\n",
    "                data['visitorsB'].sum() - len(orders_by_users_B['orders'])\n",
    "            ),\n",
    "            name='orders')],\n",
    "    axis=0)"
   ]
  },
  {
   "cell_type": "code",
   "execution_count": 38,
   "metadata": {},
   "outputs": [],
   "source": [
    "# функция проверки гипотезы\n",
    "def check_hypothesis(df1, df2, num):\n",
    "    alpha = .05\n",
    "    results = st.mannwhitneyu(df1, df2)[1]\n",
    "    print('p-value составляет ', \"{0:.3f}\".format(results))\n",
    "\n",
    "    text = ['в среднем числе заказов групп A и B есть разница', \n",
    "            'в среднем чеке заказа групп A и B есть разница']\n",
    "    text2 = ['различий в среднем числе заказов групп A и B нет', \n",
    "             'различий в среднем чеке заказа групп A и B нет']\n",
    "\n",
    "    if results < alpha:\n",
    "        print(f'Отвергаем нулевую гипотезу, {text[num]}.')\n",
    "    else:\n",
    "        print(f'Не можем отвергнуть нулевую гипотезу, {text2[num]}.')\n",
    "\n",
    "    # расчет относительного прироста группы В к группе А\n",
    "    print('Относительный прирост группы В к группе А составил {0:.2%}'\\\n",
    "          .format(df2.mean()/df1.mean()-1))"
   ]
  },
  {
   "cell_type": "code",
   "execution_count": 39,
   "metadata": {},
   "outputs": [
    {
     "name": "stdout",
     "output_type": "stream",
     "text": [
      "p-value составляет  0.017\n",
      "Отвергаем нулевую гипотезу, в среднем числе заказов групп A и B есть разница.\n",
      "Относительный прирост группы В к группе А составил 13.81%\n"
     ]
    }
   ],
   "source": [
    "# проверка первой гипотезы\n",
    "check_hypothesis(sampleA, sampleB, 0)"
   ]
  },
  {
   "cell_type": "markdown",
   "metadata": {},
   "source": [
    "<div style=\"border:solid red 1px; padding: 20px\"> \n",
    "    <b><i>Вывод:</i></b><br>\n",
    "<li>Первое число — <b>p-value = 0.017</b> меньше 0.05.</li>\n",
    "<li>Такое значение p-value говорит нам о том, что вероятность случайного различия количества заказов между группами мала и составляет всего 1.7%. Значит, <b>разница количеством заказов между группами по «сырым» данным статистически значима</b>, не вызвана \"шумом\".</li> \n",
    "<li>Значит, <b>нулевую гипотезу</b> о том, что статистически значимых различий в среднем числе заказов между группами по «сырым» данным нет, <b>отвергаем</b>.</li> \n",
    "<li>Относительный прирост количества заказов группы B равен <b>13.8%</b> — второе число в выводе. То есть группа В показывает лучшие показатели количества заказов, чем группа А.</li>\n",
    "    </div>"
   ]
  },
  {
   "cell_type": "markdown",
   "metadata": {},
   "source": [
    "### статистическая значимость различий в среднем чеке заказа между группами по «сырым» данным"
   ]
  },
  {
   "cell_type": "markdown",
   "metadata": {},
   "source": [
    "*Сформулируем две гипотезы:*  \n",
    "**H_0**: различий в среднем чеке заказа между группами по \"сырым\" данным нет\n",
    "\n",
    "**H_a**: различия в среднем чеке заказа между группами по \"сырым\" данным есть \n",
    "\n",
    "*Метод, который будем применять для A/B-тестирования - критерий Манна-Уитни. Он подходит, так как работа с самими значениями невозможна из-за выбросов, сильно сдвигающих параметрические результаты.*\n",
    "\n",
    "*Уровень статистической значимости примем: alpha = 0.05.*\n",
    "  \n",
    "*Посчитаем p-value, сравним его значение с alpha. Если p-value окажется меньше, то нулевую гипотезу отвергнем. В ином случае, данные не позволяют нам отвергнуть нулевую гипотезу.*"
   ]
  },
  {
   "cell_type": "code",
   "execution_count": 40,
   "metadata": {},
   "outputs": [
    {
     "name": "stdout",
     "output_type": "stream",
     "text": [
      "p-value составляет  0.729\n",
      "Не можем отвергнуть нулевую гипотезу, различий в среднем чеке заказа групп A и B нет.\n",
      "Относительный прирост группы В к группе А составил 25.87%\n"
     ]
    }
   ],
   "source": [
    "# проверка второй гипотезы\n",
    "check_hypothesis(orders[orders['group']=='A']['revenue'], \n",
    "                 orders[orders['group']=='B']['revenue'], 1)"
   ]
  },
  {
   "cell_type": "markdown",
   "metadata": {},
   "source": [
    "<div style=\"border:solid red 1px; padding: 20px\"> \n",
    "    <b><i>Вывод:</i></b><br>\n",
    "<li>Первое число — <b>p-value = 0.729</b> больше 0.05.</li>\n",
    "<li>Такое значение p-value говорит нам о том, что вероятность случайного различия среднего чека между группами велика и составляет 72.9%. Значит, <b>разница среднего чека между группами по «сырым» данным статистически незначима</b>, вызвана \"шумом\".</li> \n",
    "<li>Значит, <b>нулевую гипотезу</b> о том, что статистически значимых различий в среднем числе заказов между группами по «сырым» данным нет,<b>у нас нет оснований отвергнуть</b>.</li> \n",
    "<li>Относительный прирост среднего чека группы B равен <b>25.87%</b> — второе число в выводе. То есть группа В снова показывает лучшие показатели, чем группа А.</li>\n",
    "<li>Из-за того, что критерий Манна-Уитни нечувствителен к выбросам, несмотря на разницу в средних, нулевая гипотеза подтвердилась.</li>\n",
    "    </div>"
   ]
  },
  {
   "cell_type": "markdown",
   "metadata": {},
   "source": [
    "### статистическая значимость различий в среднем количестве заказов на посетителя между группами по «очищенным» данным"
   ]
  },
  {
   "cell_type": "markdown",
   "metadata": {},
   "source": [
    "*Сформулируем две гипотезы:*  \n",
    "**H_0**: различий в среднем количестве заказов на посетителя между группами по \"очищенным\" данным нет\n",
    "\n",
    "**H_a**: различия в среднем количестве заказов на посетителя между группами по \"очищенным\" данным есть \n",
    "\n",
    "*Метод, который будем применять для A/B-тестирования - критерий Манна-Уитни. Он подходит, так как работа с самими значениями невозможна из-за выбросов, сильно сдвигающих параметрические результаты.*\n",
    "\n",
    "*Уровень статистической значимости примем: alpha = 0.05.*\n",
    "  \n",
    "*Посчитаем p-value, сравним его значение с alpha. Если p-value окажется меньше, то нулевую гипотезу отвергнем. В ином случае, данные не позволяют нам отвергнуть нулевую гипотезу.*"
   ]
  },
  {
   "cell_type": "markdown",
   "metadata": {},
   "source": [
    "*Так как ранее мы выявили выбросы в данных, проведем повторную проверку гипотез по \"чистым\" данным, исключив аномалии из выборок.*  \n",
    "*Примем за аномальных пользователей тех, кто совершил от 4 заказов или совершил заказ дороже 58 233 рублей. Так мы уберём 1% пользователей с наибольшим числом заказов и от 1% пользователей с дорогими заказами.*"
   ]
  },
  {
   "cell_type": "code",
   "execution_count": 41,
   "metadata": {},
   "outputs": [
    {
     "name": "stdout",
     "output_type": "stream",
     "text": [
      "15\n"
     ]
    },
    {
     "data": {
      "text/plain": [
       "1099     148427295\n",
       "949      887908475\n",
       "744      888512513\n",
       "1103    1164614297\n",
       "1136    1307669133\n",
       "dtype: int64"
      ]
     },
     "execution_count": 41,
     "metadata": {},
     "output_type": "execute_result"
    }
   ],
   "source": [
    "# таблица id-пользователей, совершивших больше 4 заказов\n",
    "users_many_orders = pd.concat(\n",
    "    [\n",
    "        orders_by_users_A[orders_by_users_A['orders'] > orders_anomal]['user_id'],\n",
    "        orders_by_users_B[orders_by_users_B['orders'] > orders_anomal]['user_id'],\n",
    "    ],\n",
    "    axis=0,\n",
    ")\n",
    "\n",
    "# таблица id-пользователей, совершивших заказ дороже 58тыс\n",
    "users_expensive_orders = orders[orders['revenue'] > revenue_anomal]['visitor_id']\n",
    "\n",
    "# общая таблица с id аномальных пользователей\n",
    "anomal_users = (\n",
    "    pd.concat([users_many_orders, users_expensive_orders], axis=0)\n",
    "    .drop_duplicates()\n",
    "    .sort_values()\n",
    ")\n",
    "\n",
    "# количество аномальных пользователей\n",
    "print(anomal_users.shape[0])\n",
    "anomal_users.head(5)"
   ]
  },
  {
   "cell_type": "markdown",
   "metadata": {},
   "source": [
    "Всего в наших данных 15 аномальных пользователей. Исключим их id из анализа для расчета статистической значимости. "
   ]
  },
  {
   "cell_type": "code",
   "execution_count": 42,
   "metadata": {},
   "outputs": [],
   "source": [
    "# создание таблиц с числом заказов для каждого пользователя в группах А и В \n",
    "# без аномальных пользователей\n",
    "sample_filtred_A = pd.concat(\n",
    "    [orders_by_users_A\n",
    "     [np.logical_not(orders_by_users_A['user_id'].isin(anomal_users))]['orders'], \n",
    "     pd.Series(\n",
    "            0, index=np.arange(\n",
    "                data['visitorsA'].sum() - len(orders_by_users_A['orders'])\n",
    "                ),\n",
    "            name='orders')],\n",
    "    axis=0)\n",
    "\n",
    "sample_filtred_B = pd.concat(\n",
    "    [orders_by_users_B\n",
    "     [np.logical_not(orders_by_users_B['user_id'].isin(anomal_users))]['orders'], \n",
    "     pd.Series(\n",
    "            0, index=np.arange(\n",
    "                data['visitorsB'].sum() - len(orders_by_users_B['orders'])\n",
    "            ),\n",
    "            name='orders')],\n",
    "    axis=0)"
   ]
  },
  {
   "cell_type": "markdown",
   "metadata": {},
   "source": [
    "Узнаем, как действия пользователей повлияли на результаты теста. Посчитаем статистическую значимость различий в среднем количестве заказов между группами теста по очищенным данным. "
   ]
  },
  {
   "cell_type": "code",
   "execution_count": 43,
   "metadata": {},
   "outputs": [
    {
     "name": "stdout",
     "output_type": "stream",
     "text": [
      "p-value составляет  0.014\n",
      "Отвергаем нулевую гипотезу, в среднем числе заказов групп A и B есть разница.\n",
      "Относительный прирост группы В к группе А составил 15.33%\n"
     ]
    }
   ],
   "source": [
    "# проверка третьей гипотезы\n",
    "check_hypothesis(sample_filtred_A, sample_filtred_B, 0)"
   ]
  },
  {
   "cell_type": "markdown",
   "metadata": {},
   "source": [
    "<div style=\"border:solid red 1px; padding: 20px\"> \n",
    "    <b><i>Вывод:</i></b><br>\n",
    "<li>Первое число — <b>p-value = 0.014</b> меньше 0.05.</li>\n",
    "<li>Такое значение p-value говорит нам о том, что вероятность случайного различия количества заказов между группами мала и составляет всего 1.4%. Значит, <b>разница числа заказов между группами по «очищенным» данным статистически значима</b>, не вызвана \"шумом\".</li> \n",
    "<li>Значит, <b>нулевую гипотезу</b> о том, что статистически значимых различий в среднем числе заказов между группами по «очищенным» данным нет, <b>отвергаем</b>.</li> \n",
    "<li>Относительный прирост количества заказов группы B равен <b>15.33%</b> — второе число в выводе. То есть группа В показывает лучшие показатели числа заказов, чем группа А.</li>\n",
    "<li>Результаты по среднему количеству заказов практически не изменились после \"очистки\" данных, аномалии не сильно исказили результат. Значение p-value уменьшилось, а прирост количества заказов увеличился.</li>\n",
    "    </div>"
   ]
  },
  {
   "cell_type": "markdown",
   "metadata": {},
   "source": [
    "### статистическая значимость различий в среднем чеке заказа между группами по «очищенным» данным"
   ]
  },
  {
   "cell_type": "markdown",
   "metadata": {},
   "source": [
    "*Сформулируем две гипотезы:*  \n",
    "**H_0**: различий в среднем чеке заказа между группами по \"очищенным\" данным нет\n",
    "\n",
    "**H_a**: различия в среднем чеке заказа между группами по \"очищенным\" данным есть\n",
    "\n",
    "*Метод, который будем применять для A/B-тестирования - критерий Манна-Уитни. Он подходит, так как работа с самими значениями невозможна из-за выбросов, сильно сдвигающих параметрические результаты.*\n",
    "\n",
    "*Уровень статистической значимости примем: alpha = 0.05.*\n",
    "  \n",
    "*Посчитаем p-value, сравним его значение с alpha. Если p-value окажется меньше, то нулевую гипотезу отвергнем. В ином случае, данные не позволяют нам отвергнуть нулевую гипотезу.*"
   ]
  },
  {
   "cell_type": "code",
   "execution_count": 44,
   "metadata": {},
   "outputs": [
    {
     "name": "stdout",
     "output_type": "stream",
     "text": [
      "p-value составляет  0.851\n",
      "Не можем отвергнуть нулевую гипотезу, различий в среднем чеке заказа групп A и B нет.\n",
      "Относительный прирост группы В к группе А составил -0.57%\n"
     ]
    }
   ],
   "source": [
    "# проверка четвертой гипотезы\n",
    "check_hypothesis(orders[np.logical_and(\n",
    "                       np.logical_not(orders['visitor_id'].isin(anomal_users)), \n",
    "                                      orders['group']=='A')]['revenue'],\n",
    "                 orders[np.logical_and(\n",
    "                        np.logical_not(orders['visitor_id'].isin(anomal_users)), \n",
    "                                       orders['group']=='B')]['revenue'], \n",
    "                 1)"
   ]
  },
  {
   "cell_type": "markdown",
   "metadata": {},
   "source": [
    "<div style=\"border:solid red 1px; padding: 20px\"> \n",
    "    <b><i>Вывод:</i></b><br>\n",
    "<li>Первое число — <b>p-value = 0.851</b> больше 0.05.</li>\n",
    "<li>Такое значение p-value говорит нам о том, что вероятность случайного различия среднего чека между группами велика и составляет 85.1%. Значит, <b>разница среднего чека между группами по «очищенным» данным статистически незначима</b>, вызвана \"шумом\".</li> \n",
    "<li>Значит, <b>нулевую гипотезу</b> о том, что статистически значимых различий в среднем числе заказов между группами по «очищенным» данным нет,<b>у нас нет оснований отвергнуть</b>.</li> \n",
    "<li>Относительный проигрыш среднего чека группы B равен <b>0.57%</b> — второе число в выводе. То есть группа В показывает средние чеки чуть ниже, чем группа А.</li>\n",
    "<li>Результаты по среднему чеку изменились после \"очистки\" данных. Значение p-value увеличилось, а средний чек по группе В стал практически равен среднему чеку группы А.</li>\n",
    "    </div>"
   ]
  },
  {
   "cell_type": "markdown",
   "metadata": {},
   "source": [
    "## Общий вывод"
   ]
  },
  {
   "cell_type": "markdown",
   "metadata": {},
   "source": [
    "<p></p>\n",
    "\n",
    "<div style=\"border:solid pink 5px; padding: 20px\">\n",
    "    Итак, нами был получены и изучены данные о 9 гипотезах и результатах проведенного А/В теста за август 2019г.<br>\n",
    "    Прежде чем дать ответ на поставленные перед нами вопросы, был проведен ряд манипуляций с данными.<br>  \n",
    "    Названия колонок были приведены к единому стилю, данные приведены к корректному типу, строки были проверены на наличие пропусков и дубликатов.<br>   \n",
    "    Был анализирован период с 01/08/2019-31/08/2019.<br>\n",
    "    <br>\n",
    "<b><span style=\"color:#c71585\">Приоритизация гипотез:</span></b>\n",
    "<li>Из списка, предоставленных отделом Маркетинга, гипотез следует в первую очередь протестировать такие гипотезы, как: <b>0, 2, 6, 7, 8</b>. Последовательность их тестирования будет меняться в зависимости от того, насколько важен охват, то есть число пользователей, которых данное изменение затронет.</li>\n",
    "<li>Если <b>охват важен</b>, то порядок такой:<br>\n",
    "    - Добавить форму подписки на все основные страницы, чтобы собрать базу клиентов для email-рассылок<br>\n",
    "    - Добавить блоки рекомендаций товаров на сайт интернет магазина, чтобы повысить конверсию и средний чек заказа<br>\n",
    "    - Добавить два новых канала привлечения трафика, что позволит привлекать на 30% больше пользователей<br>\n",
    "    - Показать на главной странице баннеры с актуальными акциями и распродажами, чтобы увеличить конверсию<br>\n",
    "    </li>\n",
    "<li>Если <b>охват роли не играет</b>, то порядок такой:<br>\n",
    "    - Запустить акцию, дающую скидку на товар в день рождения<br>\t\n",
    "    - Добавить два новых канала привлечения трафика, что позволит привлекать на 30% больше пользователей<br>\n",
    "    - Добавить форму подписки на все основные страницы, чтобы собрать базу клиентов для email-рассылок<br>\n",
    "    - Показать на главной странице баннеры с актуальными акциями и распродажами, чтобы увеличить конверсию<br>\n",
    "    </li>\n",
    "    \n",
    "<b><span style=\"color:#c71585\">Анализ А/В теста:</span></b>    \n",
    "    <li>Нет статистически значимого различия по среднему количеству заказов между группами ни по «сырым», ни по данным после фильтрации аномалий;</li>\n",
    "    <li>По среднему чеку между группами есть статистически значимое различие по «сырым» и по данным после фильтрации аномалий;</li>\n",
    "    <li>Графики относительного изменения кумулятивного среднего чека и числа заказов, а также выручки стабильно демонстрируют лидерство группы В.</li>\n",
    "    <li><b>Исходя из обнаруженных фактов, тест следует остановить и зафиксировать победу группы В</b>. Выручка у сегмента В выше выручки группы А на протяжении всего теста, среднее количество заказов на посетителя у группы В больше. Относительный прирост количества заказов группы B равен 15.33% по \"очищенным\" данным. </li>\n",
    "</div>"
   ]
  },
  {
   "cell_type": "markdown",
   "metadata": {},
   "source": []
  }
 ],
 "metadata": {
  "ExecuteTimeLog": [
   {
    "duration": 1374,
    "start_time": "2023-05-27T11:43:41.699Z"
   },
   {
    "duration": 213,
    "start_time": "2023-05-27T11:45:15.958Z"
   },
   {
    "duration": 25,
    "start_time": "2023-05-27T11:45:38.593Z"
   },
   {
    "duration": 20,
    "start_time": "2023-05-27T11:45:51.612Z"
   },
   {
    "duration": 23,
    "start_time": "2023-05-27T11:46:13.789Z"
   },
   {
    "duration": 21,
    "start_time": "2023-05-27T11:46:49.821Z"
   },
   {
    "duration": 95,
    "start_time": "2023-05-27T11:47:22.857Z"
   },
   {
    "duration": 19,
    "start_time": "2023-05-27T11:47:25.484Z"
   },
   {
    "duration": 20,
    "start_time": "2023-05-27T11:47:30.241Z"
   },
   {
    "duration": 17,
    "start_time": "2023-05-27T11:48:12.189Z"
   },
   {
    "duration": 18,
    "start_time": "2023-05-27T11:48:31.653Z"
   },
   {
    "duration": 19,
    "start_time": "2023-05-27T11:48:40.496Z"
   },
   {
    "duration": 3,
    "start_time": "2023-05-27T11:53:42.798Z"
   },
   {
    "duration": 20,
    "start_time": "2023-05-27T11:53:44.684Z"
   },
   {
    "duration": 19,
    "start_time": "2023-05-27T11:53:50.506Z"
   },
   {
    "duration": 19,
    "start_time": "2023-05-27T11:53:53.711Z"
   },
   {
    "duration": 4,
    "start_time": "2023-05-27T11:58:56.348Z"
   },
   {
    "duration": 16,
    "start_time": "2023-05-27T11:59:23.692Z"
   },
   {
    "duration": 24,
    "start_time": "2023-05-27T12:01:52.484Z"
   },
   {
    "duration": 24,
    "start_time": "2023-05-27T12:02:39.015Z"
   },
   {
    "duration": 7,
    "start_time": "2023-05-27T12:03:51.835Z"
   },
   {
    "duration": 1104,
    "start_time": "2023-05-27T12:04:36.828Z"
   },
   {
    "duration": 74,
    "start_time": "2023-05-27T12:04:37.934Z"
   },
   {
    "duration": 3,
    "start_time": "2023-05-27T12:04:38.009Z"
   },
   {
    "duration": 38,
    "start_time": "2023-05-27T12:04:38.014Z"
   },
   {
    "duration": 18,
    "start_time": "2023-05-27T12:04:38.054Z"
   },
   {
    "duration": 18,
    "start_time": "2023-05-27T12:04:38.074Z"
   },
   {
    "duration": 50,
    "start_time": "2023-05-27T12:04:38.094Z"
   },
   {
    "duration": 6,
    "start_time": "2023-05-27T12:04:38.146Z"
   },
   {
    "duration": 27,
    "start_time": "2023-05-27T12:06:18.950Z"
   },
   {
    "duration": 1127,
    "start_time": "2023-05-27T12:06:37.901Z"
   },
   {
    "duration": 74,
    "start_time": "2023-05-27T12:06:39.030Z"
   },
   {
    "duration": 3,
    "start_time": "2023-05-27T12:06:39.105Z"
   },
   {
    "duration": 35,
    "start_time": "2023-05-27T12:06:39.110Z"
   },
   {
    "duration": 18,
    "start_time": "2023-05-27T12:06:39.147Z"
   },
   {
    "duration": 16,
    "start_time": "2023-05-27T12:06:39.166Z"
   },
   {
    "duration": 49,
    "start_time": "2023-05-27T12:06:39.184Z"
   },
   {
    "duration": 8,
    "start_time": "2023-05-27T12:06:39.235Z"
   },
   {
    "duration": 12,
    "start_time": "2023-05-27T12:06:59.540Z"
   },
   {
    "duration": 89,
    "start_time": "2023-05-27T12:12:37.092Z"
   },
   {
    "duration": 7,
    "start_time": "2023-05-27T12:12:58.691Z"
   },
   {
    "duration": 10,
    "start_time": "2023-05-27T12:13:47.309Z"
   },
   {
    "duration": 4,
    "start_time": "2023-05-27T12:14:35.541Z"
   },
   {
    "duration": 9,
    "start_time": "2023-05-27T12:14:39.949Z"
   },
   {
    "duration": 12,
    "start_time": "2023-05-27T12:18:33.423Z"
   },
   {
    "duration": 11,
    "start_time": "2023-05-27T12:19:02.244Z"
   },
   {
    "duration": 316,
    "start_time": "2023-05-27T12:24:43.455Z"
   },
   {
    "duration": 164,
    "start_time": "2023-05-27T12:25:56.439Z"
   },
   {
    "duration": 187,
    "start_time": "2023-05-27T12:27:00.472Z"
   },
   {
    "duration": 193,
    "start_time": "2023-05-27T12:27:20.388Z"
   },
   {
    "duration": 174,
    "start_time": "2023-05-27T12:27:27.202Z"
   },
   {
    "duration": 187,
    "start_time": "2023-05-27T12:27:30.879Z"
   },
   {
    "duration": 20,
    "start_time": "2023-05-27T12:27:38.923Z"
   },
   {
    "duration": 192,
    "start_time": "2023-05-27T12:27:51.318Z"
   },
   {
    "duration": 159,
    "start_time": "2023-05-27T12:30:15.518Z"
   },
   {
    "duration": 241,
    "start_time": "2023-05-27T12:30:59.677Z"
   },
   {
    "duration": 59,
    "start_time": "2023-05-27T12:32:31.409Z"
   },
   {
    "duration": 261,
    "start_time": "2023-05-27T12:34:59.254Z"
   },
   {
    "duration": 293,
    "start_time": "2023-05-27T12:35:06.580Z"
   },
   {
    "duration": 67,
    "start_time": "2023-05-27T12:35:24.403Z"
   },
   {
    "duration": 67,
    "start_time": "2023-05-27T12:35:34.372Z"
   },
   {
    "duration": 284,
    "start_time": "2023-05-27T12:35:38.558Z"
   },
   {
    "duration": 1318,
    "start_time": "2023-05-27T12:36:29.121Z"
   },
   {
    "duration": 76,
    "start_time": "2023-05-27T12:36:30.444Z"
   },
   {
    "duration": 5,
    "start_time": "2023-05-27T12:36:30.522Z"
   },
   {
    "duration": 48,
    "start_time": "2023-05-27T12:36:30.530Z"
   },
   {
    "duration": 65,
    "start_time": "2023-05-27T12:36:30.580Z"
   },
   {
    "duration": 43,
    "start_time": "2023-05-27T12:36:30.647Z"
   },
   {
    "duration": 124,
    "start_time": "2023-05-27T12:36:30.691Z"
   },
   {
    "duration": 100,
    "start_time": "2023-05-27T12:36:30.817Z"
   },
   {
    "duration": 68,
    "start_time": "2023-05-27T12:36:30.919Z"
   },
   {
    "duration": 355,
    "start_time": "2023-05-27T12:36:30.988Z"
   },
   {
    "duration": 23,
    "start_time": "2023-05-27T12:37:28.735Z"
   },
   {
    "duration": 196,
    "start_time": "2023-05-27T12:37:37.044Z"
   },
   {
    "duration": 8,
    "start_time": "2023-05-27T12:39:49.846Z"
   },
   {
    "duration": 5,
    "start_time": "2023-05-27T12:40:27.971Z"
   },
   {
    "duration": 11,
    "start_time": "2023-05-27T12:40:38.660Z"
   },
   {
    "duration": 188,
    "start_time": "2023-05-27T12:40:44.221Z"
   },
   {
    "duration": 218,
    "start_time": "2023-05-27T12:45:06.850Z"
   },
   {
    "duration": 131,
    "start_time": "2023-05-27T12:45:15.759Z"
   },
   {
    "duration": 193,
    "start_time": "2023-05-27T12:45:41.088Z"
   },
   {
    "duration": 248,
    "start_time": "2023-05-27T12:47:17.587Z"
   },
   {
    "duration": 417,
    "start_time": "2023-05-27T12:47:38.197Z"
   },
   {
    "duration": 410,
    "start_time": "2023-05-27T12:47:44.804Z"
   },
   {
    "duration": 318,
    "start_time": "2023-05-27T12:47:55.397Z"
   },
   {
    "duration": 303,
    "start_time": "2023-05-27T12:48:06.303Z"
   },
   {
    "duration": 34,
    "start_time": "2023-05-27T12:55:10.012Z"
   },
   {
    "duration": 306,
    "start_time": "2023-05-27T12:56:03.290Z"
   },
   {
    "duration": 318,
    "start_time": "2023-05-27T12:56:34.795Z"
   },
   {
    "duration": 277,
    "start_time": "2023-05-27T12:56:40.533Z"
   },
   {
    "duration": 293,
    "start_time": "2023-05-27T12:56:55.149Z"
   },
   {
    "duration": 333,
    "start_time": "2023-05-27T12:57:12.329Z"
   },
   {
    "duration": 293,
    "start_time": "2023-05-27T12:57:18.083Z"
   },
   {
    "duration": 293,
    "start_time": "2023-05-27T12:57:25.420Z"
   },
   {
    "duration": 12,
    "start_time": "2023-05-27T13:06:11.107Z"
   },
   {
    "duration": 11,
    "start_time": "2023-05-27T13:06:50.973Z"
   },
   {
    "duration": 11,
    "start_time": "2023-05-27T13:07:36.044Z"
   },
   {
    "duration": 11,
    "start_time": "2023-05-27T13:08:03.335Z"
   },
   {
    "duration": 9,
    "start_time": "2023-05-27T13:09:17.424Z"
   },
   {
    "duration": 9,
    "start_time": "2023-05-27T13:09:25.692Z"
   },
   {
    "duration": 12,
    "start_time": "2023-05-27T13:09:36.130Z"
   },
   {
    "duration": 13,
    "start_time": "2023-05-27T13:09:44.016Z"
   },
   {
    "duration": 11,
    "start_time": "2023-05-27T13:11:08.413Z"
   },
   {
    "duration": 1330,
    "start_time": "2023-05-27T13:11:34.114Z"
   },
   {
    "duration": 101,
    "start_time": "2023-05-27T13:11:35.460Z"
   },
   {
    "duration": 4,
    "start_time": "2023-05-27T13:11:35.562Z"
   },
   {
    "duration": 37,
    "start_time": "2023-05-27T13:11:35.567Z"
   },
   {
    "duration": 27,
    "start_time": "2023-05-27T13:11:35.606Z"
   },
   {
    "duration": 36,
    "start_time": "2023-05-27T13:11:35.634Z"
   },
   {
    "duration": 24,
    "start_time": "2023-05-27T13:11:35.672Z"
   },
   {
    "duration": 6,
    "start_time": "2023-05-27T13:11:35.698Z"
   },
   {
    "duration": 30,
    "start_time": "2023-05-27T13:11:35.706Z"
   },
   {
    "duration": 374,
    "start_time": "2023-05-27T13:11:35.738Z"
   },
   {
    "duration": 34,
    "start_time": "2023-05-27T13:11:36.114Z"
   },
   {
    "duration": 320,
    "start_time": "2023-05-27T13:11:36.150Z"
   },
   {
    "duration": 16,
    "start_time": "2023-05-27T13:11:36.472Z"
   },
   {
    "duration": 11,
    "start_time": "2023-05-27T13:12:40.899Z"
   },
   {
    "duration": 14,
    "start_time": "2023-05-27T13:13:33.745Z"
   },
   {
    "duration": 14,
    "start_time": "2023-05-27T13:14:26.179Z"
   },
   {
    "duration": 16,
    "start_time": "2023-05-27T13:14:52.454Z"
   },
   {
    "duration": 146,
    "start_time": "2023-05-27T13:15:01.406Z"
   },
   {
    "duration": 20,
    "start_time": "2023-05-27T13:15:06.721Z"
   },
   {
    "duration": 14,
    "start_time": "2023-05-27T13:16:10.567Z"
   },
   {
    "duration": 10,
    "start_time": "2023-05-27T13:16:43.596Z"
   },
   {
    "duration": 11,
    "start_time": "2023-05-27T13:16:45.695Z"
   },
   {
    "duration": 11,
    "start_time": "2023-05-27T13:16:55.666Z"
   },
   {
    "duration": 12,
    "start_time": "2023-05-27T13:17:06.289Z"
   },
   {
    "duration": 8,
    "start_time": "2023-05-27T13:18:27.574Z"
   },
   {
    "duration": 13,
    "start_time": "2023-05-27T13:18:36.855Z"
   },
   {
    "duration": 8,
    "start_time": "2023-05-27T13:18:52.065Z"
   },
   {
    "duration": 9,
    "start_time": "2023-05-27T13:19:24.192Z"
   },
   {
    "duration": 12,
    "start_time": "2023-05-27T13:19:34.170Z"
   },
   {
    "duration": 7,
    "start_time": "2023-05-27T13:19:49.372Z"
   },
   {
    "duration": 1261,
    "start_time": "2023-05-27T13:20:17.189Z"
   },
   {
    "duration": 106,
    "start_time": "2023-05-27T13:20:18.458Z"
   },
   {
    "duration": 4,
    "start_time": "2023-05-27T13:20:18.565Z"
   },
   {
    "duration": 24,
    "start_time": "2023-05-27T13:20:18.570Z"
   },
   {
    "duration": 19,
    "start_time": "2023-05-27T13:20:18.596Z"
   },
   {
    "duration": 23,
    "start_time": "2023-05-27T13:20:18.616Z"
   },
   {
    "duration": 45,
    "start_time": "2023-05-27T13:20:18.643Z"
   },
   {
    "duration": 6,
    "start_time": "2023-05-27T13:20:18.690Z"
   },
   {
    "duration": 14,
    "start_time": "2023-05-27T13:20:18.698Z"
   },
   {
    "duration": 375,
    "start_time": "2023-05-27T13:20:18.714Z"
   },
   {
    "duration": 11,
    "start_time": "2023-05-27T13:20:19.091Z"
   },
   {
    "duration": 303,
    "start_time": "2023-05-27T13:20:19.104Z"
   },
   {
    "duration": 30,
    "start_time": "2023-05-27T13:20:19.408Z"
   },
   {
    "duration": 23,
    "start_time": "2023-05-27T13:20:19.444Z"
   },
   {
    "duration": 6,
    "start_time": "2023-05-27T13:20:43.373Z"
   },
   {
    "duration": 8,
    "start_time": "2023-05-27T13:20:54.905Z"
   },
   {
    "duration": 11,
    "start_time": "2023-05-27T13:20:58.066Z"
   },
   {
    "duration": 112,
    "start_time": "2023-05-27T13:22:46.101Z"
   },
   {
    "duration": 29,
    "start_time": "2023-05-27T13:22:51.823Z"
   },
   {
    "duration": 10,
    "start_time": "2023-05-27T13:23:13.859Z"
   },
   {
    "duration": 4,
    "start_time": "2023-05-27T13:23:56.506Z"
   },
   {
    "duration": 9,
    "start_time": "2023-05-27T13:24:04.191Z"
   },
   {
    "duration": 10,
    "start_time": "2023-05-27T13:24:24.366Z"
   },
   {
    "duration": 11,
    "start_time": "2023-05-27T13:24:30.067Z"
   },
   {
    "duration": 10,
    "start_time": "2023-05-27T13:24:35.967Z"
   },
   {
    "duration": 9,
    "start_time": "2023-05-27T13:25:34.591Z"
   },
   {
    "duration": 8,
    "start_time": "2023-05-27T13:25:44.682Z"
   },
   {
    "duration": 13,
    "start_time": "2023-05-27T13:27:07.845Z"
   },
   {
    "duration": 11,
    "start_time": "2023-05-27T13:27:20.391Z"
   },
   {
    "duration": 14,
    "start_time": "2023-05-27T13:27:46.255Z"
   },
   {
    "duration": 11,
    "start_time": "2023-05-27T13:27:53.057Z"
   },
   {
    "duration": 9,
    "start_time": "2023-05-27T13:28:09.301Z"
   },
   {
    "duration": 8,
    "start_time": "2023-05-27T13:28:17.171Z"
   },
   {
    "duration": 14,
    "start_time": "2023-05-27T13:28:40.757Z"
   },
   {
    "duration": 10,
    "start_time": "2023-05-27T13:28:57.653Z"
   },
   {
    "duration": 11,
    "start_time": "2023-05-27T13:30:08.852Z"
   },
   {
    "duration": 13,
    "start_time": "2023-05-27T13:30:21.987Z"
   },
   {
    "duration": 11,
    "start_time": "2023-05-27T14:00:48.875Z"
   },
   {
    "duration": 11,
    "start_time": "2023-05-27T14:03:09.153Z"
   },
   {
    "duration": 203,
    "start_time": "2023-05-27T14:03:59.562Z"
   },
   {
    "duration": 73,
    "start_time": "2023-05-27T14:06:06.882Z"
   },
   {
    "duration": 18,
    "start_time": "2023-05-27T14:06:19.914Z"
   },
   {
    "duration": 295,
    "start_time": "2023-05-27T14:06:35.176Z"
   },
   {
    "duration": 275,
    "start_time": "2023-05-27T14:09:19.919Z"
   },
   {
    "duration": 266,
    "start_time": "2023-05-27T14:10:24.218Z"
   },
   {
    "duration": 268,
    "start_time": "2023-05-27T14:10:44.835Z"
   },
   {
    "duration": 254,
    "start_time": "2023-05-27T14:13:35.995Z"
   },
   {
    "duration": 333,
    "start_time": "2023-05-27T14:14:09.532Z"
   },
   {
    "duration": 272,
    "start_time": "2023-05-27T14:14:29.953Z"
   },
   {
    "duration": 263,
    "start_time": "2023-05-27T14:14:54.729Z"
   },
   {
    "duration": 250,
    "start_time": "2023-05-27T14:15:04.050Z"
   },
   {
    "duration": 229,
    "start_time": "2023-05-27T14:19:14.243Z"
   },
   {
    "duration": 162,
    "start_time": "2023-05-27T14:19:36.586Z"
   },
   {
    "duration": 174,
    "start_time": "2023-05-27T14:20:29.119Z"
   },
   {
    "duration": 252,
    "start_time": "2023-05-27T14:21:50.427Z"
   },
   {
    "duration": 178,
    "start_time": "2023-05-27T14:22:02.936Z"
   },
   {
    "duration": 191,
    "start_time": "2023-05-27T14:23:49.275Z"
   },
   {
    "duration": 376,
    "start_time": "2023-05-27T14:23:57.782Z"
   },
   {
    "duration": 574,
    "start_time": "2023-05-27T14:24:31.085Z"
   },
   {
    "duration": 345,
    "start_time": "2023-05-27T14:24:43.843Z"
   },
   {
    "duration": 240,
    "start_time": "2023-05-27T14:25:13.441Z"
   },
   {
    "duration": 219,
    "start_time": "2023-05-27T14:49:14.602Z"
   },
   {
    "duration": 216,
    "start_time": "2023-05-27T15:01:57.101Z"
   },
   {
    "duration": 203,
    "start_time": "2023-05-27T15:02:05.742Z"
   },
   {
    "duration": 307,
    "start_time": "2023-05-27T15:03:59.089Z"
   },
   {
    "duration": 418,
    "start_time": "2023-05-27T15:04:05.122Z"
   },
   {
    "duration": 195,
    "start_time": "2023-05-27T15:14:43.771Z"
   },
   {
    "duration": 187,
    "start_time": "2023-05-27T15:14:47.901Z"
   },
   {
    "duration": 303,
    "start_time": "2023-05-27T15:14:52.644Z"
   },
   {
    "duration": 218,
    "start_time": "2023-05-27T15:14:59.445Z"
   },
   {
    "duration": 223,
    "start_time": "2023-05-27T15:17:23.878Z"
   },
   {
    "duration": 279,
    "start_time": "2023-05-27T15:17:37.947Z"
   },
   {
    "duration": 215,
    "start_time": "2023-05-27T15:18:40.326Z"
   },
   {
    "duration": 199,
    "start_time": "2023-05-27T15:18:45.617Z"
   },
   {
    "duration": 210,
    "start_time": "2023-05-27T15:19:17.529Z"
   },
   {
    "duration": 318,
    "start_time": "2023-05-27T15:20:10.626Z"
   },
   {
    "duration": 212,
    "start_time": "2023-05-27T15:20:54.779Z"
   },
   {
    "duration": 209,
    "start_time": "2023-05-27T15:21:56.701Z"
   },
   {
    "duration": 203,
    "start_time": "2023-05-27T15:23:07.290Z"
   },
   {
    "duration": 272,
    "start_time": "2023-05-27T15:23:41.806Z"
   },
   {
    "duration": 14,
    "start_time": "2023-05-27T15:37:54.518Z"
   },
   {
    "duration": 273,
    "start_time": "2023-05-27T15:38:34.882Z"
   },
   {
    "duration": 282,
    "start_time": "2023-05-27T15:41:03.363Z"
   },
   {
    "duration": 326,
    "start_time": "2023-05-27T15:41:22.913Z"
   },
   {
    "duration": 12,
    "start_time": "2023-05-27T15:55:27.392Z"
   },
   {
    "duration": 10,
    "start_time": "2023-05-27T15:56:39.236Z"
   },
   {
    "duration": 367,
    "start_time": "2023-05-27T15:59:42.795Z"
   },
   {
    "duration": 212,
    "start_time": "2023-05-27T15:59:59.249Z"
   },
   {
    "duration": 129,
    "start_time": "2023-05-27T16:01:01.485Z"
   },
   {
    "duration": 121,
    "start_time": "2023-05-27T16:03:40.694Z"
   },
   {
    "duration": 139,
    "start_time": "2023-05-27T16:03:50.726Z"
   },
   {
    "duration": 127,
    "start_time": "2023-05-27T16:03:56.624Z"
   },
   {
    "duration": 143,
    "start_time": "2023-05-27T16:04:25.263Z"
   },
   {
    "duration": 8,
    "start_time": "2023-05-27T16:05:19.281Z"
   },
   {
    "duration": 115,
    "start_time": "2023-05-27T16:09:07.081Z"
   },
   {
    "duration": 47,
    "start_time": "2023-05-27T16:09:22.131Z"
   },
   {
    "duration": 111,
    "start_time": "2023-05-27T16:09:46.264Z"
   },
   {
    "duration": 103,
    "start_time": "2023-05-27T16:09:54.635Z"
   },
   {
    "duration": 111,
    "start_time": "2023-05-27T16:09:59.920Z"
   },
   {
    "duration": 103,
    "start_time": "2023-05-27T16:10:30.979Z"
   },
   {
    "duration": 117,
    "start_time": "2023-05-27T16:11:00.328Z"
   },
   {
    "duration": 108,
    "start_time": "2023-05-27T16:12:09.394Z"
   },
   {
    "duration": 126,
    "start_time": "2023-05-27T16:12:37.076Z"
   },
   {
    "duration": 136,
    "start_time": "2023-05-27T16:13:24.656Z"
   },
   {
    "duration": 244,
    "start_time": "2023-05-27T16:13:37.240Z"
   },
   {
    "duration": 125,
    "start_time": "2023-05-27T16:13:43.023Z"
   },
   {
    "duration": 120,
    "start_time": "2023-05-27T16:13:48.255Z"
   },
   {
    "duration": 6,
    "start_time": "2023-05-27T16:23:03.353Z"
   },
   {
    "duration": 5,
    "start_time": "2023-05-27T16:34:59.811Z"
   },
   {
    "duration": 12,
    "start_time": "2023-05-27T16:43:19.941Z"
   },
   {
    "duration": 148,
    "start_time": "2023-05-27T16:43:28.920Z"
   },
   {
    "duration": 143,
    "start_time": "2023-05-27T16:45:46.935Z"
   },
   {
    "duration": 8,
    "start_time": "2023-05-27T16:46:32.734Z"
   },
   {
    "duration": 3,
    "start_time": "2023-05-27T16:48:36.920Z"
   },
   {
    "duration": 8,
    "start_time": "2023-05-27T16:48:38.907Z"
   },
   {
    "duration": 139,
    "start_time": "2023-05-27T16:50:05.417Z"
   },
   {
    "duration": 144,
    "start_time": "2023-05-27T16:50:54.917Z"
   },
   {
    "duration": 141,
    "start_time": "2023-05-27T16:52:16.631Z"
   },
   {
    "duration": 162,
    "start_time": "2023-05-27T16:52:35.632Z"
   },
   {
    "duration": 129,
    "start_time": "2023-05-27T16:52:40.382Z"
   },
   {
    "duration": 137,
    "start_time": "2023-05-27T16:52:46.690Z"
   },
   {
    "duration": 137,
    "start_time": "2023-05-27T16:53:02.594Z"
   },
   {
    "duration": 148,
    "start_time": "2023-05-27T16:53:13.906Z"
   },
   {
    "duration": 278,
    "start_time": "2023-05-27T16:54:45.686Z"
   },
   {
    "duration": 139,
    "start_time": "2023-05-27T16:54:55.690Z"
   },
   {
    "duration": 136,
    "start_time": "2023-05-27T16:55:00.882Z"
   },
   {
    "duration": 119,
    "start_time": "2023-05-27T17:02:06.229Z"
   },
   {
    "duration": 141,
    "start_time": "2023-05-27T17:02:37.546Z"
   },
   {
    "duration": 126,
    "start_time": "2023-05-27T17:04:11.933Z"
   },
   {
    "duration": 215,
    "start_time": "2023-05-27T17:05:55.038Z"
   },
   {
    "duration": 137,
    "start_time": "2023-05-27T17:06:02.791Z"
   },
   {
    "duration": 132,
    "start_time": "2023-05-27T17:06:16.421Z"
   },
   {
    "duration": 123,
    "start_time": "2023-05-27T17:07:16.712Z"
   },
   {
    "duration": 150,
    "start_time": "2023-05-27T17:08:30.823Z"
   },
   {
    "duration": 156,
    "start_time": "2023-05-27T17:08:36.054Z"
   },
   {
    "duration": 131,
    "start_time": "2023-05-27T17:08:44.310Z"
   },
   {
    "duration": 5,
    "start_time": "2023-05-27T17:12:47.647Z"
   },
   {
    "duration": 1246,
    "start_time": "2023-05-28T07:42:07.630Z"
   },
   {
    "duration": 191,
    "start_time": "2023-05-28T07:42:08.878Z"
   },
   {
    "duration": 2,
    "start_time": "2023-05-28T07:42:09.071Z"
   },
   {
    "duration": 27,
    "start_time": "2023-05-28T07:42:09.075Z"
   },
   {
    "duration": 30,
    "start_time": "2023-05-28T07:42:09.103Z"
   },
   {
    "duration": 18,
    "start_time": "2023-05-28T07:42:09.134Z"
   },
   {
    "duration": 31,
    "start_time": "2023-05-28T07:42:09.154Z"
   },
   {
    "duration": 6,
    "start_time": "2023-05-28T07:42:09.187Z"
   },
   {
    "duration": 36,
    "start_time": "2023-05-28T07:42:09.194Z"
   },
   {
    "duration": 283,
    "start_time": "2023-05-28T07:42:09.233Z"
   },
   {
    "duration": 10,
    "start_time": "2023-05-28T07:42:09.518Z"
   },
   {
    "duration": 266,
    "start_time": "2023-05-28T07:42:09.530Z"
   },
   {
    "duration": 12,
    "start_time": "2023-05-28T07:42:09.797Z"
   },
   {
    "duration": 282,
    "start_time": "2023-05-28T07:42:09.811Z"
   },
   {
    "duration": 264,
    "start_time": "2023-05-28T07:42:10.095Z"
   },
   {
    "duration": 205,
    "start_time": "2023-05-28T07:42:10.361Z"
   },
   {
    "duration": 365,
    "start_time": "2023-05-28T07:42:10.568Z"
   },
   {
    "duration": 225,
    "start_time": "2023-05-28T07:42:10.934Z"
   },
   {
    "duration": 314,
    "start_time": "2023-05-28T07:42:11.161Z"
   },
   {
    "duration": 15,
    "start_time": "2023-05-28T07:42:11.476Z"
   },
   {
    "duration": 187,
    "start_time": "2023-05-28T07:42:11.492Z"
   },
   {
    "duration": 10,
    "start_time": "2023-05-28T07:42:11.680Z"
   },
   {
    "duration": 135,
    "start_time": "2023-05-28T07:42:11.691Z"
   },
   {
    "duration": 6,
    "start_time": "2023-05-28T07:42:11.828Z"
   },
   {
    "duration": 152,
    "start_time": "2023-05-28T07:42:11.835Z"
   },
   {
    "duration": 7,
    "start_time": "2023-05-28T07:42:11.989Z"
   },
   {
    "duration": 257,
    "start_time": "2023-05-28T07:42:11.997Z"
   },
   {
    "duration": 195,
    "start_time": "2023-05-28T07:42:12.258Z"
   },
   {
    "duration": 6,
    "start_time": "2023-05-28T07:42:12.455Z"
   },
   {
    "duration": 10,
    "start_time": "2023-05-28T07:48:33.491Z"
   },
   {
    "duration": 78,
    "start_time": "2023-05-28T07:54:20.957Z"
   },
   {
    "duration": 85,
    "start_time": "2023-05-28T07:55:41.015Z"
   },
   {
    "duration": 82,
    "start_time": "2023-05-28T07:56:32.028Z"
   },
   {
    "duration": 11,
    "start_time": "2023-05-28T07:57:53.593Z"
   },
   {
    "duration": 12,
    "start_time": "2023-05-28T07:58:20.773Z"
   },
   {
    "duration": 9,
    "start_time": "2023-05-28T07:58:23.507Z"
   },
   {
    "duration": 4,
    "start_time": "2023-05-28T07:58:46.445Z"
   },
   {
    "duration": 10,
    "start_time": "2023-05-28T07:58:48.616Z"
   },
   {
    "duration": 13,
    "start_time": "2023-05-28T08:04:58.347Z"
   },
   {
    "duration": 8,
    "start_time": "2023-05-28T08:05:00.294Z"
   },
   {
    "duration": 53,
    "start_time": "2023-05-28T08:07:41.257Z"
   },
   {
    "duration": 8,
    "start_time": "2023-05-28T08:07:43.824Z"
   },
   {
    "duration": 59,
    "start_time": "2023-05-28T08:09:01.626Z"
   },
   {
    "duration": 9,
    "start_time": "2023-05-28T08:09:03.401Z"
   },
   {
    "duration": 100,
    "start_time": "2023-05-28T08:12:24.714Z"
   },
   {
    "duration": 100,
    "start_time": "2023-05-28T08:12:31.094Z"
   },
   {
    "duration": 8,
    "start_time": "2023-05-28T08:12:32.313Z"
   },
   {
    "duration": 98,
    "start_time": "2023-05-28T08:15:20.704Z"
   },
   {
    "duration": 8,
    "start_time": "2023-05-28T08:15:24.462Z"
   },
   {
    "duration": 23,
    "start_time": "2023-05-28T08:15:29.254Z"
   },
   {
    "duration": 27,
    "start_time": "2023-05-28T08:19:24.607Z"
   },
   {
    "duration": 12,
    "start_time": "2023-05-28T08:21:55.387Z"
   },
   {
    "duration": 131,
    "start_time": "2023-05-28T08:23:03.207Z"
   },
   {
    "duration": 9,
    "start_time": "2023-05-28T08:23:07.424Z"
   },
   {
    "duration": 4,
    "start_time": "2023-05-28T08:30:17.503Z"
   },
   {
    "duration": 5,
    "start_time": "2023-05-28T08:30:19.605Z"
   },
   {
    "duration": 98,
    "start_time": "2023-05-28T08:30:35.362Z"
   },
   {
    "duration": 5,
    "start_time": "2023-05-28T08:31:00.893Z"
   },
   {
    "duration": 5,
    "start_time": "2023-05-28T08:31:13.858Z"
   },
   {
    "duration": 5,
    "start_time": "2023-05-28T08:32:37.107Z"
   },
   {
    "duration": 6,
    "start_time": "2023-05-28T08:32:50.391Z"
   },
   {
    "duration": 6,
    "start_time": "2023-05-28T08:32:56.318Z"
   },
   {
    "duration": 76,
    "start_time": "2023-05-28T08:33:32.921Z"
   },
   {
    "duration": 85,
    "start_time": "2023-05-28T08:33:37.685Z"
   },
   {
    "duration": 4,
    "start_time": "2023-05-28T08:33:44.298Z"
   },
   {
    "duration": 4,
    "start_time": "2023-05-28T08:35:07.087Z"
   },
   {
    "duration": 4,
    "start_time": "2023-05-28T08:35:19.670Z"
   },
   {
    "duration": 5,
    "start_time": "2023-05-28T08:37:36.783Z"
   },
   {
    "duration": 7,
    "start_time": "2023-05-28T08:37:38.235Z"
   },
   {
    "duration": 4,
    "start_time": "2023-05-28T08:37:44.695Z"
   },
   {
    "duration": 5,
    "start_time": "2023-05-28T08:37:54.140Z"
   },
   {
    "duration": 8,
    "start_time": "2023-05-28T08:37:55.390Z"
   },
   {
    "duration": 5,
    "start_time": "2023-05-28T08:40:22.770Z"
   },
   {
    "duration": 4,
    "start_time": "2023-05-28T08:40:24.478Z"
   },
   {
    "duration": 8,
    "start_time": "2023-05-28T08:44:26.185Z"
   },
   {
    "duration": 21,
    "start_time": "2023-05-28T09:07:09.247Z"
   },
   {
    "duration": 20,
    "start_time": "2023-05-28T09:07:16.814Z"
   },
   {
    "duration": 21,
    "start_time": "2023-05-28T09:09:31.290Z"
   },
   {
    "duration": 24,
    "start_time": "2023-05-28T09:10:17.398Z"
   },
   {
    "duration": 33,
    "start_time": "2023-05-28T09:10:31.990Z"
   },
   {
    "duration": 20,
    "start_time": "2023-05-28T09:11:30.192Z"
   },
   {
    "duration": 26,
    "start_time": "2023-05-28T09:15:28.397Z"
   },
   {
    "duration": 20,
    "start_time": "2023-05-28T09:16:01.116Z"
   },
   {
    "duration": 22,
    "start_time": "2023-05-28T09:16:16.445Z"
   },
   {
    "duration": 22,
    "start_time": "2023-05-28T09:17:43.189Z"
   },
   {
    "duration": 20,
    "start_time": "2023-05-28T09:17:50.189Z"
   },
   {
    "duration": 20,
    "start_time": "2023-05-28T09:18:18.509Z"
   },
   {
    "duration": 20,
    "start_time": "2023-05-28T09:18:23.999Z"
   },
   {
    "duration": 20,
    "start_time": "2023-05-28T09:18:28.974Z"
   },
   {
    "duration": 37,
    "start_time": "2023-05-28T09:18:51.209Z"
   },
   {
    "duration": 36,
    "start_time": "2023-05-28T09:19:10.448Z"
   },
   {
    "duration": 36,
    "start_time": "2023-05-28T09:19:18.817Z"
   },
   {
    "duration": 35,
    "start_time": "2023-05-28T09:19:25.690Z"
   },
   {
    "duration": 99,
    "start_time": "2023-05-28T09:49:31.219Z"
   },
   {
    "duration": 5,
    "start_time": "2023-05-28T09:50:02.980Z"
   },
   {
    "duration": 19,
    "start_time": "2023-05-28T09:50:48.752Z"
   },
   {
    "duration": 4,
    "start_time": "2023-05-28T09:51:23.492Z"
   },
   {
    "duration": 18,
    "start_time": "2023-05-28T09:51:24.474Z"
   },
   {
    "duration": 7,
    "start_time": "2023-05-28T09:52:26.552Z"
   },
   {
    "duration": 4,
    "start_time": "2023-05-28T09:53:15.852Z"
   },
   {
    "duration": 19,
    "start_time": "2023-05-28T09:53:17.253Z"
   },
   {
    "duration": 7,
    "start_time": "2023-05-28T09:53:25.048Z"
   },
   {
    "duration": 10,
    "start_time": "2023-05-28T10:07:06.196Z"
   },
   {
    "duration": 11,
    "start_time": "2023-05-28T10:07:20.864Z"
   },
   {
    "duration": 10,
    "start_time": "2023-05-28T10:07:31.246Z"
   },
   {
    "duration": 8,
    "start_time": "2023-05-28T10:07:48.190Z"
   },
   {
    "duration": 7,
    "start_time": "2023-05-28T10:07:53.000Z"
   },
   {
    "duration": 7,
    "start_time": "2023-05-28T10:07:56.807Z"
   },
   {
    "duration": 10,
    "start_time": "2023-05-28T10:08:05.891Z"
   },
   {
    "duration": 8,
    "start_time": "2023-05-28T10:08:18.544Z"
   },
   {
    "duration": 11,
    "start_time": "2023-05-28T10:08:58.999Z"
   },
   {
    "duration": 12,
    "start_time": "2023-05-28T10:09:14.104Z"
   },
   {
    "duration": 14,
    "start_time": "2023-05-28T10:09:25.085Z"
   },
   {
    "duration": 7,
    "start_time": "2023-05-28T10:09:34.688Z"
   },
   {
    "duration": 8,
    "start_time": "2023-05-28T10:10:08.797Z"
   },
   {
    "duration": 83,
    "start_time": "2023-05-28T10:10:43.515Z"
   },
   {
    "duration": 9,
    "start_time": "2023-05-28T10:10:47.438Z"
   },
   {
    "duration": 9,
    "start_time": "2023-05-28T10:11:35.394Z"
   },
   {
    "duration": 8,
    "start_time": "2023-05-28T10:11:47.240Z"
   },
   {
    "duration": 9,
    "start_time": "2023-05-28T10:11:55.375Z"
   },
   {
    "duration": 6,
    "start_time": "2023-05-28T10:15:39.390Z"
   },
   {
    "duration": 5,
    "start_time": "2023-05-28T10:16:27.694Z"
   },
   {
    "duration": 7,
    "start_time": "2023-05-28T10:16:31.938Z"
   },
   {
    "duration": 7,
    "start_time": "2023-05-28T10:17:19.735Z"
   },
   {
    "duration": 5,
    "start_time": "2023-05-28T10:17:25.103Z"
   },
   {
    "duration": 19,
    "start_time": "2023-05-28T10:19:49.842Z"
   },
   {
    "duration": 11,
    "start_time": "2023-05-28T10:26:29.499Z"
   },
   {
    "duration": 9,
    "start_time": "2023-05-28T10:30:30.796Z"
   },
   {
    "duration": 14,
    "start_time": "2023-05-28T11:19:44.093Z"
   },
   {
    "duration": 6,
    "start_time": "2023-05-28T11:20:35.535Z"
   },
   {
    "duration": 13,
    "start_time": "2023-05-28T11:20:51.001Z"
   },
   {
    "duration": 4,
    "start_time": "2023-05-28T11:26:14.596Z"
   },
   {
    "duration": 11,
    "start_time": "2023-05-28T11:26:20.936Z"
   },
   {
    "duration": 9,
    "start_time": "2023-05-28T11:26:49.195Z"
   },
   {
    "duration": 1008,
    "start_time": "2023-05-28T11:39:51.337Z"
   },
   {
    "duration": 72,
    "start_time": "2023-05-28T11:39:52.347Z"
   },
   {
    "duration": 2,
    "start_time": "2023-05-28T11:39:52.421Z"
   },
   {
    "duration": 25,
    "start_time": "2023-05-28T11:39:52.424Z"
   },
   {
    "duration": 17,
    "start_time": "2023-05-28T11:39:52.451Z"
   },
   {
    "duration": 16,
    "start_time": "2023-05-28T11:39:52.469Z"
   },
   {
    "duration": 19,
    "start_time": "2023-05-28T11:39:52.487Z"
   },
   {
    "duration": 5,
    "start_time": "2023-05-28T11:39:52.508Z"
   },
   {
    "duration": 17,
    "start_time": "2023-05-28T11:39:52.515Z"
   },
   {
    "duration": 282,
    "start_time": "2023-05-28T11:39:52.533Z"
   },
   {
    "duration": 10,
    "start_time": "2023-05-28T11:39:52.817Z"
   },
   {
    "duration": 237,
    "start_time": "2023-05-28T11:39:52.828Z"
   },
   {
    "duration": 11,
    "start_time": "2023-05-28T11:39:53.066Z"
   },
   {
    "duration": 251,
    "start_time": "2023-05-28T11:39:53.079Z"
   },
   {
    "duration": 245,
    "start_time": "2023-05-28T11:39:53.332Z"
   },
   {
    "duration": 183,
    "start_time": "2023-05-28T11:39:53.578Z"
   },
   {
    "duration": 310,
    "start_time": "2023-05-28T11:39:53.763Z"
   },
   {
    "duration": 216,
    "start_time": "2023-05-28T11:39:54.084Z"
   },
   {
    "duration": 278,
    "start_time": "2023-05-28T11:39:54.301Z"
   },
   {
    "duration": 8,
    "start_time": "2023-05-28T11:39:54.585Z"
   },
   {
    "duration": 176,
    "start_time": "2023-05-28T11:39:54.595Z"
   },
   {
    "duration": 13,
    "start_time": "2023-05-28T11:39:54.772Z"
   },
   {
    "duration": 119,
    "start_time": "2023-05-28T11:39:54.787Z"
   },
   {
    "duration": 4,
    "start_time": "2023-05-28T11:39:54.908Z"
   },
   {
    "duration": 137,
    "start_time": "2023-05-28T11:39:54.914Z"
   },
   {
    "duration": 6,
    "start_time": "2023-05-28T11:39:55.053Z"
   },
   {
    "duration": 146,
    "start_time": "2023-05-28T11:39:55.061Z"
   },
   {
    "duration": 128,
    "start_time": "2023-05-28T11:39:55.208Z"
   },
   {
    "duration": 4,
    "start_time": "2023-05-28T11:39:55.337Z"
   },
   {
    "duration": 89,
    "start_time": "2023-05-28T11:39:55.342Z"
   },
   {
    "duration": 99,
    "start_time": "2023-05-28T11:39:55.433Z"
   },
   {
    "duration": 25,
    "start_time": "2023-05-28T11:39:55.534Z"
   },
   {
    "duration": 131,
    "start_time": "2023-05-28T11:39:55.560Z"
   },
   {
    "duration": 6,
    "start_time": "2023-05-28T11:39:55.693Z"
   },
   {
    "duration": 4,
    "start_time": "2023-05-28T11:39:55.700Z"
   },
   {
    "duration": 42,
    "start_time": "2023-05-28T11:39:55.706Z"
   },
   {
    "duration": 7,
    "start_time": "2023-05-28T11:39:55.749Z"
   },
   {
    "duration": 9,
    "start_time": "2023-05-28T11:39:55.757Z"
   },
   {
    "duration": 16,
    "start_time": "2023-05-28T11:39:55.768Z"
   },
   {
    "duration": 18,
    "start_time": "2023-05-28T11:39:55.786Z"
   },
   {
    "duration": 9,
    "start_time": "2023-05-28T11:39:55.807Z"
   },
   {
    "duration": 107,
    "start_time": "2023-05-29T06:00:51.795Z"
   },
   {
    "duration": 1882,
    "start_time": "2023-05-29T06:01:12.357Z"
   },
   {
    "duration": 310,
    "start_time": "2023-05-29T06:01:14.241Z"
   },
   {
    "duration": 6,
    "start_time": "2023-05-29T06:01:14.553Z"
   },
   {
    "duration": 146,
    "start_time": "2023-05-29T06:01:14.561Z"
   },
   {
    "duration": 26,
    "start_time": "2023-05-29T06:01:14.709Z"
   },
   {
    "duration": 88,
    "start_time": "2023-05-29T06:01:14.738Z"
   },
   {
    "duration": 147,
    "start_time": "2023-05-29T06:01:14.833Z"
   },
   {
    "duration": 110,
    "start_time": "2023-05-29T06:01:14.987Z"
   },
   {
    "duration": 2550,
    "start_time": "2023-05-29T06:01:15.105Z"
   },
   {
    "duration": 0,
    "start_time": "2023-05-29T06:01:17.658Z"
   },
   {
    "duration": 0,
    "start_time": "2023-05-29T06:01:17.659Z"
   },
   {
    "duration": 0,
    "start_time": "2023-05-29T06:01:17.661Z"
   },
   {
    "duration": 0,
    "start_time": "2023-05-29T06:01:17.662Z"
   },
   {
    "duration": 0,
    "start_time": "2023-05-29T06:01:17.663Z"
   },
   {
    "duration": 0,
    "start_time": "2023-05-29T06:01:17.664Z"
   },
   {
    "duration": 0,
    "start_time": "2023-05-29T06:01:17.666Z"
   },
   {
    "duration": 0,
    "start_time": "2023-05-29T06:01:17.667Z"
   },
   {
    "duration": 0,
    "start_time": "2023-05-29T06:01:17.669Z"
   },
   {
    "duration": 0,
    "start_time": "2023-05-29T06:01:17.670Z"
   },
   {
    "duration": 0,
    "start_time": "2023-05-29T06:01:17.671Z"
   },
   {
    "duration": 0,
    "start_time": "2023-05-29T06:01:17.673Z"
   },
   {
    "duration": 0,
    "start_time": "2023-05-29T06:01:17.674Z"
   },
   {
    "duration": 0,
    "start_time": "2023-05-29T06:01:17.675Z"
   },
   {
    "duration": 0,
    "start_time": "2023-05-29T06:01:17.676Z"
   },
   {
    "duration": 0,
    "start_time": "2023-05-29T06:01:17.677Z"
   },
   {
    "duration": 0,
    "start_time": "2023-05-29T06:01:17.678Z"
   },
   {
    "duration": 0,
    "start_time": "2023-05-29T06:01:17.679Z"
   },
   {
    "duration": 0,
    "start_time": "2023-05-29T06:01:17.681Z"
   },
   {
    "duration": 0,
    "start_time": "2023-05-29T06:01:17.682Z"
   },
   {
    "duration": 0,
    "start_time": "2023-05-29T06:01:17.683Z"
   },
   {
    "duration": 0,
    "start_time": "2023-05-29T06:01:17.685Z"
   },
   {
    "duration": 0,
    "start_time": "2023-05-29T06:01:17.686Z"
   },
   {
    "duration": 0,
    "start_time": "2023-05-29T06:01:17.688Z"
   },
   {
    "duration": 0,
    "start_time": "2023-05-29T06:01:17.689Z"
   },
   {
    "duration": 0,
    "start_time": "2023-05-29T06:01:17.691Z"
   },
   {
    "duration": 0,
    "start_time": "2023-05-29T06:01:17.692Z"
   },
   {
    "duration": 0,
    "start_time": "2023-05-29T06:01:17.693Z"
   },
   {
    "duration": 0,
    "start_time": "2023-05-29T06:01:17.695Z"
   },
   {
    "duration": 0,
    "start_time": "2023-05-29T06:01:17.696Z"
   },
   {
    "duration": 0,
    "start_time": "2023-05-29T06:01:17.697Z"
   },
   {
    "duration": 0,
    "start_time": "2023-05-29T06:01:17.698Z"
   },
   {
    "duration": 0,
    "start_time": "2023-05-29T06:01:17.700Z"
   },
   {
    "duration": 2596,
    "start_time": "2023-05-29T06:01:29.391Z"
   },
   {
    "duration": 6,
    "start_time": "2023-05-29T06:01:57.816Z"
   },
   {
    "duration": 22,
    "start_time": "2023-05-29T06:02:56.615Z"
   },
   {
    "duration": 27,
    "start_time": "2023-05-29T06:03:07.450Z"
   },
   {
    "duration": 13,
    "start_time": "2023-05-29T06:04:00.203Z"
   },
   {
    "duration": 28,
    "start_time": "2023-05-29T06:05:35.494Z"
   },
   {
    "duration": 27,
    "start_time": "2023-05-29T06:06:23.620Z"
   },
   {
    "duration": 38,
    "start_time": "2023-05-29T06:07:20.553Z"
   },
   {
    "duration": 22,
    "start_time": "2023-05-29T06:07:32.789Z"
   },
   {
    "duration": 29,
    "start_time": "2023-05-29T06:07:41.056Z"
   },
   {
    "duration": 233,
    "start_time": "2023-05-29T06:11:44.173Z"
   },
   {
    "duration": 125,
    "start_time": "2023-05-29T06:12:48.204Z"
   },
   {
    "duration": 206,
    "start_time": "2023-05-29T06:13:07.397Z"
   },
   {
    "duration": 231,
    "start_time": "2023-05-29T06:14:22.229Z"
   },
   {
    "duration": 249,
    "start_time": "2023-05-29T06:14:30.400Z"
   },
   {
    "duration": 266,
    "start_time": "2023-05-29T06:14:37.585Z"
   },
   {
    "duration": 171,
    "start_time": "2023-05-29T06:14:53.804Z"
   },
   {
    "duration": 31,
    "start_time": "2023-05-29T06:15:15.718Z"
   },
   {
    "duration": 1606,
    "start_time": "2023-05-29T06:21:02.996Z"
   },
   {
    "duration": 125,
    "start_time": "2023-05-29T06:21:04.606Z"
   },
   {
    "duration": 11,
    "start_time": "2023-05-29T06:21:04.738Z"
   },
   {
    "duration": 84,
    "start_time": "2023-05-29T06:21:04.752Z"
   },
   {
    "duration": 97,
    "start_time": "2023-05-29T06:21:04.838Z"
   },
   {
    "duration": 87,
    "start_time": "2023-05-29T06:21:04.945Z"
   },
   {
    "duration": 124,
    "start_time": "2023-05-29T06:21:05.034Z"
   },
   {
    "duration": 120,
    "start_time": "2023-05-29T06:21:05.159Z"
   },
   {
    "duration": 83,
    "start_time": "2023-05-29T06:21:05.287Z"
   },
   {
    "duration": 103,
    "start_time": "2023-05-29T06:21:05.377Z"
   },
   {
    "duration": 512,
    "start_time": "2023-05-29T06:21:05.489Z"
   },
   {
    "duration": 21,
    "start_time": "2023-05-29T06:21:06.007Z"
   },
   {
    "duration": 415,
    "start_time": "2023-05-29T06:21:06.033Z"
   },
   {
    "duration": 18,
    "start_time": "2023-05-29T06:21:06.454Z"
   },
   {
    "duration": 599,
    "start_time": "2023-05-29T06:21:06.477Z"
   },
   {
    "duration": 432,
    "start_time": "2023-05-29T06:21:07.081Z"
   },
   {
    "duration": 338,
    "start_time": "2023-05-29T06:21:07.519Z"
   },
   {
    "duration": 401,
    "start_time": "2023-05-29T06:21:07.859Z"
   },
   {
    "duration": 454,
    "start_time": "2023-05-29T06:21:08.269Z"
   },
   {
    "duration": 411,
    "start_time": "2023-05-29T06:21:08.725Z"
   },
   {
    "duration": 17,
    "start_time": "2023-05-29T06:21:09.138Z"
   },
   {
    "duration": 445,
    "start_time": "2023-05-29T06:21:09.157Z"
   },
   {
    "duration": 18,
    "start_time": "2023-05-29T06:21:09.604Z"
   },
   {
    "duration": 262,
    "start_time": "2023-05-29T06:21:09.636Z"
   },
   {
    "duration": 17,
    "start_time": "2023-05-29T06:21:09.904Z"
   },
   {
    "duration": 308,
    "start_time": "2023-05-29T06:21:09.928Z"
   },
   {
    "duration": 25,
    "start_time": "2023-05-29T06:21:10.243Z"
   },
   {
    "duration": 260,
    "start_time": "2023-05-29T06:21:10.284Z"
   },
   {
    "duration": 242,
    "start_time": "2023-05-29T06:21:10.545Z"
   },
   {
    "duration": 19,
    "start_time": "2023-05-29T06:21:10.793Z"
   },
   {
    "duration": 208,
    "start_time": "2023-05-29T06:21:10.817Z"
   },
   {
    "duration": 161,
    "start_time": "2023-05-29T06:21:11.026Z"
   },
   {
    "duration": 157,
    "start_time": "2023-05-29T06:21:11.191Z"
   },
   {
    "duration": 285,
    "start_time": "2023-05-29T06:21:11.354Z"
   },
   {
    "duration": 13,
    "start_time": "2023-05-29T06:21:11.649Z"
   },
   {
    "duration": 24,
    "start_time": "2023-05-29T06:21:11.668Z"
   },
   {
    "duration": 221,
    "start_time": "2023-05-29T06:21:11.697Z"
   },
   {
    "duration": 97,
    "start_time": "2023-05-29T06:21:11.925Z"
   },
   {
    "duration": 76,
    "start_time": "2023-05-29T06:21:12.028Z"
   },
   {
    "duration": 28,
    "start_time": "2023-05-29T06:21:12.107Z"
   },
   {
    "duration": 117,
    "start_time": "2023-05-29T06:21:12.147Z"
   },
   {
    "duration": 33,
    "start_time": "2023-05-29T06:21:12.266Z"
   },
   {
    "duration": 297,
    "start_time": "2023-05-29T06:21:56.857Z"
   },
   {
    "duration": 418,
    "start_time": "2023-05-29T06:25:44.302Z"
   },
   {
    "duration": 339,
    "start_time": "2023-05-29T06:28:53.307Z"
   },
   {
    "duration": 348,
    "start_time": "2023-05-29T06:29:14.066Z"
   },
   {
    "duration": 369,
    "start_time": "2023-05-29T06:32:06.653Z"
   },
   {
    "duration": 366,
    "start_time": "2023-05-29T06:32:20.356Z"
   },
   {
    "duration": 457,
    "start_time": "2023-05-29T06:34:52.853Z"
   },
   {
    "duration": 15,
    "start_time": "2023-05-29T06:37:43.153Z"
   },
   {
    "duration": 5,
    "start_time": "2023-05-29T06:37:49.596Z"
   },
   {
    "duration": 125,
    "start_time": "2023-05-29T06:38:17.194Z"
   },
   {
    "duration": 166,
    "start_time": "2023-05-29T06:38:34.953Z"
   },
   {
    "duration": 19,
    "start_time": "2023-05-29T06:38:48.462Z"
   },
   {
    "duration": 7,
    "start_time": "2023-05-29T06:39:04.595Z"
   },
   {
    "duration": 5,
    "start_time": "2023-05-29T06:40:34.583Z"
   },
   {
    "duration": 192,
    "start_time": "2023-05-29T06:47:27.416Z"
   },
   {
    "duration": 170,
    "start_time": "2023-05-29T06:47:34.253Z"
   },
   {
    "duration": 183,
    "start_time": "2023-05-29T07:00:07.218Z"
   },
   {
    "duration": 17,
    "start_time": "2023-05-29T07:00:14.016Z"
   },
   {
    "duration": 7,
    "start_time": "2023-05-29T07:00:49.213Z"
   },
   {
    "duration": 63,
    "start_time": "2023-05-29T07:00:51.418Z"
   },
   {
    "duration": 193,
    "start_time": "2023-05-29T07:07:08.408Z"
   },
   {
    "duration": 1327,
    "start_time": "2023-05-29T07:23:43.706Z"
   },
   {
    "duration": 124,
    "start_time": "2023-05-29T07:23:45.042Z"
   },
   {
    "duration": 8,
    "start_time": "2023-05-29T07:23:45.170Z"
   },
   {
    "duration": 110,
    "start_time": "2023-05-29T07:23:45.181Z"
   },
   {
    "duration": 29,
    "start_time": "2023-05-29T07:23:45.293Z"
   },
   {
    "duration": 94,
    "start_time": "2023-05-29T07:23:45.324Z"
   },
   {
    "duration": 66,
    "start_time": "2023-05-29T07:23:45.419Z"
   },
   {
    "duration": 14,
    "start_time": "2023-05-29T07:23:45.487Z"
   },
   {
    "duration": 70,
    "start_time": "2023-05-29T07:23:45.502Z"
   },
   {
    "duration": 46,
    "start_time": "2023-05-29T07:23:45.576Z"
   },
   {
    "duration": 361,
    "start_time": "2023-05-29T07:23:45.624Z"
   },
   {
    "duration": 11,
    "start_time": "2023-05-29T07:23:45.987Z"
   },
   {
    "duration": 300,
    "start_time": "2023-05-29T07:23:46.000Z"
   },
   {
    "duration": 12,
    "start_time": "2023-05-29T07:23:46.301Z"
   },
   {
    "duration": 340,
    "start_time": "2023-05-29T07:23:46.333Z"
   },
   {
    "duration": 320,
    "start_time": "2023-05-29T07:23:46.674Z"
   },
   {
    "duration": 269,
    "start_time": "2023-05-29T07:23:46.996Z"
   },
   {
    "duration": 328,
    "start_time": "2023-05-29T07:23:47.267Z"
   },
   {
    "duration": 277,
    "start_time": "2023-05-29T07:23:47.597Z"
   },
   {
    "duration": 311,
    "start_time": "2023-05-29T07:23:47.876Z"
   },
   {
    "duration": 9,
    "start_time": "2023-05-29T07:23:48.188Z"
   },
   {
    "duration": 237,
    "start_time": "2023-05-29T07:23:48.199Z"
   },
   {
    "duration": 16,
    "start_time": "2023-05-29T07:23:48.437Z"
   },
   {
    "duration": 183,
    "start_time": "2023-05-29T07:23:48.458Z"
   },
   {
    "duration": 7,
    "start_time": "2023-05-29T07:23:48.648Z"
   },
   {
    "duration": 61,
    "start_time": "2023-05-29T07:23:48.657Z"
   },
   {
    "duration": 229,
    "start_time": "2023-05-29T07:23:48.720Z"
   },
   {
    "duration": 19,
    "start_time": "2023-05-29T07:23:48.952Z"
   },
   {
    "duration": 188,
    "start_time": "2023-05-29T07:23:48.972Z"
   },
   {
    "duration": 159,
    "start_time": "2023-05-29T07:23:49.161Z"
   },
   {
    "duration": 16,
    "start_time": "2023-05-29T07:23:49.321Z"
   },
   {
    "duration": 38,
    "start_time": "2023-05-29T07:23:49.339Z"
   },
   {
    "duration": 105,
    "start_time": "2023-05-29T07:23:49.378Z"
   },
   {
    "duration": 202,
    "start_time": "2023-05-29T07:23:49.485Z"
   },
   {
    "duration": 25,
    "start_time": "2023-05-29T07:23:49.689Z"
   },
   {
    "duration": 168,
    "start_time": "2023-05-29T07:23:49.716Z"
   },
   {
    "duration": 23,
    "start_time": "2023-05-29T07:23:49.886Z"
   },
   {
    "duration": 60,
    "start_time": "2023-05-29T07:23:49.911Z"
   },
   {
    "duration": 107,
    "start_time": "2023-05-29T07:23:49.973Z"
   },
   {
    "duration": 22,
    "start_time": "2023-05-29T07:23:50.081Z"
   },
   {
    "duration": 42,
    "start_time": "2023-05-29T07:23:50.105Z"
   },
   {
    "duration": 51,
    "start_time": "2023-05-29T07:23:50.154Z"
   },
   {
    "duration": 57,
    "start_time": "2023-05-29T07:23:50.207Z"
   },
   {
    "duration": 18,
    "start_time": "2023-05-29T07:23:50.273Z"
   }
  ],
  "kernelspec": {
   "display_name": "Python 3 (ipykernel)",
   "language": "python",
   "name": "python3"
  },
  "language_info": {
   "codemirror_mode": {
    "name": "ipython",
    "version": 3
   },
   "file_extension": ".py",
   "mimetype": "text/x-python",
   "name": "python",
   "nbconvert_exporter": "python",
   "pygments_lexer": "ipython3",
   "version": "3.9.5"
  },
  "toc": {
   "base_numbering": 1,
   "nav_menu": {},
   "number_sections": true,
   "sideBar": true,
   "skip_h1_title": true,
   "title_cell": "Table of Contents",
   "title_sidebar": "Contents",
   "toc_cell": false,
   "toc_position": {},
   "toc_section_display": true,
   "toc_window_display": false
  }
 },
 "nbformat": 4,
 "nbformat_minor": 2
}
