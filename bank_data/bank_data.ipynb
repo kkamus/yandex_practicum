{
 "cells": [
  {
   "cell_type": "markdown",
   "id": "386f2ae7",
   "metadata": {
    "deletable": false,
    "editable": false,
    "id": "386f2ae7"
   },
   "source": [
    "# Исследование надежности заемщиков\n"
   ]
  },
  {
   "cell_type": "markdown",
   "id": "26613308",
   "metadata": {
    "deletable": false,
    "editable": false,
    "id": "26613308"
   },
   "source": [
    "## Изучение общей информации"
   ]
  },
  {
   "cell_type": "code",
   "execution_count": 1,
   "id": "77a68a90",
   "metadata": {
    "deletable": false,
    "id": "77a68a90"
   },
   "outputs": [],
   "source": [
    "import pandas as pd\n",
    "\n",
    "try:\n",
    "    data = pd.read_csv('/datasets/data.csv')\n",
    "except:\n",
    "    data = pd.read_csv('https://code.s3.yandex.net/datasets/data.csv')"
   ]
  },
  {
   "cell_type": "code",
   "execution_count": 2,
   "id": "b0451a9a",
   "metadata": {
    "deletable": false,
    "id": "b0451a9a",
    "outputId": "1a8f3ef2-d323-4ec2-ddf7-89670b5944c4"
   },
   "outputs": [
    {
     "data": {
      "text/html": [
       "<div>\n",
       "<style scoped>\n",
       "    .dataframe tbody tr th:only-of-type {\n",
       "        vertical-align: middle;\n",
       "    }\n",
       "\n",
       "    .dataframe tbody tr th {\n",
       "        vertical-align: top;\n",
       "    }\n",
       "\n",
       "    .dataframe thead th {\n",
       "        text-align: right;\n",
       "    }\n",
       "</style>\n",
       "<table border=\"1\" class=\"dataframe\">\n",
       "  <thead>\n",
       "    <tr style=\"text-align: right;\">\n",
       "      <th></th>\n",
       "      <th>children</th>\n",
       "      <th>days_employed</th>\n",
       "      <th>dob_years</th>\n",
       "      <th>education</th>\n",
       "      <th>education_id</th>\n",
       "      <th>family_status</th>\n",
       "      <th>family_status_id</th>\n",
       "      <th>gender</th>\n",
       "      <th>income_type</th>\n",
       "      <th>debt</th>\n",
       "      <th>total_income</th>\n",
       "      <th>purpose</th>\n",
       "    </tr>\n",
       "  </thead>\n",
       "  <tbody>\n",
       "    <tr>\n",
       "      <th>0</th>\n",
       "      <td>1</td>\n",
       "      <td>-8437.673028</td>\n",
       "      <td>42</td>\n",
       "      <td>высшее</td>\n",
       "      <td>0</td>\n",
       "      <td>женат / замужем</td>\n",
       "      <td>0</td>\n",
       "      <td>F</td>\n",
       "      <td>сотрудник</td>\n",
       "      <td>0</td>\n",
       "      <td>253875.639453</td>\n",
       "      <td>покупка жилья</td>\n",
       "    </tr>\n",
       "    <tr>\n",
       "      <th>1</th>\n",
       "      <td>1</td>\n",
       "      <td>-4024.803754</td>\n",
       "      <td>36</td>\n",
       "      <td>среднее</td>\n",
       "      <td>1</td>\n",
       "      <td>женат / замужем</td>\n",
       "      <td>0</td>\n",
       "      <td>F</td>\n",
       "      <td>сотрудник</td>\n",
       "      <td>0</td>\n",
       "      <td>112080.014102</td>\n",
       "      <td>приобретение автомобиля</td>\n",
       "    </tr>\n",
       "    <tr>\n",
       "      <th>2</th>\n",
       "      <td>0</td>\n",
       "      <td>-5623.422610</td>\n",
       "      <td>33</td>\n",
       "      <td>Среднее</td>\n",
       "      <td>1</td>\n",
       "      <td>женат / замужем</td>\n",
       "      <td>0</td>\n",
       "      <td>M</td>\n",
       "      <td>сотрудник</td>\n",
       "      <td>0</td>\n",
       "      <td>145885.952297</td>\n",
       "      <td>покупка жилья</td>\n",
       "    </tr>\n",
       "    <tr>\n",
       "      <th>3</th>\n",
       "      <td>3</td>\n",
       "      <td>-4124.747207</td>\n",
       "      <td>32</td>\n",
       "      <td>среднее</td>\n",
       "      <td>1</td>\n",
       "      <td>женат / замужем</td>\n",
       "      <td>0</td>\n",
       "      <td>M</td>\n",
       "      <td>сотрудник</td>\n",
       "      <td>0</td>\n",
       "      <td>267628.550329</td>\n",
       "      <td>дополнительное образование</td>\n",
       "    </tr>\n",
       "    <tr>\n",
       "      <th>4</th>\n",
       "      <td>0</td>\n",
       "      <td>340266.072047</td>\n",
       "      <td>53</td>\n",
       "      <td>среднее</td>\n",
       "      <td>1</td>\n",
       "      <td>гражданский брак</td>\n",
       "      <td>1</td>\n",
       "      <td>F</td>\n",
       "      <td>пенсионер</td>\n",
       "      <td>0</td>\n",
       "      <td>158616.077870</td>\n",
       "      <td>сыграть свадьбу</td>\n",
       "    </tr>\n",
       "    <tr>\n",
       "      <th>5</th>\n",
       "      <td>0</td>\n",
       "      <td>-926.185831</td>\n",
       "      <td>27</td>\n",
       "      <td>высшее</td>\n",
       "      <td>0</td>\n",
       "      <td>гражданский брак</td>\n",
       "      <td>1</td>\n",
       "      <td>M</td>\n",
       "      <td>компаньон</td>\n",
       "      <td>0</td>\n",
       "      <td>255763.565419</td>\n",
       "      <td>покупка жилья</td>\n",
       "    </tr>\n",
       "    <tr>\n",
       "      <th>6</th>\n",
       "      <td>0</td>\n",
       "      <td>-2879.202052</td>\n",
       "      <td>43</td>\n",
       "      <td>высшее</td>\n",
       "      <td>0</td>\n",
       "      <td>женат / замужем</td>\n",
       "      <td>0</td>\n",
       "      <td>F</td>\n",
       "      <td>компаньон</td>\n",
       "      <td>0</td>\n",
       "      <td>240525.971920</td>\n",
       "      <td>операции с жильем</td>\n",
       "    </tr>\n",
       "    <tr>\n",
       "      <th>7</th>\n",
       "      <td>0</td>\n",
       "      <td>-152.779569</td>\n",
       "      <td>50</td>\n",
       "      <td>СРЕДНЕЕ</td>\n",
       "      <td>1</td>\n",
       "      <td>женат / замужем</td>\n",
       "      <td>0</td>\n",
       "      <td>M</td>\n",
       "      <td>сотрудник</td>\n",
       "      <td>0</td>\n",
       "      <td>135823.934197</td>\n",
       "      <td>образование</td>\n",
       "    </tr>\n",
       "    <tr>\n",
       "      <th>8</th>\n",
       "      <td>2</td>\n",
       "      <td>-6929.865299</td>\n",
       "      <td>35</td>\n",
       "      <td>ВЫСШЕЕ</td>\n",
       "      <td>0</td>\n",
       "      <td>гражданский брак</td>\n",
       "      <td>1</td>\n",
       "      <td>F</td>\n",
       "      <td>сотрудник</td>\n",
       "      <td>0</td>\n",
       "      <td>95856.832424</td>\n",
       "      <td>на проведение свадьбы</td>\n",
       "    </tr>\n",
       "    <tr>\n",
       "      <th>9</th>\n",
       "      <td>0</td>\n",
       "      <td>-2188.756445</td>\n",
       "      <td>41</td>\n",
       "      <td>среднее</td>\n",
       "      <td>1</td>\n",
       "      <td>женат / замужем</td>\n",
       "      <td>0</td>\n",
       "      <td>M</td>\n",
       "      <td>сотрудник</td>\n",
       "      <td>0</td>\n",
       "      <td>144425.938277</td>\n",
       "      <td>покупка жилья для семьи</td>\n",
       "    </tr>\n",
       "    <tr>\n",
       "      <th>10</th>\n",
       "      <td>2</td>\n",
       "      <td>-4171.483647</td>\n",
       "      <td>36</td>\n",
       "      <td>высшее</td>\n",
       "      <td>0</td>\n",
       "      <td>женат / замужем</td>\n",
       "      <td>0</td>\n",
       "      <td>M</td>\n",
       "      <td>компаньон</td>\n",
       "      <td>0</td>\n",
       "      <td>113943.491460</td>\n",
       "      <td>покупка недвижимости</td>\n",
       "    </tr>\n",
       "    <tr>\n",
       "      <th>11</th>\n",
       "      <td>0</td>\n",
       "      <td>-792.701887</td>\n",
       "      <td>40</td>\n",
       "      <td>среднее</td>\n",
       "      <td>1</td>\n",
       "      <td>женат / замужем</td>\n",
       "      <td>0</td>\n",
       "      <td>F</td>\n",
       "      <td>сотрудник</td>\n",
       "      <td>0</td>\n",
       "      <td>77069.234271</td>\n",
       "      <td>покупка коммерческой недвижимости</td>\n",
       "    </tr>\n",
       "    <tr>\n",
       "      <th>12</th>\n",
       "      <td>0</td>\n",
       "      <td>NaN</td>\n",
       "      <td>65</td>\n",
       "      <td>среднее</td>\n",
       "      <td>1</td>\n",
       "      <td>гражданский брак</td>\n",
       "      <td>1</td>\n",
       "      <td>M</td>\n",
       "      <td>пенсионер</td>\n",
       "      <td>0</td>\n",
       "      <td>NaN</td>\n",
       "      <td>сыграть свадьбу</td>\n",
       "    </tr>\n",
       "    <tr>\n",
       "      <th>13</th>\n",
       "      <td>0</td>\n",
       "      <td>-1846.641941</td>\n",
       "      <td>54</td>\n",
       "      <td>неоконченное высшее</td>\n",
       "      <td>2</td>\n",
       "      <td>женат / замужем</td>\n",
       "      <td>0</td>\n",
       "      <td>F</td>\n",
       "      <td>сотрудник</td>\n",
       "      <td>0</td>\n",
       "      <td>130458.228857</td>\n",
       "      <td>приобретение автомобиля</td>\n",
       "    </tr>\n",
       "    <tr>\n",
       "      <th>14</th>\n",
       "      <td>0</td>\n",
       "      <td>-1844.956182</td>\n",
       "      <td>56</td>\n",
       "      <td>высшее</td>\n",
       "      <td>0</td>\n",
       "      <td>гражданский брак</td>\n",
       "      <td>1</td>\n",
       "      <td>F</td>\n",
       "      <td>компаньон</td>\n",
       "      <td>1</td>\n",
       "      <td>165127.911772</td>\n",
       "      <td>покупка жилой недвижимости</td>\n",
       "    </tr>\n",
       "    <tr>\n",
       "      <th>15</th>\n",
       "      <td>1</td>\n",
       "      <td>-972.364419</td>\n",
       "      <td>26</td>\n",
       "      <td>среднее</td>\n",
       "      <td>1</td>\n",
       "      <td>женат / замужем</td>\n",
       "      <td>0</td>\n",
       "      <td>F</td>\n",
       "      <td>сотрудник</td>\n",
       "      <td>0</td>\n",
       "      <td>116820.904450</td>\n",
       "      <td>строительство собственной недвижимости</td>\n",
       "    </tr>\n",
       "    <tr>\n",
       "      <th>16</th>\n",
       "      <td>0</td>\n",
       "      <td>-1719.934226</td>\n",
       "      <td>35</td>\n",
       "      <td>среднее</td>\n",
       "      <td>1</td>\n",
       "      <td>женат / замужем</td>\n",
       "      <td>0</td>\n",
       "      <td>F</td>\n",
       "      <td>сотрудник</td>\n",
       "      <td>0</td>\n",
       "      <td>289202.704229</td>\n",
       "      <td>недвижимость</td>\n",
       "    </tr>\n",
       "    <tr>\n",
       "      <th>17</th>\n",
       "      <td>0</td>\n",
       "      <td>-2369.999720</td>\n",
       "      <td>33</td>\n",
       "      <td>высшее</td>\n",
       "      <td>0</td>\n",
       "      <td>гражданский брак</td>\n",
       "      <td>1</td>\n",
       "      <td>M</td>\n",
       "      <td>сотрудник</td>\n",
       "      <td>0</td>\n",
       "      <td>90410.586745</td>\n",
       "      <td>строительство недвижимости</td>\n",
       "    </tr>\n",
       "    <tr>\n",
       "      <th>18</th>\n",
       "      <td>0</td>\n",
       "      <td>400281.136913</td>\n",
       "      <td>53</td>\n",
       "      <td>среднее</td>\n",
       "      <td>1</td>\n",
       "      <td>вдовец / вдова</td>\n",
       "      <td>2</td>\n",
       "      <td>F</td>\n",
       "      <td>пенсионер</td>\n",
       "      <td>0</td>\n",
       "      <td>56823.777243</td>\n",
       "      <td>на покупку подержанного автомобиля</td>\n",
       "    </tr>\n",
       "    <tr>\n",
       "      <th>19</th>\n",
       "      <td>0</td>\n",
       "      <td>-10038.818549</td>\n",
       "      <td>48</td>\n",
       "      <td>СРЕДНЕЕ</td>\n",
       "      <td>1</td>\n",
       "      <td>в разводе</td>\n",
       "      <td>3</td>\n",
       "      <td>F</td>\n",
       "      <td>сотрудник</td>\n",
       "      <td>0</td>\n",
       "      <td>242831.107982</td>\n",
       "      <td>на покупку своего автомобиля</td>\n",
       "    </tr>\n",
       "  </tbody>\n",
       "</table>\n",
       "</div>"
      ],
      "text/plain": [
       "    children  days_employed  dob_years            education  education_id  \\\n",
       "0          1   -8437.673028         42               высшее             0   \n",
       "1          1   -4024.803754         36              среднее             1   \n",
       "2          0   -5623.422610         33              Среднее             1   \n",
       "3          3   -4124.747207         32              среднее             1   \n",
       "4          0  340266.072047         53              среднее             1   \n",
       "5          0    -926.185831         27               высшее             0   \n",
       "6          0   -2879.202052         43               высшее             0   \n",
       "7          0    -152.779569         50              СРЕДНЕЕ             1   \n",
       "8          2   -6929.865299         35               ВЫСШЕЕ             0   \n",
       "9          0   -2188.756445         41              среднее             1   \n",
       "10         2   -4171.483647         36               высшее             0   \n",
       "11         0    -792.701887         40              среднее             1   \n",
       "12         0            NaN         65              среднее             1   \n",
       "13         0   -1846.641941         54  неоконченное высшее             2   \n",
       "14         0   -1844.956182         56               высшее             0   \n",
       "15         1    -972.364419         26              среднее             1   \n",
       "16         0   -1719.934226         35              среднее             1   \n",
       "17         0   -2369.999720         33               высшее             0   \n",
       "18         0  400281.136913         53              среднее             1   \n",
       "19         0  -10038.818549         48              СРЕДНЕЕ             1   \n",
       "\n",
       "       family_status  family_status_id gender income_type  debt  \\\n",
       "0    женат / замужем                 0      F   сотрудник     0   \n",
       "1    женат / замужем                 0      F   сотрудник     0   \n",
       "2    женат / замужем                 0      M   сотрудник     0   \n",
       "3    женат / замужем                 0      M   сотрудник     0   \n",
       "4   гражданский брак                 1      F   пенсионер     0   \n",
       "5   гражданский брак                 1      M   компаньон     0   \n",
       "6    женат / замужем                 0      F   компаньон     0   \n",
       "7    женат / замужем                 0      M   сотрудник     0   \n",
       "8   гражданский брак                 1      F   сотрудник     0   \n",
       "9    женат / замужем                 0      M   сотрудник     0   \n",
       "10   женат / замужем                 0      M   компаньон     0   \n",
       "11   женат / замужем                 0      F   сотрудник     0   \n",
       "12  гражданский брак                 1      M   пенсионер     0   \n",
       "13   женат / замужем                 0      F   сотрудник     0   \n",
       "14  гражданский брак                 1      F   компаньон     1   \n",
       "15   женат / замужем                 0      F   сотрудник     0   \n",
       "16   женат / замужем                 0      F   сотрудник     0   \n",
       "17  гражданский брак                 1      M   сотрудник     0   \n",
       "18    вдовец / вдова                 2      F   пенсионер     0   \n",
       "19         в разводе                 3      F   сотрудник     0   \n",
       "\n",
       "     total_income                                 purpose  \n",
       "0   253875.639453                           покупка жилья  \n",
       "1   112080.014102                 приобретение автомобиля  \n",
       "2   145885.952297                           покупка жилья  \n",
       "3   267628.550329              дополнительное образование  \n",
       "4   158616.077870                         сыграть свадьбу  \n",
       "5   255763.565419                           покупка жилья  \n",
       "6   240525.971920                       операции с жильем  \n",
       "7   135823.934197                             образование  \n",
       "8    95856.832424                   на проведение свадьбы  \n",
       "9   144425.938277                 покупка жилья для семьи  \n",
       "10  113943.491460                    покупка недвижимости  \n",
       "11   77069.234271       покупка коммерческой недвижимости  \n",
       "12            NaN                         сыграть свадьбу  \n",
       "13  130458.228857                 приобретение автомобиля  \n",
       "14  165127.911772              покупка жилой недвижимости  \n",
       "15  116820.904450  строительство собственной недвижимости  \n",
       "16  289202.704229                            недвижимость  \n",
       "17   90410.586745              строительство недвижимости  \n",
       "18   56823.777243      на покупку подержанного автомобиля  \n",
       "19  242831.107982            на покупку своего автомобиля  "
      ]
     },
     "execution_count": 2,
     "metadata": {},
     "output_type": "execute_result"
    }
   ],
   "source": [
    "data.head(20)"
   ]
  },
  {
   "cell_type": "code",
   "execution_count": 3,
   "id": "ab3f863b",
   "metadata": {
    "deletable": false,
    "id": "ab3f863b",
    "outputId": "15376089-8dad-46c9-b520-c05248d43158"
   },
   "outputs": [
    {
     "name": "stdout",
     "output_type": "stream",
     "text": [
      "<class 'pandas.core.frame.DataFrame'>\n",
      "RangeIndex: 21525 entries, 0 to 21524\n",
      "Data columns (total 12 columns):\n",
      " #   Column            Non-Null Count  Dtype  \n",
      "---  ------            --------------  -----  \n",
      " 0   children          21525 non-null  int64  \n",
      " 1   days_employed     19351 non-null  float64\n",
      " 2   dob_years         21525 non-null  int64  \n",
      " 3   education         21525 non-null  object \n",
      " 4   education_id      21525 non-null  int64  \n",
      " 5   family_status     21525 non-null  object \n",
      " 6   family_status_id  21525 non-null  int64  \n",
      " 7   gender            21525 non-null  object \n",
      " 8   income_type       21525 non-null  object \n",
      " 9   debt              21525 non-null  int64  \n",
      " 10  total_income      19351 non-null  float64\n",
      " 11  purpose           21525 non-null  object \n",
      "dtypes: float64(2), int64(5), object(5)\n",
      "memory usage: 2.0+ MB\n"
     ]
    }
   ],
   "source": [
    "data.info()"
   ]
  },
  {
   "cell_type": "markdown",
   "id": "60e3e22d",
   "metadata": {
    "deletable": false,
    "editable": false,
    "id": "60e3e22d"
   },
   "source": [
    "## Предобработка данных"
   ]
  },
  {
   "cell_type": "markdown",
   "id": "03dc170c",
   "metadata": {
    "deletable": false,
    "editable": false,
    "id": "03dc170c"
   },
   "source": [
    "### Удаление пропусков"
   ]
  },
  {
   "cell_type": "code",
   "execution_count": 4,
   "id": "2dc372b2",
   "metadata": {
    "deletable": false,
    "id": "2dc372b2",
    "outputId": "81f4d817-781c-465c-ed15-91ce4446810d"
   },
   "outputs": [
    {
     "data": {
      "text/plain": [
       "children               0\n",
       "days_employed       2174\n",
       "dob_years              0\n",
       "education              0\n",
       "education_id           0\n",
       "family_status          0\n",
       "family_status_id       0\n",
       "gender                 0\n",
       "income_type            0\n",
       "debt                   0\n",
       "total_income        2174\n",
       "purpose                0\n",
       "dtype: int64"
      ]
     },
     "execution_count": 4,
     "metadata": {},
     "output_type": "execute_result"
    }
   ],
   "source": [
    "data.isna().sum()"
   ]
  },
  {
   "cell_type": "code",
   "execution_count": 5,
   "id": "bdabfb6e",
   "metadata": {
    "deletable": false,
    "id": "bdabfb6e"
   },
   "outputs": [],
   "source": [
    "for t in data['income_type'].unique():\n",
    "    data.loc[(data['income_type'] == t) & (data['total_income'].isna()), 'total_income'] = \\\n",
    "    data.loc[(data['income_type'] == t), 'total_income'].median()"
   ]
  },
  {
   "cell_type": "markdown",
   "id": "5be34059",
   "metadata": {
    "deletable": false,
    "editable": false,
    "id": "5be34059"
   },
   "source": [
    "### Обработка аномальных значений"
   ]
  },
  {
   "cell_type": "code",
   "execution_count": 6,
   "id": "020c46cc",
   "metadata": {
    "deletable": false,
    "id": "020c46cc"
   },
   "outputs": [],
   "source": [
    "data['days_employed'] = data['days_employed'].abs()"
   ]
  },
  {
   "cell_type": "code",
   "execution_count": 7,
   "id": "cd3e6328",
   "metadata": {
    "deletable": false,
    "id": "cd3e6328",
    "outputId": "801ef80e-522b-4668-f34e-565af7432bcf"
   },
   "outputs": [
    {
     "data": {
      "text/plain": [
       "income_type\n",
       "безработный        366413.652744\n",
       "в декрете            3296.759962\n",
       "госслужащий          2689.368353\n",
       "компаньон            1547.382223\n",
       "пенсионер          365213.306266\n",
       "предприниматель       520.848083\n",
       "сотрудник            1574.202821\n",
       "студент               578.751554\n",
       "Name: days_employed, dtype: float64"
      ]
     },
     "execution_count": 7,
     "metadata": {},
     "output_type": "execute_result"
    }
   ],
   "source": [
    "data.groupby('income_type')['days_employed'].agg('median')"
   ]
  },
  {
   "cell_type": "markdown",
   "id": "90c5f058",
   "metadata": {
    "deletable": false,
    "editable": false,
    "id": "90c5f058"
   },
   "source": [
    "У двух типов (безработные и пенсионеры) получатся аномально большие значения. Исправить такие значения сложно, поэтому оставьте их как есть."
   ]
  },
  {
   "cell_type": "code",
   "execution_count": 8,
   "id": "dbb37b8e",
   "metadata": {
    "deletable": false,
    "id": "dbb37b8e",
    "outputId": "6975b15c-7f95-4697-d16d-a0c79b657b03"
   },
   "outputs": [
    {
     "data": {
      "text/plain": [
       "array([ 1,  0,  3,  2, -1,  4, 20,  5])"
      ]
     },
     "execution_count": 8,
     "metadata": {},
     "output_type": "execute_result"
    }
   ],
   "source": [
    "data['children'].unique()"
   ]
  },
  {
   "cell_type": "code",
   "execution_count": 9,
   "id": "20009df8",
   "metadata": {
    "deletable": false,
    "id": "20009df8"
   },
   "outputs": [],
   "source": [
    "data = data[(data['children'] != -1) & (data['children'] != 20)]"
   ]
  },
  {
   "cell_type": "code",
   "execution_count": 10,
   "id": "07337b81",
   "metadata": {
    "deletable": false,
    "id": "07337b81",
    "outputId": "b2097101-d49d-44d9-901b-32a65c9463d1"
   },
   "outputs": [
    {
     "data": {
      "text/plain": [
       "array([1, 0, 3, 2, 4, 5])"
      ]
     },
     "execution_count": 10,
     "metadata": {},
     "output_type": "execute_result"
    }
   ],
   "source": [
    "data['children'].unique()"
   ]
  },
  {
   "cell_type": "markdown",
   "id": "ee3f52d4",
   "metadata": {
    "deletable": false,
    "editable": false,
    "id": "ee3f52d4"
   },
   "source": [
    "### Удаление пропусков (продолжение)"
   ]
  },
  {
   "cell_type": "code",
   "execution_count": 11,
   "id": "61946b83",
   "metadata": {
    "deletable": false,
    "id": "61946b83"
   },
   "outputs": [],
   "source": [
    "for t in data['income_type'].unique():\n",
    "    data.loc[(data['income_type'] == t) & (data['days_employed'].isna()), 'days_employed'] = \\\n",
    "    data.loc[(data['income_type'] == t), 'days_employed'].median()"
   ]
  },
  {
   "cell_type": "code",
   "execution_count": 12,
   "id": "937c7014",
   "metadata": {
    "deletable": false,
    "id": "937c7014",
    "outputId": "8da1e4e1-358e-4e87-98c9-f261bce0a7b2"
   },
   "outputs": [
    {
     "data": {
      "text/plain": [
       "children            0\n",
       "days_employed       0\n",
       "dob_years           0\n",
       "education           0\n",
       "education_id        0\n",
       "family_status       0\n",
       "family_status_id    0\n",
       "gender              0\n",
       "income_type         0\n",
       "debt                0\n",
       "total_income        0\n",
       "purpose             0\n",
       "dtype: int64"
      ]
     },
     "execution_count": 12,
     "metadata": {},
     "output_type": "execute_result"
    }
   ],
   "source": [
    "data.isna().sum()"
   ]
  },
  {
   "cell_type": "markdown",
   "id": "d522e295",
   "metadata": {
    "deletable": false,
    "editable": false,
    "id": "d522e295"
   },
   "source": [
    "### Изменение типов данных"
   ]
  },
  {
   "cell_type": "code",
   "execution_count": 13,
   "id": "31036462",
   "metadata": {
    "deletable": false,
    "id": "31036462"
   },
   "outputs": [],
   "source": [
    "data['total_income'] = data['total_income'].astype(int)"
   ]
  },
  {
   "cell_type": "markdown",
   "id": "b8e3d1d9",
   "metadata": {
    "deletable": false,
    "editable": false,
    "id": "b8e3d1d9"
   },
   "source": [
    "### Обработка дубликатов"
   ]
  },
  {
   "cell_type": "code",
   "execution_count": 14,
   "id": "d89e73e1",
   "metadata": {
    "deletable": false,
    "id": "d89e73e1"
   },
   "outputs": [],
   "source": [
    "data['education'] = data['education'].str.lower()"
   ]
  },
  {
   "cell_type": "code",
   "execution_count": 15,
   "id": "e10efb23",
   "metadata": {
    "deletable": false,
    "id": "e10efb23",
    "outputId": "9684deba-1934-42d1-99e1-cda61740f822"
   },
   "outputs": [
    {
     "data": {
      "text/plain": [
       "71"
      ]
     },
     "execution_count": 15,
     "metadata": {},
     "output_type": "execute_result"
    }
   ],
   "source": [
    "data.duplicated().sum()"
   ]
  },
  {
   "cell_type": "code",
   "execution_count": 16,
   "id": "df853f20",
   "metadata": {
    "deletable": false,
    "id": "df853f20"
   },
   "outputs": [],
   "source": [
    "data = data.drop_duplicates()"
   ]
  },
  {
   "cell_type": "markdown",
   "id": "627be38f",
   "metadata": {
    "deletable": false,
    "editable": false,
    "id": "627be38f"
   },
   "source": [
    "### Категоризация данных"
   ]
  },
  {
   "cell_type": "code",
   "execution_count": 17,
   "id": "78965238",
   "metadata": {
    "deletable": false,
    "id": "78965238"
   },
   "outputs": [],
   "source": [
    "def categorize_income(income):\n",
    "    try:\n",
    "        if 0 <= income <= 30000:\n",
    "            return 'E'\n",
    "        elif 30001 <= income <= 50000:\n",
    "            return 'D'\n",
    "        elif 50001 <= income <= 200000:\n",
    "            return 'C'\n",
    "        elif 200001 <= income <= 1000000:\n",
    "            return 'B'\n",
    "        elif income >= 1000001:\n",
    "            return 'A'\n",
    "    except:\n",
    "        pass"
   ]
  },
  {
   "cell_type": "code",
   "execution_count": 18,
   "id": "0980ada1",
   "metadata": {
    "deletable": false,
    "id": "0980ada1"
   },
   "outputs": [],
   "source": [
    "data['total_income_category'] = data['total_income'].apply(categorize_income)"
   ]
  },
  {
   "cell_type": "code",
   "execution_count": 19,
   "id": "ee07b65e",
   "metadata": {
    "deletable": false,
    "id": "ee07b65e",
    "outputId": "673c12d9-7d7e-4ae0-9812-c622c89dd244"
   },
   "outputs": [
    {
     "data": {
      "text/plain": [
       "array(['покупка жилья', 'приобретение автомобиля',\n",
       "       'дополнительное образование', 'сыграть свадьбу',\n",
       "       'операции с жильем', 'образование', 'на проведение свадьбы',\n",
       "       'покупка жилья для семьи', 'покупка недвижимости',\n",
       "       'покупка коммерческой недвижимости', 'покупка жилой недвижимости',\n",
       "       'строительство собственной недвижимости', 'недвижимость',\n",
       "       'строительство недвижимости', 'на покупку подержанного автомобиля',\n",
       "       'на покупку своего автомобиля',\n",
       "       'операции с коммерческой недвижимостью',\n",
       "       'строительство жилой недвижимости', 'жилье',\n",
       "       'операции со своей недвижимостью', 'автомобили',\n",
       "       'заняться образованием', 'сделка с подержанным автомобилем',\n",
       "       'получение образования', 'автомобиль', 'свадьба',\n",
       "       'получение дополнительного образования', 'покупка своего жилья',\n",
       "       'операции с недвижимостью', 'получение высшего образования',\n",
       "       'свой автомобиль', 'сделка с автомобилем',\n",
       "       'профильное образование', 'высшее образование',\n",
       "       'покупка жилья для сдачи', 'на покупку автомобиля', 'ремонт жилью',\n",
       "       'заняться высшим образованием'], dtype=object)"
      ]
     },
     "execution_count": 19,
     "metadata": {},
     "output_type": "execute_result"
    }
   ],
   "source": [
    "data['purpose'].unique()"
   ]
  },
  {
   "cell_type": "code",
   "execution_count": 20,
   "id": "be41da5d",
   "metadata": {
    "deletable": false,
    "id": "be41da5d"
   },
   "outputs": [],
   "source": [
    "def categorize_purpose(row):\n",
    "    try:\n",
    "        if 'автом' in row:\n",
    "            return 'операции с автомобилем'\n",
    "        elif 'жил' in row or 'недвиж' in row:\n",
    "            return 'операции с недвижимостью'\n",
    "        elif 'свад' in row:\n",
    "            return 'проведение свадьбы'\n",
    "        elif 'образов' in row:\n",
    "            return 'получение образования'\n",
    "    except:\n",
    "        return 'нет категории'"
   ]
  },
  {
   "cell_type": "code",
   "execution_count": 21,
   "id": "94c4a19a",
   "metadata": {
    "deletable": false,
    "id": "94c4a19a"
   },
   "outputs": [],
   "source": [
    "data['purpose_category'] = data['purpose'].apply(categorize_purpose)"
   ]
  },
  {
   "cell_type": "markdown",
   "id": "3d596c34",
   "metadata": {
    "deletable": false,
    "editable": false,
    "id": "3d596c34"
   },
   "source": [
    "### Шаг 3. Исследование данных"
   ]
  },
  {
   "cell_type": "markdown",
   "id": "648db036",
   "metadata": {
    "deletable": false,
    "editable": false,
    "id": "648db036"
   },
   "source": [
    "#### 3.1 Есть ли зависимость между количеством детей и возвратом кредита в срок?"
   ]
  },
  {
   "cell_type": "code",
   "execution_count": 22,
   "id": "7fcff25e",
   "metadata": {
    "deletable": false,
    "id": "7fcff25e"
   },
   "outputs": [],
   "source": [
    "# группируем данные по количеству детей и считаем количество элементов в каждой группе\n",
    "group_of_children_total = data.groupby('children')['debt'].count()"
   ]
  },
  {
   "cell_type": "code",
   "execution_count": 23,
   "id": "3ad8bc5e",
   "metadata": {
    "scrolled": true
   },
   "outputs": [
    {
     "name": "stdout",
     "output_type": "stream",
     "text": [
      "children\n",
      "0    14091\n",
      "1     4808\n",
      "2     2052\n",
      "3      330\n",
      "4       41\n",
      "5        9\n",
      "Name: debt, dtype: int64\n"
     ]
    }
   ],
   "source": [
    "# выводим сгруппированные данные\n",
    "print(group_of_children_total)"
   ]
  },
  {
   "cell_type": "markdown",
   "id": "f65740d0",
   "metadata": {},
   "source": [
    "**```Можно сразу увидеть, что размер групп неодинаковый (14 091 человек без детей против 9 человек с 5 детьми). Размер выборки без детей в 1566 раз больше, чем выборка людей с 5 детьми. Это говорит о том, что объемы выборки для исследования сильно отличаются друг от друга. Разброс выборки равен 14 082. Это достаточно большое значение, исследуемый признак(количество детей) сильно варьирует.\n",
    "Слишком маленькая выборка(с 3, 4 и 5 детьми) не сможет обеспечить приемлемую точность результатов исследования, возрастает размер статистической ошибки. Ее не следует учитывать при анализе показателей.\n",
    "К тому же, из генеральной выборки были удалены строки с аномальными значениями в столбце \"children\", это такие значения как -1 и 20, возможно, при ликвидировании аномалии, эти строки могли бы войти в одну из представленных выборок.```**"
   ]
  },
  {
   "cell_type": "code",
   "execution_count": 126,
   "id": "03e34d1b",
   "metadata": {},
   "outputs": [],
   "source": [
    "# считаем долю тех, кто имел задолженность по возврату кредитов, от общего количества людей в каждой группе\n",
    "group_children_debt = (data.groupby('children')['debt'].sum() / group_of_children_total) * 100"
   ]
  },
  {
   "cell_type": "code",
   "execution_count": 127,
   "id": "6719cb6e",
   "metadata": {},
   "outputs": [
    {
     "name": "stdout",
     "output_type": "stream",
     "text": [
      "children\n",
      "0    7.543822\n",
      "1    9.234609\n",
      "2    9.454191\n",
      "3    8.181818\n",
      "4    9.756098\n",
      "5    0.000000\n",
      "Name: debt, dtype: float64\n"
     ]
    }
   ],
   "source": [
    "# выводим данные\n",
    "print(group_children_debt)"
   ]
  },
  {
   "cell_type": "markdown",
   "id": "57abf55e",
   "metadata": {},
   "source": [
    "Рассчитанные в последнем столбце значения(проценты) представляют собой удельные веса. Наибольший удельный вес должников по возврату кредита в общем объёме заемщиков в разрезе каждой группы имеют люди с двумя детьми и составляют 9,45% от общего числа заемщиков с двумя детьми. Наименьший удельный вес - у людей без детей, что составляет 7.54%."
   ]
  },
  {
   "cell_type": "code",
   "execution_count": 26,
   "id": "61bddff1",
   "metadata": {},
   "outputs": [],
   "source": [
    "# создадим сводную таблицу\n",
    "# количество людей с задолженностью по возврату и без, сгруппированные по количеству детей\n",
    "children_pivot = data.pivot_table(index=['children'], columns=['debt'], values='gender', aggfunc='count')"
   ]
  },
  {
   "cell_type": "code",
   "execution_count": 27,
   "id": "ba4b1db2",
   "metadata": {},
   "outputs": [
    {
     "data": {
      "text/html": [
       "<div>\n",
       "<style scoped>\n",
       "    .dataframe tbody tr th:only-of-type {\n",
       "        vertical-align: middle;\n",
       "    }\n",
       "\n",
       "    .dataframe tbody tr th {\n",
       "        vertical-align: top;\n",
       "    }\n",
       "\n",
       "    .dataframe thead th {\n",
       "        text-align: right;\n",
       "    }\n",
       "</style>\n",
       "<table border=\"1\" class=\"dataframe\">\n",
       "  <thead>\n",
       "    <tr style=\"text-align: right;\">\n",
       "      <th>debt</th>\n",
       "      <th>0</th>\n",
       "      <th>1</th>\n",
       "    </tr>\n",
       "    <tr>\n",
       "      <th>children</th>\n",
       "      <th></th>\n",
       "      <th></th>\n",
       "    </tr>\n",
       "  </thead>\n",
       "  <tbody>\n",
       "    <tr>\n",
       "      <th>0</th>\n",
       "      <td>13028.0</td>\n",
       "      <td>1063.0</td>\n",
       "    </tr>\n",
       "    <tr>\n",
       "      <th>1</th>\n",
       "      <td>4364.0</td>\n",
       "      <td>444.0</td>\n",
       "    </tr>\n",
       "    <tr>\n",
       "      <th>2</th>\n",
       "      <td>1858.0</td>\n",
       "      <td>194.0</td>\n",
       "    </tr>\n",
       "    <tr>\n",
       "      <th>3</th>\n",
       "      <td>303.0</td>\n",
       "      <td>27.0</td>\n",
       "    </tr>\n",
       "    <tr>\n",
       "      <th>4</th>\n",
       "      <td>37.0</td>\n",
       "      <td>4.0</td>\n",
       "    </tr>\n",
       "    <tr>\n",
       "      <th>5</th>\n",
       "      <td>9.0</td>\n",
       "      <td>NaN</td>\n",
       "    </tr>\n",
       "  </tbody>\n",
       "</table>\n",
       "</div>"
      ],
      "text/plain": [
       "debt            0       1\n",
       "children                 \n",
       "0         13028.0  1063.0\n",
       "1          4364.0   444.0\n",
       "2          1858.0   194.0\n",
       "3           303.0    27.0\n",
       "4            37.0     4.0\n",
       "5             9.0     NaN"
      ]
     },
     "execution_count": 27,
     "metadata": {},
     "output_type": "execute_result"
    }
   ],
   "source": [
    "children_pivot"
   ]
  },
  {
   "cell_type": "markdown",
   "id": "4028f625",
   "metadata": {},
   "source": [
    "**В ячейке у группы с 5 детьми, имеющими задолженность по выплате, пропущенное значение - NaN, опираясь на данные выше, мы видим, что в данной группе все 9 человек не имели долг. Обработаем пропущенное значение, заменив его на 0.**"
   ]
  },
  {
   "cell_type": "code",
   "execution_count": 119,
   "id": "8230ae59",
   "metadata": {},
   "outputs": [],
   "source": [
    "# добавим в сводную таблицу столбец\n",
    "# найдем долю людей с задолженностью среди тех, у кого задолженности не было, в разрезе каждой группы\n",
    "children_pivot['share'] = (children_pivot[1] / children_pivot[0] ) * 100\n",
    "\n",
    "# заменим пропуск в группе с 5 детьми\n",
    "children_pivot[1][5] = 0"
   ]
  },
  {
   "cell_type": "code",
   "execution_count": 120,
   "id": "ffaadda3",
   "metadata": {},
   "outputs": [
    {
     "data": {
      "text/html": [
       "<div>\n",
       "<style scoped>\n",
       "    .dataframe tbody tr th:only-of-type {\n",
       "        vertical-align: middle;\n",
       "    }\n",
       "\n",
       "    .dataframe tbody tr th {\n",
       "        vertical-align: top;\n",
       "    }\n",
       "\n",
       "    .dataframe thead th {\n",
       "        text-align: right;\n",
       "    }\n",
       "</style>\n",
       "<table border=\"1\" class=\"dataframe\">\n",
       "  <thead>\n",
       "    <tr style=\"text-align: right;\">\n",
       "      <th>debt</th>\n",
       "      <th>0</th>\n",
       "      <th>1</th>\n",
       "      <th>share</th>\n",
       "    </tr>\n",
       "    <tr>\n",
       "      <th>children</th>\n",
       "      <th></th>\n",
       "      <th></th>\n",
       "      <th></th>\n",
       "    </tr>\n",
       "  </thead>\n",
       "  <tbody>\n",
       "    <tr>\n",
       "      <th>0</th>\n",
       "      <td>13028.0</td>\n",
       "      <td>1063.0</td>\n",
       "      <td>8.159349</td>\n",
       "    </tr>\n",
       "    <tr>\n",
       "      <th>1</th>\n",
       "      <td>4364.0</td>\n",
       "      <td>444.0</td>\n",
       "      <td>10.174152</td>\n",
       "    </tr>\n",
       "    <tr>\n",
       "      <th>2</th>\n",
       "      <td>1858.0</td>\n",
       "      <td>194.0</td>\n",
       "      <td>10.441335</td>\n",
       "    </tr>\n",
       "    <tr>\n",
       "      <th>3</th>\n",
       "      <td>303.0</td>\n",
       "      <td>27.0</td>\n",
       "      <td>8.910891</td>\n",
       "    </tr>\n",
       "    <tr>\n",
       "      <th>4</th>\n",
       "      <td>37.0</td>\n",
       "      <td>4.0</td>\n",
       "      <td>10.810811</td>\n",
       "    </tr>\n",
       "    <tr>\n",
       "      <th>5</th>\n",
       "      <td>9.0</td>\n",
       "      <td>0.0</td>\n",
       "      <td>0.000000</td>\n",
       "    </tr>\n",
       "  </tbody>\n",
       "</table>\n",
       "</div>"
      ],
      "text/plain": [
       "debt            0       1      share\n",
       "children                            \n",
       "0         13028.0  1063.0   8.159349\n",
       "1          4364.0   444.0  10.174152\n",
       "2          1858.0   194.0  10.441335\n",
       "3           303.0    27.0   8.910891\n",
       "4            37.0     4.0  10.810811\n",
       "5             9.0     0.0   0.000000"
      ]
     },
     "execution_count": 120,
     "metadata": {},
     "output_type": "execute_result"
    }
   ],
   "source": [
    "children_pivot"
   ]
  },
  {
   "cell_type": "markdown",
   "id": "2eb9088e",
   "metadata": {
    "deletable": false,
    "id": "2eb9088e"
   },
   "source": [
    "###### Зависимость между количеством детей и возвратом кредита в срок\n",
    "**Вывод:** ```Зависимость между количеством детей и возвратом кредита в срок есть. \n",
    "Но в выборке очень большой разброс данных. Тяжело оценить корректность и точность полученных расчетов. Выборки с 3-5 детьми слишком малы, поэтому их статистические показатели не являются достоверными, они не будут учтены при анализе. \n",
    "Больше всего людей с задолженностью по возврату кредита в срок среди тех, кто имеет 2 детей. Это видно по относительному показателю координации (столбец share), он показывает соотношение людей с задолженностью и без между собой. В группе с двумя детьми на каждые 100 человек без задолженности по возврату приходится 10.4 человека с задолженностью.\n",
    "Тогда как в группе без детей на каждые 100 человек без задолженности приходится всего 8 человек с задолженностью. \n",
    "Стоит отметить, что максимальное значение показателя - 10.44, больше минимального - 8.16 на 2.28 п.п., разрыв кажется небольшим на первый взгляд, но на деле разница между группами составляет 27.94%.  \n",
    "Поэтому отсутствие детей положительно сказывается на платежеспособность заемщика.```"
   ]
  },
  {
   "cell_type": "markdown",
   "id": "74c9b3a7",
   "metadata": {
    "deletable": false,
    "editable": false,
    "id": "74c9b3a7"
   },
   "source": [
    "#### 3.2 Есть ли зависимость между семейным положением и возвратом кредита в срок?"
   ]
  },
  {
   "cell_type": "code",
   "execution_count": 128,
   "id": "8098ab3b",
   "metadata": {
    "deletable": false,
    "id": "8098ab3b"
   },
   "outputs": [],
   "source": [
    "# группируем данные по семейному положению и считаем количество элементов в каждой группе по типу семейного положения\n",
    "family_status_group = data.groupby('family_status')['debt'].count()"
   ]
  },
  {
   "cell_type": "code",
   "execution_count": 129,
   "id": "33303fb3",
   "metadata": {},
   "outputs": [
    {
     "name": "stdout",
     "output_type": "stream",
     "text": [
      "family_status\n",
      "вдовец / вдова             951\n",
      "в разводе                 1189\n",
      "Не женат / не замужем     2796\n",
      "гражданский брак          4134\n",
      "женат / замужем          12261\n",
      "Name: debt, dtype: int64\n"
     ]
    }
   ],
   "source": [
    "print(family_status_group.sort_values())"
   ]
  },
  {
   "cell_type": "code",
   "execution_count": 130,
   "id": "1b8eea68",
   "metadata": {},
   "outputs": [],
   "source": [
    "# считаем долю тех, кто имел задолженность по возврату кредитов, от общего количества людей в каждой группе \n",
    "family_status_debt = (data.groupby('family_status')['debt'].sum() / family_status_group) * 100"
   ]
  },
  {
   "cell_type": "code",
   "execution_count": 132,
   "id": "f6e091d1",
   "metadata": {},
   "outputs": [
    {
     "name": "stdout",
     "output_type": "stream",
     "text": [
      "family_status\n",
      "вдовец / вдова           6.624606\n",
      "в разводе                7.064760\n",
      "женат / замужем          7.560558\n",
      "гражданский брак         9.313014\n",
      "Не женат / не замужем    9.763948\n",
      "Name: debt, dtype: float64\n"
     ]
    }
   ],
   "source": [
    "print(family_status_debt.sort_values())"
   ]
  },
  {
   "cell_type": "markdown",
   "id": "03ef76fa",
   "metadata": {},
   "source": [
    "Рассчитанные в последнем столбце значения(проценты) представляют собой удельные веса. Наибольшие удельные веса должников по возврату кредита в общем объёме заемщиков в разрезе каждой группы имеют люди незамужние или в гражданском браке и составляют 9,76% и 9.31% соответственно. Наименьший удельный вес - у вдовцов, что составляет 6.62%."
   ]
  },
  {
   "cell_type": "code",
   "execution_count": 36,
   "id": "8a13749e",
   "metadata": {},
   "outputs": [],
   "source": [
    "# создадим сводную таблицу\n",
    "# количество людей с задолженностью по возврату и без, сгруппированные по семейному положению\n",
    "family_status_pivot = data.pivot_table(index=['family_status'], columns=['debt'], values='gender', aggfunc='count')"
   ]
  },
  {
   "cell_type": "code",
   "execution_count": 37,
   "id": "6058f0e9",
   "metadata": {},
   "outputs": [
    {
     "data": {
      "text/html": [
       "<div>\n",
       "<style scoped>\n",
       "    .dataframe tbody tr th:only-of-type {\n",
       "        vertical-align: middle;\n",
       "    }\n",
       "\n",
       "    .dataframe tbody tr th {\n",
       "        vertical-align: top;\n",
       "    }\n",
       "\n",
       "    .dataframe thead th {\n",
       "        text-align: right;\n",
       "    }\n",
       "</style>\n",
       "<table border=\"1\" class=\"dataframe\">\n",
       "  <thead>\n",
       "    <tr style=\"text-align: right;\">\n",
       "      <th>debt</th>\n",
       "      <th>0</th>\n",
       "      <th>1</th>\n",
       "    </tr>\n",
       "    <tr>\n",
       "      <th>family_status</th>\n",
       "      <th></th>\n",
       "      <th></th>\n",
       "    </tr>\n",
       "  </thead>\n",
       "  <tbody>\n",
       "    <tr>\n",
       "      <th>Не женат / не замужем</th>\n",
       "      <td>2523</td>\n",
       "      <td>273</td>\n",
       "    </tr>\n",
       "    <tr>\n",
       "      <th>в разводе</th>\n",
       "      <td>1105</td>\n",
       "      <td>84</td>\n",
       "    </tr>\n",
       "    <tr>\n",
       "      <th>вдовец / вдова</th>\n",
       "      <td>888</td>\n",
       "      <td>63</td>\n",
       "    </tr>\n",
       "    <tr>\n",
       "      <th>гражданский брак</th>\n",
       "      <td>3749</td>\n",
       "      <td>385</td>\n",
       "    </tr>\n",
       "    <tr>\n",
       "      <th>женат / замужем</th>\n",
       "      <td>11334</td>\n",
       "      <td>927</td>\n",
       "    </tr>\n",
       "  </tbody>\n",
       "</table>\n",
       "</div>"
      ],
      "text/plain": [
       "debt                       0    1\n",
       "family_status                    \n",
       "Не женат / не замужем   2523  273\n",
       "в разводе               1105   84\n",
       "вдовец / вдова           888   63\n",
       "гражданский брак        3749  385\n",
       "женат / замужем        11334  927"
      ]
     },
     "execution_count": 37,
     "metadata": {},
     "output_type": "execute_result"
    }
   ],
   "source": [
    "family_status_pivot"
   ]
  },
  {
   "cell_type": "code",
   "execution_count": 38,
   "id": "00661d58",
   "metadata": {},
   "outputs": [],
   "source": [
    "# добавим в сводную таблицу столбец\n",
    "# найдем долю людей с задолженностью среди тех, у кого задолженности не было, в разрезе каждой группы\n",
    "family_status_pivot['share'] = (family_status_pivot[1] / family_status_pivot[0] ) * 100"
   ]
  },
  {
   "cell_type": "code",
   "execution_count": 39,
   "id": "1edfdd98",
   "metadata": {},
   "outputs": [
    {
     "data": {
      "text/html": [
       "<div>\n",
       "<style scoped>\n",
       "    .dataframe tbody tr th:only-of-type {\n",
       "        vertical-align: middle;\n",
       "    }\n",
       "\n",
       "    .dataframe tbody tr th {\n",
       "        vertical-align: top;\n",
       "    }\n",
       "\n",
       "    .dataframe thead th {\n",
       "        text-align: right;\n",
       "    }\n",
       "</style>\n",
       "<table border=\"1\" class=\"dataframe\">\n",
       "  <thead>\n",
       "    <tr style=\"text-align: right;\">\n",
       "      <th>debt</th>\n",
       "      <th>0</th>\n",
       "      <th>1</th>\n",
       "      <th>share</th>\n",
       "    </tr>\n",
       "    <tr>\n",
       "      <th>family_status</th>\n",
       "      <th></th>\n",
       "      <th></th>\n",
       "      <th></th>\n",
       "    </tr>\n",
       "  </thead>\n",
       "  <tbody>\n",
       "    <tr>\n",
       "      <th>Не женат / не замужем</th>\n",
       "      <td>2523</td>\n",
       "      <td>273</td>\n",
       "      <td>10.820452</td>\n",
       "    </tr>\n",
       "    <tr>\n",
       "      <th>в разводе</th>\n",
       "      <td>1105</td>\n",
       "      <td>84</td>\n",
       "      <td>7.601810</td>\n",
       "    </tr>\n",
       "    <tr>\n",
       "      <th>вдовец / вдова</th>\n",
       "      <td>888</td>\n",
       "      <td>63</td>\n",
       "      <td>7.094595</td>\n",
       "    </tr>\n",
       "    <tr>\n",
       "      <th>гражданский брак</th>\n",
       "      <td>3749</td>\n",
       "      <td>385</td>\n",
       "      <td>10.269405</td>\n",
       "    </tr>\n",
       "    <tr>\n",
       "      <th>женат / замужем</th>\n",
       "      <td>11334</td>\n",
       "      <td>927</td>\n",
       "      <td>8.178931</td>\n",
       "    </tr>\n",
       "  </tbody>\n",
       "</table>\n",
       "</div>"
      ],
      "text/plain": [
       "debt                       0    1      share\n",
       "family_status                               \n",
       "Не женат / не замужем   2523  273  10.820452\n",
       "в разводе               1105   84   7.601810\n",
       "вдовец / вдова           888   63   7.094595\n",
       "гражданский брак        3749  385  10.269405\n",
       "женат / замужем        11334  927   8.178931"
      ]
     },
     "execution_count": 39,
     "metadata": {},
     "output_type": "execute_result"
    }
   ],
   "source": [
    "family_status_pivot"
   ]
  },
  {
   "cell_type": "markdown",
   "id": "c389ca63",
   "metadata": {
    "deletable": false,
    "id": "c389ca63"
   },
   "source": [
    "###### Зависимость между семейным положением и возвратом кредита в срок\n",
    "**Вывод:** ```Зависимость между семейным положением и возвратом кредита в срок есть. \n",
    "Больше всего людей с задолженностью по возврату кредита в срок среди неженатых/незамужних заемщиков, а также в гражданском браке. Это видно по относительному показателю координации (столбец share), он показывает соотношение людей с задолженностью и без между собой. В группе неженатых/незамужних на каждые 100 человек без задолженности по возврату приходится 10.8 человека с задолженностью.\n",
    "В группе вдовцов/вдов на каждые 100 человек без задолженности приходится около 7 человек с задолженностью. Заемщики в разводе также имеют низкий показатель.\n",
    "Стоит отметить, что максимальное значение показателя - 10.82, больше минимального - 7.09 на 3.73 п.п., разрыв кажется небольшим на первый взгляд, но на деле разница между группами составляет 52.61%.  \n",
    "В связи с этим семейное положение также сказывается на платежеспособности заемщика.```"
   ]
  },
  {
   "cell_type": "markdown",
   "id": "9529de68",
   "metadata": {
    "deletable": false,
    "editable": false,
    "id": "9529de68"
   },
   "source": [
    "#### 3.3 Есть ли зависимость между уровнем дохода и возвратом кредита в срок?"
   ]
  },
  {
   "cell_type": "code",
   "execution_count": 48,
   "id": "8787f44a",
   "metadata": {
    "deletable": false,
    "id": "8787f44a"
   },
   "outputs": [
    {
     "data": {
      "text/plain": [
       "2265604"
      ]
     },
     "execution_count": 48,
     "metadata": {},
     "output_type": "execute_result"
    }
   ],
   "source": [
    "# выводим максимальный размер дохода\n",
    "data['total_income'].max()"
   ]
  },
  {
   "cell_type": "code",
   "execution_count": 49,
   "id": "80ec4ebc",
   "metadata": {},
   "outputs": [
    {
     "data": {
      "text/plain": [
       "20667"
      ]
     },
     "execution_count": 49,
     "metadata": {},
     "output_type": "execute_result"
    }
   ],
   "source": [
    "# выводим минимальный размер дохода\n",
    "data['total_income'].min()"
   ]
  },
  {
   "cell_type": "markdown",
   "id": "3e622b8c",
   "metadata": {},
   "source": [
    "Для определения зависимости выборку необходимо разделить на несколько интервалов. Интервалы должны быть равного размера, чтобы статистические показатели были наиболее корректными. Следует выделить несколько групп не на основе фактических числовых границ интервалов, а с использованием процентилей. Процентили поделят генеральную выборку на равные части, тем самым мы получим 4 равных интервала. \n"
   ]
  },
  {
   "cell_type": "code",
   "execution_count": 74,
   "id": "9a0ebd43",
   "metadata": {},
   "outputs": [
    {
     "data": {
      "text/plain": [
       "array([ 107507.,  142594.,  195842., 2265604.])"
      ]
     },
     "execution_count": 74,
     "metadata": {},
     "output_type": "execute_result"
    }
   ],
   "source": [
    "# подключаем библиотеку и определяем процентили в столбце total_income\n",
    "import numpy as np\n",
    "np.percentile(data['total_income'], [25, 50, 75, 100])"
   ]
  },
  {
   "cell_type": "code",
   "execution_count": 75,
   "id": "76955431",
   "metadata": {},
   "outputs": [
    {
     "data": {
      "text/plain": [
       "0        (195842.0, 2265604.0]\n",
       "1         (107507.0, 142594.0]\n",
       "2         (142594.0, 195842.0]\n",
       "3        (195842.0, 2265604.0]\n",
       "4         (142594.0, 195842.0]\n",
       "                 ...          \n",
       "21520    (195842.0, 2265604.0]\n",
       "21521     (142594.0, 195842.0]\n",
       "21522    (20666.999, 107507.0]\n",
       "21523    (195842.0, 2265604.0]\n",
       "21524    (20666.999, 107507.0]\n",
       "Name: total_income, Length: 21331, dtype: category\n",
       "Categories (4, interval[float64]): [(20666.999, 107507.0] < (107507.0, 142594.0] < (142594.0, 195842.0] < (195842.0, 2265604.0]]"
      ]
     },
     "execution_count": 75,
     "metadata": {},
     "output_type": "execute_result"
    }
   ],
   "source": [
    "# определяем интервалы для категоризации данных по уровню дохода\n",
    "pd.qcut(data['total_income'], q=4)"
   ]
  },
  {
   "cell_type": "code",
   "execution_count": 76,
   "id": "f6947da8",
   "metadata": {},
   "outputs": [
    {
     "data": {
      "text/plain": [
       "5333"
      ]
     },
     "execution_count": 76,
     "metadata": {},
     "output_type": "execute_result"
    }
   ],
   "source": [
    "# проверим, действительно ли наши интервалы будут равны\n",
    "data.loc[data['total_income'] < 107507.0]['total_income'].count()"
   ]
  },
  {
   "cell_type": "code",
   "execution_count": 77,
   "id": "5d19cb5b",
   "metadata": {},
   "outputs": [
    {
     "data": {
      "text/plain": [
       "4384"
      ]
     },
     "execution_count": 77,
     "metadata": {},
     "output_type": "execute_result"
    }
   ],
   "source": [
    "data.loc[(data['total_income'] < 142594) & (data['total_income'] >  107507.0)]['total_income'].count()"
   ]
  },
  {
   "cell_type": "code",
   "execution_count": 78,
   "id": "16c54cd6",
   "metadata": {},
   "outputs": [
    {
     "data": {
      "text/plain": [
       "5214"
      ]
     },
     "execution_count": 78,
     "metadata": {},
     "output_type": "execute_result"
    }
   ],
   "source": [
    "data.loc[(data['total_income'] < 195842.0) & (data['total_income'] >  142594)]['total_income'].count()"
   ]
  },
  {
   "cell_type": "code",
   "execution_count": 79,
   "id": "ce63e383",
   "metadata": {},
   "outputs": [
    {
     "data": {
      "text/plain": [
       "5332"
      ]
     },
     "execution_count": 79,
     "metadata": {},
     "output_type": "execute_result"
    }
   ],
   "source": [
    "data.loc[data['total_income'] >  195842.0]['total_income'].count()"
   ]
  },
  {
   "cell_type": "markdown",
   "id": "1b062ad3",
   "metadata": {},
   "source": [
    "Действительно, интервалы равны. Поделим наши данные на 4 категории по уровню дохода до 107507руб., до 142594руб., до 195842руб., выше 195842руб."
   ]
  },
  {
   "cell_type": "code",
   "execution_count": 80,
   "id": "a7d7f49c",
   "metadata": {},
   "outputs": [],
   "source": [
    "# создаем функцию для категоризации данных по уровню дохода\n",
    "def division_by_income(income):\n",
    "    try:\n",
    "        if income <= 107507.0:\n",
    "            return 'Низкий уровень дохода'\n",
    "        elif income <= 142594.0:\n",
    "            return 'Средний уровень дохода'\n",
    "        elif income <= 195842.0:\n",
    "            return 'Выше среднего уровень дохода'\n",
    "        else:\n",
    "            return 'Высокий уровень дохода'\n",
    "    except:\n",
    "        return 'Уровень дохода не вошел ни в одну из групп, где-то ошибка!'"
   ]
  },
  {
   "cell_type": "code",
   "execution_count": 86,
   "id": "a8724729",
   "metadata": {},
   "outputs": [],
   "source": [
    "# создаем столбец в датафрейме, с категоризацией данных \n",
    "data['total_income_group'] =  data['total_income'].apply(division_by_income)"
   ]
  },
  {
   "cell_type": "code",
   "execution_count": 88,
   "id": "d1cd9702",
   "metadata": {},
   "outputs": [
    {
     "data": {
      "text/html": [
       "<div>\n",
       "<style scoped>\n",
       "    .dataframe tbody tr th:only-of-type {\n",
       "        vertical-align: middle;\n",
       "    }\n",
       "\n",
       "    .dataframe tbody tr th {\n",
       "        vertical-align: top;\n",
       "    }\n",
       "\n",
       "    .dataframe thead th {\n",
       "        text-align: right;\n",
       "    }\n",
       "</style>\n",
       "<table border=\"1\" class=\"dataframe\">\n",
       "  <thead>\n",
       "    <tr style=\"text-align: right;\">\n",
       "      <th></th>\n",
       "      <th>children</th>\n",
       "      <th>days_employed</th>\n",
       "      <th>dob_years</th>\n",
       "      <th>education</th>\n",
       "      <th>education_id</th>\n",
       "      <th>family_status</th>\n",
       "      <th>family_status_id</th>\n",
       "      <th>gender</th>\n",
       "      <th>income_type</th>\n",
       "      <th>debt</th>\n",
       "      <th>total_income</th>\n",
       "      <th>purpose</th>\n",
       "      <th>total_income_category</th>\n",
       "      <th>purpose_category</th>\n",
       "      <th>total_income_group</th>\n",
       "    </tr>\n",
       "  </thead>\n",
       "  <tbody>\n",
       "    <tr>\n",
       "      <th>0</th>\n",
       "      <td>1</td>\n",
       "      <td>8437.673028</td>\n",
       "      <td>42</td>\n",
       "      <td>высшее</td>\n",
       "      <td>0</td>\n",
       "      <td>женат / замужем</td>\n",
       "      <td>0</td>\n",
       "      <td>F</td>\n",
       "      <td>сотрудник</td>\n",
       "      <td>0</td>\n",
       "      <td>253875</td>\n",
       "      <td>покупка жилья</td>\n",
       "      <td>B</td>\n",
       "      <td>операции с недвижимостью</td>\n",
       "      <td>Высокий уровень дохода</td>\n",
       "    </tr>\n",
       "    <tr>\n",
       "      <th>1</th>\n",
       "      <td>1</td>\n",
       "      <td>4024.803754</td>\n",
       "      <td>36</td>\n",
       "      <td>среднее</td>\n",
       "      <td>1</td>\n",
       "      <td>женат / замужем</td>\n",
       "      <td>0</td>\n",
       "      <td>F</td>\n",
       "      <td>сотрудник</td>\n",
       "      <td>0</td>\n",
       "      <td>112080</td>\n",
       "      <td>приобретение автомобиля</td>\n",
       "      <td>C</td>\n",
       "      <td>операции с автомобилем</td>\n",
       "      <td>Средний уровень дохода</td>\n",
       "    </tr>\n",
       "    <tr>\n",
       "      <th>2</th>\n",
       "      <td>0</td>\n",
       "      <td>5623.422610</td>\n",
       "      <td>33</td>\n",
       "      <td>среднее</td>\n",
       "      <td>1</td>\n",
       "      <td>женат / замужем</td>\n",
       "      <td>0</td>\n",
       "      <td>M</td>\n",
       "      <td>сотрудник</td>\n",
       "      <td>0</td>\n",
       "      <td>145885</td>\n",
       "      <td>покупка жилья</td>\n",
       "      <td>C</td>\n",
       "      <td>операции с недвижимостью</td>\n",
       "      <td>Выше среднего уровень дохода</td>\n",
       "    </tr>\n",
       "    <tr>\n",
       "      <th>3</th>\n",
       "      <td>3</td>\n",
       "      <td>4124.747207</td>\n",
       "      <td>32</td>\n",
       "      <td>среднее</td>\n",
       "      <td>1</td>\n",
       "      <td>женат / замужем</td>\n",
       "      <td>0</td>\n",
       "      <td>M</td>\n",
       "      <td>сотрудник</td>\n",
       "      <td>0</td>\n",
       "      <td>267628</td>\n",
       "      <td>дополнительное образование</td>\n",
       "      <td>B</td>\n",
       "      <td>получение образования</td>\n",
       "      <td>Высокий уровень дохода</td>\n",
       "    </tr>\n",
       "    <tr>\n",
       "      <th>4</th>\n",
       "      <td>0</td>\n",
       "      <td>340266.072047</td>\n",
       "      <td>53</td>\n",
       "      <td>среднее</td>\n",
       "      <td>1</td>\n",
       "      <td>гражданский брак</td>\n",
       "      <td>1</td>\n",
       "      <td>F</td>\n",
       "      <td>пенсионер</td>\n",
       "      <td>0</td>\n",
       "      <td>158616</td>\n",
       "      <td>сыграть свадьбу</td>\n",
       "      <td>C</td>\n",
       "      <td>проведение свадьбы</td>\n",
       "      <td>Выше среднего уровень дохода</td>\n",
       "    </tr>\n",
       "  </tbody>\n",
       "</table>\n",
       "</div>"
      ],
      "text/plain": [
       "   children  days_employed  dob_years education  education_id  \\\n",
       "0         1    8437.673028         42    высшее             0   \n",
       "1         1    4024.803754         36   среднее             1   \n",
       "2         0    5623.422610         33   среднее             1   \n",
       "3         3    4124.747207         32   среднее             1   \n",
       "4         0  340266.072047         53   среднее             1   \n",
       "\n",
       "      family_status  family_status_id gender income_type  debt  total_income  \\\n",
       "0   женат / замужем                 0      F   сотрудник     0        253875   \n",
       "1   женат / замужем                 0      F   сотрудник     0        112080   \n",
       "2   женат / замужем                 0      M   сотрудник     0        145885   \n",
       "3   женат / замужем                 0      M   сотрудник     0        267628   \n",
       "4  гражданский брак                 1      F   пенсионер     0        158616   \n",
       "\n",
       "                      purpose total_income_category          purpose_category  \\\n",
       "0               покупка жилья                     B  операции с недвижимостью   \n",
       "1     приобретение автомобиля                     C    операции с автомобилем   \n",
       "2               покупка жилья                     C  операции с недвижимостью   \n",
       "3  дополнительное образование                     B     получение образования   \n",
       "4             сыграть свадьбу                     C        проведение свадьбы   \n",
       "\n",
       "             total_income_group  \n",
       "0        Высокий уровень дохода  \n",
       "1        Средний уровень дохода  \n",
       "2  Выше среднего уровень дохода  \n",
       "3        Высокий уровень дохода  \n",
       "4  Выше среднего уровень дохода  "
      ]
     },
     "execution_count": 88,
     "metadata": {},
     "output_type": "execute_result"
    }
   ],
   "source": [
    "data.head()"
   ]
  },
  {
   "cell_type": "code",
   "execution_count": 89,
   "id": "6ef9d3ec",
   "metadata": {},
   "outputs": [],
   "source": [
    "# считаем долю тех, кто имел задолженность по возврату кредитов, от общего количества людей в каждой категории дохода\n",
    "total_income_debt = (data.groupby('total_income_group')['debt'].sum() / data.groupby('total_income_group')['debt'].count()) * 100"
   ]
  },
  {
   "cell_type": "code",
   "execution_count": 99,
   "id": "8f8c9460",
   "metadata": {},
   "outputs": [
    {
     "data": {
      "text/plain": [
       "total_income_group\n",
       "Высокий уровень дохода          7.145536\n",
       "Низкий уровень дохода           8.006750\n",
       "Выше среднего уровень дохода    8.512270\n",
       "Средний уровень дохода          8.807339\n",
       "Name: debt, dtype: float64"
      ]
     },
     "execution_count": 99,
     "metadata": {},
     "output_type": "execute_result"
    }
   ],
   "source": [
    "total_income_debt.sort_values()"
   ]
  },
  {
   "cell_type": "code",
   "execution_count": 100,
   "id": "4527f7c4",
   "metadata": {},
   "outputs": [],
   "source": [
    "# создадим сводную таблицу\n",
    "# количество людей с задолженностью по возврату и без, сгруппированные по уровню дохода\n",
    "total_income_pivot = data.pivot_table(index=['total_income_group'], columns=['debt'], values='gender', aggfunc='count')"
   ]
  },
  {
   "cell_type": "code",
   "execution_count": 101,
   "id": "ffe23657",
   "metadata": {},
   "outputs": [
    {
     "data": {
      "text/html": [
       "<div>\n",
       "<style scoped>\n",
       "    .dataframe tbody tr th:only-of-type {\n",
       "        vertical-align: middle;\n",
       "    }\n",
       "\n",
       "    .dataframe tbody tr th {\n",
       "        vertical-align: top;\n",
       "    }\n",
       "\n",
       "    .dataframe thead th {\n",
       "        text-align: right;\n",
       "    }\n",
       "</style>\n",
       "<table border=\"1\" class=\"dataframe\">\n",
       "  <thead>\n",
       "    <tr style=\"text-align: right;\">\n",
       "      <th>debt</th>\n",
       "      <th>0</th>\n",
       "      <th>1</th>\n",
       "    </tr>\n",
       "    <tr>\n",
       "      <th>total_income_group</th>\n",
       "      <th></th>\n",
       "      <th></th>\n",
       "    </tr>\n",
       "  </thead>\n",
       "  <tbody>\n",
       "    <tr>\n",
       "      <th>Высокий уровень дохода</th>\n",
       "      <td>4951</td>\n",
       "      <td>381</td>\n",
       "    </tr>\n",
       "    <tr>\n",
       "      <th>Выше среднего уровень дохода</th>\n",
       "      <td>4772</td>\n",
       "      <td>444</td>\n",
       "    </tr>\n",
       "    <tr>\n",
       "      <th>Низкий уровень дохода</th>\n",
       "      <td>4906</td>\n",
       "      <td>427</td>\n",
       "    </tr>\n",
       "    <tr>\n",
       "      <th>Средний уровень дохода</th>\n",
       "      <td>4970</td>\n",
       "      <td>480</td>\n",
       "    </tr>\n",
       "  </tbody>\n",
       "</table>\n",
       "</div>"
      ],
      "text/plain": [
       "debt                             0    1\n",
       "total_income_group                     \n",
       "Высокий уровень дохода        4951  381\n",
       "Выше среднего уровень дохода  4772  444\n",
       "Низкий уровень дохода         4906  427\n",
       "Средний уровень дохода        4970  480"
      ]
     },
     "execution_count": 101,
     "metadata": {},
     "output_type": "execute_result"
    }
   ],
   "source": [
    "total_income_pivot"
   ]
  },
  {
   "cell_type": "code",
   "execution_count": 102,
   "id": "aa121fa8",
   "metadata": {},
   "outputs": [],
   "source": [
    "# добавим в сводную таблицу столбец\n",
    "# найдем долю людей с задолженностью среди тех, у кого задолженности не было, в разрезе каждой группы\n",
    "total_income_pivot['share'] = (total_income_pivot[1] / total_income_pivot[0] ) * 100"
   ]
  },
  {
   "cell_type": "code",
   "execution_count": 103,
   "id": "8fe76076",
   "metadata": {},
   "outputs": [
    {
     "data": {
      "text/html": [
       "<div>\n",
       "<style scoped>\n",
       "    .dataframe tbody tr th:only-of-type {\n",
       "        vertical-align: middle;\n",
       "    }\n",
       "\n",
       "    .dataframe tbody tr th {\n",
       "        vertical-align: top;\n",
       "    }\n",
       "\n",
       "    .dataframe thead th {\n",
       "        text-align: right;\n",
       "    }\n",
       "</style>\n",
       "<table border=\"1\" class=\"dataframe\">\n",
       "  <thead>\n",
       "    <tr style=\"text-align: right;\">\n",
       "      <th>debt</th>\n",
       "      <th>0</th>\n",
       "      <th>1</th>\n",
       "      <th>share</th>\n",
       "    </tr>\n",
       "    <tr>\n",
       "      <th>total_income_group</th>\n",
       "      <th></th>\n",
       "      <th></th>\n",
       "      <th></th>\n",
       "    </tr>\n",
       "  </thead>\n",
       "  <tbody>\n",
       "    <tr>\n",
       "      <th>Высокий уровень дохода</th>\n",
       "      <td>4951</td>\n",
       "      <td>381</td>\n",
       "      <td>7.695415</td>\n",
       "    </tr>\n",
       "    <tr>\n",
       "      <th>Выше среднего уровень дохода</th>\n",
       "      <td>4772</td>\n",
       "      <td>444</td>\n",
       "      <td>9.304275</td>\n",
       "    </tr>\n",
       "    <tr>\n",
       "      <th>Низкий уровень дохода</th>\n",
       "      <td>4906</td>\n",
       "      <td>427</td>\n",
       "      <td>8.703628</td>\n",
       "    </tr>\n",
       "    <tr>\n",
       "      <th>Средний уровень дохода</th>\n",
       "      <td>4970</td>\n",
       "      <td>480</td>\n",
       "      <td>9.657948</td>\n",
       "    </tr>\n",
       "  </tbody>\n",
       "</table>\n",
       "</div>"
      ],
      "text/plain": [
       "debt                             0    1     share\n",
       "total_income_group                               \n",
       "Высокий уровень дохода        4951  381  7.695415\n",
       "Выше среднего уровень дохода  4772  444  9.304275\n",
       "Низкий уровень дохода         4906  427  8.703628\n",
       "Средний уровень дохода        4970  480  9.657948"
      ]
     },
     "execution_count": 103,
     "metadata": {},
     "output_type": "execute_result"
    }
   ],
   "source": [
    "total_income_pivot"
   ]
  },
  {
   "cell_type": "markdown",
   "id": "6dd14b57",
   "metadata": {
    "deletable": false,
    "id": "6dd14b57"
   },
   "source": [
    "###### Зависимость между уровнем дохода и возвратом кредита в срок\n",
    "**Вывод:** ```Зависимость между уровнем дохода  и возвратом кредита в срок есть. \n",
    "Больше всего людей с задолженностью по возврату кредита в срок у людей со средним уровнем дохода. Это видно по относительному показателю координации (столбец share), он показывает соотношение людей с задолженностью и без между собой. В группе заемщиков со средним уровнем дохода на каждые 100 человек без задолженности по возврату приходится 9.7 человека с задолженностью.\n",
    "В группе с высоким уровнем дохода на каждые 100 человек без задолженности приходится около 7.7 человек с задолженностью, такие заемщики с меньшей вероятностью будут иметь просрочку по возврату долга. \n",
    "Стоит отметить, что максимальное значение показателя - 9.66, больше минимального - 7.70 на 1.96 п.п., разрыв кажется небольшим на первый взгляд, но на деле разница между группами составляет 25.62%.  \n",
    "В связи с этим размер дохода имеет влияние на платежеспособность заемщика. ```"
   ]
  },
  {
   "cell_type": "markdown",
   "id": "1dcc9b12",
   "metadata": {
    "deletable": false,
    "editable": false,
    "id": "1dcc9b12"
   },
   "source": [
    "#### 3.4 Как разные цели кредита влияют на его возврат в срок?"
   ]
  },
  {
   "cell_type": "code",
   "execution_count": 104,
   "id": "c602bc8b",
   "metadata": {
    "deletable": false,
    "id": "c602bc8b"
   },
   "outputs": [],
   "source": [
    "# считаем долю тех, кто имел задолженность по возврату кредитов, от общего количества людей в каждой группе цели кредита\n",
    "purpose_category_debt = (data.groupby('purpose_category')['debt'].sum() / data.groupby('purpose_category')['debt'].count()) * 100"
   ]
  },
  {
   "cell_type": "code",
   "execution_count": 105,
   "id": "88d01976",
   "metadata": {},
   "outputs": [
    {
     "data": {
      "text/plain": [
       "purpose_category\n",
       "операции с недвижимостью    7.255139\n",
       "проведение свадьбы          7.911803\n",
       "получение образования       9.252758\n",
       "операции с автомобилем      9.347978\n",
       "Name: debt, dtype: float64"
      ]
     },
     "execution_count": 105,
     "metadata": {},
     "output_type": "execute_result"
    }
   ],
   "source": [
    "purpose_category_debt.sort_values()"
   ]
  },
  {
   "cell_type": "code",
   "execution_count": 106,
   "id": "1d47b047",
   "metadata": {},
   "outputs": [],
   "source": [
    "# создадим сводную таблицу\n",
    "# количество людей с задолженностью по возврату и без, сгруппированные по уровню дохода\n",
    "purpose_category_pivot = data.pivot_table(index=['purpose_category'], columns=['debt'], values='gender', aggfunc='count')"
   ]
  },
  {
   "cell_type": "code",
   "execution_count": 107,
   "id": "9678850b",
   "metadata": {},
   "outputs": [
    {
     "data": {
      "text/html": [
       "<div>\n",
       "<style scoped>\n",
       "    .dataframe tbody tr th:only-of-type {\n",
       "        vertical-align: middle;\n",
       "    }\n",
       "\n",
       "    .dataframe tbody tr th {\n",
       "        vertical-align: top;\n",
       "    }\n",
       "\n",
       "    .dataframe thead th {\n",
       "        text-align: right;\n",
       "    }\n",
       "</style>\n",
       "<table border=\"1\" class=\"dataframe\">\n",
       "  <thead>\n",
       "    <tr style=\"text-align: right;\">\n",
       "      <th>debt</th>\n",
       "      <th>0</th>\n",
       "      <th>1</th>\n",
       "    </tr>\n",
       "    <tr>\n",
       "      <th>purpose_category</th>\n",
       "      <th></th>\n",
       "      <th></th>\n",
       "    </tr>\n",
       "  </thead>\n",
       "  <tbody>\n",
       "    <tr>\n",
       "      <th>операции с автомобилем</th>\n",
       "      <td>3879</td>\n",
       "      <td>400</td>\n",
       "    </tr>\n",
       "    <tr>\n",
       "      <th>операции с недвижимостью</th>\n",
       "      <td>9971</td>\n",
       "      <td>780</td>\n",
       "    </tr>\n",
       "    <tr>\n",
       "      <th>получение образования</th>\n",
       "      <td>3619</td>\n",
       "      <td>369</td>\n",
       "    </tr>\n",
       "    <tr>\n",
       "      <th>проведение свадьбы</th>\n",
       "      <td>2130</td>\n",
       "      <td>183</td>\n",
       "    </tr>\n",
       "  </tbody>\n",
       "</table>\n",
       "</div>"
      ],
      "text/plain": [
       "debt                         0    1\n",
       "purpose_category                   \n",
       "операции с автомобилем    3879  400\n",
       "операции с недвижимостью  9971  780\n",
       "получение образования     3619  369\n",
       "проведение свадьбы        2130  183"
      ]
     },
     "execution_count": 107,
     "metadata": {},
     "output_type": "execute_result"
    }
   ],
   "source": [
    "purpose_category_pivot"
   ]
  },
  {
   "cell_type": "code",
   "execution_count": 108,
   "id": "36b96e1a",
   "metadata": {},
   "outputs": [],
   "source": [
    "# добавим в сводную таблицу столбец\n",
    "# найдем долю людей с задолженностью среди тех, у кого задолженности не было, в разрезе каждой группы\n",
    "purpose_category_pivot['share'] = (purpose_category_pivot[1] / purpose_category_pivot[0] ) * 100"
   ]
  },
  {
   "cell_type": "code",
   "execution_count": 109,
   "id": "1bbf1840",
   "metadata": {},
   "outputs": [
    {
     "data": {
      "text/html": [
       "<div>\n",
       "<style scoped>\n",
       "    .dataframe tbody tr th:only-of-type {\n",
       "        vertical-align: middle;\n",
       "    }\n",
       "\n",
       "    .dataframe tbody tr th {\n",
       "        vertical-align: top;\n",
       "    }\n",
       "\n",
       "    .dataframe thead th {\n",
       "        text-align: right;\n",
       "    }\n",
       "</style>\n",
       "<table border=\"1\" class=\"dataframe\">\n",
       "  <thead>\n",
       "    <tr style=\"text-align: right;\">\n",
       "      <th>debt</th>\n",
       "      <th>0</th>\n",
       "      <th>1</th>\n",
       "      <th>share</th>\n",
       "    </tr>\n",
       "    <tr>\n",
       "      <th>purpose_category</th>\n",
       "      <th></th>\n",
       "      <th></th>\n",
       "      <th></th>\n",
       "    </tr>\n",
       "  </thead>\n",
       "  <tbody>\n",
       "    <tr>\n",
       "      <th>операции с автомобилем</th>\n",
       "      <td>3879</td>\n",
       "      <td>400</td>\n",
       "      <td>10.311936</td>\n",
       "    </tr>\n",
       "    <tr>\n",
       "      <th>операции с недвижимостью</th>\n",
       "      <td>9971</td>\n",
       "      <td>780</td>\n",
       "      <td>7.822686</td>\n",
       "    </tr>\n",
       "    <tr>\n",
       "      <th>получение образования</th>\n",
       "      <td>3619</td>\n",
       "      <td>369</td>\n",
       "      <td>10.196187</td>\n",
       "    </tr>\n",
       "    <tr>\n",
       "      <th>проведение свадьбы</th>\n",
       "      <td>2130</td>\n",
       "      <td>183</td>\n",
       "      <td>8.591549</td>\n",
       "    </tr>\n",
       "  </tbody>\n",
       "</table>\n",
       "</div>"
      ],
      "text/plain": [
       "debt                         0    1      share\n",
       "purpose_category                              \n",
       "операции с автомобилем    3879  400  10.311936\n",
       "операции с недвижимостью  9971  780   7.822686\n",
       "получение образования     3619  369  10.196187\n",
       "проведение свадьбы        2130  183   8.591549"
      ]
     },
     "execution_count": 109,
     "metadata": {},
     "output_type": "execute_result"
    }
   ],
   "source": [
    "purpose_category_pivot"
   ]
  },
  {
   "cell_type": "markdown",
   "id": "cf05ed63",
   "metadata": {
    "deletable": false,
    "id": "cf05ed63"
   },
   "source": [
    "###### Зависимость между целью кредита и возвратом кредита в срок\n",
    "**Вывод:** ```Зависимость между целью кредита  и возвратом кредита в срок есть. \n",
    "Больше всего людей с задолженностью по возврату кредита в срок среди тех, кто берет кредит для операции с автомобилем и для получения образования. Это видно по относительному показателю координации (столбец share), он показывает соотношение людей с задолженностью и без между собой. В группах \"операции с автомобилем\" и \"получение образования\" на каждые 100 человек без задолженности по возврату приходится 10.3 и 10.2 человека с задолженностью соответственно.\n",
    "В группе \"операции с недвижимостью\" на каждые 100 человек без задолженности приходится около 7.8 людей с задолженностью. Значит, риск задолженности по возврату кредита в этой категории граждан минимален.\n",
    "Стоит отметить, что максимальное значение показателя - 10.31, больше минимального - 7.82 на 2.49 п.п., разрыв кажется небольшим на первый взгляд, но на деле разница между группами составляет 31.84%.  \n",
    "В связи с этим цель кредитования оказывает влияние на платежеспособность заемщика.```"
   ]
  },
  {
   "cell_type": "markdown",
   "id": "46c1f10b",
   "metadata": {
    "deletable": false,
    "editable": false,
    "id": "46c1f10b"
   },
   "source": [
    "#### 3.5 Причины появления пропусков в исходных данных."
   ]
  },
  {
   "cell_type": "code",
   "execution_count": 42,
   "id": "d7008529",
   "metadata": {},
   "outputs": [
    {
     "data": {
      "text/plain": [
       "array(['сотрудник', 'пенсионер', 'компаньон', 'госслужащий',\n",
       "       'безработный', 'предприниматель', 'студент', 'в декрете'],\n",
       "      dtype=object)"
      ]
     },
     "execution_count": 42,
     "metadata": {},
     "output_type": "execute_result"
    }
   ],
   "source": [
    "# выведем уникальные значения в столбце income_type\n",
    "data['income_type'].unique()"
   ]
  },
  {
   "cell_type": "markdown",
   "id": "3697d2a9",
   "metadata": {
    "deletable": false,
    "id": "3697d2a9"
   },
   "source": [
    "*Ответ:* В исходных данных были пропуски в двух столбцах - days_employed и total_income. Количество пропусков в двух столбцах одинаково. Эти пропуски не являются полностью случайными. \n",
    "Они могут зависеть от значений столбца income_type(тип занятости). \n",
    "Например, если значение - пенсионер, при этом он не набрал нужный стаж для пенсии, то его доход будет равен 0, как и трудовой стаж. \n",
    "Также мы видим такие значения, как безработный и студент. Студент может работать неофициально, поэтому его трудовой стаж и доход равны 0, или не работать вовсе. Как в случае и с безработным.\n",
    "Конечно, нельзя не учесть вероятность, что это может быть ошибка выгрузки, смены формата или записи данных."
   ]
  },
  {
   "cell_type": "markdown",
   "id": "3137d257",
   "metadata": {
    "deletable": false,
    "editable": false,
    "id": "3137d257"
   },
   "source": [
    "#### 3.6 Почему заполнить пропуски медианным значением — лучшее решение для количественных переменных."
   ]
  },
  {
   "cell_type": "markdown",
   "id": "cf40012a",
   "metadata": {
    "deletable": false,
    "id": "cf40012a"
   },
   "source": [
    "*Ответ:* Выбирая метод работы с пропусками, сначала стоит оценить разброс выборки, распределение наблюдений, ее симметричность. Если в данных много выдающихся значений, выборка ассиметрична, то наиболее точным будет медианное значение. Если выборка симметрична, нет выбросов, то лучше заполнить пропуски, используя среднее значение. Это связано с тем, что при ассиметричности выборки среднее значение будет сдвинуто и некорректно, так как эта метрика чувствительна к выбросам (тогда как медиана устойчива к ним)."
   ]
  },
  {
   "cell_type": "markdown",
   "id": "57bc304e",
   "metadata": {
    "deletable": false,
    "editable": false,
    "id": "57bc304e"
   },
   "source": [
    "### Шаг 4: общий вывод."
   ]
  },
  {
   "cell_type": "markdown",
   "id": "1ab75d1c",
   "metadata": {
    "deletable": false,
    "id": "1ab75d1c"
   },
   "source": [
    "На возврат кредита в срок оказывают влияние количество детей, семейное положение, уровень дохода и цель кредита. Наибольшее влияние на платежеспособность оказывает семейное положение заещика.\n",
    "\n",
    "Наилучшим заемщиком для банка будет вдовец/вдова или разведенный человек, без детей, с доходом от 195 842руб., с целью кредита - приобретение недвижимости. Такой заемщик имеет самую низкую вероятность нарушения срока возврата кредита.\n",
    "\n",
    "Заемщиком с самым высоким риском по просрочке задолженности станет неженатый/незамужний человек, с двумя детьми и доходом в интервале от 107 507 до 142 594руб., с целью кредита - операции с автомобилем."
   ]
  },
  {
   "cell_type": "code",
   "execution_count": null,
   "id": "4daf92e0",
   "metadata": {},
   "outputs": [],
   "source": []
  }
 ],
 "metadata": {
  "ExecuteTimeLog": [
   {
    "duration": 80,
    "start_time": "2023-02-17T19:00:35.502Z"
   },
   {
    "duration": 7,
    "start_time": "2023-02-17T19:01:16.013Z"
   },
   {
    "duration": 7,
    "start_time": "2023-02-17T19:01:42.076Z"
   },
   {
    "duration": 9,
    "start_time": "2023-02-17T19:02:10.113Z"
   },
   {
    "duration": 362,
    "start_time": "2023-02-17T19:02:34.684Z"
   },
   {
    "duration": 211,
    "start_time": "2023-02-17T19:03:40.378Z"
   },
   {
    "duration": 6,
    "start_time": "2023-02-17T19:04:11.874Z"
   },
   {
    "duration": 15,
    "start_time": "2023-02-17T19:04:21.993Z"
   },
   {
    "duration": 4,
    "start_time": "2023-02-17T19:04:39.516Z"
   },
   {
    "duration": 6,
    "start_time": "2023-02-17T19:05:29.564Z"
   },
   {
    "duration": 4,
    "start_time": "2023-02-17T19:05:49.980Z"
   },
   {
    "duration": 31,
    "start_time": "2023-02-17T19:06:04.711Z"
   },
   {
    "duration": 526,
    "start_time": "2023-02-17T19:08:00.368Z"
   },
   {
    "duration": 29,
    "start_time": "2023-02-17T19:08:03.420Z"
   },
   {
    "duration": 18,
    "start_time": "2023-02-17T19:08:04.850Z"
   },
   {
    "duration": 14,
    "start_time": "2023-02-17T19:08:06.451Z"
   },
   {
    "duration": 35,
    "start_time": "2023-02-17T19:08:06.880Z"
   },
   {
    "duration": 8,
    "start_time": "2023-02-17T19:08:07.426Z"
   },
   {
    "duration": 12,
    "start_time": "2023-02-17T19:08:07.833Z"
   },
   {
    "duration": 5,
    "start_time": "2023-02-17T19:08:08.390Z"
   },
   {
    "duration": 7,
    "start_time": "2023-02-17T19:08:08.776Z"
   },
   {
    "duration": 4,
    "start_time": "2023-02-17T19:08:09.244Z"
   },
   {
    "duration": 41,
    "start_time": "2023-02-17T19:08:09.720Z"
   },
   {
    "duration": 14,
    "start_time": "2023-02-17T19:08:10.070Z"
   },
   {
    "duration": 5,
    "start_time": "2023-02-17T19:08:10.672Z"
   },
   {
    "duration": 12,
    "start_time": "2023-02-17T19:08:12.080Z"
   },
   {
    "duration": 21,
    "start_time": "2023-02-17T19:08:12.480Z"
   },
   {
    "duration": 23,
    "start_time": "2023-02-17T19:08:12.823Z"
   },
   {
    "duration": 5,
    "start_time": "2023-02-17T19:08:13.495Z"
   },
   {
    "duration": 10,
    "start_time": "2023-02-17T19:08:13.691Z"
   },
   {
    "duration": 8,
    "start_time": "2023-02-17T19:08:14.805Z"
   },
   {
    "duration": 4,
    "start_time": "2023-02-17T19:08:15.816Z"
   },
   {
    "duration": 10,
    "start_time": "2023-02-17T19:08:16.465Z"
   },
   {
    "duration": 8,
    "start_time": "2023-02-17T19:11:50.646Z"
   },
   {
    "duration": 77,
    "start_time": "2023-02-17T19:12:02.907Z"
   },
   {
    "duration": 9,
    "start_time": "2023-02-17T19:12:53.209Z"
   },
   {
    "duration": 11,
    "start_time": "2023-02-17T19:13:08.182Z"
   },
   {
    "duration": 11,
    "start_time": "2023-02-17T19:13:29.265Z"
   },
   {
    "duration": 5,
    "start_time": "2023-02-17T19:13:54.669Z"
   },
   {
    "duration": 8,
    "start_time": "2023-02-17T19:14:27.272Z"
   },
   {
    "duration": 13,
    "start_time": "2023-02-17T19:14:44.922Z"
   },
   {
    "duration": 527,
    "start_time": "2023-02-17T19:15:14.624Z"
   },
   {
    "duration": 42,
    "start_time": "2023-02-17T19:15:16.353Z"
   },
   {
    "duration": 17,
    "start_time": "2023-02-17T19:15:17.369Z"
   },
   {
    "duration": 17,
    "start_time": "2023-02-17T19:15:18.236Z"
   },
   {
    "duration": 55,
    "start_time": "2023-02-17T19:15:18.649Z"
   },
   {
    "duration": 5,
    "start_time": "2023-02-17T19:15:19.219Z"
   },
   {
    "duration": 11,
    "start_time": "2023-02-17T19:15:19.579Z"
   },
   {
    "duration": 6,
    "start_time": "2023-02-17T19:15:20.279Z"
   },
   {
    "duration": 29,
    "start_time": "2023-02-17T19:15:20.531Z"
   },
   {
    "duration": 5,
    "start_time": "2023-02-17T19:15:20.882Z"
   },
   {
    "duration": 43,
    "start_time": "2023-02-17T19:15:21.426Z"
   },
   {
    "duration": 17,
    "start_time": "2023-02-17T19:15:21.829Z"
   },
   {
    "duration": 5,
    "start_time": "2023-02-17T19:15:22.410Z"
   },
   {
    "duration": 20,
    "start_time": "2023-02-17T19:15:23.482Z"
   },
   {
    "duration": 32,
    "start_time": "2023-02-17T19:15:23.980Z"
   },
   {
    "duration": 29,
    "start_time": "2023-02-17T19:15:24.191Z"
   },
   {
    "duration": 4,
    "start_time": "2023-02-17T19:15:25.147Z"
   },
   {
    "duration": 9,
    "start_time": "2023-02-17T19:15:25.352Z"
   },
   {
    "duration": 10,
    "start_time": "2023-02-17T19:15:25.878Z"
   },
   {
    "duration": 6,
    "start_time": "2023-02-17T19:15:27.014Z"
   },
   {
    "duration": 11,
    "start_time": "2023-02-17T19:15:27.479Z"
   },
   {
    "duration": 23,
    "start_time": "2023-02-17T19:15:30.481Z"
   },
   {
    "duration": 5,
    "start_time": "2023-02-17T19:17:30.582Z"
   },
   {
    "duration": 4,
    "start_time": "2023-02-17T19:17:38.324Z"
   },
   {
    "duration": 7,
    "start_time": "2023-02-17T19:21:20.227Z"
   },
   {
    "duration": 4,
    "start_time": "2023-02-17T19:21:21.616Z"
   },
   {
    "duration": 4,
    "start_time": "2023-02-17T19:21:29.973Z"
   },
   {
    "duration": 6,
    "start_time": "2023-02-17T19:24:43.682Z"
   },
   {
    "duration": 4,
    "start_time": "2023-02-17T19:24:44.883Z"
   },
   {
    "duration": 6,
    "start_time": "2023-02-17T19:25:09.840Z"
   },
   {
    "duration": 5,
    "start_time": "2023-02-17T19:25:13.306Z"
   },
   {
    "duration": 8,
    "start_time": "2023-02-17T19:28:26.254Z"
   },
   {
    "duration": 5,
    "start_time": "2023-02-17T19:28:42.023Z"
   },
   {
    "duration": 79,
    "start_time": "2023-02-17T19:34:01.182Z"
   },
   {
    "duration": 5,
    "start_time": "2023-02-17T19:34:22.703Z"
   },
   {
    "duration": 7,
    "start_time": "2023-02-17T19:34:24.157Z"
   },
   {
    "duration": 6,
    "start_time": "2023-02-17T19:34:43.393Z"
   },
   {
    "duration": 4,
    "start_time": "2023-02-17T19:34:44.282Z"
   },
   {
    "duration": 12,
    "start_time": "2023-02-17T19:37:09.229Z"
   },
   {
    "duration": 5,
    "start_time": "2023-02-17T19:37:56.203Z"
   },
   {
    "duration": 8,
    "start_time": "2023-02-17T19:39:40.779Z"
   },
   {
    "duration": 5,
    "start_time": "2023-02-17T19:39:47.280Z"
   },
   {
    "duration": 73,
    "start_time": "2023-02-17T20:21:26.723Z"
   },
   {
    "duration": 16,
    "start_time": "2023-02-17T20:22:07.625Z"
   },
   {
    "duration": 16,
    "start_time": "2023-02-17T20:22:47.403Z"
   },
   {
    "duration": 16,
    "start_time": "2023-02-17T20:23:16.384Z"
   },
   {
    "duration": 6,
    "start_time": "2023-02-17T20:23:36.107Z"
   },
   {
    "duration": 6,
    "start_time": "2023-02-17T20:24:47.315Z"
   },
   {
    "duration": 13,
    "start_time": "2023-02-17T20:24:54.801Z"
   },
   {
    "duration": 5,
    "start_time": "2023-02-17T20:25:03.176Z"
   },
   {
    "duration": 5,
    "start_time": "2023-02-17T20:25:13.924Z"
   },
   {
    "duration": 10,
    "start_time": "2023-02-17T20:31:59.412Z"
   },
   {
    "duration": 5,
    "start_time": "2023-02-17T20:34:12.098Z"
   },
   {
    "duration": 5,
    "start_time": "2023-02-17T20:36:23.404Z"
   },
   {
    "duration": 9,
    "start_time": "2023-02-17T20:36:34.100Z"
   },
   {
    "duration": 9,
    "start_time": "2023-02-17T20:36:52.712Z"
   },
   {
    "duration": 9,
    "start_time": "2023-02-17T20:37:10.304Z"
   },
   {
    "duration": 4,
    "start_time": "2023-02-17T20:37:24.513Z"
   },
   {
    "duration": 14,
    "start_time": "2023-02-17T20:37:26.500Z"
   },
   {
    "duration": 750,
    "start_time": "2023-02-17T21:19:08.338Z"
   },
   {
    "duration": 9,
    "start_time": "2023-02-17T21:19:09.415Z"
   },
   {
    "duration": 5,
    "start_time": "2023-02-17T21:19:28.219Z"
   },
   {
    "duration": 11,
    "start_time": "2023-02-17T21:19:30.908Z"
   },
   {
    "duration": 5,
    "start_time": "2023-02-17T21:21:32.066Z"
   },
   {
    "duration": 6,
    "start_time": "2023-02-17T21:24:15.042Z"
   },
   {
    "duration": 11,
    "start_time": "2023-02-17T21:24:16.262Z"
   },
   {
    "duration": 6,
    "start_time": "2023-02-17T21:27:26.188Z"
   },
   {
    "duration": 4,
    "start_time": "2023-02-17T21:27:39.609Z"
   },
   {
    "duration": 6,
    "start_time": "2023-02-17T21:28:28.578Z"
   },
   {
    "duration": 4,
    "start_time": "2023-02-17T21:28:29.135Z"
   },
   {
    "duration": 7,
    "start_time": "2023-02-17T21:37:32.533Z"
   },
   {
    "duration": 4,
    "start_time": "2023-02-17T21:37:50.958Z"
   },
   {
    "duration": 11,
    "start_time": "2023-02-17T21:39:12.859Z"
   },
   {
    "duration": 11,
    "start_time": "2023-02-17T21:39:27.226Z"
   },
   {
    "duration": 10,
    "start_time": "2023-02-17T21:39:39.871Z"
   },
   {
    "duration": 11,
    "start_time": "2023-02-17T21:40:14.662Z"
   },
   {
    "duration": 14,
    "start_time": "2023-02-17T21:40:26.475Z"
   },
   {
    "duration": 12,
    "start_time": "2023-02-17T21:40:35.879Z"
   },
   {
    "duration": 12,
    "start_time": "2023-02-17T21:40:51.645Z"
   },
   {
    "duration": 6,
    "start_time": "2023-02-17T21:41:04.796Z"
   },
   {
    "duration": 9,
    "start_time": "2023-02-17T21:41:37.822Z"
   },
   {
    "duration": 3,
    "start_time": "2023-02-17T21:41:41.800Z"
   },
   {
    "duration": 6,
    "start_time": "2023-02-17T21:41:54.308Z"
   },
   {
    "duration": 5,
    "start_time": "2023-02-17T21:41:56.537Z"
   },
   {
    "duration": 6,
    "start_time": "2023-02-17T21:42:15.822Z"
   },
   {
    "duration": 4,
    "start_time": "2023-02-17T21:42:16.538Z"
   },
   {
    "duration": 11,
    "start_time": "2023-02-17T21:42:26.639Z"
   },
   {
    "duration": 7,
    "start_time": "2023-02-17T21:44:11.184Z"
   },
   {
    "duration": 5,
    "start_time": "2023-02-17T21:44:24.501Z"
   },
   {
    "duration": 6,
    "start_time": "2023-02-17T21:45:28.348Z"
   },
   {
    "duration": 4,
    "start_time": "2023-02-17T21:45:28.899Z"
   },
   {
    "duration": 10,
    "start_time": "2023-02-17T21:46:41.829Z"
   },
   {
    "duration": 3,
    "start_time": "2023-02-17T21:46:42.842Z"
   },
   {
    "duration": 4,
    "start_time": "2023-02-17T21:47:14.963Z"
   },
   {
    "duration": 9,
    "start_time": "2023-02-17T21:47:38.078Z"
   },
   {
    "duration": 4,
    "start_time": "2023-02-17T21:47:39.099Z"
   },
   {
    "duration": 26,
    "start_time": "2023-02-17T21:48:44.122Z"
   },
   {
    "duration": 16,
    "start_time": "2023-02-17T21:48:49.822Z"
   },
   {
    "duration": 7,
    "start_time": "2023-02-17T21:49:28.140Z"
   },
   {
    "duration": 7,
    "start_time": "2023-02-17T21:49:56.680Z"
   },
   {
    "duration": 11,
    "start_time": "2023-02-17T21:50:07.219Z"
   },
   {
    "duration": 7,
    "start_time": "2023-02-17T21:50:12.499Z"
   },
   {
    "duration": 6,
    "start_time": "2023-02-17T21:50:22.188Z"
   },
   {
    "duration": 4,
    "start_time": "2023-02-17T21:55:32.268Z"
   },
   {
    "duration": 7,
    "start_time": "2023-02-17T21:55:40.679Z"
   },
   {
    "duration": 53,
    "start_time": "2023-02-18T12:32:28.645Z"
   },
   {
    "duration": 5,
    "start_time": "2023-02-18T12:32:42.889Z"
   },
   {
    "duration": 748,
    "start_time": "2023-02-18T12:34:39.182Z"
   },
   {
    "duration": 33,
    "start_time": "2023-02-18T12:34:39.932Z"
   },
   {
    "duration": 18,
    "start_time": "2023-02-18T12:34:39.966Z"
   },
   {
    "duration": 12,
    "start_time": "2023-02-18T12:34:39.986Z"
   },
   {
    "duration": 53,
    "start_time": "2023-02-18T12:34:39.999Z"
   },
   {
    "duration": 9,
    "start_time": "2023-02-18T12:34:40.055Z"
   },
   {
    "duration": 11,
    "start_time": "2023-02-18T12:34:40.066Z"
   },
   {
    "duration": 10,
    "start_time": "2023-02-18T12:34:40.079Z"
   },
   {
    "duration": 14,
    "start_time": "2023-02-18T12:34:40.090Z"
   },
   {
    "duration": 11,
    "start_time": "2023-02-18T12:34:40.106Z"
   },
   {
    "duration": 62,
    "start_time": "2023-02-18T12:34:40.119Z"
   },
   {
    "duration": 10,
    "start_time": "2023-02-18T12:34:40.183Z"
   },
   {
    "duration": 12,
    "start_time": "2023-02-18T12:34:40.194Z"
   },
   {
    "duration": 14,
    "start_time": "2023-02-18T12:34:40.207Z"
   },
   {
    "duration": 31,
    "start_time": "2023-02-18T12:34:40.223Z"
   },
   {
    "duration": 20,
    "start_time": "2023-02-18T12:34:40.257Z"
   },
   {
    "duration": 3,
    "start_time": "2023-02-18T12:34:40.278Z"
   },
   {
    "duration": 20,
    "start_time": "2023-02-18T12:34:40.282Z"
   },
   {
    "duration": 6,
    "start_time": "2023-02-18T12:34:40.303Z"
   },
   {
    "duration": 15,
    "start_time": "2023-02-18T12:34:40.310Z"
   },
   {
    "duration": 44,
    "start_time": "2023-02-18T12:34:40.326Z"
   },
   {
    "duration": 15,
    "start_time": "2023-02-18T12:34:40.371Z"
   },
   {
    "duration": 4,
    "start_time": "2023-02-18T12:34:40.388Z"
   },
   {
    "duration": 20,
    "start_time": "2023-02-18T12:34:40.394Z"
   },
   {
    "duration": 5,
    "start_time": "2023-02-18T12:34:40.415Z"
   },
   {
    "duration": 17,
    "start_time": "2023-02-18T12:34:40.421Z"
   },
   {
    "duration": 7,
    "start_time": "2023-02-18T12:34:40.440Z"
   },
   {
    "duration": 14,
    "start_time": "2023-02-18T12:34:40.454Z"
   },
   {
    "duration": 14,
    "start_time": "2023-02-18T12:34:40.470Z"
   },
   {
    "duration": 7,
    "start_time": "2023-02-18T12:34:40.486Z"
   },
   {
    "duration": 3,
    "start_time": "2023-02-18T12:34:40.495Z"
   },
   {
    "duration": 11,
    "start_time": "2023-02-18T12:34:40.500Z"
   },
   {
    "duration": 82,
    "start_time": "2023-02-18T12:34:40.513Z"
   },
   {
    "duration": 0,
    "start_time": "2023-02-18T12:34:40.596Z"
   },
   {
    "duration": 0,
    "start_time": "2023-02-18T12:34:40.597Z"
   },
   {
    "duration": 0,
    "start_time": "2023-02-18T12:34:40.598Z"
   },
   {
    "duration": 0,
    "start_time": "2023-02-18T12:34:40.599Z"
   },
   {
    "duration": 0,
    "start_time": "2023-02-18T12:34:40.600Z"
   },
   {
    "duration": 0,
    "start_time": "2023-02-18T12:34:40.602Z"
   },
   {
    "duration": 0,
    "start_time": "2023-02-18T12:34:40.602Z"
   },
   {
    "duration": 0,
    "start_time": "2023-02-18T12:34:40.603Z"
   },
   {
    "duration": 0,
    "start_time": "2023-02-18T12:34:40.604Z"
   },
   {
    "duration": 5,
    "start_time": "2023-02-18T12:34:43.224Z"
   },
   {
    "duration": 4,
    "start_time": "2023-02-18T13:01:59.301Z"
   },
   {
    "duration": 7,
    "start_time": "2023-02-18T13:02:44.018Z"
   },
   {
    "duration": 506,
    "start_time": "2023-02-18T13:02:53.216Z"
   },
   {
    "duration": 27,
    "start_time": "2023-02-18T13:02:53.725Z"
   },
   {
    "duration": 17,
    "start_time": "2023-02-18T13:02:53.753Z"
   },
   {
    "duration": 19,
    "start_time": "2023-02-18T13:02:53.774Z"
   },
   {
    "duration": 53,
    "start_time": "2023-02-18T13:02:53.796Z"
   },
   {
    "duration": 4,
    "start_time": "2023-02-18T13:02:53.850Z"
   },
   {
    "duration": 17,
    "start_time": "2023-02-18T13:02:53.855Z"
   },
   {
    "duration": 4,
    "start_time": "2023-02-18T13:02:53.874Z"
   },
   {
    "duration": 10,
    "start_time": "2023-02-18T13:02:53.880Z"
   },
   {
    "duration": 5,
    "start_time": "2023-02-18T13:02:53.891Z"
   },
   {
    "duration": 60,
    "start_time": "2023-02-18T13:02:53.898Z"
   },
   {
    "duration": 10,
    "start_time": "2023-02-18T13:02:53.960Z"
   },
   {
    "duration": 5,
    "start_time": "2023-02-18T13:02:53.972Z"
   },
   {
    "duration": 12,
    "start_time": "2023-02-18T13:02:53.980Z"
   },
   {
    "duration": 21,
    "start_time": "2023-02-18T13:02:53.994Z"
   },
   {
    "duration": 47,
    "start_time": "2023-02-18T13:02:54.017Z"
   },
   {
    "duration": 4,
    "start_time": "2023-02-18T13:02:54.065Z"
   },
   {
    "duration": 27,
    "start_time": "2023-02-18T13:02:54.071Z"
   },
   {
    "duration": 10,
    "start_time": "2023-02-18T13:02:54.100Z"
   },
   {
    "duration": 8,
    "start_time": "2023-02-18T13:02:54.111Z"
   },
   {
    "duration": 31,
    "start_time": "2023-02-18T13:02:54.121Z"
   },
   {
    "duration": 14,
    "start_time": "2023-02-18T13:02:54.153Z"
   },
   {
    "duration": 8,
    "start_time": "2023-02-18T13:02:54.169Z"
   },
   {
    "duration": 11,
    "start_time": "2023-02-18T13:02:54.180Z"
   },
   {
    "duration": 6,
    "start_time": "2023-02-18T13:02:54.193Z"
   },
   {
    "duration": 20,
    "start_time": "2023-02-18T13:02:54.201Z"
   },
   {
    "duration": 8,
    "start_time": "2023-02-18T13:02:54.222Z"
   },
   {
    "duration": 17,
    "start_time": "2023-02-18T13:02:54.232Z"
   },
   {
    "duration": 8,
    "start_time": "2023-02-18T13:02:54.250Z"
   },
   {
    "duration": 21,
    "start_time": "2023-02-18T13:02:54.260Z"
   },
   {
    "duration": 10,
    "start_time": "2023-02-18T13:02:54.284Z"
   },
   {
    "duration": 17,
    "start_time": "2023-02-18T13:02:54.296Z"
   },
   {
    "duration": 11,
    "start_time": "2023-02-18T13:02:54.316Z"
   },
   {
    "duration": 21,
    "start_time": "2023-02-18T13:02:54.330Z"
   },
   {
    "duration": 5,
    "start_time": "2023-02-18T13:02:54.353Z"
   },
   {
    "duration": 26,
    "start_time": "2023-02-18T13:02:54.361Z"
   },
   {
    "duration": 8,
    "start_time": "2023-02-18T13:02:54.390Z"
   },
   {
    "duration": 8,
    "start_time": "2023-02-18T13:02:54.401Z"
   },
   {
    "duration": 22,
    "start_time": "2023-02-18T13:02:54.411Z"
   },
   {
    "duration": 3,
    "start_time": "2023-02-18T13:02:54.449Z"
   },
   {
    "duration": 2,
    "start_time": "2023-02-18T13:02:54.459Z"
   },
   {
    "duration": 10,
    "start_time": "2023-02-18T13:02:54.464Z"
   },
   {
    "duration": 92,
    "start_time": "2023-02-18T13:06:23.320Z"
   },
   {
    "duration": 5,
    "start_time": "2023-02-18T13:06:39.620Z"
   },
   {
    "duration": 7,
    "start_time": "2023-02-18T13:10:13.856Z"
   },
   {
    "duration": 8,
    "start_time": "2023-02-18T13:10:34.353Z"
   },
   {
    "duration": 9,
    "start_time": "2023-02-18T13:10:56.784Z"
   },
   {
    "duration": 4,
    "start_time": "2023-02-18T13:11:09.208Z"
   },
   {
    "duration": 5,
    "start_time": "2023-02-18T13:11:29.328Z"
   },
   {
    "duration": 18,
    "start_time": "2023-02-18T13:13:33.512Z"
   },
   {
    "duration": 7,
    "start_time": "2023-02-18T13:13:46.853Z"
   },
   {
    "duration": 7,
    "start_time": "2023-02-18T13:14:10.996Z"
   },
   {
    "duration": 11,
    "start_time": "2023-02-18T13:14:36.731Z"
   },
   {
    "duration": 6,
    "start_time": "2023-02-18T13:14:40.032Z"
   },
   {
    "duration": 6,
    "start_time": "2023-02-18T13:16:11.695Z"
   },
   {
    "duration": 12,
    "start_time": "2023-02-18T13:27:36.818Z"
   },
   {
    "duration": 11,
    "start_time": "2023-02-18T13:30:33.937Z"
   },
   {
    "duration": 9,
    "start_time": "2023-02-18T13:33:10.545Z"
   },
   {
    "duration": 7,
    "start_time": "2023-02-18T13:35:28.064Z"
   },
   {
    "duration": 8,
    "start_time": "2023-02-18T13:35:33.628Z"
   },
   {
    "duration": 7,
    "start_time": "2023-02-18T13:40:12.930Z"
   },
   {
    "duration": 17,
    "start_time": "2023-02-18T13:40:51.776Z"
   },
   {
    "duration": 5,
    "start_time": "2023-02-18T13:42:58.367Z"
   },
   {
    "duration": 12,
    "start_time": "2023-02-18T13:43:00.084Z"
   },
   {
    "duration": 5,
    "start_time": "2023-02-18T13:44:44.082Z"
   },
   {
    "duration": 10,
    "start_time": "2023-02-18T13:46:10.977Z"
   },
   {
    "duration": 7,
    "start_time": "2023-02-18T13:46:19.782Z"
   },
   {
    "duration": 7,
    "start_time": "2023-02-18T13:46:45.435Z"
   },
   {
    "duration": 7,
    "start_time": "2023-02-18T13:46:46.727Z"
   },
   {
    "duration": 10,
    "start_time": "2023-02-18T13:47:12.027Z"
   },
   {
    "duration": 9,
    "start_time": "2023-02-18T13:47:56.232Z"
   },
   {
    "duration": 8,
    "start_time": "2023-02-18T13:48:22.580Z"
   },
   {
    "duration": 6,
    "start_time": "2023-02-18T13:49:17.935Z"
   },
   {
    "duration": 6,
    "start_time": "2023-02-18T13:56:09.240Z"
   },
   {
    "duration": 13,
    "start_time": "2023-02-18T13:58:34.539Z"
   },
   {
    "duration": 6,
    "start_time": "2023-02-18T13:59:02.096Z"
   },
   {
    "duration": 8,
    "start_time": "2023-02-18T13:59:04.284Z"
   },
   {
    "duration": 12,
    "start_time": "2023-02-18T13:59:04.748Z"
   },
   {
    "duration": 9,
    "start_time": "2023-02-18T13:59:05.297Z"
   },
   {
    "duration": 3,
    "start_time": "2023-02-18T14:12:59.427Z"
   },
   {
    "duration": 1169,
    "start_time": "2023-02-18T14:13:55.265Z"
   },
   {
    "duration": 9,
    "start_time": "2023-02-18T14:14:12.236Z"
   },
   {
    "duration": 9,
    "start_time": "2023-02-18T14:14:45.459Z"
   },
   {
    "duration": 1189,
    "start_time": "2023-02-18T14:15:09.255Z"
   },
   {
    "duration": 5,
    "start_time": "2023-02-18T14:15:38.661Z"
   },
   {
    "duration": 9,
    "start_time": "2023-02-18T14:16:44.337Z"
   },
   {
    "duration": 5,
    "start_time": "2023-02-18T14:16:45.594Z"
   },
   {
    "duration": 22,
    "start_time": "2023-02-18T14:17:59.628Z"
   },
   {
    "duration": 13,
    "start_time": "2023-02-18T14:20:02.236Z"
   },
   {
    "duration": 5,
    "start_time": "2023-02-18T14:20:41.896Z"
   },
   {
    "duration": 4,
    "start_time": "2023-02-18T14:20:53.533Z"
   },
   {
    "duration": 5,
    "start_time": "2023-02-18T14:21:14.983Z"
   },
   {
    "duration": 5,
    "start_time": "2023-02-18T14:21:26.464Z"
   },
   {
    "duration": 7,
    "start_time": "2023-02-18T14:21:46.353Z"
   },
   {
    "duration": 4,
    "start_time": "2023-02-18T14:21:47.153Z"
   },
   {
    "duration": 4,
    "start_time": "2023-02-18T14:22:08.592Z"
   },
   {
    "duration": 8,
    "start_time": "2023-02-18T14:22:17.032Z"
   },
   {
    "duration": 5,
    "start_time": "2023-02-18T14:22:17.756Z"
   },
   {
    "duration": 6,
    "start_time": "2023-02-18T14:22:35.471Z"
   },
   {
    "duration": 19,
    "start_time": "2023-02-18T14:27:40.080Z"
   },
   {
    "duration": 7,
    "start_time": "2023-02-18T14:27:47.569Z"
   },
   {
    "duration": 4,
    "start_time": "2023-02-18T14:28:21.452Z"
   },
   {
    "duration": 8,
    "start_time": "2023-02-18T14:28:26.770Z"
   },
   {
    "duration": 9,
    "start_time": "2023-02-18T14:39:42.161Z"
   },
   {
    "duration": 5,
    "start_time": "2023-02-18T14:39:58.461Z"
   },
   {
    "duration": 15,
    "start_time": "2023-02-18T14:42:05.842Z"
   },
   {
    "duration": 7,
    "start_time": "2023-02-18T14:42:06.635Z"
   },
   {
    "duration": 4,
    "start_time": "2023-02-18T14:42:09.535Z"
   },
   {
    "duration": 9,
    "start_time": "2023-02-18T14:42:10.278Z"
   },
   {
    "duration": 12,
    "start_time": "2023-02-18T14:44:39.402Z"
   },
   {
    "duration": 5,
    "start_time": "2023-02-18T16:50:52.188Z"
   },
   {
    "duration": 9,
    "start_time": "2023-02-18T16:50:53.848Z"
   },
   {
    "duration": 4,
    "start_time": "2023-02-18T16:51:04.822Z"
   },
   {
    "duration": 12,
    "start_time": "2023-02-18T16:51:05.420Z"
   },
   {
    "duration": 5,
    "start_time": "2023-02-18T17:10:48.916Z"
   },
   {
    "duration": 12,
    "start_time": "2023-02-18T17:10:50.152Z"
   },
   {
    "duration": 4,
    "start_time": "2023-02-18T17:14:09.919Z"
   },
   {
    "duration": 8,
    "start_time": "2023-02-18T17:14:11.011Z"
   },
   {
    "duration": 4,
    "start_time": "2023-02-18T17:14:24.321Z"
   },
   {
    "duration": 8,
    "start_time": "2023-02-18T17:14:24.854Z"
   },
   {
    "duration": 3,
    "start_time": "2023-02-18T18:04:34.753Z"
   },
   {
    "duration": 3,
    "start_time": "2023-02-18T18:04:42.193Z"
   },
   {
    "duration": 2,
    "start_time": "2023-02-18T18:04:44.073Z"
   },
   {
    "duration": 6,
    "start_time": "2023-02-18T18:05:11.871Z"
   },
   {
    "duration": 4,
    "start_time": "2023-02-18T18:05:13.258Z"
   },
   {
    "duration": 6,
    "start_time": "2023-02-18T18:05:58.017Z"
   },
   {
    "duration": 4,
    "start_time": "2023-02-18T18:05:59.721Z"
   },
   {
    "duration": 6,
    "start_time": "2023-02-18T18:06:43.052Z"
   },
   {
    "duration": 5,
    "start_time": "2023-02-18T18:06:43.589Z"
   },
   {
    "duration": 6,
    "start_time": "2023-02-18T18:06:51.587Z"
   },
   {
    "duration": 5,
    "start_time": "2023-02-18T18:06:52.341Z"
   },
   {
    "duration": 4,
    "start_time": "2023-02-18T18:07:37.728Z"
   }
  ],
  "colab": {
   "provenance": []
  },
  "kernelspec": {
   "display_name": "Python 3 (ipykernel)",
   "language": "python",
   "name": "python3"
  },
  "language_info": {
   "codemirror_mode": {
    "name": "ipython",
    "version": 3
   },
   "file_extension": ".py",
   "mimetype": "text/x-python",
   "name": "python",
   "nbconvert_exporter": "python",
   "pygments_lexer": "ipython3",
   "version": "3.9.5"
  },
  "toc": {
   "base_numbering": 1,
   "nav_menu": {},
   "number_sections": true,
   "sideBar": true,
   "skip_h1_title": true,
   "title_cell": "Table of Contents",
   "title_sidebar": "Contents",
   "toc_cell": false,
   "toc_position": {},
   "toc_section_display": true,
   "toc_window_display": false
  }
 },
 "nbformat": 4,
 "nbformat_minor": 5
}
